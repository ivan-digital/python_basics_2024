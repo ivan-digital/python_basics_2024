{
  "cells": [
    {
      "cell_type": "markdown",
      "metadata": {
        "id": "2AfYXMe7kM87"
      },
      "source": [
        "## Немного о динамической типизации"
      ]
    },
    {
      "cell_type": "markdown",
      "metadata": {
        "id": "0eOG6qVmkM88"
      },
      "source": [
        "Как мы уже видели из прошлых примеров, переменная в Python не имеет фиксированного типа"
      ]
    },
    {
      "cell_type": "code",
      "execution_count": null,
      "metadata": {
        "ExecuteTime": {
          "end_time": "2022-09-08T00:33:43.921805Z",
          "start_time": "2022-09-08T00:33:43.917330Z"
        },
        "id": "-agNEHbXkM89",
        "outputId": "2d25b3b9-c50d-4ba3-b6de-6e762dd74cec"
      },
      "outputs": [
        {
          "name": "stdout",
          "output_type": "stream",
          "text": [
            "<class 'int'>\n",
            "<class 'str'>\n"
          ]
        }
      ],
      "source": [
        "a = 5\n",
        "print(type(a))\n",
        "\n",
        "a = '5'\n",
        "print(type(a))"
      ]
    },
    {
      "cell_type": "code",
      "source": [
        "import gc\n",
        "gc.get_threshold()"
      ],
      "metadata": {
        "colab": {
          "base_uri": "https://localhost:8080/"
        },
        "id": "NgyP1GIaOx4D",
        "outputId": "5641fac4-a2a4-4c1b-a685-8a458e965cbe"
      },
      "execution_count": 1,
      "outputs": [
        {
          "output_type": "execute_result",
          "data": {
            "text/plain": [
              "(700, 10, 10)"
            ]
          },
          "metadata": {},
          "execution_count": 1
        }
      ]
    },
    {
      "cell_type": "markdown",
      "source": [
        "Кому интересно сборка мусора в Python подробнее https://habr.com/ru/articles/417215/"
      ],
      "metadata": {
        "id": "9-QspUu_Pk3N"
      }
    },
    {
      "cell_type": "code",
      "source": [
        "help(int)"
      ],
      "metadata": {
        "colab": {
          "base_uri": "https://localhost:8080/"
        },
        "id": "TT2zZ0KgvChh",
        "outputId": "11841fef-45dc-473c-999d-59355bd95cd8"
      },
      "execution_count": null,
      "outputs": [
        {
          "output_type": "stream",
          "name": "stdout",
          "text": [
            "Help on class int in module builtins:\n",
            "\n",
            "class int(object)\n",
            " |  int([x]) -> integer\n",
            " |  int(x, base=10) -> integer\n",
            " |  \n",
            " |  Convert a number or string to an integer, or return 0 if no arguments\n",
            " |  are given.  If x is a number, return x.__int__().  For floating point\n",
            " |  numbers, this truncates towards zero.\n",
            " |  \n",
            " |  If x is not a number or if base is given, then x must be a string,\n",
            " |  bytes, or bytearray instance representing an integer literal in the\n",
            " |  given base.  The literal can be preceded by '+' or '-' and be surrounded\n",
            " |  by whitespace.  The base defaults to 10.  Valid bases are 0 and 2-36.\n",
            " |  Base 0 means to interpret the base from the string as an integer literal.\n",
            " |  >>> int('0b100', base=0)\n",
            " |  4\n",
            " |  \n",
            " |  Built-in subclasses:\n",
            " |      bool\n",
            " |  \n",
            " |  Methods defined here:\n",
            " |  \n",
            " |  __abs__(self, /)\n",
            " |      abs(self)\n",
            " |  \n",
            " |  __add__(self, value, /)\n",
            " |      Return self+value.\n",
            " |  \n",
            " |  __and__(self, value, /)\n",
            " |      Return self&value.\n",
            " |  \n",
            " |  __bool__(self, /)\n",
            " |      True if self else False\n",
            " |  \n",
            " |  __ceil__(...)\n",
            " |      Ceiling of an Integral returns itself.\n",
            " |  \n",
            " |  __divmod__(self, value, /)\n",
            " |      Return divmod(self, value).\n",
            " |  \n",
            " |  __eq__(self, value, /)\n",
            " |      Return self==value.\n",
            " |  \n",
            " |  __float__(self, /)\n",
            " |      float(self)\n",
            " |  \n",
            " |  __floor__(...)\n",
            " |      Flooring an Integral returns itself.\n",
            " |  \n",
            " |  __floordiv__(self, value, /)\n",
            " |      Return self//value.\n",
            " |  \n",
            " |  __format__(self, format_spec, /)\n",
            " |      Default object formatter.\n",
            " |  \n",
            " |  __ge__(self, value, /)\n",
            " |      Return self>=value.\n",
            " |  \n",
            " |  __getattribute__(self, name, /)\n",
            " |      Return getattr(self, name).\n",
            " |  \n",
            " |  __getnewargs__(self, /)\n",
            " |  \n",
            " |  __gt__(self, value, /)\n",
            " |      Return self>value.\n",
            " |  \n",
            " |  __hash__(self, /)\n",
            " |      Return hash(self).\n",
            " |  \n",
            " |  __index__(self, /)\n",
            " |      Return self converted to an integer, if self is suitable for use as an index into a list.\n",
            " |  \n",
            " |  __int__(self, /)\n",
            " |      int(self)\n",
            " |  \n",
            " |  __invert__(self, /)\n",
            " |      ~self\n",
            " |  \n",
            " |  __le__(self, value, /)\n",
            " |      Return self<=value.\n",
            " |  \n",
            " |  __lshift__(self, value, /)\n",
            " |      Return self<<value.\n",
            " |  \n",
            " |  __lt__(self, value, /)\n",
            " |      Return self<value.\n",
            " |  \n",
            " |  __mod__(self, value, /)\n",
            " |      Return self%value.\n",
            " |  \n",
            " |  __mul__(self, value, /)\n",
            " |      Return self*value.\n",
            " |  \n",
            " |  __ne__(self, value, /)\n",
            " |      Return self!=value.\n",
            " |  \n",
            " |  __neg__(self, /)\n",
            " |      -self\n",
            " |  \n",
            " |  __or__(self, value, /)\n",
            " |      Return self|value.\n",
            " |  \n",
            " |  __pos__(self, /)\n",
            " |      +self\n",
            " |  \n",
            " |  __pow__(self, value, mod=None, /)\n",
            " |      Return pow(self, value, mod).\n",
            " |  \n",
            " |  __radd__(self, value, /)\n",
            " |      Return value+self.\n",
            " |  \n",
            " |  __rand__(self, value, /)\n",
            " |      Return value&self.\n",
            " |  \n",
            " |  __rdivmod__(self, value, /)\n",
            " |      Return divmod(value, self).\n",
            " |  \n",
            " |  __repr__(self, /)\n",
            " |      Return repr(self).\n",
            " |  \n",
            " |  __rfloordiv__(self, value, /)\n",
            " |      Return value//self.\n",
            " |  \n",
            " |  __rlshift__(self, value, /)\n",
            " |      Return value<<self.\n",
            " |  \n",
            " |  __rmod__(self, value, /)\n",
            " |      Return value%self.\n",
            " |  \n",
            " |  __rmul__(self, value, /)\n",
            " |      Return value*self.\n",
            " |  \n",
            " |  __ror__(self, value, /)\n",
            " |      Return value|self.\n",
            " |  \n",
            " |  __round__(...)\n",
            " |      Rounding an Integral returns itself.\n",
            " |      \n",
            " |      Rounding with an ndigits argument also returns an integer.\n",
            " |  \n",
            " |  __rpow__(self, value, mod=None, /)\n",
            " |      Return pow(value, self, mod).\n",
            " |  \n",
            " |  __rrshift__(self, value, /)\n",
            " |      Return value>>self.\n",
            " |  \n",
            " |  __rshift__(self, value, /)\n",
            " |      Return self>>value.\n",
            " |  \n",
            " |  __rsub__(self, value, /)\n",
            " |      Return value-self.\n",
            " |  \n",
            " |  __rtruediv__(self, value, /)\n",
            " |      Return value/self.\n",
            " |  \n",
            " |  __rxor__(self, value, /)\n",
            " |      Return value^self.\n",
            " |  \n",
            " |  __sizeof__(self, /)\n",
            " |      Returns size in memory, in bytes.\n",
            " |  \n",
            " |  __sub__(self, value, /)\n",
            " |      Return self-value.\n",
            " |  \n",
            " |  __truediv__(self, value, /)\n",
            " |      Return self/value.\n",
            " |  \n",
            " |  __trunc__(...)\n",
            " |      Truncating an Integral returns itself.\n",
            " |  \n",
            " |  __xor__(self, value, /)\n",
            " |      Return self^value.\n",
            " |  \n",
            " |  as_integer_ratio(self, /)\n",
            " |      Return integer ratio.\n",
            " |      \n",
            " |      Return a pair of integers, whose ratio is exactly equal to the original int\n",
            " |      and with a positive denominator.\n",
            " |      \n",
            " |      >>> (10).as_integer_ratio()\n",
            " |      (10, 1)\n",
            " |      >>> (-10).as_integer_ratio()\n",
            " |      (-10, 1)\n",
            " |      >>> (0).as_integer_ratio()\n",
            " |      (0, 1)\n",
            " |  \n",
            " |  bit_count(self, /)\n",
            " |      Number of ones in the binary representation of the absolute value of self.\n",
            " |      \n",
            " |      Also known as the population count.\n",
            " |      \n",
            " |      >>> bin(13)\n",
            " |      '0b1101'\n",
            " |      >>> (13).bit_count()\n",
            " |      3\n",
            " |  \n",
            " |  bit_length(self, /)\n",
            " |      Number of bits necessary to represent self in binary.\n",
            " |      \n",
            " |      >>> bin(37)\n",
            " |      '0b100101'\n",
            " |      >>> (37).bit_length()\n",
            " |      6\n",
            " |  \n",
            " |  conjugate(...)\n",
            " |      Returns self, the complex conjugate of any int.\n",
            " |  \n",
            " |  to_bytes(self, /, length, byteorder, *, signed=False)\n",
            " |      Return an array of bytes representing an integer.\n",
            " |      \n",
            " |      length\n",
            " |        Length of bytes object to use.  An OverflowError is raised if the\n",
            " |        integer is not representable with the given number of bytes.\n",
            " |      byteorder\n",
            " |        The byte order used to represent the integer.  If byteorder is 'big',\n",
            " |        the most significant byte is at the beginning of the byte array.  If\n",
            " |        byteorder is 'little', the most significant byte is at the end of the\n",
            " |        byte array.  To request the native byte order of the host system, use\n",
            " |        `sys.byteorder' as the byte order value.\n",
            " |      signed\n",
            " |        Determines whether two's complement is used to represent the integer.\n",
            " |        If signed is False and a negative integer is given, an OverflowError\n",
            " |        is raised.\n",
            " |  \n",
            " |  ----------------------------------------------------------------------\n",
            " |  Class methods defined here:\n",
            " |  \n",
            " |  from_bytes(bytes, byteorder, *, signed=False) from builtins.type\n",
            " |      Return the integer represented by the given array of bytes.\n",
            " |      \n",
            " |      bytes\n",
            " |        Holds the array of bytes to convert.  The argument must either\n",
            " |        support the buffer protocol or be an iterable object producing bytes.\n",
            " |        Bytes and bytearray are examples of built-in objects that support the\n",
            " |        buffer protocol.\n",
            " |      byteorder\n",
            " |        The byte order used to represent the integer.  If byteorder is 'big',\n",
            " |        the most significant byte is at the beginning of the byte array.  If\n",
            " |        byteorder is 'little', the most significant byte is at the end of the\n",
            " |        byte array.  To request the native byte order of the host system, use\n",
            " |        `sys.byteorder' as the byte order value.\n",
            " |      signed\n",
            " |        Indicates whether two's complement is used to represent the integer.\n",
            " |  \n",
            " |  ----------------------------------------------------------------------\n",
            " |  Static methods defined here:\n",
            " |  \n",
            " |  __new__(*args, **kwargs) from builtins.type\n",
            " |      Create and return a new object.  See help(type) for accurate signature.\n",
            " |  \n",
            " |  ----------------------------------------------------------------------\n",
            " |  Data descriptors defined here:\n",
            " |  \n",
            " |  denominator\n",
            " |      the denominator of a rational number in lowest terms\n",
            " |  \n",
            " |  imag\n",
            " |      the imaginary part of a complex number\n",
            " |  \n",
            " |  numerator\n",
            " |      the numerator of a rational number in lowest terms\n",
            " |  \n",
            " |  real\n",
            " |      the real part of a complex number\n",
            "\n"
          ]
        }
      ]
    },
    {
      "cell_type": "markdown",
      "metadata": {
        "id": "NR-wsw1MkM8-"
      },
      "source": [
        "Как думаете, в чем может быть потенциальная проблема в такой функции?"
      ]
    },
    {
      "cell_type": "code",
      "execution_count": null,
      "metadata": {
        "id": "PKLES88pkM8-"
      },
      "outputs": [],
      "source": [
        "def add_objects(obj_one, obj_two):\n",
        "    return obj_one + 2 * obj_two"
      ]
    },
    {
      "cell_type": "code",
      "execution_count": null,
      "metadata": {
        "id": "53x_b1SPkM8_",
        "outputId": "e94373f7-5220-4925-c63c-5e7842d315db"
      },
      "outputs": [
        {
          "data": {
            "text/plain": [
              "11"
            ]
          },
          "execution_count": 99,
          "metadata": {},
          "output_type": "execute_result"
        }
      ],
      "source": [
        "add_objects(1, 5)"
      ]
    },
    {
      "cell_type": "code",
      "execution_count": null,
      "metadata": {
        "id": "ZmInWzsGkM8_",
        "outputId": "e7792263-3967-4535-8ba9-158c06e014bf"
      },
      "outputs": [
        {
          "data": {
            "text/plain": [
              "'str1str2str2'"
            ]
          },
          "execution_count": 100,
          "metadata": {},
          "output_type": "execute_result"
        }
      ],
      "source": [
        "add_objects('str1', 'str2')"
      ]
    },
    {
      "cell_type": "markdown",
      "metadata": {
        "id": "ahSFKYU0kM8_"
      },
      "source": [
        "Есть некоторая вероятность, что мы хотим, чтобы наш код работал только ожидаемым для нас образом. Для этого можно явно подсветить входные и выходные типы данных. Эту информацию может использовать ваша IDE для подсказок об ошибках в типизации"
      ]
    },
    {
      "cell_type": "code",
      "execution_count": 9,
      "metadata": {
        "id": "WEBj7NcrkM9A",
        "outputId": "c908cce3-f228-4259-e669-b787408422b9",
        "colab": {
          "base_uri": "https://localhost:8080/"
        }
      },
      "outputs": [
        {
          "output_type": "execute_result",
          "data": {
            "text/plain": [
              "25"
            ]
          },
          "metadata": {},
          "execution_count": 9
        }
      ],
      "source": [
        "def refined_add_objects(obj_one: int, obj_two: int) -> int:\n",
        "    return obj_one + 2 * obj_two\n",
        "\n",
        "refined_add_objects(5, 10)"
      ]
    },
    {
      "cell_type": "code",
      "execution_count": 10,
      "metadata": {
        "id": "682IqLpKkM9A",
        "outputId": "d554c967-2b20-417d-d438-587f02ed0478",
        "colab": {
          "base_uri": "https://localhost:8080/",
          "height": 35
        }
      },
      "outputs": [
        {
          "output_type": "execute_result",
          "data": {
            "text/plain": [
              "'51010'"
            ],
            "application/vnd.google.colaboratory.intrinsic+json": {
              "type": "string"
            }
          },
          "metadata": {},
          "execution_count": 10
        }
      ],
      "source": [
        "refined_add_objects('5', '10')"
      ]
    },
    {
      "cell_type": "markdown",
      "metadata": {
        "id": "-K4by4aCkM9A"
      },
      "source": [
        "Для более строгой типизации можно обратиться к модулю typing"
      ]
    },
    {
      "cell_type": "code",
      "execution_count": null,
      "metadata": {
        "id": "870uksT3kM9B"
      },
      "outputs": [],
      "source": [
        "from typing import List\n",
        "\n",
        "def refined_add_objects(obj_one: List, obj_two: List):\n",
        "    return obj_one + 2 * obj_two"
      ]
    },
    {
      "cell_type": "markdown",
      "source": [
        "Также есть типа для словаря"
      ],
      "metadata": {
        "id": "Aoe6E2E-R0NJ"
      }
    },
    {
      "cell_type": "code",
      "source": [
        "from typing import Dict\n",
        "\n",
        "my_dict: Dict[str, int] = {}"
      ],
      "metadata": {
        "id": "l8_kGSCuSC_X"
      },
      "execution_count": null,
      "outputs": []
    },
    {
      "cell_type": "markdown",
      "metadata": {
        "id": "ADm5P0bWkM9B"
      },
      "source": [
        "## Еще немного о float в Python"
      ]
    },
    {
      "cell_type": "markdown",
      "metadata": {
        "id": "fnqMyXrdkM9B"
      },
      "source": [
        "Вы помните, как хранятся с памяти компьютера float?"
      ]
    },
    {
      "cell_type": "markdown",
      "metadata": {
        "id": "A1dKdIAokM9C"
      },
      "source": [
        "### Ограничения"
      ]
    },
    {
      "cell_type": "markdown",
      "metadata": {
        "id": "z7PrXGEIkM9D"
      },
      "source": [
        "Мы знаем, что компьютер оперирует числами в двоичной системе. Из-за этого мы можем\n",
        "\n",
        "Иногда значения сопоставимы, как, например в случае с дробью 1/8\n",
        "\n",
        "$\\frac{1}{8} = 0.125_{10} = 1 / 10 + 2 / 100 + 5 / 1000$ и $0.001_2 = \\frac{1}{8}$"
      ]
    },
    {
      "cell_type": "code",
      "execution_count": null,
      "metadata": {
        "id": "125pgxU6kM9D",
        "outputId": "6d7c553d-0a85-4d97-d614-343dc501bdd9"
      },
      "outputs": [
        {
          "data": {
            "text/plain": [
              "True"
            ]
          },
          "execution_count": 103,
          "metadata": {},
          "output_type": "execute_result"
        }
      ],
      "source": [
        "0.125 == 1 / 8"
      ]
    },
    {
      "cell_type": "markdown",
      "metadata": {
        "id": "Ls3P4KuDkM9E"
      },
      "source": [
        "На примере десятичной системы счисления, мы, например, уже никак не можем точно записать дробь $\\frac{1}{3}$:\n",
        "\n",
        "$\\frac{1}{3} \\approx 0.3 \\approx 0.33 \\approx 0.33(3)$"
      ]
    },
    {
      "cell_type": "markdown",
      "metadata": {
        "id": "KyPCzfNjkM9E"
      },
      "source": [
        "Также и в двоичной уже дробь $\\frac{1}{10}$ не представляется точно:\n",
        "\n",
        "0.0001100110011001100110011001100110011001100110011..."
      ]
    },
    {
      "cell_type": "markdown",
      "metadata": {
        "id": "p5haExsfkM9E"
      },
      "source": [
        "Как думаете, что будет храниться в переменной со значением 0.1?"
      ]
    },
    {
      "cell_type": "code",
      "execution_count": null,
      "metadata": {
        "id": "NNfwTJvxkM9E",
        "outputId": "253f73e1-15e2-4ee9-dbf7-978080aec80f"
      },
      "outputs": [
        {
          "data": {
            "text/plain": [
              "0.1"
            ]
          },
          "execution_count": 104,
          "metadata": {},
          "output_type": "execute_result"
        }
      ],
      "source": [
        "1 / 10"
      ]
    },
    {
      "cell_type": "code",
      "execution_count": null,
      "metadata": {
        "id": "yLEOM2cukM9F",
        "outputId": "d00c917d-68f6-40f7-d4cd-8c24aaf0c67e"
      },
      "outputs": [
        {
          "data": {
            "text/plain": [
              "'0.1000000000000000055511151'"
            ]
          },
          "execution_count": 107,
          "metadata": {},
          "output_type": "execute_result"
        }
      ],
      "source": [
        "f'{1 / 10:.25g}'"
      ]
    },
    {
      "cell_type": "markdown",
      "source": [
        "Документация по модулю sys https://docs.python.org/3/library/sys.html"
      ],
      "metadata": {
        "id": "NAkaw5NEy6CO"
      }
    },
    {
      "cell_type": "code",
      "source": [
        "import sys\n",
        "sys.float_info.dig"
      ],
      "metadata": {
        "colab": {
          "base_uri": "https://localhost:8080/"
        },
        "id": "WzU98SrykTD3",
        "outputId": "4dff88dd-df4d-4f63-b1fc-5ad171557dbc"
      },
      "execution_count": null,
      "outputs": [
        {
          "output_type": "execute_result",
          "data": {
            "text/plain": [
              "15"
            ]
          },
          "metadata": {},
          "execution_count": 32
        }
      ]
    },
    {
      "cell_type": "markdown",
      "source": [
        "![image.png](data:image/png;base64,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)"
      ],
      "metadata": {
        "id": "uyvMSAptTzVR"
      }
    },
    {
      "cell_type": "code",
      "source": [
        "exponent = int('10000110', 2) - 127 # 127 смещение для экспоненты, тут хранится степень двойки для смещения мантиссы\n",
        "exponent"
      ],
      "metadata": {
        "colab": {
          "base_uri": "https://localhost:8080/"
        },
        "id": "RCCetA0MXGv1",
        "outputId": "2ba5a994-cd80-4735-da5c-79cf239e61ae"
      },
      "execution_count": null,
      "outputs": [
        {
          "output_type": "execute_result",
          "data": {
            "text/plain": [
              "7"
            ]
          },
          "metadata": {},
          "execution_count": 42
        }
      ]
    },
    {
      "cell_type": "code",
      "source": [
        "mantissa = '11110001100000000000000'\n",
        "mantissa_2 = int(mantissa, 2)\n",
        "mantissa_10 = 1\n",
        "for i, bit in enumerate(mantissa):\n",
        "  mantissa_10 += int(bit) * (2 ** -(i + 1))\n",
        "mantissa_10"
      ],
      "metadata": {
        "colab": {
          "base_uri": "https://localhost:8080/"
        },
        "id": "G_5fSDKsXeNV",
        "outputId": "caed6178-bb37-4a9f-c6fc-a31d8535e0fd"
      },
      "execution_count": null,
      "outputs": [
        {
          "output_type": "execute_result",
          "data": {
            "text/plain": [
              "1.943359375"
            ]
          },
          "metadata": {},
          "execution_count": 46
        }
      ]
    },
    {
      "cell_type": "code",
      "source": [
        "mantissa_10 * pow(2, exponent)"
      ],
      "metadata": {
        "colab": {
          "base_uri": "https://localhost:8080/"
        },
        "id": "aV_7pLxjYrn2",
        "outputId": "f5490dc5-c62a-41fa-de67-c19708e87dc6"
      },
      "execution_count": null,
      "outputs": [
        {
          "output_type": "execute_result",
          "data": {
            "text/plain": [
              "248.75"
            ]
          },
          "metadata": {},
          "execution_count": 47
        }
      ]
    },
    {
      "cell_type": "code",
      "source": [
        "import struct\n",
        "hex_value = bytes.fromhex('C378C000')\n",
        "float_value = struct.unpack('!f', hex_value)[0]\n",
        "float_value"
      ],
      "metadata": {
        "colab": {
          "base_uri": "https://localhost:8080/"
        },
        "id": "OUitblG0Zf3n",
        "outputId": "20a3a530-520f-49c1-dc7c-26e8f019dd87"
      },
      "execution_count": null,
      "outputs": [
        {
          "output_type": "execute_result",
          "data": {
            "text/plain": [
              "-248.75"
            ]
          },
          "metadata": {},
          "execution_count": 49
        }
      ]
    },
    {
      "cell_type": "code",
      "execution_count": null,
      "metadata": {
        "id": "QNLZEXi5kM9F",
        "outputId": "e2c3397e-9003-474b-8e7a-df1bb10de668"
      },
      "outputs": [
        {
          "data": {
            "text/plain": [
              "(3602879701896397, 36028797018963968)"
            ]
          },
          "execution_count": 108,
          "metadata": {},
          "output_type": "execute_result"
        }
      ],
      "source": [
        "0.1.as_integer_ratio()"
      ]
    },
    {
      "cell_type": "markdown",
      "metadata": {
        "id": "FfVjkqsZkM9G"
      },
      "source": [
        "### Будьте очень аккуратны со сравнениями float"
      ]
    },
    {
      "cell_type": "code",
      "execution_count": null,
      "metadata": {
        "tags": [],
        "id": "GEfLS1lHkM9G",
        "outputId": "f0247508-6de7-420e-d40e-dbfd8f1997a6"
      },
      "outputs": [
        {
          "data": {
            "text/plain": [
              "True"
            ]
          },
          "execution_count": 109,
          "metadata": {},
          "output_type": "execute_result"
        }
      ],
      "source": [
        "1.53 - 1. == 0.53"
      ]
    },
    {
      "cell_type": "code",
      "execution_count": null,
      "metadata": {
        "id": "77y-UOi-kM9G",
        "outputId": "c10f7989-5c93-4c4c-8a20-3d2b163bfaf7"
      },
      "outputs": [
        {
          "data": {
            "text/plain": [
              "True"
            ]
          },
          "execution_count": 110,
          "metadata": {},
          "output_type": "execute_result"
        }
      ],
      "source": [
        "10.4 + 20.8 > 31.2"
      ]
    },
    {
      "cell_type": "code",
      "execution_count": null,
      "metadata": {
        "id": "WkC_gWzBkM9G",
        "outputId": "8029152c-55ab-44a7-f3d9-cc7673c40200"
      },
      "outputs": [
        {
          "data": {
            "text/plain": [
              "True"
            ]
          },
          "execution_count": 112,
          "metadata": {},
          "output_type": "execute_result"
        }
      ],
      "source": [
        "0.8 - 0.1 > 0.7"
      ]
    },
    {
      "cell_type": "code",
      "execution_count": null,
      "metadata": {
        "id": "qRmCiC_hkM9G",
        "outputId": "902fd83a-13b4-463e-cc52-95de691b26d1"
      },
      "outputs": [
        {
          "data": {
            "text/plain": [
              "'0.7000000000000000666133815'"
            ]
          },
          "execution_count": 116,
          "metadata": {},
          "output_type": "execute_result"
        }
      ],
      "source": [
        "f'{0.8 - 0.1:.25f}'"
      ]
    },
    {
      "cell_type": "code",
      "execution_count": null,
      "metadata": {
        "tags": [],
        "id": "cqxmWg3ZkM9G",
        "outputId": "aa0f97d2-9bbc-4e69-830c-3c0c59c590be"
      },
      "outputs": [
        {
          "data": {
            "text/plain": [
              "False"
            ]
          },
          "execution_count": 117,
          "metadata": {},
          "output_type": "execute_result"
        }
      ],
      "source": [
        ".1 + .1 + .1 == .3"
      ]
    },
    {
      "cell_type": "code",
      "execution_count": null,
      "metadata": {
        "tags": [],
        "id": "RT4OoiYckM9H",
        "outputId": "5897d804-cdfb-4293-9154-4718e2746ab9"
      },
      "outputs": [
        {
          "data": {
            "text/plain": [
              "False"
            ]
          },
          "execution_count": 118,
          "metadata": {},
          "output_type": "execute_result"
        }
      ],
      "source": [
        "round(.1, 1) + round(.1, 1) + round(.1, 1) == round(.3, 1)"
      ]
    },
    {
      "cell_type": "markdown",
      "metadata": {
        "id": "8EU2FSR9kM9H"
      },
      "source": [
        "Хорошая напоминалка есть во многих источниках и в частности в [официальной документации](https://docs.python.org/3/tutorial/floatingpoint.html)"
      ]
    },
    {
      "cell_type": "markdown",
      "metadata": {
        "id": "1fokMG-GkM9H"
      },
      "source": [
        "### Как можно делать?"
      ]
    },
    {
      "cell_type": "code",
      "execution_count": null,
      "metadata": {
        "tags": [],
        "id": "dyIYZqFEkM9H",
        "outputId": "204c6ef5-6a52-4e22-993c-5919c995cb9b"
      },
      "outputs": [
        {
          "data": {
            "text/plain": [
              "True"
            ]
          },
          "execution_count": 120,
          "metadata": {},
          "output_type": "execute_result"
        }
      ],
      "source": [
        "desired_value = 0.1 + 0.2\n",
        "answer_value = 0.3\n",
        "\n",
        "round(desired_value, 3) == round(answer_value, 3)"
      ]
    },
    {
      "cell_type": "markdown",
      "metadata": {
        "id": "cDI9yjvCkM9H"
      },
      "source": [
        "Для дробных значений можно использовать модуль `fractions`"
      ]
    },
    {
      "cell_type": "code",
      "execution_count": null,
      "metadata": {
        "id": "oAthRUy9kM9H"
      },
      "outputs": [],
      "source": [
        "from fractions import Fraction\n",
        "\n",
        "val = Fraction(1, 10)"
      ]
    },
    {
      "cell_type": "code",
      "execution_count": null,
      "metadata": {
        "id": "8XVzx8_TkM9H",
        "outputId": "bf7cda98-8acb-42c2-ccfc-51362dcfb9d8"
      },
      "outputs": [
        {
          "data": {
            "text/plain": [
              "True"
            ]
          },
          "execution_count": 124,
          "metadata": {},
          "output_type": "execute_result"
        }
      ],
      "source": [
        "val + val + val == Fraction(3, 10)"
      ]
    },
    {
      "cell_type": "markdown",
      "metadata": {
        "id": "QA5KhZTekM9H"
      },
      "source": [
        "Можно использовать метод `isclose()` из `math`"
      ]
    },
    {
      "cell_type": "code",
      "execution_count": null,
      "metadata": {
        "id": "dRRWe2ZhkM9H"
      },
      "outputs": [],
      "source": [
        "from math import isclose"
      ]
    },
    {
      "cell_type": "code",
      "execution_count": null,
      "metadata": {
        "id": "fl7SKW8TkM9I",
        "outputId": "1b42be76-236d-4adc-b079-dc76546ca568"
      },
      "outputs": [
        {
          "data": {
            "text/plain": [
              "True"
            ]
          },
          "execution_count": 125,
          "metadata": {},
          "output_type": "execute_result"
        }
      ],
      "source": [
        "isclose(0.1 + 0.2, 0.3)"
      ]
    },
    {
      "cell_type": "markdown",
      "metadata": {
        "id": "2m8M9oEzkM9I"
      },
      "source": [
        "## Строки и разное с ними связанное"
      ]
    },
    {
      "cell_type": "markdown",
      "metadata": {
        "id": "NK6v9ZKnXahZ"
      },
      "source": [
        "### Строки и кавычки"
      ]
    },
    {
      "cell_type": "code",
      "execution_count": null,
      "metadata": {
        "id": "VW2opF1RXahZ",
        "outputId": "b9a5322e-4802-4cdd-c8e3-89e141cb20f0"
      },
      "outputs": [
        {
          "name": "stdout",
          "output_type": "stream",
          "text": [
            "Hello world!\n"
          ]
        }
      ],
      "source": [
        "print(\"Hello world!\")"
      ]
    },
    {
      "cell_type": "markdown",
      "metadata": {
        "id": "bSM9bdFsXahZ"
      },
      "source": [
        "Строка – это объект, как и число. Строки используются для записи текстовой информации, а также произвольных последовательностей байтов. Чтобы отличать обычную строку от строк кода, её нужно обрамлять либо одинарными, либо двойными кавычками."
      ]
    },
    {
      "cell_type": "code",
      "execution_count": null,
      "metadata": {
        "id": "serdUtwgXahZ",
        "outputId": "9b39c286-c47c-4c1f-fefb-2476af84ed0b"
      },
      "outputs": [
        {
          "data": {
            "text/plain": [
              "True"
            ]
          },
          "execution_count": 9,
          "metadata": {},
          "output_type": "execute_result"
        }
      ],
      "source": [
        "#Например:\n",
        "\"Hello world!\" == 'Hello world!'\n"
      ]
    },
    {
      "cell_type": "markdown",
      "metadata": {
        "id": "2InBKkNNXaha"
      },
      "source": [
        "Если текст состоит из нескольких строк, его нужно обрамлять в тройные кавычки"
      ]
    },
    {
      "cell_type": "code",
      "execution_count": null,
      "metadata": {
        "id": "pslWA72NXaha",
        "outputId": "4e621ae8-82dc-4ac1-ecb7-d5bf0d34587e"
      },
      "outputs": [
        {
          "name": "stdout",
          "output_type": "stream",
          "text": [
            "Hello \n",
            "world!\n"
          ]
        }
      ],
      "source": [
        "print(\"\"\"Hello\n",
        "world!\"\"\")"
      ]
    },
    {
      "cell_type": "markdown",
      "metadata": {
        "id": "nZB-Z7tSkM9J"
      },
      "source": [
        "Кавычки в таких случаях также могут быть как одинарными, так и двойными"
      ]
    },
    {
      "cell_type": "code",
      "execution_count": 4,
      "metadata": {
        "id": "9mG8xkjgkM9J",
        "outputId": "b4483c6d-d164-496a-f90c-bab785b38f4f",
        "colab": {
          "base_uri": "https://localhost:8080/"
        }
      },
      "outputs": [
        {
          "output_type": "stream",
          "name": "stdout",
          "text": [
            "Hello\n",
            "\tworld!\n"
          ]
        }
      ],
      "source": [
        "print('''Hello\n",
        "\\tworld!''')"
      ]
    },
    {
      "cell_type": "markdown",
      "metadata": {
        "id": "UBDeJYsTXaha"
      },
      "source": [
        "Символы кавычек внутри строк нужно экранировать, то же самое со специсимвлолами. Например, `\\t` (символ вертикальной табуляции) или `\\n` -- символ перевода строки"
      ]
    },
    {
      "cell_type": "markdown",
      "metadata": {
        "id": "wvOxplmXkM9J"
      },
      "source": [
        "### Что такое строка"
      ]
    },
    {
      "cell_type": "markdown",
      "metadata": {
        "id": "7EJ3i_K0kM9J"
      },
      "source": [
        "Строка -- это частный случай последоватьностей в Python, представитель группы `Flat sequences`, немного более детально, если интересно можно посмотреть тут https://medium.com/@mertbayraktarxd/container-sequences-vs-flat-sequences-in-python-39dd2ca31d72. То есть, строка -- это последовательность, каждый элемент в которой представляет лишь один тип. Можно сказать, что строка -- это последовательность символов.\n",
        "\n",
        "Также строка -- одна из неизменяемых последовательностей (immutable sequences). Это значит, что мы не можем ее изменить после создания"
      ]
    },
    {
      "cell_type": "code",
      "execution_count": null,
      "metadata": {
        "id": "kr9yVh3YkM9J"
      },
      "outputs": [],
      "source": [
        "example_str = 'example_str'"
      ]
    },
    {
      "cell_type": "markdown",
      "metadata": {
        "id": "OTGY3U0NXahb"
      },
      "source": [
        "Строка является последовательностью односимвольных строк, к которым можно получить доступ. Строки можно сохранять в переменные и выполнять над ними некоторые операции."
      ]
    },
    {
      "cell_type": "code",
      "execution_count": null,
      "metadata": {
        "id": "Amw_1yEzXahc",
        "outputId": "bac69506-e19c-4f01-8e01-6e9eb73f7c7e"
      },
      "outputs": [
        {
          "name": "stdout",
          "output_type": "stream",
          "text": [
            "What is your name?\n"
          ]
        },
        {
          "name": "stdin",
          "output_type": "stream",
          "text": [
            " Denis\n"
          ]
        },
        {
          "name": "stdout",
          "output_type": "stream",
          "text": [
            "Hello,Denis\n"
          ]
        }
      ],
      "source": [
        "print(\"What is your name?\")\n",
        "name = input()\n",
        "print(\"Hello,\" + name)"
      ]
    },
    {
      "cell_type": "markdown",
      "metadata": {
        "id": "jkj44nDKih43"
      },
      "source": [
        "Функция **len()** возвращает длину строки-параметра"
      ]
    },
    {
      "cell_type": "code",
      "execution_count": null,
      "metadata": {
        "id": "a5XuXJN1ih44",
        "outputId": "ec79729e-861c-407c-f9fb-41d451139759"
      },
      "outputs": [
        {
          "name": "stdout",
          "output_type": "stream",
          "text": [
            "hello\n",
            "5\n"
          ]
        }
      ],
      "source": [
        "s = input()\n",
        "print(len(s))"
      ]
    },
    {
      "cell_type": "markdown",
      "metadata": {
        "id": "68IxB0gRkM9K"
      },
      "source": [
        "### Что происходит, когда мы печатаем на экран?"
      ]
    },
    {
      "cell_type": "markdown",
      "metadata": {
        "id": "k70xSE_mkM9K"
      },
      "source": [
        "Вам что-то говорят следующие названия?   `__repr__ , __str__`"
      ]
    },
    {
      "cell_type": "code",
      "execution_count": null,
      "metadata": {
        "id": "bvDp4613kM9K"
      },
      "outputs": [],
      "source": [
        "class MyPrettyInt:\n",
        "    def __init__(self, value: int):\n",
        "        self.value = value\n",
        "\n",
        "    def __repr__(self):\n",
        "        return f'MyPrettyInt({self.value})'\n",
        "\n",
        "    def __str__(self):\n",
        "        return f'here is my pretty {self.value}'"
      ]
    },
    {
      "cell_type": "markdown",
      "metadata": {
        "id": "wp7oCtrxkM9K"
      },
      "source": [
        "Строка, возвращаемая `__repr__` должна быть однозначной и по возможности совпадать с кодом, требуемым для создания показываемого объекта"
      ]
    },
    {
      "cell_type": "markdown",
      "metadata": {
        "id": "KTx7LrG3kM9L"
      },
      "source": [
        "Строка, возвращаемая `__str__`, должна быть понятной конечному пользователю"
      ]
    },
    {
      "cell_type": "markdown",
      "metadata": {
        "id": "0qzPhV-IkM9L"
      },
      "source": [
        "У разных объектов в Python могуть быть по-разному объявлены данные методы"
      ]
    },
    {
      "cell_type": "code",
      "source": [
        "m = MyPrettyInt(5)\n",
        "m"
      ],
      "metadata": {
        "colab": {
          "base_uri": "https://localhost:8080/"
        },
        "id": "e0oG8qL4xiZu",
        "outputId": "40eaa64f-05c7-4a71-f700-b2532cc84a91"
      },
      "execution_count": null,
      "outputs": [
        {
          "output_type": "execute_result",
          "data": {
            "text/plain": [
              "MyPrettyInt(5)"
            ]
          },
          "metadata": {},
          "execution_count": 26
        }
      ]
    },
    {
      "cell_type": "code",
      "source": [
        "print(m)"
      ],
      "metadata": {
        "colab": {
          "base_uri": "https://localhost:8080/"
        },
        "id": "R3Yp0rwaxnsl",
        "outputId": "e6101277-508d-49bf-a309-3ca03271d149"
      },
      "execution_count": null,
      "outputs": [
        {
          "output_type": "stream",
          "name": "stdout",
          "text": [
            "here is my pretty 5\n"
          ]
        }
      ]
    },
    {
      "cell_type": "code",
      "source": [
        "print([m])"
      ],
      "metadata": {
        "colab": {
          "base_uri": "https://localhost:8080/"
        },
        "id": "LAhRnRFKyEGT",
        "outputId": "3226ad2e-cb31-44d1-c98d-1a69f96a4826"
      },
      "execution_count": null,
      "outputs": [
        {
          "output_type": "stream",
          "name": "stdout",
          "text": [
            "[MyPrettyInt(5)]\n"
          ]
        }
      ]
    },
    {
      "cell_type": "markdown",
      "metadata": {
        "id": "tO7OSmduXahc"
      },
      "source": [
        "### Слайсы на примере строк"
      ]
    },
    {
      "cell_type": "markdown",
      "metadata": {
        "id": "Jima9YmUkM9L"
      },
      "source": [
        "#### Немного общей информации"
      ]
    },
    {
      "cell_type": "markdown",
      "metadata": {
        "id": "Ej8_j11qkM9L"
      },
      "source": [
        "    \"As you may have noticed, several of the operations mentioned work equally for texts, lists and tables. Texts, lists and tables together are called trains.\n",
        "    […] The FOR command also works generically on trains\""
      ]
    },
    {
      "cell_type": "markdown",
      "metadata": {
        "id": "KzjqbqhjkM9L"
      },
      "source": [
        "Мощь Python в том, что для многих схожих классов у нас есть общее множество поддерживаемых операций. Например, strings, lists, byte sequences, arrays и др. поддерживают iteration, slicing, sorting, contactenation и прочие общие операции.\n",
        "\n",
        "Понимание и принятие данного принципа помогает нам не изобретать велосипед, а использовать общий интерфейс, который дает реализуемым классам поддержку уже принятых методов"
      ]
    },
    {
      "cell_type": "markdown",
      "metadata": {
        "id": "xc8vipWAkM9L"
      },
      "source": [
        "#### Slicing (срезы, слайсы, whatever you call it)"
      ]
    },
    {
      "cell_type": "markdown",
      "metadata": {
        "id": "mjv5w9OJkM9L"
      },
      "source": [
        "**Slicing** -- это общая фича всех последовательностей в Python. Ниже мы рассмотрим ее на примере строк, но помните, что это относится и к другим последовательностям"
      ]
    },
    {
      "cell_type": "markdown",
      "metadata": {
        "id": "f-93LQiYkM9L"
      },
      "source": [
        "`sequence[start:stop:step]`"
      ]
    },
    {
      "cell_type": "markdown",
      "metadata": {
        "id": "XrLP3Nz7Xahc"
      },
      "source": [
        "Срезы нужны для того, чтобы извлечь подстроки или символы из исходной строки. Таким образом, создаётся новая строка, а исходная остается неизменённой."
      ]
    },
    {
      "cell_type": "markdown",
      "metadata": {
        "id": "iPZob4-SkM9L"
      },
      "source": [
        "#### Basics"
      ]
    },
    {
      "cell_type": "markdown",
      "metadata": {
        "id": "97VkXV5HXahc"
      },
      "source": [
        "Чтобы обратиться к символу строки, используются две нумерации: неотрицательными и отрицательными числами."
      ]
    },
    {
      "cell_type": "markdown",
      "metadata": {
        "id": "Tx3nFXYaXahc"
      },
      "source": [
        "![alternate text](https://pp.userapi.com/c837320/v837320502/59b9f/c4cTcRUnMWg.jpg)"
      ]
    },
    {
      "cell_type": "markdown",
      "metadata": {
        "id": "x7-PdBfkXahd"
      },
      "source": [
        "Нумерация неотрицательными числами начинается с 0 и идет слева направо. То есть чтобы получить первый символ строки s, нужно написать s[0], второй символ – s[1], и т.д."
      ]
    },
    {
      "cell_type": "markdown",
      "metadata": {
        "id": "Voi41XZDXahd"
      },
      "source": [
        "Нумерация отрицательными числами начинается с -1 и также идет слева направо (справа налево, если смотреть на модуль числа). То есть чтобы получить последний символ строки s, нужно написать s[-1], предпоследний символ – s[-2], и т.д."
      ]
    },
    {
      "cell_type": "code",
      "execution_count": 12,
      "metadata": {
        "id": "fy2k2cfnXahd",
        "outputId": "4de84d3c-d85c-4773-84dd-dbc8ae03a0d1",
        "colab": {
          "base_uri": "https://localhost:8080/"
        }
      },
      "outputs": [
        {
          "output_type": "stream",
          "name": "stdout",
          "text": [
            "12\n",
            "e\n",
            "d\n"
          ]
        }
      ],
      "source": [
        "# Например\n",
        "s = \"Hello world!\"  # создали переменную s со содержимым “Hello world!”\n",
        "print(len(s))\n",
        "print(s[1])  # печатает первый символ строки\n",
        "print(s[-2])  # печатает последний символ строки\n",
        "# print(s[15])  # выдаст ошибку, так как должна напечатать 16-ый элемент строки, а длина строки s меньше 16 символов"
      ]
    },
    {
      "cell_type": "markdown",
      "metadata": {
        "id": "lhLsG_9WXahe"
      },
      "source": [
        "Следующий вид срезов – с двумя параметрами, между которыми ставится двоеточие. Если нужно получить подстроку строки s с __i__ по __j__ символы включительно, то нужно применить срез __s[i: j+1]__."
      ]
    },
    {
      "cell_type": "markdown",
      "metadata": {
        "id": "VsYmrFl6kM9M"
      },
      "source": [
        "Правая граница не включается"
      ]
    },
    {
      "cell_type": "markdown",
      "metadata": {
        "id": "QSxAKjHvkM9M"
      },
      "source": [
        "Это не просто так!"
      ]
    },
    {
      "cell_type": "markdown",
      "metadata": {
        "id": "FTvutu96kM9M"
      },
      "source": [
        "#### Правая граница"
      ]
    },
    {
      "cell_type": "markdown",
      "metadata": {
        "id": "lUElG3SVkM9M"
      },
      "source": [
        "1. Просто сразу видеть длину слайса, если задана только конечная позиция!\n",
        "`my_seq[:3] -- 3 items`"
      ]
    },
    {
      "cell_type": "markdown",
      "metadata": {
        "id": "ixuRCOD7kM9N"
      },
      "source": [
        "2. Просто посчитать длину!\n",
        "`stop - start == length`"
      ]
    },
    {
      "cell_type": "markdown",
      "metadata": {
        "id": "mKAwTOh-kM9N"
      },
      "source": [
        "3. Просто разбирать на две части без пересечения!\n"
      ]
    },
    {
      "cell_type": "code",
      "execution_count": 16,
      "metadata": {
        "id": "AZdgI8D7kM9N",
        "outputId": "a29a5101-6172-4776-c3b2-0dffa8cda2cf",
        "colab": {
          "base_uri": "https://localhost:8080/"
        }
      },
      "outputs": [
        {
          "output_type": "stream",
          "name": "stdout",
          "text": [
            "123 456789\n",
            "0  123456789\n",
            "1 1 23456789\n",
            "2 12 3456789\n",
            "3 123 456789\n",
            "4 1234 56789\n",
            "5 12345 6789\n",
            "6 123456 789\n",
            "7 1234567 89\n",
            "8 12345678 9\n"
          ]
        }
      ],
      "source": [
        "my_seq = '123456789'\n",
        "\n",
        "print(my_seq[:3], my_seq[3:])\n",
        "\n",
        "for i in range(len(my_seq)):\n",
        "    print(i, my_seq[:i], my_seq[i:])\n",
        "    assert my_seq[:i] + my_seq[i:] == my_seq"
      ]
    },
    {
      "cell_type": "markdown",
      "metadata": {
        "id": "Oo4sSxvfkM9N"
      },
      "source": [
        "#### Step"
      ]
    },
    {
      "cell_type": "code",
      "execution_count": 19,
      "metadata": {
        "id": "yDnHffidkM9N",
        "outputId": "3a7a5b01-c1ce-4288-c242-28469f160281",
        "colab": {
          "base_uri": "https://localhost:8080/",
          "height": 35
        }
      },
      "outputs": [
        {
          "output_type": "execute_result",
          "data": {
            "text/plain": [
              "'12345678'"
            ],
            "application/vnd.google.colaboratory.intrinsic+json": {
              "type": "string"
            }
          },
          "metadata": {},
          "execution_count": 19
        }
      ],
      "source": [
        "my_seq[0:-1:1]"
      ]
    },
    {
      "cell_type": "code",
      "execution_count": null,
      "metadata": {
        "id": "uQ1NH_wCkM9N",
        "outputId": "88fdf5f5-571b-4cf7-a913-b7ec80d9418b"
      },
      "outputs": [
        {
          "data": {
            "text/plain": [
              "'12345678'"
            ]
          },
          "execution_count": 157,
          "metadata": {},
          "output_type": "execute_result"
        }
      ],
      "source": [
        "my_seq[:-1]"
      ]
    },
    {
      "cell_type": "markdown",
      "metadata": {
        "id": "fhDSltLokM9N"
      },
      "source": [
        "А как можно развернуть строчку?"
      ]
    },
    {
      "cell_type": "code",
      "execution_count": null,
      "metadata": {
        "id": "-nSXVL_YkM9N",
        "outputId": "970ee85c-ae99-48b0-dd70-26c209f1dc7d"
      },
      "outputs": [
        {
          "data": {
            "text/plain": [
              "'987654321'"
            ]
          },
          "execution_count": 158,
          "metadata": {},
          "output_type": "execute_result"
        }
      ],
      "source": [
        "my_seq[::-1]"
      ]
    },
    {
      "cell_type": "markdown",
      "metadata": {
        "id": "wD12z4VOkM9N"
      },
      "source": [
        "#### Слайсы можно именовать"
      ]
    },
    {
      "cell_type": "markdown",
      "metadata": {
        "id": "y4ag8gHPkM9N"
      },
      "source": [
        "Пусть у нас есть большая строчка"
      ]
    },
    {
      "cell_type": "code",
      "execution_count": null,
      "metadata": {
        "id": "iJ1JSG2CkM9N"
      },
      "outputs": [],
      "source": [
        "invoice = \"\"\"\n",
        "0.....6.................................40........52...55........\n",
        "1909  Pimoroni PiBrella                   $17.50     3    $52.50\n",
        "1489  6mm Tactile Switch x20              $4.95      2    $9.90\n",
        "1510  Panavise Jr. - PV-201               $28.00     1    $28.00\n",
        "1601  PiTFT Mini Kit 320x240              $34.95     1    $34.95\n",
        "\"\"\""
      ]
    },
    {
      "cell_type": "code",
      "execution_count": null,
      "metadata": {
        "id": "bkEqfqjakM9O",
        "outputId": "005d222b-b8b0-4990-98d5-cbe384839486"
      },
      "outputs": [
        {
          "name": "stdout",
          "output_type": "stream",
          "text": [
            "  $17.50     Pimoroni PiBrella                 \n",
            "  $4.95      6mm Tactile Switch x20            \n",
            "  $28.00     Panavise Jr. - PV-201             \n",
            "  $34.95     PiTFT Mini Kit 320x240            \n",
            " \n"
          ]
        }
      ],
      "source": [
        "NUMBER = slice(0, 6)\n",
        "DESC = slice(6, 40)\n",
        "PRICE = slice(40, 52)\n",
        "TOTAL = slice(55, None)\n",
        "\n",
        "for sold_item in invoice.split('\\n')[2:]:\n",
        "    print(sold_item[PRICE], sold_item[DESC])"
      ]
    },
    {
      "cell_type": "code",
      "execution_count": null,
      "metadata": {
        "id": "iLnRkrSekM9O",
        "outputId": "f3a9db7e-b76c-4ce9-8404-b3efb7c3683a"
      },
      "outputs": [
        {
          "data": {
            "text/plain": [
              "'  $17.50    '"
            ]
          },
          "execution_count": 163,
          "metadata": {},
          "output_type": "execute_result"
        }
      ],
      "source": [
        "invoice_part = '1909  Pimoroni PiBrella                   $17.50     3    $52.50'\n",
        "invoice_part[PRICE]"
      ]
    },
    {
      "cell_type": "markdown",
      "metadata": {
        "id": "Am8SwfSQXahg"
      },
      "source": [
        "### Форматирование"
      ]
    },
    {
      "cell_type": "markdown",
      "metadata": {
        "id": "wqHTiuxIXahh"
      },
      "source": [
        "Часто возникают ситуации, когда нужно сделать строку, подставив в неё некоторые данные, полученные в процессе выполнения программы.\n",
        "Форматирование можно сделать с помощью оператора %, format и f-string"
      ]
    },
    {
      "cell_type": "markdown",
      "metadata": {
        "id": "Kf6ZdkMhXahh"
      },
      "source": [
        "Чтобы отформатировать строку  требуется:\n"
      ]
    },
    {
      "cell_type": "markdown",
      "metadata": {
        "id": "8saF7W-iXahh"
      },
      "source": [
        "#### Оператор %.  \n",
        "\n",
        "<Строка формата, содержащая один или более спецификаторов формата(например, %d (digit))> % <объект (или объекты, в виде кортежа),значение которого должно быть подставлено на место спецификатора (или спецификаторов) в левой части выражения>.\n"
      ]
    },
    {
      "cell_type": "code",
      "execution_count": null,
      "metadata": {
        "id": "IqNNt3PWXahh",
        "outputId": "df2c8ced-07dc-4606-af22-aa669154a67f"
      },
      "outputs": [
        {
          "name": "stdout",
          "output_type": "stream",
          "text": [
            "That  is  1  gold  fish!\n"
          ]
        }
      ],
      "source": [
        "print('That  is  %d  %s  fish!' % (1, 'gold'))"
      ]
    },
    {
      "cell_type": "code",
      "execution_count": null,
      "metadata": {
        "id": "n0eJTaSkXahh",
        "outputId": "ee4efac7-13c8-4759-addf-eadc633eaae6"
      },
      "outputs": [
        {
          "name": "stdin",
          "output_type": "stream",
          "text": [
            " 1\n",
            " spam\n",
            " 4\n"
          ]
        },
        {
          "data": {
            "text/plain": [
              "'1 spam 4 you'"
            ]
          },
          "execution_count": 168,
          "metadata": {},
          "output_type": "execute_result"
        }
      ],
      "source": [
        "\"%d %s %d you\" % (int(input()), input(), int(input()))"
      ]
    },
    {
      "cell_type": "code",
      "execution_count": null,
      "metadata": {
        "id": "E416PxXSXahi",
        "outputId": "abc8a337-2781-43f5-9fda-94aa928f4681"
      },
      "outputs": [
        {
          "data": {
            "text/plain": [
              "'42 -- 3.14159 -- [1, 2, 3]'"
            ]
          },
          "execution_count": 166,
          "metadata": {},
          "output_type": "execute_result"
        }
      ],
      "source": [
        "\"%s -- %s -- %s\" % (42, 3.14159, [1, 2, 3])"
      ]
    },
    {
      "cell_type": "markdown",
      "metadata": {
        "id": "mQYe6L_vkM9P"
      },
      "source": [
        "**почему так больше не надо**"
      ]
    },
    {
      "cell_type": "markdown",
      "metadata": {
        "id": "C7vwsgnlkM9P"
      },
      "source": [
        "Хотя бы потому, что это очень длинно и малочитаемо"
      ]
    },
    {
      "cell_type": "code",
      "execution_count": null,
      "metadata": {
        "id": "FJoYbLoAkM9P",
        "outputId": "de97abec-0913-4c87-cea0-3b91d06036cb"
      },
      "outputs": [
        {
          "data": {
            "text/plain": [
              "'Hello, Eric Idle. You are 74. You are a comedian. You were a member of Monty Python.'"
            ]
          },
          "execution_count": 26,
          "metadata": {},
          "output_type": "execute_result"
        }
      ],
      "source": [
        "first_name = \"Eric\"\n",
        "last_name = \"Idle\"\n",
        "age = 74\n",
        "profession = \"comedian\"\n",
        "affiliation = \"Monty Python\"\n",
        "\n",
        "\"Hello, %s %s. You are %s. You are a %s. You were a member of %s.\" % (first_name, last_name, age, profession, affiliation)"
      ]
    },
    {
      "cell_type": "markdown",
      "metadata": {
        "id": "Bl74Ol6PkM9P"
      },
      "source": [
        "#### format"
      ]
    },
    {
      "cell_type": "code",
      "execution_count": 21,
      "metadata": {
        "id": "lDyG-VaoaC0h",
        "outputId": "7ee045be-42b6-44e2-bf02-b9b44ce7c113",
        "colab": {
          "base_uri": "https://localhost:8080/",
          "height": 35
        }
      },
      "outputs": [
        {
          "output_type": "execute_result",
          "data": {
            "text/plain": [
              "'One sheep is 23.1234 kilos'"
            ],
            "application/vnd.google.colaboratory.intrinsic+json": {
              "type": "string"
            }
          },
          "metadata": {},
          "execution_count": 21
        }
      ],
      "source": [
        "weight_of_one_sheep = 23.1234\n",
        "'One sheep is {:.4f} kilos'.format(weight_of_one_sheep)"
      ]
    },
    {
      "cell_type": "markdown",
      "metadata": {
        "id": "pNugmSGokM9P"
      },
      "source": [
        "`format` позволяет задать тип числа и отформатировать строку"
      ]
    },
    {
      "cell_type": "code",
      "execution_count": null,
      "metadata": {
        "id": "2zH8u534kM9P",
        "outputId": "99ec8fdf-e8a7-4502-ea8a-436b9e1f4b01"
      },
      "outputs": [
        {
          "data": {
            "text/plain": [
              "'left aligned******************'"
            ]
          },
          "execution_count": 181,
          "metadata": {},
          "output_type": "execute_result"
        }
      ],
      "source": [
        "'{:*<30}'.format('left aligned')  # \"*\" здесь задаваемый символ"
      ]
    },
    {
      "cell_type": "code",
      "execution_count": null,
      "metadata": {
        "id": "YNm9MFBRkM9P",
        "outputId": "97fe14af-0c60-4d60-cb96-c8201bf68734"
      },
      "outputs": [
        {
          "data": {
            "text/plain": [
              "'*****************right aligned'"
            ]
          },
          "execution_count": 174,
          "metadata": {},
          "output_type": "execute_result"
        }
      ],
      "source": [
        "'{:*>30}'.format('right aligned')  # \"*\" здесь задаваемый символ"
      ]
    },
    {
      "cell_type": "code",
      "execution_count": null,
      "metadata": {
        "id": "QSL8iHCqkM9P",
        "outputId": "521bdb3b-b134-4d3b-b9cb-6004387ad1ca"
      },
      "outputs": [
        {
          "data": {
            "text/plain": [
              "'***********aligned************'"
            ]
          },
          "execution_count": 175,
          "metadata": {},
          "output_type": "execute_result"
        }
      ],
      "source": [
        "'{:*^30}'.format('aligned')  # \"*\" здесь задаваемый символ\n"
      ]
    },
    {
      "cell_type": "code",
      "execution_count": null,
      "metadata": {
        "id": "z34WSGhpkM9Q",
        "outputId": "8b9f2058-e194-4a4a-c45c-4de6ed21f3d3"
      },
      "outputs": [
        {
          "data": {
            "text/plain": [
              "'+3.140000; -3.140000'"
            ]
          },
          "execution_count": 176,
          "metadata": {},
          "output_type": "execute_result"
        }
      ],
      "source": [
        "'{:+f}; {:+f}'.format(3.14, -3.14)  # всегда показывать знак"
      ]
    },
    {
      "cell_type": "code",
      "execution_count": null,
      "metadata": {
        "id": "e950rWGmkM9Q",
        "outputId": "7d5c8854-f827-40c7-94fe-cd5df25860c1"
      },
      "outputs": [
        {
          "data": {
            "text/plain": [
              "'3.140000000000000124344979'"
            ]
          },
          "execution_count": 177,
          "metadata": {},
          "output_type": "execute_result"
        }
      ],
      "source": [
        "'{:.25g}'.format(3.14)  # показать первые n значимых цифр"
      ]
    },
    {
      "cell_type": "code",
      "execution_count": null,
      "metadata": {
        "id": "RUvJq_6jkM9Q",
        "outputId": "b5966c6c-a44e-4d39-8822-f5f11ee8c5c0"
      },
      "outputs": [
        {
          "data": {
            "text/plain": [
              "'10100111001 539'"
            ]
          },
          "execution_count": 178,
          "metadata": {},
          "output_type": "execute_result"
        }
      ],
      "source": [
        "'{0:b} {0:x}'.format(1337)  # показать в бинарном или hex виде"
      ]
    },
    {
      "cell_type": "code",
      "execution_count": null,
      "metadata": {
        "id": "RxzFmD91kM9Q",
        "outputId": "165f8acc-7263-4526-ef6c-321bdae737f5"
      },
      "outputs": [
        {
          "data": {
            "text/plain": [
              "'    314.31'"
            ]
          },
          "execution_count": 179,
          "metadata": {},
          "output_type": "execute_result"
        }
      ],
      "source": [
        "'{:10.2f}'.format(314.314)  # можно задать точность"
      ]
    },
    {
      "cell_type": "markdown",
      "metadata": {
        "id": "gyFeeMbAkM9Q"
      },
      "source": [
        "А как записать с нулями впереди?"
      ]
    },
    {
      "cell_type": "code",
      "execution_count": null,
      "metadata": {
        "id": "ISTVEBs0kM9Q",
        "outputId": "24af533e-4cc9-4813-9c23-e00b928d0a3d"
      },
      "outputs": [
        {
          "data": {
            "text/plain": [
              "'0000314.31'"
            ]
          },
          "execution_count": 182,
          "metadata": {},
          "output_type": "execute_result"
        }
      ],
      "source": [
        "'{:010.2f}'.format(314.314)"
      ]
    },
    {
      "cell_type": "markdown",
      "metadata": {
        "id": "f80-yd7UkM9Q"
      },
      "source": [
        "Удобство *.format* заключается в том, что можно передавать строку с плейсхолдерами, а потом их доопределять. Плейсхолдеры могут быть именованными или нет, в единственном числе или множество. Пример:"
      ]
    },
    {
      "cell_type": "code",
      "execution_count": null,
      "metadata": {
        "id": "WNcsLkB8kM9Q",
        "outputId": "98cafb14-48e2-4346-9117-825111387c4f"
      },
      "outputs": [
        {
          "name": "stdout",
          "output_type": "stream",
          "text": [
            "Our brand new estimation of sheeps weight is 42.000 kilos\n",
            "Our brand new estimation of sheeps weight is 42.000 kilos\n",
            "Our brand new estimation of sheeps weight is 42.000 kilos\n"
          ]
        }
      ],
      "source": [
        "new_estimation = 42.\n",
        "\n",
        "future_info_unnamed = 'Our brand new estimation of sheeps weight is {:.3f} kilos'\n",
        "print(future_info_unnamed.format(new_estimation))\n",
        "\n",
        "future_info_named = 'Our brand new estimation of sheeps weight is {new_value:.3f} kilos'\n",
        "print(future_info_named.format(new_value=new_estimation))\n",
        "\n",
        "future_info_named_mult = 'Our brand new estimation of sheeps {item} is {new_value:.3f} kilos'\n",
        "print(future_info_named_mult.format(new_value=new_estimation, item='weight'))"
      ]
    },
    {
      "cell_type": "code",
      "execution_count": null,
      "metadata": {
        "id": "jR5ED0e-Xahi",
        "outputId": "be8872ad-a59a-45f6-8310-4b40dd5f9e50"
      },
      "outputs": [
        {
          "data": {
            "text/plain": [
              "'a, b, c'"
            ]
          },
          "execution_count": 185,
          "metadata": {},
          "output_type": "execute_result"
        }
      ],
      "source": [
        "'{0}, {1}, {2}'.format('a', 'b', 'c')"
      ]
    },
    {
      "cell_type": "code",
      "execution_count": null,
      "metadata": {
        "id": "kA3uXaTZXahi",
        "outputId": "588374c8-c2c4-4a50-ce89-260a653c750f"
      },
      "outputs": [
        {
          "data": {
            "text/plain": [
              "'a, b, c'"
            ]
          },
          "execution_count": 186,
          "metadata": {},
          "output_type": "execute_result"
        }
      ],
      "source": [
        "'{}, {}, {}'.format('a', 'b', 'c')"
      ]
    },
    {
      "cell_type": "code",
      "execution_count": null,
      "metadata": {
        "id": "8lSHyNokXahi",
        "outputId": "5468e7c6-d1d7-4f42-fe32-86eff9526692"
      },
      "outputs": [
        {
          "data": {
            "text/plain": [
              "'c, a, b'"
            ]
          },
          "execution_count": 188,
          "metadata": {},
          "output_type": "execute_result"
        }
      ],
      "source": [
        "'{2}, {0}, {1}'.format('a', 'b', 'c')"
      ]
    },
    {
      "cell_type": "markdown",
      "metadata": {
        "id": "hgmRX7ovkM9R"
      },
      "source": [
        "Классно, но все еще длинно"
      ]
    },
    {
      "cell_type": "code",
      "execution_count": null,
      "metadata": {
        "id": "JygA7HG2kM9R",
        "outputId": "35fb8cb5-cf3c-46ed-d6bb-0007882067e8"
      },
      "outputs": [
        {
          "data": {
            "text/plain": [
              "'Hello, Eric Idle. You are 74. You are a comedian. You were a member of Monty Python.'"
            ]
          },
          "execution_count": 54,
          "metadata": {},
          "output_type": "execute_result"
        }
      ],
      "source": [
        "first_name = \"Eric\"\n",
        "last_name = \"Idle\"\n",
        "age = 74\n",
        "profession = \"comedian\"\n",
        "affiliation = \"Monty Python\"\n",
        "\n",
        "pattern_str = \"Hello, {first_name} {last_name}. You are {age}. You are a {profession}. You were a member of {affiliation}.\"\n",
        "\n",
        "pattern_str.format(\n",
        "    first_name=first_name,\n",
        "    last_name=last_name,\n",
        "    age=age,\n",
        "    profession=profession,\n",
        "    affiliation=affiliation,\n",
        ")"
      ]
    },
    {
      "cell_type": "markdown",
      "metadata": {
        "id": "9lZvVDHzkM9R"
      },
      "source": [
        "Можно чуть короче, если есть dict"
      ]
    },
    {
      "cell_type": "code",
      "execution_count": null,
      "metadata": {
        "id": "BHMOqHtukM9R",
        "outputId": "beb2d44f-3914-4872-8b56-97a68f911c48"
      },
      "outputs": [
        {
          "data": {
            "text/plain": [
              "'Hello, John Doe. You are 18. You are a seeker. You were a member of humanity.'"
            ]
          },
          "execution_count": 56,
          "metadata": {},
          "output_type": "execute_result"
        }
      ],
      "source": [
        "data = {\n",
        "    'first_name': 'John',\n",
        "    'last_name': 'Doe',\n",
        "    'age': '18',\n",
        "    'profession': 'seeker',\n",
        "    'affiliation': 'humanity'\n",
        "}\n",
        "\n",
        "pattern_str.format(**data)"
      ]
    },
    {
      "cell_type": "markdown",
      "metadata": {
        "id": "SZBNMR6QkM9R"
      },
      "source": [
        "#### f-strings\n",
        "\n",
        "Как format, только чуть короче"
      ]
    },
    {
      "cell_type": "markdown",
      "metadata": {
        "id": "-6U5LDPFkM9R"
      },
      "source": [
        "Можно писать коротко"
      ]
    },
    {
      "cell_type": "code",
      "execution_count": 24,
      "metadata": {
        "id": "vzU-gDazkM9R",
        "outputId": "f29e78e2-a0e9-4a95-afeb-5f48b5860d23",
        "colab": {
          "base_uri": "https://localhost:8080/",
          "height": 35
        }
      },
      "outputs": [
        {
          "output_type": "execute_result",
          "data": {
            "text/plain": [
              "'my name is Denis Belyakov'"
            ],
            "application/vnd.google.colaboratory.intrinsic+json": {
              "type": "string"
            }
          },
          "metadata": {},
          "execution_count": 24
        }
      ],
      "source": [
        "name = 'Denis'\n",
        "surname = 'Belyakov'\n",
        "\n",
        "f'my name is {name} {surname}'"
      ]
    },
    {
      "cell_type": "markdown",
      "metadata": {
        "id": "JvAU0FNTkM9R"
      },
      "source": [
        "И можно использовать выражения!"
      ]
    },
    {
      "cell_type": "code",
      "execution_count": null,
      "metadata": {
        "id": "p_5sin2LkM9R",
        "outputId": "e7de22be-4895-4e23-9ccc-8ce22007d9b1"
      },
      "outputs": [
        {
          "data": {
            "text/plain": [
              "'my name is DENIS Bely'"
            ]
          },
          "execution_count": 197,
          "metadata": {},
          "output_type": "execute_result"
        }
      ],
      "source": [
        "f'my name is {name.upper()} {surname[:4] if len(surname) > 4 else surname}'"
      ]
    },
    {
      "cell_type": "code",
      "execution_count": null,
      "metadata": {
        "id": "99t_snnhkM9R",
        "outputId": "64832c9e-bce2-4d12-c499-5deac80dc828"
      },
      "outputs": [
        {
          "data": {
            "text/plain": [
              "'000123456.12'"
            ]
          },
          "execution_count": 198,
          "metadata": {},
          "output_type": "execute_result"
        }
      ],
      "source": [
        "number = 123456.1234\n",
        "f\"{number:012.2f}\""
      ]
    },
    {
      "cell_type": "code",
      "execution_count": null,
      "metadata": {
        "id": "KtJrHiBPkM9R",
        "outputId": "aff7f5a1-79a0-4779-f383-dd89f39c784f"
      },
      "outputs": [
        {
          "data": {
            "text/plain": [
              "'     1.2e+05'"
            ]
          },
          "execution_count": 201,
          "metadata": {},
          "output_type": "execute_result"
        }
      ],
      "source": [
        "f\"{number:12.2}\""
      ]
    },
    {
      "cell_type": "markdown",
      "metadata": {
        "id": "uXbrTsVEkM9S"
      },
      "source": [
        "Вспомним про два возможных строковых представления для объектов"
      ]
    },
    {
      "cell_type": "code",
      "execution_count": null,
      "metadata": {
        "id": "I76lDic9kM9S"
      },
      "outputs": [],
      "source": [
        "class MyPrettyInt:\n",
        "    def __init__(self, value: int):\n",
        "        self.value = value\n",
        "\n",
        "    def __repr__(self):\n",
        "        return f'MyPrettyInt({self.value})'\n",
        "\n",
        "    def __str__(self):\n",
        "        return f'here is my pretty {self.value}'"
      ]
    },
    {
      "cell_type": "markdown",
      "metadata": {
        "id": "8lzi5vkqkM9S"
      },
      "source": [
        "Вызов `format` для него будет вызывать метод `__str__`, а потом уже `__repr__`"
      ]
    },
    {
      "cell_type": "code",
      "execution_count": null,
      "metadata": {
        "id": "q3uOwlMvkM9S"
      },
      "outputs": [],
      "source": [
        "pretty_int = MyPrettyInt(4)"
      ]
    },
    {
      "cell_type": "code",
      "execution_count": null,
      "metadata": {
        "id": "rEHX2zZtkM9S",
        "outputId": "85de4009-a1bb-40a7-cfb5-9c8aef269f5b"
      },
      "outputs": [
        {
          "data": {
            "text/plain": [
              "'here is my pretty 4 and it is the prettiest!'"
            ]
          },
          "execution_count": 204,
          "metadata": {},
          "output_type": "execute_result"
        }
      ],
      "source": [
        "f'{pretty_int} and it is the prettiest!'"
      ]
    },
    {
      "cell_type": "markdown",
      "metadata": {
        "id": "Z2GF6x0ZkM9S"
      },
      "source": [
        "Можно насильно вызвать представление через `__repr__` написав `!r`"
      ]
    },
    {
      "cell_type": "code",
      "execution_count": null,
      "metadata": {
        "id": "hXCEMQ-GkM9S",
        "outputId": "d4aa586e-6f03-4c2b-c37c-f962108ce971"
      },
      "outputs": [
        {
          "data": {
            "text/plain": [
              "'MyPrettyInt(4) and it is the prettiest!'"
            ]
          },
          "execution_count": 205,
          "metadata": {},
          "output_type": "execute_result"
        }
      ],
      "source": [
        "f'{pretty_int!r} and it is the prettiest!'"
      ]
    },
    {
      "cell_type": "code",
      "execution_count": null,
      "metadata": {
        "id": "vR_R67hIkM9S",
        "outputId": "018dc2fa-7499-4ebf-e21c-a63642dd2832"
      },
      "outputs": [
        {
          "data": {
            "text/plain": [
              "'there is a great number 4'"
            ]
          },
          "execution_count": 208,
          "metadata": {},
          "output_type": "execute_result"
        }
      ],
      "source": [
        "num = '4'\n",
        "f'there is a great number {num}'"
      ]
    },
    {
      "cell_type": "code",
      "execution_count": null,
      "metadata": {
        "id": "KSWcXejukM9S",
        "outputId": "d42564fd-a8b2-4fde-fa5e-fb03c931d1c7"
      },
      "outputs": [
        {
          "data": {
            "text/plain": [
              "\"there is a great number '4'\""
            ]
          },
          "execution_count": 210,
          "metadata": {},
          "output_type": "execute_result"
        }
      ],
      "source": [
        "f'there is a great number {num!r}'"
      ]
    },
    {
      "cell_type": "markdown",
      "metadata": {
        "id": "kwCD67hxkM9S"
      },
      "source": [
        "**Мультистрока**"
      ]
    },
    {
      "cell_type": "code",
      "execution_count": null,
      "metadata": {
        "id": "EDCQXEobkM9S",
        "outputId": "d8784d17-a303-4976-9128-551f7a107894"
      },
      "outputs": [
        {
          "name": "stdout",
          "output_type": "stream",
          "text": [
            "\n",
            "My \n",
            "name is Denis\n",
            "and surname is Belyakov\n",
            "\n"
          ]
        }
      ],
      "source": [
        "print(f'''\n",
        "My\n",
        "name is {name}\n",
        "and surname is {surname}\n",
        "''')"
      ]
    },
    {
      "cell_type": "code",
      "execution_count": 25,
      "metadata": {
        "id": "ODtohMXCkM9S",
        "outputId": "f5574098-8f14-42a6-9b6e-2f19fb5d4817",
        "colab": {
          "base_uri": "https://localhost:8080/"
        }
      },
      "outputs": [
        {
          "output_type": "stream",
          "name": "stdout",
          "text": [
            "My name is Denis and surname is Belyakov\n"
          ]
        }
      ],
      "source": [
        "sample_str = f'My ' \\\n",
        "             f'name is {name} ' \\\n",
        "             f'and surname is {surname}' \\\n",
        "\n",
        "print(sample_str)"
      ]
    },
    {
      "cell_type": "markdown",
      "metadata": {
        "id": "_HcCuDAjkM9T"
      },
      "source": [
        "**А еще он быстрее**"
      ]
    },
    {
      "cell_type": "code",
      "execution_count": null,
      "metadata": {
        "id": "P089DVA1kM9T"
      },
      "outputs": [],
      "source": [
        "name = 'John'\n",
        "surname = 'Doe'\n",
        "age = 99"
      ]
    },
    {
      "cell_type": "code",
      "execution_count": null,
      "metadata": {
        "id": "itA-h5d6kM9T",
        "outputId": "9ca679e5-3026-4fd5-ada1-c5463700cd8b"
      },
      "outputs": [
        {
          "name": "stdout",
          "output_type": "stream",
          "text": [
            "130 ns ± 2.72 ns per loop (mean ± std. dev. of 7 runs, 1,000,000 loops each)\n"
          ]
        }
      ],
      "source": [
        "%%timeit -n 1000000\n",
        "'name is %s, surname is %s, and age is %d' % (name, surname, age)"
      ]
    },
    {
      "cell_type": "code",
      "execution_count": null,
      "metadata": {
        "id": "4HXhCEqPkM9T",
        "outputId": "efc82dd9-20c2-4158-8dd5-6441d421bfda"
      },
      "outputs": [
        {
          "name": "stdout",
          "output_type": "stream",
          "text": [
            "431 ns ± 2.03 ns per loop (mean ± std. dev. of 7 runs, 1,000,000 loops each)\n"
          ]
        }
      ],
      "source": [
        "%%timeit -n 1000000\n",
        "'name is {name}, surname is {surname}, and age is {age}'.format(name=name, surname=surname, age=age)"
      ]
    },
    {
      "cell_type": "code",
      "execution_count": null,
      "metadata": {
        "id": "LLtbohhzkM9T",
        "outputId": "cdc1d55b-d901-4bee-8a6b-87825e5f8295"
      },
      "outputs": [
        {
          "name": "stdout",
          "output_type": "stream",
          "text": [
            "108 ns ± 2.83 ns per loop (mean ± std. dev. of 7 runs, 1,000,000 loops each)\n"
          ]
        }
      ],
      "source": [
        "%%timeit -n 1000000\n",
        "f'name is {name}, surname is {surname}, and age is {age}'"
      ]
    },
    {
      "cell_type": "markdown",
      "metadata": {
        "id": "jDGssq_QkM9T"
      },
      "source": [
        "**special cases**"
      ]
    },
    {
      "cell_type": "code",
      "execution_count": null,
      "metadata": {
        "id": "-WWOBMf-kM9T",
        "outputId": "be709aed-ef59-44bb-8329-9bc47d2ec16e"
      },
      "outputs": [
        {
          "data": {
            "text/plain": [
              "\"I love 'Nestle' chocolate\""
            ]
          },
          "execution_count": 217,
          "metadata": {},
          "output_type": "execute_result"
        }
      ],
      "source": [
        "f'I love \\'Nestle\\' chocolate' # экранирование"
      ]
    },
    {
      "cell_type": "code",
      "execution_count": null,
      "metadata": {
        "id": "cPHH6XHPkM9T",
        "outputId": "fbc4a4b0-0179-495d-8e65-b7aebb7798c0"
      },
      "outputs": [
        {
          "data": {
            "text/plain": [
              "'Values in braces are the best: {4 + 5}'"
            ]
          },
          "execution_count": 218,
          "metadata": {},
          "output_type": "execute_result"
        }
      ],
      "source": [
        "f'Values in braces are the best: {{4 + 5}}'  # {{}} для показа скобочек"
      ]
    },
    {
      "cell_type": "code",
      "execution_count": null,
      "metadata": {
        "id": "bImSEBNwkM9T",
        "outputId": "799f29f8-a927-49f6-bd58-9dc8f0de0320"
      },
      "outputs": [
        {
          "data": {
            "text/plain": [
              "'Values in braces are the best: {9}'"
            ]
          },
          "execution_count": 219,
          "metadata": {},
          "output_type": "execute_result"
        }
      ],
      "source": [
        "f'Values in braces are the best: {{{4 + 5}}}'  # {{{}}} для показа скобочек и вычисления"
      ]
    },
    {
      "cell_type": "code",
      "execution_count": null,
      "metadata": {
        "id": "mU5kHaVMkM9T",
        "outputId": "2d5de2f0-491f-49bb-bcc4-9447a4d5bea7"
      },
      "outputs": [
        {
          "data": {
            "text/plain": [
              "'Values in braces are the best: {{4 + 5}}'"
            ]
          },
          "execution_count": 220,
          "metadata": {},
          "output_type": "execute_result"
        }
      ],
      "source": [
        "f'Values in braces are the best: {{{{4 + 5}}}}'  # {{{}}} для показа скобочек и вычисления"
      ]
    },
    {
      "cell_type": "markdown",
      "metadata": {
        "id": "CCEMP5vAkM9T"
      },
      "source": [
        "Ну, вы поняли"
      ]
    },
    {
      "cell_type": "markdown",
      "metadata": {
        "id": "1s-Zqbl-Xahj"
      },
      "source": [
        "### Дополнительные функции и методы строк"
      ]
    },
    {
      "cell_type": "code",
      "execution_count": null,
      "metadata": {
        "id": "9XqqjYj5Xahj",
        "outputId": "c8c8ebc6-848a-4e43-eb4c-5bbc48cb6ff7"
      },
      "outputs": [
        {
          "name": "stdin",
          "output_type": "stream",
          "text": [
            " 10\n"
          ]
        },
        {
          "name": "stdout",
          "output_type": "stream",
          "text": [
            "101010\n"
          ]
        }
      ],
      "source": [
        "# Функция input() считывает строку из консоли, пока не нажат enter\n",
        "s = input()\n",
        "print(s*3)"
      ]
    },
    {
      "cell_type": "code",
      "source": [
        "\"hhhj, ooo, iii\".split(\",\", 1)"
      ],
      "metadata": {
        "colab": {
          "base_uri": "https://localhost:8080/"
        },
        "id": "U_MQOy4Dv0nK",
        "outputId": "bd12ff24-1d9d-4305-d6b6-e4c1899ce9c9"
      },
      "execution_count": 29,
      "outputs": [
        {
          "output_type": "execute_result",
          "data": {
            "text/plain": [
              "['hhhj', ' ooo, iii']"
            ]
          },
          "metadata": {},
          "execution_count": 29
        }
      ]
    },
    {
      "cell_type": "markdown",
      "metadata": {
        "id": "TutEm3PoXahj",
        "outputId": "fd10b271-6544-47d4-e09b-2f2eef818fce"
      },
      "source": [
        "*Поиск подстроки в строке. Возвращает номер первого вхождения или -1*\n",
        "\n",
        "    s.find(str, [start],[end])\n",
        "    \n",
        "*Поиск подстроки в строке. Возвращает номер последнего вхождения или -1*\n",
        "\n",
        "    s.rfind(str, [start],[end]\n",
        "\n",
        "*Поиск подстроки в строке. Возвращает номер первого вхождения или вызывает ValueError*\n",
        "\n",
        "    s.index(str, [start],[end])\n",
        "\n",
        "*Поиск подстроки в строке. Возвращает номер последнего вхождения или вызывает ValueError*\n",
        "\n",
        "    s.rindex(str, [start],[end])\n",
        "    \n",
        "*Замена шаблона*\n",
        "\n",
        "    s.replace(шаблон, замена)\n",
        "    \n",
        "*Разбиение строки по разделителю*\n",
        "\n",
        "    s.split(символ)\n",
        "    \n",
        "*Состоит ли строка из цифр*\n",
        "\n",
        "    s.isdigit()\n",
        "    \n",
        "*Состоит ли строка из букв*\n",
        "\n",
        "    s.isalpha()"
      ]
    },
    {
      "cell_type": "markdown",
      "metadata": {
        "id": "6t7GW8OTXahj",
        "jupyter": {
          "outputs_hidden": true
        }
      },
      "source": [
        "*Состоит ли строка из цифр или букв*\n",
        "\n",
        "    s.isalnum()\n",
        "\n",
        "*Состоит ли строка из символов в нижнем регистре*\n",
        "\n",
        "    s.islower()\n",
        "    \n",
        "\n",
        "*Состоит ли строка из символов в верхнем регистре*\n",
        "    \n",
        "    s.isupper()\n",
        "\n",
        "*Состоит ли строка из неотображаемых символов (пробел, символ перевода страницы ('\\f'), \"новая строка\" ('\\n'), \"перевод каретки\" ('\\r'), \"горизонтальная табуляция\" ('\\t') и \"вертикальная табуляция\" ('\\v'))*\n",
        "    \n",
        "    s.isspace()\n",
        "\n",
        "*Начинаются ли слова в строке с заглавной буквы*\n",
        "\n",
        "    s.istitle()\n",
        "\n",
        "*Преобразование строки к верхнему регистру*\n",
        "    \n",
        "    s.upper()\n",
        "\n",
        "*Преобразование строки к нижнему регистру*\n",
        "    \n",
        "    s.lower()\n",
        "\n",
        "*Начинается ли строка S с шаблона str*\n",
        "    \n",
        "    s.startswith(str)\n",
        "\n",
        "*Переводит символы нижнего регистра в верхний, а верхнего – в нижний*\n",
        "    \n",
        "    s.swapcase()"
      ]
    },
    {
      "cell_type": "markdown",
      "metadata": {
        "jupyter": {
          "outputs_hidden": true
        },
        "id": "zBVpY0f9kM9U"
      },
      "source": [
        "*Символ в его код ASCII*\n",
        "    \n",
        "    ord(символ)\n",
        "\n",
        "*Код ASCII в символ*\n",
        "    \n",
        "    chr(число)"
      ]
    },
    {
      "cell_type": "code",
      "execution_count": null,
      "metadata": {
        "id": "a-9Ah1aLkM9U",
        "outputId": "b56a6039-5715-485e-eb1f-fe7428fd79ec"
      },
      "outputs": [
        {
          "data": {
            "text/plain": [
              "(97, 'a')"
            ]
          },
          "execution_count": 223,
          "metadata": {},
          "output_type": "execute_result"
        }
      ],
      "source": [
        "ord('a'), chr(97)"
      ]
    },
    {
      "cell_type": "markdown",
      "metadata": {
        "jupyter": {
          "outputs_hidden": true
        },
        "id": "EdhGUWpLkM9U"
      },
      "source": [
        "*Возвращает количество непересекающихся вхождений подстроки в диапазоне [начало, конец] (0 и длина строки по умолчанию)*\n",
        "\n",
        "    s.count(str, [start],[end])\n",
        "\n",
        "\n",
        "*Удаление пробельных символов в начале строки*\n",
        "\n",
        "    s.lstrip([chars])\n",
        "\n",
        "*Удаление пробельных символов в конце строки*\n",
        "\n",
        "    s.rstrip([chars])\n",
        "\n",
        "*Удаление пробельных символов в начале и в конце строки*\n",
        "\n",
        "    s.strip([chars])\n",
        "\n",
        "*Первую букву каждого слова переводит в верхний регистр, а все остальные в нижний*\n",
        "    \n",
        "    s.title()"
      ]
    },
    {
      "cell_type": "markdown",
      "metadata": {
        "id": "5BdzMAV4ih5I"
      },
      "source": [
        "### Метод split()"
      ]
    },
    {
      "cell_type": "markdown",
      "metadata": {
        "id": "dBWTdCzBih5K"
      },
      "source": [
        "Метод `split()` разделяет строку на подстроки по указанному разделителю и выдает на выходе другую (уже изменяемую!) последовательность -- `list`"
      ]
    },
    {
      "cell_type": "code",
      "execution_count": null,
      "metadata": {
        "id": "2jylZN-7ih5L",
        "outputId": "f8fd701f-663a-4239-e0d4-01552772595f"
      },
      "outputs": [
        {
          "data": {
            "text/plain": [
              "['mother', 'father', 'sister', 'brother']"
            ]
          },
          "execution_count": 224,
          "metadata": {},
          "output_type": "execute_result"
        }
      ],
      "source": [
        "s = \"mother, father, sister, brother\"\n",
        "s.split(\", \")"
      ]
    },
    {
      "cell_type": "markdown",
      "metadata": {
        "id": "NccVqoytih5S"
      },
      "source": [
        "Если разделитель не указан, что строка разделяется по любому whitespace символу"
      ]
    },
    {
      "cell_type": "code",
      "execution_count": null,
      "metadata": {
        "id": "i-J5DZXPih5U",
        "outputId": "39a229a0-26b1-468d-f697-f2415456ddff"
      },
      "outputs": [
        {
          "data": {
            "text/plain": [
              "['mother', 'father', 'sister', 'brother', 'me']"
            ]
          },
          "execution_count": 227,
          "metadata": {},
          "output_type": "execute_result"
        }
      ],
      "source": [
        "s = \"mother father \\t sister \\n brother   me\"\n",
        "s.split()"
      ]
    },
    {
      "cell_type": "markdown",
      "metadata": {
        "id": "cx6yq62akM9V"
      },
      "source": [
        "### Text Versus Bytes"
      ]
    },
    {
      "cell_type": "markdown",
      "metadata": {
        "id": "sbXD09RHkM9V"
      },
      "source": [
        "Выше мы дали определение строки как неизменяемая последовательность символов (immutabe sequence of _charachters_). Но что такое _charachter_?"
      ]
    },
    {
      "cell_type": "markdown",
      "metadata": {
        "id": "2zaK-rsCkM9V"
      },
      "source": [
        "в Python3 это символ Unicode. В зависимости от используемого стандарта Unicode, представление кода в байтах может отличаться"
      ]
    },
    {
      "cell_type": "code",
      "execution_count": null,
      "metadata": {
        "colab": {
          "base_uri": "https://localhost:8080/"
        },
        "id": "6KUqEvS4kM9V",
        "outputId": "02e815f5-4102-4e7d-e08a-cb717520f781"
      },
      "outputs": [
        {
          "output_type": "execute_result",
          "data": {
            "text/plain": [
              "4"
            ]
          },
          "metadata": {},
          "execution_count": 2
        }
      ],
      "source": [
        "s = 'café'\n",
        "len(s)  # 4 символа юникода"
      ]
    },
    {
      "cell_type": "code",
      "source": [
        "'бройлер'.encode('utf8')"
      ],
      "metadata": {
        "colab": {
          "base_uri": "https://localhost:8080/"
        },
        "id": "Ck1svtIPqrsG",
        "outputId": "c638d9b6-1377-44c1-ad49-32fc9799b3df"
      },
      "execution_count": null,
      "outputs": [
        {
          "output_type": "execute_result",
          "data": {
            "text/plain": [
              "b'\\xd0\\xb1\\xd1\\x80\\xd0\\xbe\\xd0\\xb9\\xd0\\xbb\\xd0\\xb5\\xd1\\x80'"
            ]
          },
          "metadata": {},
          "execution_count": 7
        }
      ]
    },
    {
      "cell_type": "code",
      "execution_count": null,
      "metadata": {
        "colab": {
          "base_uri": "https://localhost:8080/"
        },
        "id": "aveGLKDHkM9V",
        "outputId": "b507460b-be2c-426b-8766-44bb169b129d"
      },
      "outputs": [
        {
          "output_type": "stream",
          "name": "stdout",
          "text": [
            "5\n"
          ]
        },
        {
          "output_type": "execute_result",
          "data": {
            "text/plain": [
              "b'caf\\xc3\\xa9'"
            ]
          },
          "metadata": {},
          "execution_count": 5
        }
      ],
      "source": [
        "b = s.encode('utf8')\n",
        "print(len(b))\n",
        "b  # 5 байт в кодировке, т.к. последний символ занимает 2 байта в UTF-8"
      ]
    },
    {
      "cell_type": "markdown",
      "source": [
        "caf остается латинскими буквами, потому что входит в ASCII"
      ],
      "metadata": {
        "id": "XIPeoaxfrMEF"
      }
    },
    {
      "cell_type": "code",
      "source": [
        "b = s.encode('utf16')\n",
        "print(len(b))\n",
        "b  # 10 байт в кодировке, BOM байт, и тут ASCII кодируются 2 байтами"
      ],
      "metadata": {
        "colab": {
          "base_uri": "https://localhost:8080/"
        },
        "id": "l-CAFoIZoQwy",
        "outputId": "ce3c5d96-e2b5-4542-8ecd-e270b6af2592"
      },
      "execution_count": null,
      "outputs": [
        {
          "output_type": "stream",
          "name": "stdout",
          "text": [
            "10\n"
          ]
        },
        {
          "output_type": "execute_result",
          "data": {
            "text/plain": [
              "b'\\xff\\xfec\\x00a\\x00f\\x00\\xe9\\x00'"
            ]
          },
          "metadata": {},
          "execution_count": 3
        }
      ]
    },
    {
      "cell_type": "markdown",
      "source": [
        "UTF 16 будет более эффективна для Китайского языка, будет уходить 2 байта на иероглиф(в зависимости от того в какой план попадает символ), а UTF 8 будет требоваться 3"
      ],
      "metadata": {
        "id": "Nh5UK7Nibo9z"
      }
    },
    {
      "cell_type": "code",
      "source": [
        "b = s.encode('utf-16-be')\n",
        "b"
      ],
      "metadata": {
        "colab": {
          "base_uri": "https://localhost:8080/"
        },
        "id": "wqiIsCgTtKnA",
        "outputId": "734b763e-2e96-43c4-80ed-542a1b90386f"
      },
      "execution_count": null,
      "outputs": [
        {
          "output_type": "execute_result",
          "data": {
            "text/plain": [
              "b'\\x00c\\x00a\\x00f\\x00\\xe9'"
            ]
          },
          "metadata": {},
          "execution_count": 10
        }
      ]
    },
    {
      "cell_type": "markdown",
      "source": [
        "\\xff\\xfe - маркер Littel Endian https://en.wikipedia.org/wiki/Byte_order_mark для 16 битных и более кодировок"
      ],
      "metadata": {
        "id": "6b1SOcX2rveu"
      }
    },
    {
      "cell_type": "code",
      "source": [
        "b.decode('utf16')"
      ],
      "metadata": {
        "id": "Vgnog4ahtig2"
      },
      "execution_count": null,
      "outputs": []
    },
    {
      "cell_type": "code",
      "execution_count": null,
      "metadata": {
        "id": "Smk_6pSkkM9V",
        "outputId": "88962aac-dd82-448a-8e36-e7bc6e19c2e2"
      },
      "outputs": [
        {
          "data": {
            "text/plain": [
              "'café'"
            ]
          },
          "execution_count": 140,
          "metadata": {},
          "output_type": "execute_result"
        }
      ],
      "source": [
        "b.decode('utf8')"
      ]
    },
    {
      "cell_type": "code",
      "execution_count": null,
      "metadata": {
        "colab": {
          "base_uri": "https://localhost:8080/"
        },
        "id": "UmCpsEXekM9V",
        "outputId": "c0aaca76-61dd-48e3-d8c7-406f7b78821a"
      },
      "outputs": [
        {
          "output_type": "execute_result",
          "data": {
            "text/plain": [
              "False"
            ]
          },
          "metadata": {},
          "execution_count": 8
        }
      ],
      "source": [
        "a = 1, 2, 3,\n",
        "\n",
        "b = 4000\n",
        "\n",
        "id(a) == id(b)"
      ]
    },
    {
      "cell_type": "markdown",
      "metadata": {
        "id": "ilGIx0DDkM9V"
      },
      "source": [
        "## Немного задачек"
      ]
    },
    {
      "cell_type": "code",
      "execution_count": null,
      "metadata": {
        "id": "xLXnNTxBkM9V"
      },
      "outputs": [],
      "source": [
        "bar = 'foo'"
      ]
    },
    {
      "cell_type": "markdown",
      "metadata": {
        "id": "ywbLxFTAkM9V"
      },
      "source": [
        "1. Получите с помощью форматирования строк строку \"foo:foo\""
      ]
    },
    {
      "cell_type": "code",
      "execution_count": null,
      "metadata": {
        "id": "az7OU2HhkM9V",
        "outputId": "ef916702-adc1-44a2-f7b4-62d6ba9f205f"
      },
      "outputs": [
        {
          "data": {
            "text/plain": [
              "'foo:foo'"
            ]
          },
          "execution_count": 253,
          "metadata": {},
          "output_type": "execute_result"
        }
      ],
      "source": [
        "\"%s:%s\" % (bar, bar)"
      ]
    },
    {
      "cell_type": "code",
      "execution_count": null,
      "metadata": {
        "id": "Fdyk4iJTkM9V",
        "outputId": "2b20663c-089d-4f38-f12a-9f89206e1571"
      },
      "outputs": [
        {
          "data": {
            "text/plain": [
              "'foo:foo'"
            ]
          },
          "execution_count": 254,
          "metadata": {},
          "output_type": "execute_result"
        }
      ],
      "source": [
        "\"{}:{}\".format(bar, bar)"
      ]
    },
    {
      "cell_type": "code",
      "execution_count": null,
      "metadata": {
        "id": "J9Hj8dXxkM9V",
        "outputId": "6360a154-8f4b-46c6-ec45-bf443d6d5ba0"
      },
      "outputs": [
        {
          "data": {
            "text/plain": [
              "'foo:foo'"
            ]
          },
          "execution_count": 255,
          "metadata": {},
          "output_type": "execute_result"
        }
      ],
      "source": [
        "\"{0}:{0}\".format(bar)"
      ]
    },
    {
      "cell_type": "code",
      "execution_count": null,
      "metadata": {
        "id": "VyTPhdX1kM9W",
        "outputId": "0c17813c-bf28-4013-e7d4-33025ddf6d28"
      },
      "outputs": [
        {
          "data": {
            "text/plain": [
              "'foo:foo'"
            ]
          },
          "execution_count": 256,
          "metadata": {},
          "output_type": "execute_result"
        }
      ],
      "source": [
        "\"{value}:{value}\".format(value=bar)"
      ]
    },
    {
      "cell_type": "code",
      "execution_count": null,
      "metadata": {
        "id": "hGcPVvNhkM9W",
        "outputId": "96ec3b61-d261-4a9e-b28c-c5aa25f7b362"
      },
      "outputs": [
        {
          "data": {
            "text/plain": [
              "'foo:foo'"
            ]
          },
          "execution_count": 257,
          "metadata": {},
          "output_type": "execute_result"
        }
      ],
      "source": [
        "f'{bar}:{bar}'"
      ]
    },
    {
      "cell_type": "markdown",
      "metadata": {
        "id": "atq0MjWGkM9W"
      },
      "source": [
        "2. Напишите форматную строку, которая могла бы форматировать число по заданной ширине и целочисленной точности\n",
        "\n",
        "hint: в f-строках возможно вложенное использование {}"
      ]
    },
    {
      "cell_type": "code",
      "execution_count": null,
      "metadata": {
        "id": "-DkdWnYTkM9W"
      },
      "outputs": [],
      "source": [
        "width = 10\n",
        "d_prec = 3\n",
        "value = 1337.808"
      ]
    },
    {
      "cell_type": "code",
      "execution_count": null,
      "metadata": {
        "id": "TI8LfMsikM9W",
        "outputId": "a70c5419-13b7-42e8-b6ce-93b0bc706c53"
      },
      "outputs": [
        {
          "data": {
            "text/plain": [
              "'output:   1.34e+03'"
            ]
          },
          "execution_count": 251,
          "metadata": {},
          "output_type": "execute_result"
        }
      ],
      "source": [
        "f\"output: {value:{width}.{d_prec}}\""
      ]
    },
    {
      "cell_type": "markdown",
      "metadata": {
        "id": "3LRu-en2kM9W"
      },
      "source": [
        "3. Напишите функцию, которая:\n",
        "    - получает на вход строку (возможно, небольшой текст) и стоп-слово\n",
        "    - находит все индексы стоп-слова в строке\n",
        "    - (*) в результате своей работы собирает новую строку, в которой нет стоп-слов\n"
      ]
    },
    {
      "cell_type": "code",
      "execution_count": 8,
      "metadata": {
        "id": "xmgQ0D3EkM9W",
        "outputId": "4e180d7b-236a-449d-8319-c365dfa8ca95",
        "colab": {
          "base_uri": "https://localhost:8080/",
          "height": 69
        }
      },
      "outputs": [
        {
          "output_type": "stream",
          "name": "stdout",
          "text": [
            "11\n",
            "20\n"
          ]
        },
        {
          "output_type": "execute_result",
          "data": {
            "text/plain": [
              "'here is my word  it please'"
            ],
            "application/vnd.google.colaboratory.intrinsic+json": {
              "type": "string"
            }
          },
          "metadata": {},
          "execution_count": 8
        }
      ],
      "source": [
        "stop = 'stop'\n",
        "s = 'here is my stopword stop it please'\n",
        "\n",
        "prev = 0\n",
        "s = s.lower()\n",
        "new_s = ''\n",
        "\n",
        "while True:\n",
        "    index = s[prev:].find(stop.lower())\n",
        "    if index >= 0:\n",
        "        print(index + prev)\n",
        "        new_s += s[prev: index + prev]\n",
        "        prev += index + len(stop)\n",
        "    else:\n",
        "        new_s += s[prev:]\n",
        "        break\n",
        "\n",
        "new_s"
      ]
    }
  ],
  "metadata": {
    "colab": {
      "provenance": []
    },
    "kernelspec": {
      "display_name": "Python 3 (ipykernel)",
      "language": "python",
      "name": "python3"
    },
    "language_info": {
      "codemirror_mode": {
        "name": "ipython",
        "version": 3
      },
      "file_extension": ".py",
      "mimetype": "text/x-python",
      "name": "python",
      "nbconvert_exporter": "python",
      "pygments_lexer": "ipython3",
      "version": "3.9.12"
    },
    "latex_envs": {
      "LaTeX_envs_menu_present": true,
      "autoclose": false,
      "autocomplete": true,
      "bibliofile": "biblio.bib",
      "cite_by": "apalike",
      "current_citInitial": 1,
      "eqLabelWithNumbers": true,
      "eqNumInitial": 1,
      "hotkeys": {
        "equation": "Ctrl-E",
        "itemize": "Ctrl-I"
      },
      "labels_anchors": false,
      "latex_user_defs": false,
      "report_style_numbering": false,
      "user_envs_cfg": false
    },
    "toc": {
      "base_numbering": 1,
      "nav_menu": {},
      "number_sections": true,
      "sideBar": true,
      "skip_h1_title": false,
      "title_cell": "Table of Contents",
      "title_sidebar": "Contents",
      "toc_cell": false,
      "toc_position": {},
      "toc_section_display": true,
      "toc_window_display": true
    },
    "toc-autonumbering": false,
    "varInspector": {
      "cols": {
        "lenName": 16,
        "lenType": 16,
        "lenVar": 40
      },
      "kernels_config": {
        "python": {
          "delete_cmd_postfix": "",
          "delete_cmd_prefix": "del ",
          "library": "var_list.py",
          "varRefreshCmd": "print(var_dic_list())"
        },
        "r": {
          "delete_cmd_postfix": ") ",
          "delete_cmd_prefix": "rm(",
          "library": "var_list.r",
          "varRefreshCmd": "cat(var_dic_list()) "
        }
      },
      "types_to_exclude": [
        "module",
        "function",
        "builtin_function_or_method",
        "instance",
        "_Feature"
      ],
      "window_display": false
    }
  },
  "nbformat": 4,
  "nbformat_minor": 0
}