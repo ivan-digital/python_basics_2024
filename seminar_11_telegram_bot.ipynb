{
  "nbformat": 4,
  "nbformat_minor": 0,
  "metadata": {
    "colab": {
      "provenance": []
    },
    "kernelspec": {
      "name": "python3",
      "display_name": "Python 3"
    },
    "language_info": {
      "name": "python"
    }
  },
  "cells": [
    {
      "cell_type": "markdown",
      "source": [
        "# Вопросы по прошлым занятиям?\n",
        "\n",
        "\n",
        "Немного про set дескриптор с прошлого занятия."
      ],
      "metadata": {
        "id": "ve_Fi4Xjpm5s"
      }
    },
    {
      "cell_type": "code",
      "source": [
        "class Desc:\n",
        "    def __set__(self, instance, value):\n",
        "      print(\"__set__\")\n",
        "      instance.value = value\n",
        "\n",
        "    def __get__(self, instance, owner):\n",
        "      print(\"__get__\")\n",
        "      return instance.value\n",
        "\n",
        "class Num:\n",
        "  test = Desc() # Должен быть привязан именно к классу\n",
        "\n",
        "  def __init__(self, value):\n",
        "    print(\"__init__\")\n",
        "    self.value = value\n",
        "    #self.test = Desc() # так не сработает\n",
        "\n",
        "\n",
        "  def __add__(self, other):\n",
        "    print(\"__add__\")\n",
        "    return self.value + other.value + 1\n",
        "\n",
        "  def __str__(self):\n",
        "    return str(self.value)\n",
        "\n"
      ],
      "metadata": {
        "id": "qw5-YfygkUwo"
      },
      "execution_count": null,
      "outputs": []
    },
    {
      "cell_type": "code",
      "execution_count": null,
      "metadata": {
        "colab": {
          "base_uri": "https://localhost:8080/"
        },
        "id": "rxKFmYTUpXb7",
        "outputId": "52b54fb8-1461-4ace-ce3e-06887ec82710"
      },
      "outputs": [
        {
          "output_type": "stream",
          "name": "stdout",
          "text": [
            "__init__\n",
            "__init__\n",
            "__add__\n"
          ]
        },
        {
          "output_type": "execute_result",
          "data": {
            "text/plain": [
              "6"
            ]
          },
          "metadata": {},
          "execution_count": 19
        }
      ],
      "source": [
        "a = Num(1)\n",
        "b = Num(4)\n",
        "a + b"
      ]
    },
    {
      "cell_type": "code",
      "source": [
        "a.test = 2\n",
        "a.value"
      ],
      "metadata": {
        "colab": {
          "base_uri": "https://localhost:8080/"
        },
        "id": "St4SXqPcrpls",
        "outputId": "b62115f4-7a59-4f46-8298-ed89cb64ef50"
      },
      "execution_count": null,
      "outputs": [
        {
          "output_type": "stream",
          "name": "stdout",
          "text": [
            "__set__\n"
          ]
        },
        {
          "output_type": "execute_result",
          "data": {
            "text/plain": [
              "2"
            ]
          },
          "metadata": {},
          "execution_count": 20
        }
      ]
    },
    {
      "cell_type": "code",
      "source": [
        "b.value"
      ],
      "metadata": {
        "colab": {
          "base_uri": "https://localhost:8080/"
        },
        "id": "XAwUUOEYkBhi",
        "outputId": "5eff55db-e24c-4fc3-922e-d9c5b2d10e05"
      },
      "execution_count": null,
      "outputs": [
        {
          "output_type": "execute_result",
          "data": {
            "text/plain": [
              "4"
            ]
          },
          "metadata": {},
          "execution_count": 21
        }
      ]
    },
    {
      "cell_type": "markdown",
      "source": [
        "# Попробуем вызвать groq - бесплатный api с языковой моделью мистраль.\n",
        "\n",
        "Их инференc идет на их оборудовании, говорят раз в 5 быстрее NVIDa. :)\n",
        "\n",
        "https://datatracker.ietf.org/doc/html/rfc2616 - а это полезный RFC c HTTP стандартом. Там есть описание всех методов GET, POST и много других."
      ],
      "metadata": {
        "id": "IVW8DS3vvJkC"
      }
    },
    {
      "cell_type": "markdown",
      "source": [
        "# (!!!!) Для доступа к groq api нужен VPN. С ряда российских адресов не доступно.\n",
        "https://habr.com/ru/articles/813613/"
      ],
      "metadata": {
        "id": "TN6RdLJCqSav"
      }
    },
    {
      "cell_type": "code",
      "source": [
        "import requests\n",
        "import json\n",
        "from google.colab import userdata\n",
        "\n",
        "groq_api = userdata.get('GROQ_API_KEY')\n",
        "\n",
        "url = \"https://api.groq.com/openai/v1/chat/completions\"\n",
        "headers = {\n",
        "    \"Content-Type\": \"application/json\",\n",
        "    \"Authorization\": f\"Bearer {groq_api}\"\n",
        "}\n",
        "\n",
        "data = {\n",
        "    \"model\": \"mixtral-8x7b-32768\",\n",
        "    \"messages\": [\n",
        "        {\n",
        "            \"role\": \"user\",\n",
        "            \"content\": \"Давайка мне расскажи анектод. Что-то на злобу дня? \"\n",
        "        }\n",
        "    ],\n",
        "    \"temperature\": 1,\n",
        "    \"max_tokens\": 100\n",
        "}\n",
        "response = requests.post(url, headers=headers, data=json.dumps(data))\n",
        "\n",
        "if response.status_code == 200:\n",
        "    response_data = response.json()\n",
        "    print(\"Response:\", response_data['choices'][0]['message']['content'])\n",
        "else:\n",
        "    print(f\"Failed to get response: {response.status_code}\")\n",
        "    print(response.text)\n"
      ],
      "metadata": {
        "colab": {
          "base_uri": "https://localhost:8080/"
        },
        "id": "jtAkFmpBvZ2E",
        "outputId": "c5621218-efb8-4d23-d985-52ceae483093"
      },
      "execution_count": null,
      "outputs": [
        {
          "output_type": "stream",
          "name": "stdout",
          "text": [
            "Response: Sure, here's a light-hearted anecdote that's been making the rounds on the internet recently:\n",
            "\n",
            "Why don't programmers like nature?\n",
            "\n",
            "Because it has too many bugs!\n",
            "\n",
            "Of course, this is just a play on words and doesn't represent the views of all programmers. But it's a fun way to highlight the fact that programmers spend a lot of their time searching for and fixing bugs in software code.\n"
          ]
        }
      ]
    },
    {
      "cell_type": "markdown",
      "source": [
        "# Заведем чат бота в телеграме\n",
        "\n",
        "Откройте `@BotFather`<br>\n",
        "Команда `/start`<br>\n",
        "Дальше команда `/newbot`<br>\n",
        "Вводим Имя, и вторым сообщением логин.<br>\n",
        "\n",
        "Я уже сделал [ t.me/telegra_seminar_bot](https://t.me/telegra_seminar_bot)\n",
        "\n",
        "python-telegram-bot ChatGPT считает, что эта библиотека самая широко используемая. (не верим, идем проверять звезды в гите, там 26к - кажется тут можно поверить ;)\n",
        "\n",
        "`pip install python-telegram-bot`, еще есть такой `requirements.txt` - базовая штука управлять зависимостями\n",
        "\n",
        "https://www.freecodecamp.org/news/python-requirementstxt-explained/\n",
        "\n",
        "python-telegram-bot==version\n",
        "\n",
        "Не забываем создать виртуальную среду (venv)\n",
        "\n",
        "Вообще все базируется на спецификации API Telegram https://core.telegram.org/. В любой непонятной ситуации идем искать спецификацию."
      ],
      "metadata": {
        "id": "tz9-XRpEy48a"
      }
    },
    {
      "cell_type": "markdown",
      "source": [
        "Код предполгается к запуску локально или на сервере."
      ],
      "metadata": {
        "id": "xO0bwQBICU0J"
      }
    },
    {
      "cell_type": "code",
      "source": [
        "import os\n",
        "from telegram import Update, InlineKeyboardButton, InlineKeyboardMarkup\n",
        "from telegram.ext import ApplicationBuilder, CommandHandler, ContextTypes, MessageHandler, filters, CallbackQueryHandler\n",
        "\n",
        "\n",
        "async def start(update: Update, context: ContextTypes.DEFAULT_TYPE) -> None:\n",
        "    keyboard = [\n",
        "        [InlineKeyboardButton(\"About us\", callback_data='creator_info')]\n",
        "    ]\n",
        "    reply_markup = InlineKeyboardMarkup(keyboard)\n",
        "\n",
        "    await update.message.reply_text(f'Hello {update.effective_user.first_name}', reply_markup=reply_markup)\n",
        "\n",
        "\n",
        "async def button_handler(update: Update, context: ContextTypes.DEFAULT_TYPE) -> None:\n",
        "    query = update.callback_query\n",
        "    await query.answer()\n",
        "    if query.data == 'creator_info':\n",
        "        await query.edit_message_text(text=\"We are cool people.\")\n",
        "\n",
        "\n",
        "async def handle_message(update: Update, context: ContextTypes.DEFAULT_TYPE) -> None:\n",
        "    user_message = update.message.text\n",
        "    await update.message.reply_text(f'You said: {user_message}')\n",
        "\n",
        "\n",
        "async def unknown_command(update: Update, context: ContextTypes.DEFAULT_TYPE) -> None:\n",
        "    await update.message.reply_text(\"Sorry, I didn't understand that command.\")\n",
        "\n",
        "# if __name__ == \"__main__\": если запускаем без этой команды какая разница?\n",
        "app = ApplicationBuilder().token(os.getenv('TELEGRAM_KEY')).build()\n",
        "app.add_handler(CommandHandler(\"start\", start))\n",
        "app.add_handler(MessageHandler(filters.TEXT & ~filters.COMMAND, handle_message))\n",
        "app.add_handler(MessageHandler(filters.COMMAND, unknown_command))\n",
        "app.add_handler(CallbackQueryHandler(button_handler))\n",
        "app.run_polling()"
      ],
      "metadata": {
        "id": "mciPKNLA06KK"
      },
      "execution_count": null,
      "outputs": []
    },
    {
      "cell_type": "markdown",
      "source": [
        "![Screenshot 2024-10-14 at 10.51.46.png](data:image/png;base64,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)"
      ],
      "metadata": {
        "id": "NeRgHqwwOXxM"
      }
    },
    {
      "cell_type": "code",
      "source": [
        "!pip install groq"
      ],
      "metadata": {
        "id": "2yy-UlxTAKZA"
      },
      "execution_count": null,
      "outputs": []
    },
    {
      "cell_type": "markdown",
      "source": [
        "Давайте попробуем добавить кнопочку меню бота?\n",
        "\n",
        "hint: https://docs.python-telegram-bot.org/en/stable/telegram.bot.html#telegram.Bot.set_my_commands"
      ],
      "metadata": {
        "id": "I2lnqGwzE2Jc"
      }
    },
    {
      "cell_type": "code",
      "source": [
        "app = ApplicationBuilder().token(os.getenv('TELEGRAM_KEY')).post_init(post_init).build() # вот так можно поменять инициализатор бота\n",
        "async def post_init(application: Application) -> None:\n",
        "    await application.bot.set_my_commands([('about_us', 'Learn about us')])\n",
        "# и в него завернуть прокидывание дополнительных сеттинов\n",
        "\n"
      ],
      "metadata": {
        "id": "eCZReBFJ2rbg"
      },
      "execution_count": null,
      "outputs": []
    },
    {
      "cell_type": "markdown",
      "source": [
        "![Screenshot 2024-10-14 at 13.51.36.png](data:image/png;base64,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)\n",
        "\n",
        "\n",
        "И вот так меню будет выглядеть."
      ],
      "metadata": {
        "id": "3Bf04LjWN7nx"
      }
    },
    {
      "cell_type": "markdown",
      "source": [
        "# А теперь давайте отрефакторим все вместе в класс\n"
      ],
      "metadata": {
        "id": "Vhb-jTTDCAZ-"
      }
    },
    {
      "cell_type": "code",
      "source": [
        "import os\n",
        "from groq import Groq\n",
        "from telegram import Update, InlineKeyboardButton, InlineKeyboardMarkup\n",
        "from telegram.ext import ApplicationBuilder, CommandHandler, ContextTypes, MessageHandler, filters, CallbackQueryHandler\n",
        "\n",
        "\n",
        "class TelegramBot:\n",
        "    def __init__(self):\n",
        "        self.client = Groq(api_key=os.environ.get(\"GROQ_API_KEY\"))\n",
        "        self.app = ApplicationBuilder().token(os.getenv('TELEGRAM_KEY')).build()\n",
        "        self.app.add_handler(CommandHandler(\"start\", self.start))\n",
        "        self.app.add_handler(MessageHandler(filters.TEXT & ~filters.COMMAND, self.handle_message))\n",
        "        self.app.add_handler(MessageHandler(filters.COMMAND, self.unknown_command))\n",
        "        self.app.add_handler(CallbackQueryHandler(self.button_handler))\n",
        "\n",
        "    async def start(self, update: Update, context: ContextTypes.DEFAULT_TYPE) -> None:\n",
        "        \"\"\"Handle the /start command and send a welcome message with an inline button.\"\"\"\n",
        "        keyboard = [\n",
        "            [InlineKeyboardButton(\"About us\", callback_data='creator_info')]\n",
        "        ]\n",
        "        reply_markup = InlineKeyboardMarkup(keyboard)\n",
        "\n",
        "        await update.message.reply_text(f'Hello {update.effective_user.first_name}', reply_markup=reply_markup)\n",
        "\n",
        "    async def button_handler(self, update: Update, context: ContextTypes.DEFAULT_TYPE) -> None:\n",
        "        \"\"\"Handle button interactions from the inline keyboard.\"\"\"\n",
        "        query = update.callback_query\n",
        "        await query.answer()\n",
        "\n",
        "        if query.data == 'creator_info':\n",
        "            await query.edit_message_text(text=\"We are cool people.\")\n",
        "\n",
        "    async def handle_message(self, update: Update, context: ContextTypes.DEFAULT_TYPE) -> None:\n",
        "        \"\"\"Handle any text message sent by the user.\"\"\"\n",
        "        user_message = update.message.text\n",
        "        response = self.send_to_groq_api(user_message)\n",
        "        await update.message.reply_text(response)\n",
        "\n",
        "    def send_to_groq_api(self, message: str) -> str:\n",
        "        \"\"\"Send a message to the Groq API and return the response.\"\"\"\n",
        "        try:\n",
        "            chat_completion = self.client.chat.completions.create(\n",
        "                messages=[\n",
        "                    {\n",
        "                        \"role\": \"user\",\n",
        "                        \"content\": message,\n",
        "                    }\n",
        "                ],\n",
        "                model=\"mixtral-8x7b-32768\",\n",
        "            )\n",
        "            return chat_completion.choices[0].message.content\n",
        "\n",
        "        except Exception as e:\n",
        "            return f\"An error occurred while communicating with the Groq API: {e}\"\n",
        "\n",
        "    async def unknown_command(self, update: Update, context: ContextTypes.DEFAULT_TYPE) -> None:\n",
        "        \"\"\"Handle unknown commands.\"\"\"\n",
        "        await update.message.reply_text(\"Sorry, I didn't understand that command.\")\n",
        "\n",
        "    def run(self):\n",
        "        \"\"\"Start the bot and begin polling for updates.\"\"\"\n",
        "        self.app.run_polling()\n",
        "\n",
        "\n",
        "if __name__ == \"__main__\":\n",
        "    bot = TelegramBot()\n",
        "    bot.run()\n"
      ],
      "metadata": {
        "id": "ENWZ-B3ECDUd"
      },
      "execution_count": null,
      "outputs": []
    },
    {
      "cell_type": "markdown",
      "source": [
        "А какие принципы SOLID этот класс нарушает?\n",
        "https://ru.wikipedia.org/wiki/SOLID_(%D0%BF%D1%80%D0%BE%D0%B3%D1%80%D0%B0%D0%BC%D0%BC%D0%B8%D1%80%D0%BE%D0%B2%D0%B0%D0%BD%D0%B8%D0%B5)\n",
        "\n",
        "Класс выше очень неудобно тестировать, для юнит тестов его нужно разделить на более легко тестируемые части. Он нарушает почти все принципы"
      ],
      "metadata": {
        "id": "lEa7BPlhAjBA"
      }
    }
  ]
}
