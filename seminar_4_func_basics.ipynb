{
  "cells": [
    {
      "cell_type": "markdown",
      "source": [
        "# Что помните с прошлого занятия?\n",
        "\n",
        "Расскажите какие идеи есть по решению задачи с прошлого семинара про испарение жидкости?\n",
        "Нужно ли разбирать по округлению задачки?"
      ],
      "metadata": {
        "id": "-esB6UuD-fO-"
      },
      "id": "-esB6UuD-fO-"
    },
    {
      "cell_type": "markdown",
      "source": [
        "# Сколько памяти занимает объект в Python\n",
        "\n",
        "https://stackoverflow.com/questions/449560/how-do-i-determine-the-size-of-an-object-in-python\n",
        "\n",
        "https://docs.python.org/3/library/sys.html#sys.getsizeof\n",
        "\n",
        "https://towardsdatascience.com/the-strange-size-of-python-objects-in-memory-ce87bdfbb97f"
      ],
      "metadata": {
        "id": "ol5TP1KECTly"
      },
      "id": "ol5TP1KECTly"
    },
    {
      "cell_type": "code",
      "source": [
        "import sys"
      ],
      "metadata": {
        "id": "Ug3g6-tzCc3s"
      },
      "id": "Ug3g6-tzCc3s",
      "execution_count": 4,
      "outputs": []
    },
    {
      "cell_type": "code",
      "source": [
        "sys.getsizeof(1)"
      ],
      "metadata": {
        "colab": {
          "base_uri": "https://localhost:8080/"
        },
        "id": "DC637rdQCfBj",
        "outputId": "ad747a9a-52e1-4237-b84e-ea80d63e3faa"
      },
      "id": "DC637rdQCfBj",
      "execution_count": 5,
      "outputs": [
        {
          "output_type": "execute_result",
          "data": {
            "text/plain": [
              "28"
            ]
          },
          "metadata": {},
          "execution_count": 5
        }
      ]
    },
    {
      "cell_type": "code",
      "source": [
        "sys.getsizeof('')"
      ],
      "metadata": {
        "colab": {
          "base_uri": "https://localhost:8080/"
        },
        "id": "YIZKNO_VChAs",
        "outputId": "58c72a1a-1f74-48d3-bf87-2537d66a08ee"
      },
      "id": "YIZKNO_VChAs",
      "execution_count": 7,
      "outputs": [
        {
          "output_type": "execute_result",
          "data": {
            "text/plain": [
              "49"
            ]
          },
          "metadata": {},
          "execution_count": 7
        }
      ]
    },
    {
      "cell_type": "code",
      "source": [
        "a = ''\n",
        "\n",
        "print(sys.getsizeof(a))\n",
        "\n",
        "a += '12'\n",
        "\n",
        "print(sys.getsizeof(a))"
      ],
      "metadata": {
        "colab": {
          "base_uri": "https://localhost:8080/"
        },
        "id": "x6Tq3K_5Clbp",
        "outputId": "ffea413b-99b5-4c01-a455-6b11ce641269"
      },
      "id": "x6Tq3K_5Clbp",
      "execution_count": 8,
      "outputs": [
        {
          "output_type": "stream",
          "name": "stdout",
          "text": [
            "49\n",
            "51\n"
          ]
        }
      ]
    },
    {
      "cell_type": "code",
      "source": [
        "a = [[1, 2, 3, 4, 5], 5, 6]\n",
        "sys.getsizeof(a)"
      ],
      "metadata": {
        "colab": {
          "base_uri": "https://localhost:8080/"
        },
        "id": "ps0FLLZmCpVX",
        "outputId": "8f335006-ad00-4431-ff8e-ea1b2d3bb0cf"
      },
      "id": "ps0FLLZmCpVX",
      "execution_count": 10,
      "outputs": [
        {
          "output_type": "execute_result",
          "data": {
            "text/plain": [
              "80"
            ]
          },
          "metadata": {},
          "execution_count": 10
        }
      ]
    },
    {
      "cell_type": "code",
      "source": [
        "sys.getsizeof(a[0])"
      ],
      "metadata": {
        "colab": {
          "base_uri": "https://localhost:8080/"
        },
        "id": "DNfBsCfyCsOM",
        "outputId": "e54828fc-9ec4-4db8-f5f5-7877f6b42000"
      },
      "id": "DNfBsCfyCsOM",
      "execution_count": 11,
      "outputs": [
        {
          "output_type": "execute_result",
          "data": {
            "text/plain": [
              "104"
            ]
          },
          "metadata": {},
          "execution_count": 11
        }
      ]
    },
    {
      "cell_type": "markdown",
      "source": [
        "Посмотрим, сколько памяти у нас занимали list и array с числами"
      ],
      "metadata": {
        "id": "UzHthflWCx2u"
      },
      "id": "UzHthflWCx2u"
    },
    {
      "cell_type": "code",
      "source": [
        "list_gen = range(1000)\n",
        "list_ints = [i for i in range(1000)]\n",
        "\n",
        "sys.getsizeof(list_ints), sys.getsizeof(list_gen)"
      ],
      "metadata": {
        "colab": {
          "base_uri": "https://localhost:8080/"
        },
        "id": "3SsvnuTgCw_b",
        "outputId": "fbaf2bed-fb18-42fe-a3c1-199a83b67678"
      },
      "id": "3SsvnuTgCw_b",
      "execution_count": 12,
      "outputs": [
        {
          "output_type": "execute_result",
          "data": {
            "text/plain": [
              "(8856, 48)"
            ]
          },
          "metadata": {},
          "execution_count": 12
        }
      ]
    },
    {
      "cell_type": "code",
      "source": [
        "def gen(n):\n",
        "  i = 0\n",
        "  while i < n:\n",
        "    yield i\n",
        "    i += 1\n",
        "sys.getsizeof(gen(1000))"
      ],
      "metadata": {
        "colab": {
          "base_uri": "https://localhost:8080/"
        },
        "id": "RGRVXPYYDNMN",
        "outputId": "222bcb76-112d-4513-828b-61aab26ecef5"
      },
      "id": "RGRVXPYYDNMN",
      "execution_count": 15,
      "outputs": [
        {
          "output_type": "execute_result",
          "data": {
            "text/plain": [
              "104"
            ]
          },
          "metadata": {},
          "execution_count": 15
        }
      ]
    },
    {
      "cell_type": "code",
      "source": [
        "list_gen_ints = [i for i in gen(1000)]\n",
        "sys.getsizeof(list_gen_ints)"
      ],
      "metadata": {
        "colab": {
          "base_uri": "https://localhost:8080/"
        },
        "id": "e-MonnAcD8i1",
        "outputId": "e334d724-c640-4d49-86b1-914be8d2cf41"
      },
      "id": "e-MonnAcD8i1",
      "execution_count": 16,
      "outputs": [
        {
          "output_type": "execute_result",
          "data": {
            "text/plain": [
              "8856"
            ]
          },
          "metadata": {},
          "execution_count": 16
        }
      ]
    },
    {
      "cell_type": "markdown",
      "source": [
        "Еще немного про геренаторы. Можно их представить двумя программами, которым вы даете разный приоритет исполнения. Похожим образом работает планировщик выполнения процессов Операционной Системы. Будем разбирать подробнее в блоке про асинхрон."
      ],
      "metadata": {
        "id": "jupRwuQ6-BVN"
      },
      "id": "jupRwuQ6-BVN"
    },
    {
      "cell_type": "code",
      "source": [
        "import random\n",
        "\n",
        "def function_1():\n",
        "    i = 0\n",
        "    while True:\n",
        "        yield i\n",
        "        i += 1\n",
        "\n",
        "def function_2():\n",
        "    j = 0\n",
        "    while True:\n",
        "        yield j\n",
        "        j += 1\n",
        "\n",
        "func1_gen = function_1()\n",
        "func2_gen = function_2()\n",
        "for _ in range(20):\n",
        "  prob = random.random()\n",
        "  if prob < 0.25:\n",
        "    value = next(func1_gen)\n",
        "    print(f\"Function 1 generated: {value}\")\n",
        "  elif prob < 0.50:\n",
        "    value = next(func2_gen)\n",
        "    print(f\"Function 2 generated: {value}\")\n",
        "  else:\n",
        "    print(\"No function called in this round\")"
      ],
      "metadata": {
        "colab": {
          "base_uri": "https://localhost:8080/"
        },
        "id": "emT-DsW47KhX",
        "outputId": "164e8457-f26a-4078-ca95-2d8edc333c03"
      },
      "id": "emT-DsW47KhX",
      "execution_count": 39,
      "outputs": [
        {
          "output_type": "stream",
          "name": "stdout",
          "text": [
            "No function called in this round\n",
            "Function 1 generated: 0\n",
            "No function called in this round\n",
            "Function 1 generated: 1\n",
            "No function called in this round\n",
            "Function 1 generated: 2\n",
            "Function 1 generated: 3\n",
            "Function 2 generated: 0\n",
            "No function called in this round\n",
            "No function called in this round\n",
            "No function called in this round\n",
            "Function 1 generated: 4\n",
            "No function called in this round\n",
            "Function 2 generated: 1\n",
            "Function 1 generated: 5\n",
            "No function called in this round\n",
            "No function called in this round\n",
            "No function called in this round\n",
            "Function 2 generated: 2\n",
            "No function called in this round\n"
          ]
        }
      ]
    },
    {
      "cell_type": "markdown",
      "id": "4c83beca-5bd3-4ecb-801d-7b7ada59362f",
      "metadata": {
        "id": "4c83beca-5bd3-4ecb-801d-7b7ada59362f"
      },
      "source": [
        "# Functions"
      ]
    },
    {
      "cell_type": "markdown",
      "id": "cb92c99b-0a8c-4888-95f0-f7d0db5c47d0",
      "metadata": {
        "id": "cb92c99b-0a8c-4888-95f0-f7d0db5c47d0"
      },
      "source": [
        "Functions -- \"first class objects\":\n",
        "    \n",
        "    - создаются в рантайме\n",
        "    - присваиваются переменным или элементам в структурах данных\n",
        "    - используются как аргумент в других функциях\n",
        "    - возвращаются как результат работы функций\n",
        "    \n",
        "Ровно так же работают, например, string, list и прочие рассмотренные ранее примеры.\n",
        "\n",
        "В других языках функции могут быть обьектами второго класса, тогда что то из вышеперечисленных свойств к ним не применяется."
      ]
    },
    {
      "cell_type": "markdown",
      "id": "2f20e3cd-d190-4303-8e79-f41b78b8b7be",
      "metadata": {
        "id": "2f20e3cd-d190-4303-8e79-f41b78b8b7be"
      },
      "source": [
        "## Базовый синтаксис"
      ]
    },
    {
      "cell_type": "markdown",
      "id": "8565ed53-a8df-4193-a3c1-02e7f4601197",
      "metadata": {
        "id": "8565ed53-a8df-4193-a3c1-02e7f4601197"
      },
      "source": [
        "### Аргументы и вызов"
      ]
    },
    {
      "cell_type": "code",
      "execution_count": null,
      "id": "6b6db521-a5aa-48ae-9c99-fcf535b01dd3",
      "metadata": {
        "ExecuteTime": {
          "end_time": "2022-09-16T08:47:51.689923Z",
          "start_time": "2022-09-16T08:47:51.684737Z"
        },
        "id": "6b6db521-a5aa-48ae-9c99-fcf535b01dd3",
        "outputId": "335f0399-b364-4cbe-c667-5bb77b4be6d3"
      },
      "outputs": [
        {
          "name": "stdout",
          "output_type": "stream",
          "text": [
            "Hello, world!\n"
          ]
        }
      ],
      "source": [
        "def func():  # name and function arguments\n",
        "    '''\n",
        "    Doc string to be shown in help\n",
        "    '''\n",
        "    print(\"Hello, world!\") # body\n",
        "\n",
        "func()"
      ]
    },
    {
      "cell_type": "code",
      "execution_count": null,
      "id": "9b63d95d-a5b8-4136-aa45-a0f49e800de3",
      "metadata": {
        "ExecuteTime": {
          "end_time": "2022-09-16T08:48:36.411939Z",
          "start_time": "2022-09-16T08:48:36.406283Z"
        },
        "id": "9b63d95d-a5b8-4136-aa45-a0f49e800de3",
        "outputId": "f6c83da7-8fb3-4021-bbd9-8ece3ae76f4c"
      },
      "outputs": [
        {
          "name": "stdout",
          "output_type": "stream",
          "text": [
            "Help on function func in module __main__:\n",
            "\n",
            "func()\n",
            "    Doc string to be shown in help\n",
            "\n"
          ]
        }
      ],
      "source": [
        "help(func)"
      ]
    },
    {
      "cell_type": "code",
      "execution_count": null,
      "id": "0cfb16af-8a4b-42ee-85c1-4623802b8b80",
      "metadata": {
        "ExecuteTime": {
          "end_time": "2022-09-16T08:49:01.443011Z",
          "start_time": "2022-09-16T08:49:01.435080Z"
        },
        "id": "0cfb16af-8a4b-42ee-85c1-4623802b8b80",
        "outputId": "66544b5a-c20e-4e19-9f5f-ba4139821ee8"
      },
      "outputs": [
        {
          "data": {
            "text/plain": [
              "'\\n    Doc string to be shown in help\\n    '"
            ]
          },
          "execution_count": 3,
          "metadata": {},
          "output_type": "execute_result"
        }
      ],
      "source": [
        "func.__doc__"
      ]
    },
    {
      "cell_type": "markdown",
      "id": "63e400b7-4f0b-47fa-a4bf-bb710c633fbe",
      "metadata": {
        "id": "63e400b7-4f0b-47fa-a4bf-bb710c633fbe"
      },
      "source": [
        "Пример простейшей функции с аргументами"
      ]
    },
    {
      "cell_type": "code",
      "execution_count": 44,
      "id": "848843da-0050-40ad-98c9-ae34a1ea7bb1",
      "metadata": {
        "ExecuteTime": {
          "end_time": "2022-09-16T08:49:48.028879Z",
          "start_time": "2022-09-16T08:49:48.023692Z"
        },
        "colab": {
          "base_uri": "https://localhost:8080/"
        },
        "id": "848843da-0050-40ad-98c9-ae34a1ea7bb1",
        "outputId": "58e1f12b-aa82-465f-e929-6a86ad19e5ee"
      },
      "outputs": [
        {
          "output_type": "stream",
          "name": "stdout",
          "text": [
            "[1, 2, 4, 4]\n"
          ]
        }
      ],
      "source": [
        "def func(a, b):\n",
        "    print(a + b)\n",
        "\n",
        "func([1, 2], [4, 4])"
      ]
    },
    {
      "cell_type": "code",
      "source": [
        "func('d', 3)"
      ],
      "metadata": {
        "colab": {
          "base_uri": "https://localhost:8080/"
        },
        "id": "jyzqu99uARtZ",
        "outputId": "c1af5356-5418-4035-b44e-c7ec51ac7286"
      },
      "id": "jyzqu99uARtZ",
      "execution_count": 41,
      "outputs": [
        {
          "output_type": "stream",
          "name": "stdout",
          "text": [
            "ddd\n"
          ]
        }
      ]
    },
    {
      "cell_type": "markdown",
      "id": "4e617658-c989-4f22-8df1-706c2e4925b2",
      "metadata": {
        "id": "4e617658-c989-4f22-8df1-706c2e4925b2"
      },
      "source": [
        "Аргументы функций могут иметь дефолтные значения"
      ]
    },
    {
      "cell_type": "code",
      "execution_count": 13,
      "id": "ec3fc541-35fb-4e5f-b132-39af640a1db2",
      "metadata": {
        "ExecuteTime": {
          "end_time": "2022-09-16T08:49:54.350693Z",
          "start_time": "2022-09-16T08:49:54.344576Z"
        },
        "id": "ec3fc541-35fb-4e5f-b132-39af640a1db2"
      },
      "outputs": [],
      "source": [
        "def func(a, b='value'):\n",
        "    print(a, b)"
      ]
    },
    {
      "cell_type": "code",
      "execution_count": 14,
      "id": "cd1a9f2d-36b0-4969-a4e3-a588fb97edcd",
      "metadata": {
        "ExecuteTime": {
          "end_time": "2022-09-16T08:50:22.485143Z",
          "start_time": "2022-09-16T08:50:22.478408Z"
        },
        "colab": {
          "base_uri": "https://localhost:8080/"
        },
        "id": "cd1a9f2d-36b0-4969-a4e3-a588fb97edcd",
        "outputId": "923275e9-c28c-4f1d-9da4-3f53ab5b3f63"
      },
      "outputs": [
        {
          "output_type": "stream",
          "name": "stdout",
          "text": [
            "1 value\n"
          ]
        }
      ],
      "source": [
        "func(1)  # value -- дефолтное значение"
      ]
    },
    {
      "cell_type": "markdown",
      "id": "7cf21fe7-8ba1-4b96-9cc5-51d93eb20d11",
      "metadata": {
        "id": "7cf21fe7-8ba1-4b96-9cc5-51d93eb20d11"
      },
      "source": [
        "При вызове функции мы оперируем понятиями `positional argument` и `keyword argument`"
      ]
    },
    {
      "cell_type": "code",
      "execution_count": 15,
      "id": "7e769e67-59ec-4fe7-89eb-e94c300b6f81",
      "metadata": {
        "ExecuteTime": {
          "end_time": "2022-09-16T08:51:02.765869Z",
          "start_time": "2022-09-16T08:51:02.761190Z"
        },
        "colab": {
          "base_uri": "https://localhost:8080/"
        },
        "id": "7e769e67-59ec-4fe7-89eb-e94c300b6f81",
        "outputId": "80a0d58d-ef03-444c-ab9a-deabded3f44c"
      },
      "outputs": [
        {
          "output_type": "stream",
          "name": "stdout",
          "text": [
            "10 another_value\n"
          ]
        }
      ],
      "source": [
        "func(b='another_value', a=10)  # Вызвали с использованием keyword arguments"
      ]
    },
    {
      "cell_type": "code",
      "execution_count": 16,
      "id": "984fc931-8d07-420c-92e5-e95c0291f07f",
      "metadata": {
        "ExecuteTime": {
          "end_time": "2022-09-16T08:50:45.156089Z",
          "start_time": "2022-09-16T08:50:45.149146Z"
        },
        "colab": {
          "base_uri": "https://localhost:8080/"
        },
        "id": "984fc931-8d07-420c-92e5-e95c0291f07f",
        "outputId": "c50ff954-2359-4d27-ce98-9885c2cbcfc0"
      },
      "outputs": [
        {
          "output_type": "stream",
          "name": "stdout",
          "text": [
            "10 another_value\n"
          ]
        }
      ],
      "source": [
        "func(10, 'another_value')  # Вызвали с использованием positional arguments"
      ]
    },
    {
      "cell_type": "markdown",
      "id": "a1c307cb-bbc2-482f-b621-db57f65dcdee",
      "metadata": {
        "id": "a1c307cb-bbc2-482f-b621-db57f65dcdee"
      },
      "source": [
        "В сигнатуре можно явно задать необходимость указания аргументов по имени, * оператор"
      ]
    },
    {
      "cell_type": "code",
      "execution_count": 47,
      "id": "97fcdd98-64cc-43a2-b417-74691054f10b",
      "metadata": {
        "ExecuteTime": {
          "end_time": "2022-09-16T08:51:28.824467Z",
          "start_time": "2022-09-16T08:51:28.817875Z"
        },
        "id": "97fcdd98-64cc-43a2-b417-74691054f10b"
      },
      "outputs": [],
      "source": [
        "def func(a, b='value', *, c='important named arg'):\n",
        "    print(a, b, c)"
      ]
    },
    {
      "cell_type": "code",
      "execution_count": 49,
      "id": "66b8f605-b1ad-4b83-9bcd-3302cee6bda2",
      "metadata": {
        "ExecuteTime": {
          "end_time": "2022-09-16T08:51:32.705025Z",
          "start_time": "2022-09-16T08:51:32.505745Z"
        },
        "colab": {
          "base_uri": "https://localhost:8080/",
          "height": 139
        },
        "id": "66b8f605-b1ad-4b83-9bcd-3302cee6bda2",
        "outputId": "510fa4ec-c147-4c57-a233-7a90cbae1dea"
      },
      "outputs": [
        {
          "output_type": "error",
          "ename": "TypeError",
          "evalue": "func() takes from 1 to 2 positional arguments but 3 were given",
          "traceback": [
            "\u001b[0;31m---------------------------------------------------------------------------\u001b[0m",
            "\u001b[0;31mTypeError\u001b[0m                                 Traceback (most recent call last)",
            "\u001b[0;32m<ipython-input-49-d7884ae6254a>\u001b[0m in \u001b[0;36m<cell line: 1>\u001b[0;34m()\u001b[0m\n\u001b[0;32m----> 1\u001b[0;31m \u001b[0mfunc\u001b[0m\u001b[0;34m(\u001b[0m\u001b[0;36m1\u001b[0m\u001b[0;34m,\u001b[0m \u001b[0;34m'val'\u001b[0m\u001b[0;34m,\u001b[0m \u001b[0;34m'val2'\u001b[0m\u001b[0;34m)\u001b[0m\u001b[0;34m\u001b[0m\u001b[0;34m\u001b[0m\u001b[0m\n\u001b[0m",
            "\u001b[0;31mTypeError\u001b[0m: func() takes from 1 to 2 positional arguments but 3 were given"
          ]
        }
      ],
      "source": [
        "func(1, 'val', 'val2')"
      ]
    },
    {
      "cell_type": "code",
      "execution_count": 50,
      "id": "4827d54c-019e-4c3a-94fa-bbe911bfce0c",
      "metadata": {
        "ExecuteTime": {
          "end_time": "2022-09-16T08:51:58.425731Z",
          "start_time": "2022-09-16T08:51:58.418645Z"
        },
        "colab": {
          "base_uri": "https://localhost:8080/"
        },
        "id": "4827d54c-019e-4c3a-94fa-bbe911bfce0c",
        "outputId": "744db0b9-c8b1-4af2-b8bc-9934f67d7c5a"
      },
      "outputs": [
        {
          "output_type": "stream",
          "name": "stdout",
          "text": [
            "1 val important named arg\n"
          ]
        }
      ],
      "source": [
        "func(1, 'val')"
      ]
    },
    {
      "cell_type": "code",
      "execution_count": null,
      "id": "d01f8b22-dbbf-47cd-b743-8f75771fd88c",
      "metadata": {
        "ExecuteTime": {
          "end_time": "2022-09-16T08:52:05.038486Z",
          "start_time": "2022-09-16T08:52:05.031433Z"
        },
        "id": "d01f8b22-dbbf-47cd-b743-8f75771fd88c",
        "outputId": "bf4cf636-1b8e-451d-e060-ab637a07137f"
      },
      "outputs": [
        {
          "name": "stdout",
          "output_type": "stream",
          "text": [
            "1 val val2\n"
          ]
        }
      ],
      "source": [
        "func(1, 'val', c='val2')"
      ]
    },
    {
      "cell_type": "markdown",
      "source": [
        "/ оператор говорит о том, что все аргументы перед должны быть позиционными, можно использовать вместе с *"
      ],
      "metadata": {
        "id": "t_SidwWAGKOY"
      },
      "id": "t_SidwWAGKOY"
    },
    {
      "cell_type": "code",
      "source": [
        "def func(a, b='value', /, *, c='important named arg'):\n",
        "    print(a, b, c)\n",
        "\n",
        "func(1, 'val', c='val2')"
      ],
      "metadata": {
        "colab": {
          "base_uri": "https://localhost:8080/"
        },
        "id": "0dQ5EzOIGUZ3",
        "outputId": "96d83600-6342-4319-86b9-796e59d7064b"
      },
      "id": "0dQ5EzOIGUZ3",
      "execution_count": 54,
      "outputs": [
        {
          "output_type": "stream",
          "name": "stdout",
          "text": [
            "1 val val2\n"
          ]
        }
      ]
    },
    {
      "cell_type": "code",
      "execution_count": 51,
      "id": "961286a6",
      "metadata": {
        "ExecuteTime": {
          "end_time": "2022-09-16T08:52:34.413925Z",
          "start_time": "2022-09-16T08:52:34.407534Z"
        },
        "id": "961286a6"
      },
      "outputs": [],
      "source": [
        "def func(a, b='value', /, c='important named arg'):\n",
        "    print(a, b, c)"
      ]
    },
    {
      "cell_type": "code",
      "execution_count": 2,
      "id": "983fc897",
      "metadata": {
        "ExecuteTime": {
          "end_time": "2022-09-16T08:52:40.838209Z",
          "start_time": "2022-09-16T08:52:40.831439Z"
        },
        "colab": {
          "base_uri": "https://localhost:8080/"
        },
        "id": "983fc897",
        "outputId": "3b8dd811-1046-4f2d-c376-5ad6c5b532a9"
      },
      "outputs": [
        {
          "output_type": "stream",
          "name": "stdout",
          "text": [
            "1 val val2\n"
          ]
        }
      ],
      "source": [
        "func(1, 'val', 'val2')"
      ]
    },
    {
      "cell_type": "code",
      "execution_count": 3,
      "id": "e1ac012f",
      "metadata": {
        "ExecuteTime": {
          "end_time": "2022-09-16T08:52:59.295780Z",
          "start_time": "2022-09-16T08:52:59.285289Z"
        },
        "colab": {
          "base_uri": "https://localhost:8080/",
          "height": 139
        },
        "id": "e1ac012f",
        "outputId": "e8f14d64-e86a-447a-ca2b-b1f244623337"
      },
      "outputs": [
        {
          "output_type": "error",
          "ename": "TypeError",
          "evalue": "func() got some positional-only arguments passed as keyword arguments: 'b'",
          "traceback": [
            "\u001b[0;31m---------------------------------------------------------------------------\u001b[0m",
            "\u001b[0;31mTypeError\u001b[0m                                 Traceback (most recent call last)",
            "\u001b[0;32m<ipython-input-3-171c581a73fc>\u001b[0m in \u001b[0;36m<cell line: 1>\u001b[0;34m()\u001b[0m\n\u001b[0;32m----> 1\u001b[0;31m \u001b[0mfunc\u001b[0m\u001b[0;34m(\u001b[0m\u001b[0;36m1\u001b[0m\u001b[0;34m,\u001b[0m \u001b[0mb\u001b[0m\u001b[0;34m=\u001b[0m\u001b[0;34m'val'\u001b[0m\u001b[0;34m,\u001b[0m \u001b[0mc\u001b[0m\u001b[0;34m=\u001b[0m\u001b[0;34m'val2'\u001b[0m\u001b[0;34m)\u001b[0m\u001b[0;34m\u001b[0m\u001b[0;34m\u001b[0m\u001b[0m\n\u001b[0m",
            "\u001b[0;31mTypeError\u001b[0m: func() got some positional-only arguments passed as keyword arguments: 'b'"
          ]
        }
      ],
      "source": [
        "func(1, b='val', c='val2')"
      ]
    },
    {
      "cell_type": "markdown",
      "id": "be5e1a11-1320-406d-ac14-20a7dc968ccd",
      "metadata": {
        "id": "be5e1a11-1320-406d-ac14-20a7dc968ccd"
      },
      "source": [
        "### return"
      ]
    },
    {
      "cell_type": "markdown",
      "id": "bdf11541-2b4b-4b5b-9204-4d49ca82ea56",
      "metadata": {
        "id": "bdf11541-2b4b-4b5b-9204-4d49ca82ea56"
      },
      "source": [
        "Функция может возвращать что-то"
      ]
    },
    {
      "cell_type": "code",
      "execution_count": 25,
      "id": "4a6c39ef-25e5-428e-aa44-d609af5464c8",
      "metadata": {
        "ExecuteTime": {
          "end_time": "2022-09-16T08:54:06.376957Z",
          "start_time": "2022-09-16T08:54:06.372058Z"
        },
        "id": "4a6c39ef-25e5-428e-aa44-d609af5464c8"
      },
      "outputs": [],
      "source": [
        "def func(a, b='value', *, c='important named arg'):\n",
        "    return a, b"
      ]
    },
    {
      "cell_type": "code",
      "execution_count": 26,
      "id": "ffec2e2d-f614-4714-b136-00dadc837451",
      "metadata": {
        "ExecuteTime": {
          "end_time": "2022-09-16T08:54:14.406250Z",
          "start_time": "2022-09-16T08:54:14.399981Z"
        },
        "id": "ffec2e2d-f614-4714-b136-00dadc837451"
      },
      "outputs": [],
      "source": [
        "a = 1\n",
        "b = 'some_val'\n",
        "\n",
        "c, d = func(a, b)"
      ]
    },
    {
      "cell_type": "code",
      "execution_count": null,
      "id": "2c81d2cd-3901-419a-8176-cd52540c603c",
      "metadata": {
        "ExecuteTime": {
          "end_time": "2022-09-16T08:54:15.057816Z",
          "start_time": "2022-09-16T08:54:15.052489Z"
        },
        "id": "2c81d2cd-3901-419a-8176-cd52540c603c",
        "outputId": "ffb44877-66dc-4a3e-ecf3-9bdb23cc2225"
      },
      "outputs": [
        {
          "data": {
            "text/plain": [
              "(140181943425328, 140179002586800)"
            ]
          },
          "execution_count": 23,
          "metadata": {},
          "output_type": "execute_result"
        }
      ],
      "source": [
        "id(a), id(b)"
      ]
    },
    {
      "cell_type": "code",
      "execution_count": null,
      "id": "63c524a9-4e05-4d43-96f4-5bf0baf3bb61",
      "metadata": {
        "ExecuteTime": {
          "end_time": "2022-09-16T08:54:15.712120Z",
          "start_time": "2022-09-16T08:54:15.706663Z"
        },
        "id": "63c524a9-4e05-4d43-96f4-5bf0baf3bb61",
        "outputId": "0497a656-552a-40ce-a70c-7c7bec5fb738"
      },
      "outputs": [
        {
          "data": {
            "text/plain": [
              "(140181943425328, 140179002586800)"
            ]
          },
          "execution_count": 24,
          "metadata": {},
          "output_type": "execute_result"
        }
      ],
      "source": [
        "id(c), id(d)"
      ]
    },
    {
      "cell_type": "code",
      "execution_count": 42,
      "id": "78e0fff4-0c41-42bb-ae66-9959e2a56e0e",
      "metadata": {
        "ExecuteTime": {
          "end_time": "2022-09-16T08:56:21.200586Z",
          "start_time": "2022-09-16T08:56:21.194395Z"
        },
        "id": "78e0fff4-0c41-42bb-ae66-9959e2a56e0e"
      },
      "outputs": [],
      "source": [
        "def change_list(a: list):\n",
        "    a.append(10)"
      ]
    },
    {
      "cell_type": "code",
      "execution_count": 41,
      "id": "c9c894f6",
      "metadata": {
        "ExecuteTime": {
          "end_time": "2022-09-16T08:56:21.903975Z",
          "start_time": "2022-09-16T08:56:21.898000Z"
        },
        "colab": {
          "base_uri": "https://localhost:8080/"
        },
        "id": "c9c894f6",
        "outputId": "50e827fa-bf2c-4697-cde5-4f5908fd3698"
      },
      "outputs": [
        {
          "output_type": "execute_result",
          "data": {
            "text/plain": [
              "([1, 2, 3, 10], [1, 2, 3, 10])"
            ]
          },
          "metadata": {},
          "execution_count": 41
        }
      ],
      "source": [
        "b = [1, 2, 3]\n",
        "\n",
        "a = change_list(b)\n",
        "\n",
        "a, b"
      ]
    },
    {
      "cell_type": "markdown",
      "source": [
        "# Лямбды"
      ],
      "metadata": {
        "id": "6RwyEvTbJbmY"
      },
      "id": "6RwyEvTbJbmY"
    },
    {
      "cell_type": "code",
      "source": [
        "b = 5\n",
        "\n",
        "a = lambda x: x*b\n",
        "\n",
        "a(2)"
      ],
      "metadata": {
        "colab": {
          "base_uri": "https://localhost:8080/"
        },
        "id": "IvyGBEYcJgYK",
        "outputId": "ebe9f3f4-be51-4433-9c84-fd8aac4dd457"
      },
      "id": "IvyGBEYcJgYK",
      "execution_count": 52,
      "outputs": [
        {
          "output_type": "execute_result",
          "data": {
            "text/plain": [
              "10"
            ]
          },
          "metadata": {},
          "execution_count": 52
        }
      ]
    },
    {
      "cell_type": "markdown",
      "id": "3684833f-21d3-4d7b-93fe-e8f464bd2bcd",
      "metadata": {
        "id": "3684833f-21d3-4d7b-93fe-e8f464bd2bcd"
      },
      "source": [
        "## Рекурсия"
      ]
    },
    {
      "cell_type": "markdown",
      "id": "306911e8-afd4-4500-8067-26f9f1c4f356",
      "metadata": {
        "id": "306911e8-afd4-4500-8067-26f9f1c4f356"
      },
      "source": [
        "Функция может вызывать саму себя внутри. Классический пример -- вычисление факториала"
      ]
    },
    {
      "cell_type": "code",
      "execution_count": null,
      "id": "30d62324-eba7-4529-ada6-84802a9f719f",
      "metadata": {
        "ExecuteTime": {
          "end_time": "2022-09-16T08:58:00.103136Z",
          "start_time": "2022-09-16T08:58:00.098060Z"
        },
        "id": "30d62324-eba7-4529-ada6-84802a9f719f"
      },
      "outputs": [],
      "source": [
        "def fact(n):\n",
        "    if n == 0:\n",
        "        return 1  # условие выхода из рекурсии\n",
        "    return n * fact(n - 1)"
      ]
    },
    {
      "cell_type": "code",
      "execution_count": null,
      "id": "17d1a091-0c24-48bb-8184-5115e0bdbf8d",
      "metadata": {
        "ExecuteTime": {
          "end_time": "2022-09-16T08:58:01.056515Z",
          "start_time": "2022-09-16T08:58:01.047649Z"
        },
        "id": "17d1a091-0c24-48bb-8184-5115e0bdbf8d",
        "outputId": "acfaa30c-9f85-4b19-c544-ea15e374cd8e"
      },
      "outputs": [
        {
          "data": {
            "text/plain": [
              "24"
            ]
          },
          "execution_count": 29,
          "metadata": {},
          "output_type": "execute_result"
        }
      ],
      "source": [
        "fact(4)"
      ]
    },
    {
      "cell_type": "code",
      "execution_count": null,
      "id": "d0c7479a-4db3-44da-9d34-1cb908344744",
      "metadata": {
        "ExecuteTime": {
          "end_time": "2022-09-16T08:58:02.036779Z",
          "start_time": "2022-09-16T08:58:02.027560Z"
        },
        "id": "d0c7479a-4db3-44da-9d34-1cb908344744",
        "outputId": "9f39ad7c-3ea5-44bb-d42c-80413d72582c"
      },
      "outputs": [
        {
          "data": {
            "text/plain": [
              "24"
            ]
          },
          "execution_count": 30,
          "metadata": {},
          "output_type": "execute_result"
        }
      ],
      "source": [
        "1 * 2 * 3 * 4"
      ]
    },
    {
      "cell_type": "markdown",
      "source": [
        "[pythontutor.com](https://pythontutor.com/visualize.html#code=def%20fact%28n%29%3A%0A%20%20%20%20if%20n%20%3D%3D%201%3A%0A%20%20%20%20%20%20%20%20return%201%0A%20%20%20%20return%20n%20*%20fact%28n-1%29%0A%20%20%20%20%0Aprint%28fact%285%29%29%0A%0Adef%20fact_stack%28n%29%3A%0A%20%20%20%20stack%20%3D%20%5B%5D%0A%20%20%20%20result%20%3D%201%0A%20%20%20%20%0A%20%20%20%20while%20n%20%3E%201%3A%0A%20%20%20%20%20%20%20%20stack.append%28n%29%0A%20%20%20%20%20%20%20%20n%20-%3D%201%0A%20%20%20%20%0A%20%20%20%20while%20stack%3A%0A%20%20%20%20%20%20%20%20result%20*%3D%20stack.pop%28%29%0A%20%20%20%20%0A%20%20%20%20return%20result%0A%0Aprint%28fact_stack%285%29%29&cumulative=false&heapPrimitives=true&mode=edit&origin=opt-frontend.js&py=311&rawInputLstJSON=%5B%5D&textReferences=false) - рекурсию можно представить как стек\n",
        "напоминалка про head и teil рукурсии - но в питоне, к сожалению, нет оптимизации"
      ],
      "metadata": {
        "id": "5oYoFWcQ_Gk3"
      },
      "id": "5oYoFWcQ_Gk3"
    },
    {
      "cell_type": "code",
      "source": [
        "\n",
        "\n",
        "def fact_stack(n):\n",
        "    stack = []\n",
        "    result = 1\n",
        "\n",
        "    while n > 1:\n",
        "        stack.append(n)\n",
        "        n -= 1\n",
        "\n",
        "    while stack:\n",
        "        result *= stack.pop()\n",
        "\n",
        "    return result\n",
        "\n",
        "fact_stack(4)\n"
      ],
      "metadata": {
        "colab": {
          "base_uri": "https://localhost:8080/"
        },
        "id": "8r4r4DAe_ORQ",
        "outputId": "52911267-43da-462b-cf8a-fc6c2e03a266"
      },
      "id": "8r4r4DAe_ORQ",
      "execution_count": 1,
      "outputs": [
        {
          "output_type": "execute_result",
          "data": {
            "text/plain": [
              "24"
            ]
          },
          "metadata": {},
          "execution_count": 1
        }
      ]
    },
    {
      "cell_type": "markdown",
      "source": [
        "Closure - захват переменных из окружения, можно продебажить в pythontutor.com - посмотреть что происходит с х\n",
        "\n",
        "https://en.wikipedia.org/wiki/Closure_(computer_programming)"
      ],
      "metadata": {
        "id": "f4YpiE46AA33"
      },
      "id": "f4YpiE46AA33"
    },
    {
      "cell_type": "code",
      "source": [
        "def f1(x):\n",
        "  def f2():\n",
        "    return x\n",
        "  return f2\n",
        "f1(5)()"
      ],
      "metadata": {
        "colab": {
          "base_uri": "https://localhost:8080/"
        },
        "id": "2ZP4OJEiADRm",
        "outputId": "62aed8ed-afee-45b5-f30c-2fc120031e31"
      },
      "id": "2ZP4OJEiADRm",
      "execution_count": 55,
      "outputs": [
        {
          "output_type": "execute_result",
          "data": {
            "text/plain": [
              "5"
            ]
          },
          "metadata": {},
          "execution_count": 55
        }
      ]
    },
    {
      "cell_type": "markdown",
      "source": [
        "Еще можно управлять видимостью c nonlocal"
      ],
      "metadata": {
        "id": "ySh9gHtlI-K5"
      },
      "id": "ySh9gHtlI-K5"
    },
    {
      "cell_type": "code",
      "source": [
        "def outer_func():\n",
        "    a = 5\n",
        "    def inner_func():\n",
        "        nonlocal a\n",
        "        a = 10\n",
        "    inner_func()\n",
        "    print(a)\n",
        "\n",
        "outer_func()"
      ],
      "metadata": {
        "colab": {
          "base_uri": "https://localhost:8080/"
        },
        "id": "6M0gCRluIps2",
        "outputId": "15447d3b-c07b-424a-eea3-db81fe12309c"
      },
      "id": "6M0gCRluIps2",
      "execution_count": 56,
      "outputs": [
        {
          "output_type": "stream",
          "name": "stdout",
          "text": [
            "10\n"
          ]
        }
      ]
    },
    {
      "cell_type": "markdown",
      "id": "c2a73962-3a9a-4a4f-9bed-5d081feb81b3",
      "metadata": {
        "id": "c2a73962-3a9a-4a4f-9bed-5d081feb81b3"
      },
      "source": [
        "### Variable scope"
      ]
    },
    {
      "cell_type": "code",
      "execution_count": 58,
      "id": "0721073b",
      "metadata": {
        "ExecuteTime": {
          "end_time": "2022-09-16T09:00:52.168698Z",
          "start_time": "2022-09-16T09:00:52.156451Z"
        },
        "colab": {
          "base_uri": "https://localhost:8080/",
          "height": 309
        },
        "id": "0721073b",
        "outputId": "91b0f102-3ef3-4ac9-bbaa-f7656bdf2f37"
      },
      "outputs": [
        {
          "output_type": "stream",
          "name": "stdout",
          "text": [
            "42\n"
          ]
        },
        {
          "output_type": "error",
          "ename": "NameError",
          "evalue": "name 'second_va_' is not defined",
          "traceback": [
            "\u001b[0;31m---------------------------------------------------------------------------\u001b[0m",
            "\u001b[0;31mNameError\u001b[0m                                 Traceback (most recent call last)",
            "\u001b[0;32m<ipython-input-58-072322e174f5>\u001b[0m in \u001b[0;36m<cell line: 5>\u001b[0;34m()\u001b[0m\n\u001b[1;32m      3\u001b[0m     \u001b[0mprint\u001b[0m\u001b[0;34m(\u001b[0m\u001b[0msecond_va_\u001b[0m\u001b[0;34m)\u001b[0m\u001b[0;34m\u001b[0m\u001b[0;34m\u001b[0m\u001b[0m\n\u001b[1;32m      4\u001b[0m \u001b[0;34m\u001b[0m\u001b[0m\n\u001b[0;32m----> 5\u001b[0;31m \u001b[0mfunc_1\u001b[0m\u001b[0;34m(\u001b[0m\u001b[0;36m42\u001b[0m\u001b[0;34m)\u001b[0m\u001b[0;34m\u001b[0m\u001b[0;34m\u001b[0m\u001b[0m\n\u001b[0m",
            "\u001b[0;32m<ipython-input-58-072322e174f5>\u001b[0m in \u001b[0;36mfunc_1\u001b[0;34m(a)\u001b[0m\n\u001b[1;32m      1\u001b[0m \u001b[0;32mdef\u001b[0m \u001b[0mfunc_1\u001b[0m\u001b[0;34m(\u001b[0m\u001b[0ma\u001b[0m\u001b[0;34m)\u001b[0m\u001b[0;34m:\u001b[0m\u001b[0;34m\u001b[0m\u001b[0;34m\u001b[0m\u001b[0m\n\u001b[1;32m      2\u001b[0m     \u001b[0mprint\u001b[0m\u001b[0;34m(\u001b[0m\u001b[0ma\u001b[0m\u001b[0;34m)\u001b[0m\u001b[0;34m\u001b[0m\u001b[0;34m\u001b[0m\u001b[0m\n\u001b[0;32m----> 3\u001b[0;31m     \u001b[0mprint\u001b[0m\u001b[0;34m(\u001b[0m\u001b[0msecond_va_\u001b[0m\u001b[0;34m)\u001b[0m\u001b[0;34m\u001b[0m\u001b[0;34m\u001b[0m\u001b[0m\n\u001b[0m\u001b[1;32m      4\u001b[0m \u001b[0;34m\u001b[0m\u001b[0m\n\u001b[1;32m      5\u001b[0m \u001b[0mfunc_1\u001b[0m\u001b[0;34m(\u001b[0m\u001b[0;36m42\u001b[0m\u001b[0;34m)\u001b[0m\u001b[0;34m\u001b[0m\u001b[0;34m\u001b[0m\u001b[0m\n",
            "\u001b[0;31mNameError\u001b[0m: name 'second_va_' is not defined"
          ]
        }
      ],
      "source": [
        "def func_1(a):\n",
        "    print(a)\n",
        "    print(second_va_)\n",
        "\n",
        "func_1(42)"
      ]
    },
    {
      "cell_type": "markdown",
      "id": "1b5f6bbe-bdd4-41b7-a505-d3823d534f62",
      "metadata": {
        "id": "1b5f6bbe-bdd4-41b7-a505-d3823d534f62"
      },
      "source": [
        "Логичная ошибка"
      ]
    },
    {
      "cell_type": "code",
      "execution_count": 59,
      "id": "057fd931",
      "metadata": {
        "ExecuteTime": {
          "end_time": "2022-09-16T09:00:55.214854Z",
          "start_time": "2022-09-16T09:00:55.207357Z"
        },
        "colab": {
          "base_uri": "https://localhost:8080/"
        },
        "id": "057fd931",
        "outputId": "a970873e-9f89-4087-d6e3-c8a7c3b00650"
      },
      "outputs": [
        {
          "output_type": "stream",
          "name": "stdout",
          "text": [
            "42\n",
            "1337\n"
          ]
        }
      ],
      "source": [
        "second_va_ = 1337\n",
        "\n",
        "func_1(42)"
      ]
    },
    {
      "cell_type": "markdown",
      "id": "d6cf8807-1976-4e6a-8b3f-ad4833508819",
      "metadata": {
        "id": "d6cf8807-1976-4e6a-8b3f-ad4833508819"
      },
      "source": [
        "А что если?"
      ]
    },
    {
      "cell_type": "code",
      "execution_count": 61,
      "id": "0872028b",
      "metadata": {
        "ExecuteTime": {
          "end_time": "2022-09-16T09:02:49.233560Z",
          "start_time": "2022-09-16T09:02:49.216501Z"
        },
        "colab": {
          "base_uri": "https://localhost:8080/",
          "height": 309
        },
        "id": "0872028b",
        "outputId": "2d177ac9-2a2f-4c1a-890e-724e95317950"
      },
      "outputs": [
        {
          "output_type": "stream",
          "name": "stdout",
          "text": [
            "42\n"
          ]
        },
        {
          "output_type": "error",
          "ename": "UnboundLocalError",
          "evalue": "local variable 'b' referenced before assignment",
          "traceback": [
            "\u001b[0;31m---------------------------------------------------------------------------\u001b[0m",
            "\u001b[0;31mUnboundLocalError\u001b[0m                         Traceback (most recent call last)",
            "\u001b[0;32m<ipython-input-61-615d917595a7>\u001b[0m in \u001b[0;36m<cell line: 8>\u001b[0;34m()\u001b[0m\n\u001b[1;32m      6\u001b[0m \u001b[0;34m\u001b[0m\u001b[0m\n\u001b[1;32m      7\u001b[0m \u001b[0;34m\u001b[0m\u001b[0m\n\u001b[0;32m----> 8\u001b[0;31m \u001b[0mfunc_2\u001b[0m\u001b[0;34m(\u001b[0m\u001b[0;36m42\u001b[0m\u001b[0;34m)\u001b[0m\u001b[0;34m\u001b[0m\u001b[0;34m\u001b[0m\u001b[0m\n\u001b[0m",
            "\u001b[0;32m<ipython-input-61-615d917595a7>\u001b[0m in \u001b[0;36mfunc_2\u001b[0;34m(a)\u001b[0m\n\u001b[1;32m      2\u001b[0m \u001b[0;32mdef\u001b[0m \u001b[0mfunc_2\u001b[0m\u001b[0;34m(\u001b[0m\u001b[0ma\u001b[0m\u001b[0;34m)\u001b[0m\u001b[0;34m:\u001b[0m\u001b[0;34m\u001b[0m\u001b[0;34m\u001b[0m\u001b[0m\n\u001b[1;32m      3\u001b[0m     \u001b[0mprint\u001b[0m\u001b[0;34m(\u001b[0m\u001b[0ma\u001b[0m\u001b[0;34m)\u001b[0m\u001b[0;34m\u001b[0m\u001b[0;34m\u001b[0m\u001b[0m\n\u001b[0;32m----> 4\u001b[0;31m     \u001b[0mprint\u001b[0m\u001b[0;34m(\u001b[0m\u001b[0mb\u001b[0m\u001b[0;34m)\u001b[0m\u001b[0;34m\u001b[0m\u001b[0;34m\u001b[0m\u001b[0m\n\u001b[0m\u001b[1;32m      5\u001b[0m     \u001b[0mb\u001b[0m \u001b[0;34m=\u001b[0m \u001b[0;36m9\u001b[0m\u001b[0;34m\u001b[0m\u001b[0;34m\u001b[0m\u001b[0m\n\u001b[1;32m      6\u001b[0m \u001b[0;34m\u001b[0m\u001b[0m\n",
            "\u001b[0;31mUnboundLocalError\u001b[0m: local variable 'b' referenced before assignment"
          ]
        }
      ],
      "source": [
        "b = 6\n",
        "def func_2(a):\n",
        "    print(a)\n",
        "    print(b)\n",
        "    b = 9\n",
        "\n",
        "\n",
        "func_2(42)"
      ]
    },
    {
      "cell_type": "markdown",
      "id": "4c4b4180-9fa6-4cad-8da9-8fe01f4cd055",
      "metadata": {
        "id": "4c4b4180-9fa6-4cad-8da9-8fe01f4cd055"
      },
      "source": [
        "Заметим, что 42 у нас напечаталось! Почему не напечаталось b?"
      ]
    },
    {
      "cell_type": "markdown",
      "id": "007e3291-0959-4971-b6e8-b0db034883f2",
      "metadata": {
        "id": "007e3291-0959-4971-b6e8-b0db034883f2"
      },
      "source": [
        "Потому что в Python предполагается, что локальные переменные объявлены внутри функции. И поскольку объявление b внутри функции есть, мы получаем ошибку."
      ]
    },
    {
      "cell_type": "markdown",
      "id": "9096109f-b69e-4e9e-b211-6a3bfed24170",
      "metadata": {
        "id": "9096109f-b69e-4e9e-b211-6a3bfed24170"
      },
      "source": [
        "Как можно поправить?"
      ]
    },
    {
      "cell_type": "code",
      "execution_count": 13,
      "id": "b7f2fd0d",
      "metadata": {
        "ExecuteTime": {
          "end_time": "2022-09-16T09:03:28.493133Z",
          "start_time": "2022-09-16T09:03:28.488282Z"
        },
        "colab": {
          "base_uri": "https://localhost:8080/"
        },
        "id": "b7f2fd0d",
        "outputId": "02ab24f2-d4fc-4127-eb77-9c7e0b51eafc"
      },
      "outputs": [
        {
          "output_type": "stream",
          "name": "stdout",
          "text": [
            "42\n",
            "6\n"
          ]
        }
      ],
      "source": [
        "b = 6\n",
        "def func_fixed(a):\n",
        "    global b\n",
        "    print(a)\n",
        "    print(b)\n",
        "    b = 9\n",
        "func_fixed(42)"
      ]
    },
    {
      "cell_type": "markdown",
      "id": "165b1a6c-b78c-4bd6-8ed0-b64a07ba7d27",
      "metadata": {
        "id": "165b1a6c-b78c-4bd6-8ed0-b64a07ba7d27"
      },
      "source": [
        "Но be careful!"
      ]
    },
    {
      "cell_type": "code",
      "execution_count": null,
      "id": "32f3be58",
      "metadata": {
        "ExecuteTime": {
          "end_time": "2022-09-16T09:03:46.390190Z",
          "start_time": "2022-09-16T09:03:46.385361Z"
        },
        "id": "32f3be58",
        "outputId": "f73b7e5c-457d-4551-cae5-e6c44c45cee6"
      },
      "outputs": [
        {
          "data": {
            "text/plain": [
              "9"
            ]
          },
          "execution_count": 42,
          "metadata": {},
          "output_type": "execute_result"
        }
      ],
      "source": [
        "b"
      ]
    },
    {
      "cell_type": "markdown",
      "id": "a3e2835b-9a7e-424c-9956-1de442f465da",
      "metadata": {
        "id": "a3e2835b-9a7e-424c-9956-1de442f465da"
      },
      "source": [
        "## Практика"
      ]
    },
    {
      "cell_type": "markdown",
      "id": "12dd88f4-91b4-42e5-8542-06a30cd6e506",
      "metadata": {
        "id": "12dd88f4-91b4-42e5-8542-06a30cd6e506"
      },
      "source": [
        "### Бинпоиск"
      ]
    },
    {
      "cell_type": "markdown",
      "id": "1a32a82c-5abe-4b8f-ba4f-4841e1d7c800",
      "metadata": {
        "id": "1a32a82c-5abe-4b8f-ba4f-4841e1d7c800"
      },
      "source": [
        "Поиск элемента в отсортированном по неубыванию массиве.\n",
        "\n",
        "1. Считаем индекс середины массива\n",
        "2. Если элемент по этому индексу и есть искомый, то возвращаем индекс\n",
        "3. Если средний элемент < искомого, то производим такой же поиск в правой половине массива\n",
        "4. Если средний элемент > искомого, то ищем в левой половине"
      ]
    },
    {
      "cell_type": "code",
      "execution_count": 15,
      "id": "210e04f8-d62e-4eea-afa9-72854a92c694",
      "metadata": {
        "ExecuteTime": {
          "end_time": "2022-09-16T09:20:08.493561Z",
          "start_time": "2022-09-16T09:20:08.488276Z"
        },
        "id": "210e04f8-d62e-4eea-afa9-72854a92c694"
      },
      "outputs": [],
      "source": [
        "def binary_search_recursive(arr, low_ind, high_ind, val):\n",
        "\n",
        "    # base case\n",
        "\n",
        "    print(low_ind, high_ind, arr[low_ind: high_ind])\n",
        "\n",
        "    if high_ind >= low_ind:\n",
        "        mid_ind = (high_ind + low_ind) // 2\n",
        "\n",
        "        if val == arr[mid_ind]:\n",
        "            return mid_ind\n",
        "\n",
        "        elif arr[mid_ind] > val:\n",
        "            return binary_search_recursive(arr, low_ind, mid_ind - 1, val)\n",
        "\n",
        "        else:\n",
        "            return binary_search_recursive(arr, mid_ind + 1, high_ind, val)\n",
        "\n",
        "    else:\n",
        "        return -1"
      ]
    },
    {
      "cell_type": "code",
      "execution_count": 62,
      "id": "dfeaab1c",
      "metadata": {
        "ExecuteTime": {
          "end_time": "2022-09-16T09:20:45.916219Z",
          "start_time": "2022-09-16T09:20:45.910133Z"
        },
        "colab": {
          "base_uri": "https://localhost:8080/"
        },
        "id": "dfeaab1c",
        "outputId": "8d9be8c1-dfa3-46de-e9d7-e97fd52d8ca1"
      },
      "outputs": [
        {
          "output_type": "stream",
          "name": "stdout",
          "text": [
            "0 19 [0, 1, 2, 3, 4, 5, 6, 7, 8, 9, 10, 11, 12, 13, 14, 15, 16, 17, 18]\n",
            "10 19 [10, 11, 12, 13, 14, 15, 16, 17, 18]\n",
            "15 19 [15, 16, 17, 18]\n",
            "18 19 [18]\n",
            "19 19 []\n",
            "20 19 []\n"
          ]
        },
        {
          "output_type": "execute_result",
          "data": {
            "text/plain": [
              "-1"
            ]
          },
          "metadata": {},
          "execution_count": 62
        }
      ],
      "source": [
        "a = list(range(20))\n",
        "\n",
        "binary_search_recursive(a, 0, len(a) - 1, 32)"
      ]
    },
    {
      "cell_type": "code",
      "execution_count": 20,
      "id": "013ee04d-bd61-4a8c-95ea-f2be438cedb0",
      "metadata": {
        "ExecuteTime": {
          "end_time": "2022-09-16T09:24:51.303804Z",
          "start_time": "2022-09-16T09:24:51.298495Z"
        },
        "id": "013ee04d-bd61-4a8c-95ea-f2be438cedb0"
      },
      "outputs": [],
      "source": [
        "def binary_search(arr: list, val: int) -> int:\n",
        "\n",
        "    low_ind = 0\n",
        "    high_ind = len(arr) - 1\n",
        "\n",
        "    while high_ind >= low_ind:\n",
        "        mid_ind = (high_ind + low_ind) // 2\n",
        "\n",
        "        print(low_ind, high_ind, mid_ind, arr[low_ind: high_ind])\n",
        "\n",
        "        if arr[mid_ind] > val:\n",
        "            high_ind = mid_ind - 1\n",
        "\n",
        "        elif arr[mid_ind] < val:\n",
        "            low_ind = mid_ind + 1\n",
        "\n",
        "        else:\n",
        "            return mid_ind\n",
        "\n",
        "    return -1"
      ]
    },
    {
      "cell_type": "code",
      "execution_count": 21,
      "id": "75976f3e",
      "metadata": {
        "ExecuteTime": {
          "end_time": "2022-09-16T09:25:03.865896Z",
          "start_time": "2022-09-16T09:25:03.860395Z"
        },
        "colab": {
          "base_uri": "https://localhost:8080/"
        },
        "id": "75976f3e",
        "outputId": "e481d8e6-0512-44ce-f039-e1d9b6d345ce"
      },
      "outputs": [
        {
          "output_type": "stream",
          "name": "stdout",
          "text": [
            "0 19 9 [0, 1, 2, 3, 4, 5, 6, 7, 8, 9, 10, 11, 12, 13, 14, 15, 16, 17, 18]\n",
            "10 19 14 [10, 11, 12, 13, 14, 15, 16, 17, 18]\n",
            "10 13 11 [10, 11, 12]\n",
            "12 13 12 [12]\n"
          ]
        },
        {
          "output_type": "execute_result",
          "data": {
            "text/plain": [
              "12"
            ]
          },
          "metadata": {},
          "execution_count": 21
        }
      ],
      "source": [
        "binary_search(a, 12)"
      ]
    },
    {
      "cell_type": "markdown",
      "id": "ee6aada6-820c-414e-ba5a-7527e3641d86",
      "metadata": {
        "id": "ee6aada6-820c-414e-ba5a-7527e3641d86"
      },
      "source": [
        "### Bisect"
      ]
    },
    {
      "cell_type": "markdown",
      "id": "e18e3d4d-8dd6-4a9c-a98a-8d957c852cd5",
      "metadata": {
        "id": "e18e3d4d-8dd6-4a9c-a98a-8d957c852cd5"
      },
      "source": [
        "https://docs.python.org/3/library/bisect.html"
      ]
    },
    {
      "cell_type": "markdown",
      "id": "0645ca31-17c7-4fd3-86ac-6c3636057344",
      "metadata": {
        "id": "0645ca31-17c7-4fd3-86ac-6c3636057344"
      },
      "source": [
        "**bisect** -- модуль, в котором реализованы операции по поиску наилучшего идекса вставки элемента в отсортированный массив. Внутри функции реализованы по принципу бинарного поиска по аналогии с алгоритмом, который мы рассмотрели выше"
      ]
    },
    {
      "cell_type": "code",
      "execution_count": 23,
      "id": "eb125c34-c225-41b2-a907-a54c419a1006",
      "metadata": {
        "ExecuteTime": {
          "end_time": "2022-09-16T09:27:24.944045Z",
          "start_time": "2022-09-16T09:27:24.938408Z"
        },
        "id": "eb125c34-c225-41b2-a907-a54c419a1006"
      },
      "outputs": [],
      "source": [
        "from bisect import bisect_left, bisect_right\n",
        "\n",
        "def binary_search_bisect(arr, value):\n",
        "    i = bisect_left(arr, value)\n",
        "    if i != len(arr) and arr[i] == value:\n",
        "        return i\n",
        "    else:\n",
        "        return -1"
      ]
    },
    {
      "cell_type": "code",
      "execution_count": 63,
      "id": "bc582a5e-552e-472c-8dfb-088b962e569e",
      "metadata": {
        "ExecuteTime": {
          "end_time": "2022-09-16T09:27:25.740375Z",
          "start_time": "2022-09-16T09:27:25.734909Z"
        },
        "colab": {
          "base_uri": "https://localhost:8080/"
        },
        "id": "bc582a5e-552e-472c-8dfb-088b962e569e",
        "outputId": "9d4a9bc0-e293-4c27-a854-f646494fc1e1"
      },
      "outputs": [
        {
          "output_type": "stream",
          "name": "stdout",
          "text": [
            "3\n",
            "5\n"
          ]
        }
      ],
      "source": [
        "arr = [1, 3, 4, 5, 5, 8, 9, 12, 15, 29, 45]\n",
        "value = 5\n",
        "\n",
        "print(bisect_left(arr, value)) # непосредственно индекс числа\n",
        "print(bisect_right(arr, value)) # следующий после числа"
      ]
    },
    {
      "cell_type": "markdown",
      "id": "701fd1a3-57f2-4ef6-bb22-76d874b42917",
      "metadata": {
        "id": "701fd1a3-57f2-4ef6-bb22-76d874b42917"
      },
      "source": [
        "Проверим, насколько использование bisect быстрее, чем обычная проверка за линию"
      ]
    },
    {
      "cell_type": "code",
      "execution_count": 30,
      "id": "b3a3d281-7085-4a12-b46c-c953516f9e65",
      "metadata": {
        "ExecuteTime": {
          "end_time": "2022-09-16T09:29:20.902041Z",
          "start_time": "2022-09-16T09:29:20.869375Z"
        },
        "id": "b3a3d281-7085-4a12-b46c-c953516f9e65"
      },
      "outputs": [],
      "source": [
        "size = 10**6\n",
        "large_array = [i for i in range(size)]"
      ]
    },
    {
      "cell_type": "code",
      "execution_count": 31,
      "id": "a74465a6-e5cd-49e3-8b4b-ae4aafee7269",
      "metadata": {
        "ExecuteTime": {
          "end_time": "2022-09-16T09:29:21.356782Z",
          "start_time": "2022-09-16T09:29:21.350787Z"
        },
        "id": "a74465a6-e5cd-49e3-8b4b-ae4aafee7269"
      },
      "outputs": [],
      "source": [
        "value = 900000"
      ]
    },
    {
      "cell_type": "code",
      "execution_count": 32,
      "id": "8548f49d-ca3f-44cb-a506-155ed0293ada",
      "metadata": {
        "ExecuteTime": {
          "end_time": "2022-09-16T09:29:43.591456Z",
          "start_time": "2022-09-16T09:29:22.043936Z"
        },
        "tags": [],
        "colab": {
          "base_uri": "https://localhost:8080/"
        },
        "id": "8548f49d-ca3f-44cb-a506-155ed0293ada",
        "outputId": "cd70701f-32e5-469b-c061-c7c3e9280ec8"
      },
      "outputs": [
        {
          "output_type": "stream",
          "name": "stdout",
          "text": [
            "10.1 ms ± 317 µs per loop (mean ± std. dev. of 7 runs, 1000 loops each)\n"
          ]
        }
      ],
      "source": [
        "%%timeit -n 1000\n",
        "value in large_array"
      ]
    },
    {
      "cell_type": "code",
      "execution_count": 33,
      "id": "e8624dda-fe39-4c2b-9562-e1964291a0d4",
      "metadata": {
        "ExecuteTime": {
          "end_time": "2022-09-16T09:30:19.167118Z",
          "start_time": "2022-09-16T09:29:45.569028Z"
        },
        "tags": [],
        "colab": {
          "base_uri": "https://localhost:8080/"
        },
        "id": "e8624dda-fe39-4c2b-9562-e1964291a0d4",
        "outputId": "604736bb-196f-4fc7-ce95-78a50e27c67e"
      },
      "outputs": [
        {
          "output_type": "stream",
          "name": "stdout",
          "text": [
            "11.6 ms ± 464 µs per loop (mean ± std. dev. of 7 runs, 1000 loops each)\n"
          ]
        }
      ],
      "source": [
        "%%timeit -n 1000\n",
        "large_array.index(value)"
      ]
    },
    {
      "cell_type": "code",
      "execution_count": 34,
      "id": "1018da76-ad5b-4a35-9fdf-f92041448d1f",
      "metadata": {
        "ExecuteTime": {
          "end_time": "2022-09-16T09:30:35.715405Z",
          "start_time": "2022-09-16T09:30:35.708107Z"
        },
        "colab": {
          "base_uri": "https://localhost:8080/"
        },
        "id": "1018da76-ad5b-4a35-9fdf-f92041448d1f",
        "outputId": "26023b5f-bec9-4c63-a935-e9fc1ba4f60e"
      },
      "outputs": [
        {
          "output_type": "stream",
          "name": "stdout",
          "text": [
            "859 ns ± 213 ns per loop (mean ± std. dev. of 7 runs, 1000 loops each)\n"
          ]
        }
      ],
      "source": [
        "%%timeit -n 1000\n",
        "binary_search_bisect(large_array, value)"
      ]
    },
    {
      "cell_type": "markdown",
      "id": "b0c56af2-2238-4992-9316-49e77ca53c8f",
      "metadata": {
        "id": "b0c56af2-2238-4992-9316-49e77ca53c8f"
      },
      "source": [
        "Некоторые примеры из документации"
      ]
    },
    {
      "cell_type": "code",
      "execution_count": null,
      "id": "9ecb288c-c0f3-4a43-ab7d-54aee01c88b8",
      "metadata": {
        "ExecuteTime": {
          "end_time": "2022-09-16T09:30:59.069982Z",
          "start_time": "2022-09-16T09:30:59.064214Z"
        },
        "id": "9ecb288c-c0f3-4a43-ab7d-54aee01c88b8"
      },
      "outputs": [],
      "source": [
        "def index(a, x):\n",
        "    'Locate the leftmost value exactly equal to x'\n",
        "    i = bisect_left(a, x)\n",
        "    if i != len(a) and a[i] == x:\n",
        "        return i\n",
        "    raise ValueError\n",
        "\n",
        "def find_lt(a, x):\n",
        "    'Find rightmost value less than x'\n",
        "    i = bisect_left(a, x)\n",
        "    if i:\n",
        "        return a[i-1]\n",
        "    raise ValueError\n",
        "\n",
        "def find_le(a, x):\n",
        "    'Find rightmost value less than or equal to x'\n",
        "    i = bisect_right(a, x)\n",
        "    if i:\n",
        "        return a[i-1]\n",
        "    raise ValueError\n",
        "\n",
        "def find_gt(a, x):\n",
        "    'Find leftmost value greater than x'\n",
        "    i = bisect_right(a, x)\n",
        "    if i != len(a):\n",
        "        return a[i]\n",
        "    raise ValueError\n",
        "\n",
        "def find_ge(a, x):\n",
        "    'Find leftmost item greater than or equal to x'\n",
        "    i = bisect_left(a, x)\n",
        "    if i != len(a):\n",
        "        return a[i]\n",
        "    raise ValueError"
      ]
    },
    {
      "cell_type": "markdown",
      "id": "31f16ced-227b-460e-b808-ffac4ec1a777",
      "metadata": {
        "id": "31f16ced-227b-460e-b808-ffac4ec1a777"
      },
      "source": [
        "### Наибольший общий делитель"
      ]
    },
    {
      "cell_type": "markdown",
      "id": "4a36dfc5-cbdc-4cc9-8ce6-22a5a8031ba7",
      "metadata": {
        "id": "4a36dfc5-cbdc-4cc9-8ce6-22a5a8031ba7"
      },
      "source": [
        "$a$, $b$ -- неотрицательные числа. Наибольший общий делитель -- наибольшее число, которое является делителем и $a$, и $b$.  Делитель числа так же делитель остатка от деления.\n",
        "\n",
        "Существует алгоритм Евклида, который можно писать так:\n",
        "\n",
        "`gcd(a, b) = a if b = 0`\n",
        "\n",
        "`gcd(a, b) = gcd(b, a mod b) otherwise`"
      ]
    },
    {
      "cell_type": "markdown",
      "id": "95d6f160-c366-4673-a3bb-06605c6e80d3",
      "metadata": {
        "id": "95d6f160-c366-4673-a3bb-06605c6e80d3"
      },
      "source": [
        "**Реализация рекурсией**"
      ]
    },
    {
      "cell_type": "code",
      "execution_count": 35,
      "id": "afe9d3d0-ac34-4db4-9622-6eafe643900d",
      "metadata": {
        "ExecuteTime": {
          "end_time": "2022-09-16T09:34:11.601628Z",
          "start_time": "2022-09-16T09:34:11.596944Z"
        },
        "id": "afe9d3d0-ac34-4db4-9622-6eafe643900d"
      },
      "outputs": [],
      "source": [
        "def gcd_recursive(a, b):\n",
        "  print(a, b)\n",
        "  if b == 0:\n",
        "    return a\n",
        "  else:\n",
        "    return gcd_recursive(b, a % b)"
      ]
    },
    {
      "cell_type": "code",
      "execution_count": 37,
      "id": "2fd1f164",
      "metadata": {
        "ExecuteTime": {
          "end_time": "2022-09-16T09:34:29.577987Z",
          "start_time": "2022-09-16T09:34:29.572819Z"
        },
        "colab": {
          "base_uri": "https://localhost:8080/"
        },
        "id": "2fd1f164",
        "outputId": "a7b2baa6-8edd-44f0-d57d-656d4c066fa8"
      },
      "outputs": [
        {
          "output_type": "stream",
          "name": "stdout",
          "text": [
            "9 27\n",
            "27 9\n",
            "9 0\n"
          ]
        },
        {
          "output_type": "execute_result",
          "data": {
            "text/plain": [
              "9"
            ]
          },
          "metadata": {},
          "execution_count": 37
        }
      ],
      "source": [
        "gcd_recursive(9, 27)"
      ]
    },
    {
      "cell_type": "markdown",
      "id": "17c35c72-c01f-4f20-8095-0beb5d377cf7",
      "metadata": {
        "id": "17c35c72-c01f-4f20-8095-0beb5d377cf7"
      },
      "source": [
        "**Реализация циклом**"
      ]
    },
    {
      "cell_type": "code",
      "execution_count": null,
      "id": "3250149d-8552-4ff0-9838-4bd969275d7d",
      "metadata": {
        "ExecuteTime": {
          "end_time": "2022-09-16T09:39:04.836609Z",
          "start_time": "2022-09-16T09:39:04.830657Z"
        },
        "id": "3250149d-8552-4ff0-9838-4bd969275d7d"
      },
      "outputs": [],
      "source": [
        "def gcd(a, b):\n",
        "    while b!=0:\n",
        "      a, b = b, a % b\n",
        "    print(a)"
      ]
    },
    {
      "cell_type": "markdown",
      "id": "e8d75785-3e75-4751-a640-2e73199a2423",
      "metadata": {
        "id": "e8d75785-3e75-4751-a640-2e73199a2423"
      },
      "source": [
        "### Проверка на палиндром"
      ]
    },
    {
      "cell_type": "markdown",
      "id": "1209f70a-9a62-40bc-b4e6-e86411c58976",
      "metadata": {
        "id": "1209f70a-9a62-40bc-b4e6-e86411c58976"
      },
      "source": [
        "A phrase is a palindrome if, after converting all uppercase letters into lowercase letters and removing all non-alphanumeric characters, it reads the same forward and backward. Alphanumeric characters include letters and numbers.\n",
        "\n",
        "Given a string s, return true if it is a palindrome, or false otherwise."
      ]
    },
    {
      "cell_type": "markdown",
      "id": "f2b6f3b0-49b2-4b90-81e5-7502a680adc4",
      "metadata": {
        "id": "f2b6f3b0-49b2-4b90-81e5-7502a680adc4"
      },
      "source": [
        "Напишите функцию проверки, которая принимает в качестве параметра Iterable из предложений и возвращает результат в формате:\n",
        "`[index of example: is palindrome,...]`"
      ]
    },
    {
      "cell_type": "code",
      "execution_count": null,
      "id": "f1e2bd65-772d-402a-9ee9-96cc8480d594",
      "metadata": {
        "id": "f1e2bd65-772d-402a-9ee9-96cc8480d594"
      },
      "outputs": [],
      "source": [
        "tests = [\n",
        "    'A nut for a jar of tuna.',\n",
        "    'Borrow or rob?',\n",
        "    'Was it a car or a cat I saw?',\n",
        "    '''Dennis, Nell, Edna, Leon, Nedra, Anita,\n",
        "    Rolf, Nora, Alice, Carol, Leo, Jane, Reed,\n",
        "    Dena, Dale, Basil, Rae, Penny, Lana, Dave,\n",
        "    Denny, Lena, Ida, Bernadette, Ben, Ray, Lila,\n",
        "    Nina, Jo, Ira, Mara, Sara, Mario, Jan, Ina,\n",
        "    Lily, Arne, Bette, Dan, Reba, Diane, Lynn,\n",
        "    Ed, Eva, Dana, Lynne, Pearl, Isabel, Ada, Ned,\n",
        "    Dee, Rena, Joel, Lora, Cecil, Aaron, Flora,\n",
        "    Tina, Arden, Noel, and Ellen sinned.''',\n",
        "    'Murder for a jar of red rum.'\n",
        "]"
      ]
    },
    {
      "cell_type": "code",
      "execution_count": null,
      "id": "ca495af9-37b7-409c-8cd4-5d146de4bbbd",
      "metadata": {
        "ExecuteTime": {
          "end_time": "2022-09-16T09:40:27.577414Z",
          "start_time": "2022-09-16T09:40:27.571665Z"
        },
        "id": "ca495af9-37b7-409c-8cd4-5d146de4bbbd"
      },
      "outputs": [],
      "source": [
        "from typing import Callable, Iterable\n",
        "\n",
        "\n",
        "def is_palindrome(s: str) -> bool:\n",
        "    # your code\n",
        "    pass\n",
        "\n",
        "def check_tests(pal_func: Callable, tests: Iterable[str]) -> list:\n",
        "    # your code\n",
        "    pass"
      ]
    },
    {
      "cell_type": "code",
      "execution_count": null,
      "id": "e4aa2ab2-a26b-4542-a43a-1be783acb52e",
      "metadata": {
        "id": "e4aa2ab2-a26b-4542-a43a-1be783acb52e",
        "outputId": "6fc70026-c465-4b56-f53d-49333af80238"
      },
      "outputs": [
        {
          "name": "stdout",
          "output_type": "stream",
          "text": [
            "13.3 µs ± 3.89 µs per loop (mean ± std. dev. of 7 runs, 1,000 loops each)\n"
          ]
        }
      ],
      "source": [
        "%%timeit -n 1000\n",
        "\n",
        "''.join([letter for letter in tests[3].lower() if letter.isalpha()])"
      ]
    },
    {
      "cell_type": "code",
      "execution_count": null,
      "id": "35d0762d-d914-477d-b246-4ee4e3477170",
      "metadata": {
        "id": "35d0762d-d914-477d-b246-4ee4e3477170",
        "outputId": "b706a52e-88c8-4cb6-88d2-76ba54a1d032"
      },
      "outputs": [
        {
          "name": "stdout",
          "output_type": "stream",
          "text": [
            "8.32 µs ± 3.08 µs per loop (mean ± std. dev. of 7 runs, 1,000 loops each)\n"
          ]
        }
      ],
      "source": [
        "%%timeit -n 1000\n",
        "\n",
        "''.join(filter(str.isalpha, tests[3].lower()))"
      ]
    },
    {
      "cell_type": "markdown",
      "id": "f13f000a-3ffe-49ba-a236-b9bb5ec96f9d",
      "metadata": {
        "id": "f13f000a-3ffe-49ba-a236-b9bb5ec96f9d"
      },
      "source": [
        "## Higher order functions"
      ]
    },
    {
      "cell_type": "markdown",
      "id": "224f84a2-7830-4df4-aeee-53fd7b0a2cb7",
      "metadata": {
        "id": "224f84a2-7830-4df4-aeee-53fd7b0a2cb7"
      },
      "source": [
        "Что-то там было про функции в качестве аргументов и возвращаемых значений..."
      ]
    },
    {
      "cell_type": "markdown",
      "id": "fbc32b92-36fb-41fb-96d2-cad97701b8b8",
      "metadata": {
        "id": "fbc32b92-36fb-41fb-96d2-cad97701b8b8"
      },
      "source": [
        "Рассмотрим пример на списке, у которого элементы имеют разные типы"
      ]
    },
    {
      "cell_type": "code",
      "execution_count": 7,
      "id": "0051b79e-f5d6-4b81-9ee3-cfe6a0bf5db0",
      "metadata": {
        "colab": {
          "base_uri": "https://localhost:8080/"
        },
        "id": "0051b79e-f5d6-4b81-9ee3-cfe6a0bf5db0",
        "outputId": "57ec1bca-f1a1-4285-cf97-57589e40ada6"
      },
      "outputs": [
        {
          "output_type": "execute_result",
          "data": {
            "text/plain": [
              "[1, [2.0], '3 ', (4, 5), 8.0]"
            ]
          },
          "metadata": {},
          "execution_count": 7
        }
      ],
      "source": [
        "sample_list = [1, [2.], '3 ', (4, 5), 8.]\n",
        "sample_list"
      ]
    },
    {
      "cell_type": "markdown",
      "id": "3920eecd-6a15-4754-b9fe-473080c330bf",
      "metadata": {
        "id": "3920eecd-6a15-4754-b9fe-473080c330bf"
      },
      "source": [
        "Как бы нам его посортировать..."
      ]
    },
    {
      "cell_type": "code",
      "execution_count": 65,
      "id": "3a30403b-56b7-46e8-9d9c-97a0fdb3fef5",
      "metadata": {
        "colab": {
          "base_uri": "https://localhost:8080/",
          "height": 139
        },
        "id": "3a30403b-56b7-46e8-9d9c-97a0fdb3fef5",
        "outputId": "fbc0ce6f-4aaf-4aa6-f225-54c66028f497"
      },
      "outputs": [
        {
          "output_type": "error",
          "ename": "TypeError",
          "evalue": "'<' not supported between instances of 'list' and 'int'",
          "traceback": [
            "\u001b[0;31m---------------------------------------------------------------------------\u001b[0m",
            "\u001b[0;31mTypeError\u001b[0m                                 Traceback (most recent call last)",
            "\u001b[0;32m<ipython-input-65-71cc475abac2>\u001b[0m in \u001b[0;36m<cell line: 1>\u001b[0;34m()\u001b[0m\n\u001b[0;32m----> 1\u001b[0;31m \u001b[0msorted\u001b[0m\u001b[0;34m(\u001b[0m\u001b[0msample_list\u001b[0m\u001b[0;34m)\u001b[0m\u001b[0;34m\u001b[0m\u001b[0;34m\u001b[0m\u001b[0m\n\u001b[0m",
            "\u001b[0;31mTypeError\u001b[0m: '<' not supported between instances of 'list' and 'int'"
          ]
        }
      ],
      "source": [
        "sorted(sample_list)"
      ]
    },
    {
      "cell_type": "markdown",
      "id": "ba17ddc0-ce17-420b-af0d-c3e80260c3d9",
      "metadata": {
        "id": "ba17ddc0-ce17-420b-af0d-c3e80260c3d9"
      },
      "source": [
        "Не понятно, как сравнивать разные типы. Но теперь-то мы можем создавать свои функции, давайте исправим. Какие варианты вы можете предложить? Давайте рассуждать? (hint:  isinstance проверяет тип переменной)"
      ]
    },
    {
      "cell_type": "code",
      "execution_count": 12,
      "id": "76d7da92-f01a-41b2-b35b-6829679185b4",
      "metadata": {
        "colab": {
          "base_uri": "https://localhost:8080/"
        },
        "id": "76d7da92-f01a-41b2-b35b-6829679185b4",
        "outputId": "0715df66-2c1c-41d6-b830-31161fede05a"
      },
      "outputs": [
        {
          "output_type": "stream",
          "name": "stdout",
          "text": [
            "['1', '[2.0]', '3 ', '(4, 5)', '8.0']\n"
          ]
        },
        {
          "output_type": "execute_result",
          "data": {
            "text/plain": [
              "[(4, 5), 1, '3 ', 8.0, [2.0]]"
            ]
          },
          "metadata": {},
          "execution_count": 12
        }
      ],
      "source": [
        "def my_key(element):\n",
        "    return str(element) # можно еще проше\n",
        "\n",
        "print(list(map(my_key, sample_list)))\n",
        "sorted(sample_list, key=my_key)"
      ]
    },
    {
      "cell_type": "markdown",
      "id": "0d534f65-d4a5-4531-af78-85cd64a0e5a9",
      "metadata": {
        "id": "0d534f65-d4a5-4531-af78-85cd64a0e5a9"
      },
      "source": [
        "Еще один пример -- функция **map**"
      ]
    },
    {
      "cell_type": "code",
      "execution_count": 11,
      "id": "9182aa23-9ad7-464a-b6f7-033b7de08de9",
      "metadata": {
        "colab": {
          "base_uri": "https://localhost:8080/"
        },
        "id": "9182aa23-9ad7-464a-b6f7-033b7de08de9",
        "outputId": "4f1f8a2d-a133-4579-83e3-820ee157e1a6"
      },
      "outputs": [
        {
          "output_type": "execute_result",
          "data": {
            "text/plain": [
              "[2, 3, 5]"
            ]
          },
          "metadata": {},
          "execution_count": 11
        }
      ],
      "source": [
        "int_texts = [1, 2, 4]\n",
        "_list = [a for a in map(lambda x : x+1, int_texts)]\n",
        "_list"
      ]
    },
    {
      "cell_type": "markdown",
      "id": "d2ea2437-0d0a-4d0f-b668-b947460e969a",
      "metadata": {
        "id": "d2ea2437-0d0a-4d0f-b668-b947460e969a"
      },
      "source": [
        "Возвращает объект, по которому нужно проитерироваться"
      ]
    },
    {
      "cell_type": "code",
      "execution_count": 13,
      "id": "c6f6a504-8924-49af-8276-49d1e0468da5",
      "metadata": {
        "colab": {
          "base_uri": "https://localhost:8080/"
        },
        "id": "c6f6a504-8924-49af-8276-49d1e0468da5",
        "outputId": "92e7bd5c-07d3-4233-9c2b-e92f736a9a84"
      },
      "outputs": [
        {
          "output_type": "stream",
          "name": "stdout",
          "text": [
            "1\n",
            "2\n",
            "4\n"
          ]
        }
      ],
      "source": [
        "for elem in map(int, int_texts):\n",
        "    print(elem)"
      ]
    },
    {
      "cell_type": "code",
      "source": [
        "int_texts = '377'"
      ],
      "metadata": {
        "id": "Tw38BYlS6GVN"
      },
      "id": "Tw38BYlS6GVN",
      "execution_count": 14,
      "outputs": []
    },
    {
      "cell_type": "markdown",
      "source": [
        "Помог перезапуск окружения colab. (Error : 'list' object is not callable)"
      ],
      "metadata": {
        "id": "S7-zIPw18nvK"
      },
      "id": "S7-zIPw18nvK"
    },
    {
      "cell_type": "code",
      "execution_count": 15,
      "id": "b5016ed4-ea81-4299-b739-af464dfddfad",
      "metadata": {
        "colab": {
          "base_uri": "https://localhost:8080/"
        },
        "id": "b5016ed4-ea81-4299-b739-af464dfddfad",
        "outputId": "7da3f15f-e4bf-4863-df52-1bf34053e197"
      },
      "outputs": [
        {
          "output_type": "execute_result",
          "data": {
            "text/plain": [
              "[3, 7, 7]"
            ]
          },
          "metadata": {},
          "execution_count": 15
        }
      ],
      "source": [
        "list(map(int, int_texts))"
      ]
    },
    {
      "cell_type": "markdown",
      "id": "c22ae811-b432-4d33-8dd1-7ae1f831d65f",
      "metadata": {
        "id": "c22ae811-b432-4d33-8dd1-7ae1f831d65f"
      },
      "source": [
        "## Annotations"
      ]
    },
    {
      "cell_type": "markdown",
      "id": "57fe11c1-3c36-45e4-83e2-20a90200571c",
      "metadata": {
        "id": "57fe11c1-3c36-45e4-83e2-20a90200571c"
      },
      "source": [
        "В Python можно назначить метаданные для аргументов и выходного значения функции"
      ]
    },
    {
      "cell_type": "code",
      "execution_count": 80,
      "id": "f20b6cee",
      "metadata": {
        "id": "f20b6cee"
      },
      "outputs": [],
      "source": [
        "def test_str(s: str, max_len: int = 10, name: str = 'test') -> int:\n",
        "    some_var = 0\n",
        "    other_var = '10'\n",
        "    return s[:max_len]"
      ]
    },
    {
      "cell_type": "markdown",
      "id": "47e27cea-1f3b-48af-a83d-5a445354466c",
      "metadata": {
        "id": "47e27cea-1f3b-48af-a83d-5a445354466c"
      },
      "source": [
        "Аннотации могут быть любым выражением. Они игнорируются во время выполнения программы. Доступ можно получить через поле `__annotations__`"
      ]
    },
    {
      "cell_type": "code",
      "execution_count": 81,
      "id": "bc703b26",
      "metadata": {
        "colab": {
          "base_uri": "https://localhost:8080/"
        },
        "id": "bc703b26",
        "outputId": "a369491b-6590-4d1a-b8b5-e73049036f72"
      },
      "outputs": [
        {
          "output_type": "execute_result",
          "data": {
            "text/plain": [
              "{'s': str, 'max_len': int, 'name': str, 'return': int}"
            ]
          },
          "metadata": {},
          "execution_count": 81
        }
      ],
      "source": [
        "test_str.__annotations__"
      ]
    },
    {
      "cell_type": "markdown",
      "id": "b18852fa-1e53-4f94-a0d2-6818f1e53d09",
      "metadata": {
        "id": "b18852fa-1e53-4f94-a0d2-6818f1e53d09"
      },
      "source": [
        "Эту информацию могут использовать декораторы, ide или библиотеки (например, для проверки синтаксиса)"
      ]
    },
    {
      "cell_type": "code",
      "execution_count": 83,
      "id": "9eee2347",
      "metadata": {
        "id": "9eee2347"
      },
      "outputs": [],
      "source": [
        "from inspect import signature"
      ]
    },
    {
      "cell_type": "code",
      "execution_count": 84,
      "id": "f5f6044d",
      "metadata": {
        "id": "f5f6044d"
      },
      "outputs": [],
      "source": [
        "sig = signature(test_str)"
      ]
    },
    {
      "cell_type": "code",
      "execution_count": 85,
      "id": "534ccf30",
      "metadata": {
        "colab": {
          "base_uri": "https://localhost:8080/"
        },
        "id": "534ccf30",
        "outputId": "a8e90098-6c58-43ea-86c8-231cc7ff2708"
      },
      "outputs": [
        {
          "output_type": "execute_result",
          "data": {
            "text/plain": [
              "int"
            ]
          },
          "metadata": {},
          "execution_count": 85
        }
      ],
      "source": [
        "sig.return_annotation"
      ]
    },
    {
      "cell_type": "code",
      "execution_count": null,
      "id": "ffc2ddd5",
      "metadata": {
        "id": "ffc2ddd5"
      },
      "outputs": [],
      "source": [
        "sig.parameters.values()"
      ]
    }
  ],
  "metadata": {
    "kernelspec": {
      "display_name": "base-env",
      "language": "python",
      "name": "base-env"
    },
    "language_info": {
      "codemirror_mode": {
        "name": "ipython",
        "version": 3
      },
      "file_extension": ".py",
      "mimetype": "text/x-python",
      "name": "python",
      "nbconvert_exporter": "python",
      "pygments_lexer": "ipython3",
      "version": "3.9.12"
    },
    "toc": {
      "base_numbering": 1,
      "nav_menu": {},
      "number_sections": true,
      "sideBar": true,
      "skip_h1_title": false,
      "title_cell": "Table of Contents",
      "title_sidebar": "Contents",
      "toc_cell": false,
      "toc_position": {},
      "toc_section_display": true,
      "toc_window_display": true
    },
    "varInspector": {
      "cols": {
        "lenName": 16,
        "lenType": 16,
        "lenVar": 40
      },
      "kernels_config": {
        "python": {
          "delete_cmd_postfix": "",
          "delete_cmd_prefix": "del ",
          "library": "var_list.py",
          "varRefreshCmd": "print(var_dic_list())"
        },
        "r": {
          "delete_cmd_postfix": ") ",
          "delete_cmd_prefix": "rm(",
          "library": "var_list.r",
          "varRefreshCmd": "cat(var_dic_list()) "
        }
      },
      "types_to_exclude": [
        "module",
        "function",
        "builtin_function_or_method",
        "instance",
        "_Feature"
      ],
      "window_display": false
    },
    "colab": {
      "provenance": []
    }
  },
  "nbformat": 4,
  "nbformat_minor": 5
}