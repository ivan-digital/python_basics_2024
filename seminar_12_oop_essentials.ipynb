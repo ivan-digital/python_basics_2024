{
  "cells": [
    {
      "cell_type": "markdown",
      "id": "c0b8a999",
      "metadata": {
        "id": "c0b8a999"
      },
      "source": [
        "\n",
        "# Семинар 12 — Основы ООП (Python)\n",
        "\n",
        "**Предпосылки:** базовый Python (функции, списки, словари)  \n",
        "**Цели обучения:**\n",
        "1. Понимать классы/объекты; использовать атрибуты и методы  \n",
        "2. Различать данные экземпляра и класса; применять `@classmethod` / `@staticmethod`  \n",
        "3. Инкапсулировать состояние через свойства (`@property`)  \n",
        "4. Моделировать связи: **композиция** vs **наследование**  \n",
        "5. Применять полиморфизм и «утиная типизация»  \n",
        "6. Освоить 2 практичных паттерна (фабрика, стратегия)\n"
      ]
    },
    {
      "cell_type": "markdown",
      "id": "1febb68b",
      "metadata": {
        "id": "1febb68b"
      },
      "source": [
        "\n",
        "## 1) Разминка\n",
        "**Подумайте/обсудите:**  \n",
        "- В чём разница между *классом* и *экземпляром*?  \n",
        "- Когда предпочтительнее **композиция**, а не **наследование**?  \n",
        "- Что обозначает `self`?\n"
      ]
    },
    {
      "cell_type": "code",
      "execution_count": 1,
      "id": "b5eb3299",
      "metadata": {
        "colab": {
          "base_uri": "https://localhost:8080/"
        },
        "id": "b5eb3299",
        "outputId": "2989d46f-485a-4bbf-e335-3749fc2445d0"
      },
      "outputs": [
        {
          "output_type": "stream",
          "name": "stdout",
          "text": [
            "class_vs_instance: Класс — это чертёж (тип); экземпляр — конкретный объект этого типа.\n",
            "prefer_composition_when: Когда нужна связь 'имеет' (has‑a) и хочется слабой связанности вместо наследования.\n",
            "self: Текущий экземпляр, для которого вызывается метод (передаётся неявно).\n"
          ]
        }
      ],
      "source": [
        "\n",
        "# Быстрая самопроверка\n",
        "answers = {\n",
        "    \"class_vs_instance\": \"Класс — это чертёж (тип); экземпляр — конкретный объект этого типа.\",\n",
        "    \"prefer_composition_when\": \"Когда нужна связь 'имеет' (has‑a) и хочется слабой связанности вместо наследования.\",\n",
        "    \"self\": \"Текущий экземпляр, для которого вызывается метод (передаётся неявно).\"\n",
        "}\n",
        "for k, v in answers.items():\n",
        "    print(f\"{k}: {v}\")\n"
      ]
    },
    {
      "cell_type": "markdown",
      "id": "b9c1eae0",
      "metadata": {
        "id": "b9c1eae0"
      },
      "source": [
        "\n",
        "## 2) База: атрибуты и методы\n",
        "Ключевые элементы: `class`, `__init__`, атрибуты экземпляра, `self`, `__repr__`.\n"
      ]
    },
    {
      "cell_type": "code",
      "execution_count": 23,
      "id": "03a6cd2b",
      "metadata": {
        "colab": {
          "base_uri": "https://localhost:8080/"
        },
        "id": "03a6cd2b",
        "outputId": "6c1ea6e0-f4af-4a03-b42c-d7ff1a603f83"
      },
      "outputs": [
        {
          "output_type": "stream",
          "name": "stdout",
          "text": [
            "Ожидаемая ошибка: недостаточно средств\n",
            "BankAccount('Алиса', balance=150)\n"
          ]
        }
      ],
      "source": [
        "class BankAccount:\n",
        "    \"\"\"Простой банковский счёт: пополнение/снятие и печать состояния.\"\"\"\n",
        "    def __init__(self, owner, balance=0):\n",
        "        self.owner = owner\n",
        "        self.balance = balance\n",
        "\n",
        "    def deposit(self, amount):\n",
        "        if amount < 0:\n",
        "            raise ValueError(\"сумма должна быть >= 0\")\n",
        "        self.balance += amount\n",
        "\n",
        "    def withdraw(self, amount):\n",
        "        if amount < 0:\n",
        "            raise ValueError(\"сумма должна быть >= 0\")\n",
        "        if amount > self.balance:\n",
        "            raise ValueError(\"недостаточно средств\")\n",
        "        self.balance -= amount\n",
        "\n",
        "    def __repr__(self):\n",
        "        return f\"BankAccount({self.owner!r}, balance={self.balance})\"\n",
        "\n",
        "# Демонстрация\n",
        "alice = BankAccount(\"Алиса\", 100)\n",
        "alice.deposit(50)\n",
        "try:\n",
        "    alice.withdraw(200)\n",
        "except ValueError as e:\n",
        "    print(\"Ожидаемая ошибка:\", e)\n",
        "print(alice)\n"
      ]
    },
    {
      "cell_type": "markdown",
      "source": [
        "https://www.w3schools.com/python/ref_func_setattr.asp"
      ],
      "metadata": {
        "id": "R7hHu1q-qo3x"
      },
      "id": "R7hHu1q-qo3x"
    },
    {
      "cell_type": "code",
      "execution_count": 25,
      "id": "8c1046ef",
      "metadata": {
        "colab": {
          "base_uri": "https://localhost:8080/"
        },
        "id": "8c1046ef",
        "outputId": "878989b1-a29c-4100-9ea4-3c307ce481d7"
      },
      "outputs": [
        {
          "output_type": "stream",
          "name": "stdout",
          "text": [
            "✓ transfer_to работает\n"
          ]
        }
      ],
      "source": [
        "\n",
        "# УПРАЖНЕНИЕ: Реализуйте transfer_to(self, other, amount)\n",
        "# - Сначала списать со своего счёта, затем зачислить на другой\n",
        "# - Бросать ValueError, если other не BankAccount\n",
        "# - При любой ошибке не менять балансы (простая \"атомарность\")\n",
        "\n",
        "def _add_transfer_to():\n",
        "    def transfer_to(self, other, amount):\n",
        "        if not isinstance(other, BankAccount):\n",
        "            raise ValueError(\"other должен быть BankAccount\")\n",
        "        src_balance, dst_balance = self.balance, other.balance\n",
        "        try:\n",
        "            self.withdraw(amount)\n",
        "            other.deposit(amount)\n",
        "        except Exception:\n",
        "            self.balance, other.balance = src_balance, dst_balance\n",
        "            raise\n",
        "    setattr(BankAccount, \"transfer_to\", transfer_to)\n",
        "\n",
        "_add_transfer_to()\n",
        "\n",
        "# Тесты\n",
        "a = BankAccount(\"A\", 100)\n",
        "b = BankAccount(\"B\", 10)\n",
        "a.transfer_to(b, 40)\n",
        "assert a.balance == 60 and b.balance == 50, \"перевод должен переносить средства\"\n",
        "\n",
        "try:\n",
        "    a.transfer_to(\"не счёт\", 10)\n",
        "    assert False, \"должно было быть исключение\"\n",
        "except ValueError:\n",
        "    pass\n",
        "print(\"✓ transfer_to работает\")\n"
      ]
    },
    {
      "cell_type": "markdown",
      "id": "ebcaba31",
      "metadata": {
        "id": "ebcaba31"
      },
      "source": [
        "\n",
        "## 3) Данные класса vs экземпляра (+ static/class methods)\n",
        "**Данные класса** общие для всех экземпляров. `@classmethod` работает с классом, `@staticmethod` — утилита без `self/cls`.\n"
      ]
    },
    {
      "cell_type": "code",
      "source": [
        "class Ticket:\n",
        "    #_next_id = 1  # атрибут класса\n",
        "\n",
        "    def __init__(self):\n",
        "        self.id = Ticket._next_id\n",
        "        Ticket._next_id += 1\n",
        "\n",
        "    @classmethod\n",
        "    def reset_ids(_):\n",
        "        Ticket._next_id = 1\n",
        "\n",
        "\n",
        "# Демонстрация\n",
        "Ticket.reset_ids()\n",
        "t1, t2 = Ticket(), Ticket()\n",
        "assert t1.id == 1 and t2.id == 2, \"идентификаторы должны увеличиваться\"\n",
        "t3 = Ticket()\n",
        "assert t3.id == 3, \"идентификаторы должны увеличиваться\"\n",
        "Ticket.reset_ids()\n",
        "t4 = Ticket()\n",
        "assert t4.id == 1, \"после reset_ids() снова 1\"\n",
        "print(\"✓ Ticket: классовые/статические методы ок\")\n"
      ],
      "metadata": {
        "colab": {
          "base_uri": "https://localhost:8080/"
        },
        "id": "rfc1GA-osno3",
        "outputId": "1d8aeb31-ce3d-4436-9c81-80d3d691f0a9"
      },
      "id": "rfc1GA-osno3",
      "execution_count": 40,
      "outputs": [
        {
          "output_type": "stream",
          "name": "stdout",
          "text": [
            "✓ Ticket: классовые/статические методы ок\n"
          ]
        }
      ]
    },
    {
      "cell_type": "code",
      "execution_count": 41,
      "id": "42c35b20",
      "metadata": {
        "colab": {
          "base_uri": "https://localhost:8080/"
        },
        "id": "42c35b20",
        "outputId": "01e9b69d-4b0e-4014-a6f9-0a242e48cdcd"
      },
      "outputs": [
        {
          "output_type": "stream",
          "name": "stdout",
          "text": [
            "✓ Ticket: классовые/статические методы ок\n"
          ]
        }
      ],
      "source": [
        "\n",
        "class Ticket:\n",
        "    _next_id = 1  # атрибут класса\n",
        "\n",
        "    def __init__(self, title):\n",
        "        if not self.is_valid_title(title):\n",
        "            raise ValueError(\"заголовок не должен быть пустым\")\n",
        "        self.id = Ticket._next_id\n",
        "        Ticket._next_id += 1\n",
        "        self.title = title\n",
        "\n",
        "    @classmethod\n",
        "    def reset_ids(self):\n",
        "        self._next_id = 1\n",
        "\n",
        "    @staticmethod\n",
        "    def is_valid_title(t):\n",
        "        return bool(t and str(t).strip())\n",
        "\n",
        "# Демонстрация\n",
        "Ticket.reset_ids()\n",
        "t1, t2 = Ticket(\"Баг логина\"), Ticket(\"Добавить поиск\")\n",
        "assert t1.id == 1 and t2.id == 2, \"идентификаторы должны увеличиваться\"\n",
        "t3 = Ticket(\"Снова первый\")\n",
        "assert t3.id == 3, \"идентификаторы должны увеличиваться\"\n",
        "Ticket.reset_ids()\n",
        "t4 = Ticket(\"Снова первый\")\n",
        "assert t4.id == 1, \"после reset_ids() снова 1\"\n",
        "print(\"✓ Ticket: классовые/статические методы ок\")\n"
      ]
    },
    {
      "cell_type": "markdown",
      "id": "21831a52",
      "metadata": {
        "id": "21831a52"
      },
      "source": [
        "\n",
        "## 4) Инкапсуляция со свойствами (`@property`)\n",
        "Проверяйте и вычисляйте значения через `@property` и сеттеры.\n"
      ]
    },
    {
      "cell_type": "code",
      "source": [
        "class Value:\n",
        "    def __init__(self, x):\n",
        "        self.value = x\n",
        "\n",
        "    @property\n",
        "    def value(self):\n",
        "        print(\"getter value\")\n",
        "        return self._value\n",
        "\n",
        "    @value.setter\n",
        "    def value(self, x):\n",
        "        print(\"setter value\")\n",
        "        if x <= 0:\n",
        "            raise ValueError(\"value должен быть > 0\")\n",
        "        self._value = x\n",
        "\n",
        "v = Value(5)\n",
        "assert v.value == 5, \"getter value\""
      ],
      "metadata": {
        "colab": {
          "base_uri": "https://localhost:8080/"
        },
        "id": "aAsaxmSpvXVV",
        "outputId": "a6212820-ca4f-4f5a-9f08-1ffcce86ad6d"
      },
      "id": "aAsaxmSpvXVV",
      "execution_count": 48,
      "outputs": [
        {
          "output_type": "stream",
          "name": "stdout",
          "text": [
            "setter value\n",
            "getter value\n"
          ]
        }
      ]
    },
    {
      "cell_type": "code",
      "execution_count": 44,
      "id": "dce5827b",
      "metadata": {
        "colab": {
          "base_uri": "https://localhost:8080/"
        },
        "id": "dce5827b",
        "outputId": "41a28308-355e-4219-9aa1-25e8919ce3d1"
      },
      "outputs": [
        {
          "output_type": "stream",
          "name": "stdout",
          "text": [
            "setter width\n",
            "setter height\n",
            "getter area\n",
            "getter width\n",
            "getter height\n",
            "setter width\n",
            "Exception\n",
            "✓ Свойства Rectangle ок\n"
          ]
        }
      ],
      "source": [
        "\n",
        "class Rectangle:\n",
        "    def __init__(self, width, height):\n",
        "        self.width = width\n",
        "        self.height = height\n",
        "\n",
        "    @property\n",
        "    def width(self):\n",
        "        print(\"getter width\")\n",
        "        return self._width\n",
        "\n",
        "    @width.setter\n",
        "    def width(self, value):\n",
        "        print(\"setter width\")\n",
        "        if value <= 0:\n",
        "            raise ValueError(\"width должен быть > 0\")\n",
        "        self._width = value\n",
        "\n",
        "    # Свойство height с валидацией аналогично width\n",
        "    @property\n",
        "    def height(self):\n",
        "        print(\"getter height\")\n",
        "        return self._height\n",
        "\n",
        "    @height.setter\n",
        "    def height(self, value):\n",
        "        print(\"setter height\")\n",
        "        if value <= 0:\n",
        "            raise ValueError(\"height должен быть > 0\")\n",
        "        self._height = value\n",
        "\n",
        "    @property\n",
        "    def area(self):\n",
        "        print(\"getter area\")\n",
        "        return self.width * self.height\n",
        "\n",
        "# Тесты\n",
        "r = Rectangle(3, 4)\n",
        "assert r.area == 12, \"area = width * height\"\n",
        "try:\n",
        "    r.width = -1\n",
        "    assert False, \"отрицательная ширина должна приводить к ошибке\"\n",
        "except ValueError:\n",
        "    print(\"Exception\")\n",
        "print(\"✓ Свойства Rectangle ок\")\n"
      ]
    },
    {
      "cell_type": "markdown",
      "id": "4fbe18fa",
      "metadata": {
        "id": "4fbe18fa"
      },
      "source": [
        "\n",
        "## 5) Моделирование связей: композиция vs наследование\n",
        "Для связи *имеет* — **композиция**; для *является* — **наследование**.\n"
      ]
    },
    {
      "cell_type": "code",
      "execution_count": 49,
      "id": "b6f2dcd8",
      "metadata": {
        "colab": {
          "base_uri": "https://localhost:8080/"
        },
        "id": "b6f2dcd8",
        "outputId": "6b425b7c-1aec-4a5f-ee95-c8fd24c3e12b"
      },
      "outputs": [
        {
          "output_type": "stream",
          "name": "stdout",
          "text": [
            "[log] Загрузка https://example.com\n"
          ]
        }
      ],
      "source": [
        "\n",
        "# Композиция\n",
        "class Logger:\n",
        "    def log(self, msg):\n",
        "        print(f\"[log] {msg}\")\n",
        "\n",
        "class Downloader:\n",
        "    def __init__(self):\n",
        "        self.logger = Logger()\n",
        "\n",
        "    def fetch(self, url):\n",
        "        self.logger.log(f\"Загрузка {url}\")\n",
        "        return f\"<содержимое {url}>\"\n",
        "\n",
        "d = Downloader()\n",
        "_ = d.fetch(\"https://example.com\")\n"
      ]
    },
    {
      "cell_type": "code",
      "execution_count": 57,
      "id": "d92e1c21",
      "metadata": {
        "colab": {
          "base_uri": "https://localhost:8080/"
        },
        "id": "d92e1c21",
        "outputId": "5155c1c4-d9a0-476a-9c4e-7ed3dff1e9a4"
      },
      "outputs": [
        {
          "output_type": "stream",
          "name": "stdout",
          "text": [
            "[12.57, 9]\n",
            "Это Shape\n",
            "Это квадрат со стороной 3\n",
            "[None, None]\n"
          ]
        }
      ],
      "source": [
        "\n",
        "# Наследование\n",
        "from math import pi\n",
        "\n",
        "class Shape:\n",
        "    def info(self):\n",
        "        print(f\"Это Shape\")\n",
        "\n",
        "    def area(self):\n",
        "        raise NotImplementedError\n",
        "\n",
        "class Circle(Shape):\n",
        "    def __init__(self, r):\n",
        "        self.r = r\n",
        "\n",
        "    def area(self):\n",
        "        return pi * self.r**2\n",
        "\n",
        "class Square(Shape):\n",
        "    def __init__(self, s):\n",
        "        self.s = s\n",
        "\n",
        "    def area(self):\n",
        "        return self.s**2\n",
        "\n",
        "    def info(self):\n",
        "      print(f\"Это квадрат со стороной {self.s}\")\n",
        "\n",
        "shapes = [Circle(2), Square(3)]\n",
        "print([round(s.area(), 2) for s in shapes])\n",
        "print([s.info() for s in shapes])\n"
      ]
    },
    {
      "cell_type": "markdown",
      "id": "8bdbc12b",
      "metadata": {
        "id": "8bdbc12b"
      },
      "source": [
        "\n",
        "**Обсуждение:** почему `Square(Circle)` — плохая идея? Квадрат — **не** круг; нарушится принцип подстановки Лисков.\n"
      ]
    },
    {
      "cell_type": "markdown",
      "id": "a7c31bf8",
      "metadata": {
        "id": "a7c31bf8"
      },
      "source": [
        "\n",
        "## 6) Полиморфизм и «утиная» типизация\n",
        "Одинаковый интерфейс — разные реализации. В Python важно не наследование, а наличие нужных методов.\n"
      ]
    },
    {
      "cell_type": "code",
      "execution_count": 59,
      "id": "432b540b",
      "metadata": {
        "colab": {
          "base_uri": "https://localhost:8080/"
        },
        "id": "432b540b",
        "outputId": "ae3885e1-4bf3-45c2-c54d-bbdfa8c167a8"
      },
      "outputs": [
        {
          "output_type": "stream",
          "name": "stdout",
          "text": [
            "total: 17.141592653589793\n"
          ]
        }
      ],
      "source": [
        "\n",
        "def total_area(shapes):\n",
        "    return sum(s.area() for s in shapes)\n",
        "\n",
        "class FakeShape:\n",
        "    def area(self):\n",
        "        return 10\n",
        "\n",
        "print(\"total:\", total_area([Circle(1), Square(2), FakeShape()]))\n"
      ]
    },
    {
      "cell_type": "markdown",
      "id": "a85811dc",
      "metadata": {
        "id": "a85811dc"
      },
      "source": [
        "\n",
        "## 7) Два полезных паттерна\n",
        "### A) Фабрика (factory)\n"
      ]
    },
    {
      "cell_type": "code",
      "execution_count": 68,
      "id": "97061a6a",
      "metadata": {
        "colab": {
          "base_uri": "https://localhost:8080/"
        },
        "id": "97061a6a",
        "outputId": "76310fa5-2a50-4c65-a72b-319470f8f500"
      },
      "outputs": [
        {
          "output_type": "stream",
          "name": "stdout",
          "text": [
            "✓ Фабрики User ок\n"
          ]
        }
      ],
      "source": [
        "\n",
        "class User:\n",
        "    def __init__(self, username, email):\n",
        "        self.username = username\n",
        "        self.email = email\n",
        "\n",
        "    @classmethod\n",
        "    def from_dict(cls, d):\n",
        "        return cls(d[\"username\"], d[\"email\"])\n",
        "\n",
        "    @classmethod\n",
        "    def from_email(cls, email):\n",
        "      if \"@\" not in email:\n",
        "        raise ValueError(\"некорректный email\")\n",
        "      username = email.split(\"@\", 1)[0]\n",
        "      return cls(username, email)\n",
        "\n",
        "# Тесты\n",
        "u = User.from_dict({\"username\":\"lin\", \"email\":\"lin@example.com\"})\n",
        "u2 = User.from_email(\"ada@lovelace.org\")\n",
        "assert u.username == \"lin\"\n",
        "assert u2.username == \"ada\" and u2.email.endswith(\"@lovelace.org\")\n",
        "print(\"✓ Фабрики User ок\")\n"
      ]
    },
    {
      "cell_type": "markdown",
      "id": "c06e37c4",
      "metadata": {
        "id": "c06e37c4"
      },
      "source": [
        "\n",
        "### B) Стратегия (strategy)\n",
        "Заменяемое поведение за счёт композиции взаимозаменяемых объектов.\n"
      ]
    },
    {
      "cell_type": "code",
      "execution_count": 69,
      "id": "c34e9a44",
      "metadata": {
        "colab": {
          "base_uri": "https://localhost:8080/"
        },
        "id": "c34e9a44",
        "outputId": "214d4538-484d-4fd4-ec99-4076ed497dfe"
      },
      "outputs": [
        {
          "output_type": "stream",
          "name": "stdout",
          "text": [
            "✓ Паттерн Strategy ок\n"
          ]
        }
      ],
      "source": [
        "\n",
        "#class DiscountStrategy:\n",
        "#    def apply(self, price):\n",
        "#        return price\n",
        "\n",
        "class PercentageOff:\n",
        "    def __init__(self, pct):\n",
        "        self.pct = pct\n",
        "    def apply(self, price):\n",
        "        return price * (1 - self.pct)\n",
        "\n",
        "class FixedAmountOff:\n",
        "    # Конструктор задаёт сумму скидки; итог не должен быть ниже 0\n",
        "    def __init__(self, amount):\n",
        "        self.amount = amount\n",
        "    def apply(self, price):\n",
        "        return max(0, price - self.amount)\n",
        "\n",
        "class Cart:\n",
        "    def __init__(self, prices, strategy):\n",
        "        self.prices = list(prices)\n",
        "        self.strategy = strategy\n",
        "    def total(self):\n",
        "        subtotal = sum(self.prices)\n",
        "        return self.strategy.apply(subtotal)\n",
        "\n",
        "# Тесты\n",
        "cart = Cart([10, 20, 5], PercentageOff(0.1))\n",
        "assert abs(cart.total() - 31.5) < 1e-6, \"скидка 10% от 35 == 31.5\"\n",
        "cart2 = Cart([10, 5], FixedAmountOff(12))\n",
        "assert cart2.total() == 3, \"фиксированная скидка с нижней границей 0\"\n",
        "print(\"✓ Паттерн Strategy ок\")\n"
      ]
    }
  ],
  "metadata": {
    "colab": {
      "provenance": []
    },
    "language_info": {
      "name": "python"
    },
    "kernelspec": {
      "name": "python3",
      "display_name": "Python 3"
    }
  },
  "nbformat": 4,
  "nbformat_minor": 5
}