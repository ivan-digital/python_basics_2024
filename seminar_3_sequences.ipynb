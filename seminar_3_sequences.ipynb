{
  "cells": [
    {
      "cell_type": "markdown",
      "id": "b3bb1629-0ad4-4404-9adb-ddceffdd66e8",
      "metadata": {
        "id": "b3bb1629-0ad4-4404-9adb-ddceffdd66e8"
      },
      "source": [
        "# В общем про программу семинаров\n",
        "  Базовый синтаксис, паттерны, модель памяти и многопоточность, прикладные навыки - далее проект - телеграм бот, попробуем разобрать как парсить веб, и научить бота вычленять и выполнять некоторые команды из текста.\n",
        "# Повторение\n",
        "  * Что такое float?\n",
        "  * Как можно изменять строки?\n",
        "  * Расскажите в чем отличие == и is?\n",
        "\n"
      ]
    },
    {
      "cell_type": "markdown",
      "id": "c9ed1139-d9c5-4a9f-9539-8c0a90ec2fb7",
      "metadata": {
        "id": "c9ed1139-d9c5-4a9f-9539-8c0a90ec2fb7"
      },
      "source": [
        "**Вопросы с прошлого занятия, можете кидать для следующего, если хочется что-то разобрать**"
      ]
    },
    {
      "cell_type": "markdown",
      "id": "a7e001d6-0629-49f0-a336-3769a27189a3",
      "metadata": {
        "id": "a7e001d6-0629-49f0-a336-3769a27189a3"
      },
      "source": [
        "- while, for, if, elif"
      ]
    },
    {
      "cell_type": "code",
      "source": [
        "def find_first_even(arr):\n",
        "    i = 0\n",
        "    while i < len(arr):\n",
        "        if arr[i] <= 0:\n",
        "            i += 1\n",
        "            continue  # Пропускаем отрицательные числа\n",
        "        if arr[i] % 2 == 0:\n",
        "            print(f\"First even number found: {arr[i]}\")\n",
        "            break  # Прерываем цикл, если найдено четное число\n",
        "\n",
        "        i += 1\n",
        "    else:\n",
        "        print(\"No even number found\")\n",
        "\n",
        "find_first_even([-5, -3, -2, 8, 3, 9])"
      ],
      "metadata": {
        "colab": {
          "base_uri": "https://localhost:8080/"
        },
        "id": "1uIoVHUQS-rh",
        "outputId": "7899a757-a704-45c1-ee07-950ca74c1ded"
      },
      "id": "1uIoVHUQS-rh",
      "execution_count": null,
      "outputs": [
        {
          "output_type": "stream",
          "name": "stdout",
          "text": [
            "First even number found: 8\n"
          ]
        }
      ]
    },
    {
      "cell_type": "code",
      "source": [
        "def print_even_pairs(list1, list2):\n",
        "    for a, b in zip(list1, list2):\n",
        "        if a % 2 != 0 or b % 2 != 0:\n",
        "            continue  # Пропускаем пары, где хотя бы одно число нечетное\n",
        "        print(f\"Pair: ({a}, {b})\")\n",
        "\n",
        "print_even_pairs([1, 2, 3, 4, ], [10, 11, 12, 14, 14])"
      ],
      "metadata": {
        "colab": {
          "base_uri": "https://localhost:8080/"
        },
        "id": "qYFRdvd1TwC1",
        "outputId": "43dbdbc4-2035-4ae3-fd95-6ce6704b2fed"
      },
      "id": "qYFRdvd1TwC1",
      "execution_count": 118,
      "outputs": [
        {
          "output_type": "stream",
          "name": "stdout",
          "text": [
            "Pair: (4, 14)\n"
          ]
        }
      ]
    },
    {
      "cell_type": "markdown",
      "id": "0d3399ba-8494-42ae-af56-c6dbd14b7c2d",
      "metadata": {
        "id": "0d3399ba-8494-42ae-af56-c6dbd14b7c2d"
      },
      "source": [
        "**Задачка**"
      ]
    },
    {
      "cell_type": "markdown",
      "id": "fb916fb3-d61a-412e-b94e-b2584ec1aab3",
      "metadata": {
        "id": "fb916fb3-d61a-412e-b94e-b2584ec1aab3"
      },
      "source": [
        "Задачки на арифметику: Есть резервуар объемом V литров. В него заливается вода со скоростью X литров в день, но каждый день испаряется Y литров воды. Нужно определить, сколько дней понадобится для того, чтобы резервуар полностью заполнился."
      ]
    },
    {
      "cell_type": "code",
      "execution_count": 151,
      "id": "51a30402-41c1-41af-be84-712d8a89f35c",
      "metadata": {
        "tags": [],
        "colab": {
          "base_uri": "https://localhost:8080/"
        },
        "id": "51a30402-41c1-41af-be84-712d8a89f35c",
        "outputId": "bc8afe8b-5d69-49ee-8206-b74944541a45"
      },
      "outputs": [
        {
          "output_type": "stream",
          "name": "stdout",
          "text": [
            "12.75\n",
            "13\n",
            "13\n"
          ]
        }
      ],
      "source": [
        "import math\n",
        "\n",
        "V = 102\n",
        "X = 10\n",
        "Y = 2\n",
        "\n",
        "# Рассчитываем чистое заполнение резервуара за день (с учетом испарения)\n",
        "# Определяем количество дней, необходимых для полного заполнения - нужно учесть, что может быть дробный результат\n",
        "days = V / (X - Y)\n",
        "print(days)\n",
        "print(math.ceil(days))  # Округляем вверх до ближайшего целого числа\n",
        "days = (V + (X - Y) - 1) // (X - Y) # еще можно вот так\n",
        "print(days)\n"
      ]
    },
    {
      "cell_type": "markdown",
      "source": [
        "Для следующего занятия. Давайте думать как изменится решение, если скорость зависит от температуры внешней среды, а внешняя среда линейно разогревается, повышая скорость испарения на 0.1 в день? По прежнему можно придумать арифмтическое решение?\n",
        "\n",
        "Как поменяется решение если изменение температуры будет по закону: каждый день температура увеличивается на 1%? - можно просто подумать."
      ],
      "metadata": {
        "id": "Mi0MtNzUFRQl"
      },
      "id": "Mi0MtNzUFRQl"
    },
    {
      "cell_type": "markdown",
      "id": "b2498864-71ca-4163-ae03-8b9b556c606d",
      "metadata": {
        "id": "b2498864-71ca-4163-ae03-8b9b556c606d"
      },
      "source": [
        "# Sequences"
      ]
    },
    {
      "cell_type": "markdown",
      "id": "c4eda83e-1a17-40d7-a8aa-a96fda5ddd19",
      "metadata": {
        "id": "c4eda83e-1a17-40d7-a8aa-a96fda5ddd19"
      },
      "source": [
        "    \"As you may have noticed, several of the operations mentioned work equally for texts, lists and tables. Texts, lists and tables together are called trains.\n",
        "    […] The FOR command also works generically on trains\""
      ]
    },
    {
      "cell_type": "markdown",
      "id": "25614693-d7f1-4aec-9803-5dcf415d17f6",
      "metadata": {
        "id": "25614693-d7f1-4aec-9803-5dcf415d17f6"
      },
      "source": [
        "Мощь Python в том, что для многих схожих классов у нас есть общее множество поддерживаемых операций. Например, strings, lists, byte sequences, arrays и др. поддерживают iteration, slicing, sorting, contactenation и прочие общие операции.\n",
        "\n",
        "Понимание и принятие данного принципа помогает нам не изобретать велосипед, а использовать общий интерфейс, который дает реализуемым классам поддержку уже принятых методов"
      ]
    },
    {
      "cell_type": "markdown",
      "id": "6120322c-ef35-422c-9dc0-a83b108edaa5",
      "metadata": {
        "id": "6120322c-ef35-422c-9dc0-a83b108edaa5"
      },
      "source": [
        "Рассмотрим некоторые примеры последовательностей, помимо изученного ранее string"
      ]
    },
    {
      "cell_type": "markdown",
      "id": "db1dd44d-369f-44fe-81cd-235a212a0998",
      "metadata": {
        "id": "db1dd44d-369f-44fe-81cd-235a212a0998"
      },
      "source": [
        "## bytes"
      ]
    },
    {
      "cell_type": "markdown",
      "id": "dd74a635-c2eb-451f-9a15-99ed55c566fa",
      "metadata": {
        "id": "dd74a635-c2eb-451f-9a15-99ed55c566fa"
      },
      "source": [
        "bytes() method returns a bytes object which is an immutable sequence of integers in the range 0 <=x < 256\n",
        "\n",
        "bytearray -- версия, которую можно модифицировать"
      ]
    },
    {
      "cell_type": "code",
      "execution_count": 124,
      "id": "211a476c-eecb-4113-85d8-4c84629783f0",
      "metadata": {
        "tags": [],
        "id": "211a476c-eecb-4113-85d8-4c84629783f0",
        "outputId": "e27f6eb7-2ecc-44e5-8946-6e1bb24f6d5a",
        "colab": {
          "base_uri": "https://localhost:8080/"
        }
      },
      "outputs": [
        {
          "output_type": "execute_result",
          "data": {
            "text/plain": [
              "b'Python3 is neat.'"
            ]
          },
          "metadata": {},
          "execution_count": 124
        }
      ],
      "source": [
        "sample_string = \"Python3 is neat.\"\n",
        "\n",
        "# string with encoding 'utf-8'\n",
        "arr = bytes(sample_string, 'utf-8')\n",
        "arr"
      ]
    },
    {
      "cell_type": "code",
      "execution_count": 125,
      "id": "0eac096f-7e38-47e1-a79f-d78470076208",
      "metadata": {
        "tags": [],
        "id": "0eac096f-7e38-47e1-a79f-d78470076208",
        "outputId": "95753285-fa99-482f-8dc3-ac05b85213d9",
        "colab": {
          "base_uri": "https://localhost:8080/"
        }
      },
      "outputs": [
        {
          "output_type": "execute_result",
          "data": {
            "text/plain": [
              "b'Python3 is neat.'"
            ]
          },
          "metadata": {},
          "execution_count": 125
        }
      ],
      "source": [
        "win_arr = bytes(sample_string, 'cp1251')\n",
        "win_arr"
      ]
    },
    {
      "cell_type": "code",
      "execution_count": 126,
      "id": "64ad0e83-a7d7-46fe-8c56-3442a47e9db2",
      "metadata": {
        "tags": [],
        "id": "64ad0e83-a7d7-46fe-8c56-3442a47e9db2",
        "outputId": "a162d5b5-d6ad-4d0e-88b0-cc01470ef9ac",
        "colab": {
          "base_uri": "https://localhost:8080/",
          "height": 35
        }
      },
      "outputs": [
        {
          "output_type": "execute_result",
          "data": {
            "text/plain": [
              "'Python3 is neat.'"
            ],
            "application/vnd.google.colaboratory.intrinsic+json": {
              "type": "string"
            }
          },
          "metadata": {},
          "execution_count": 126
        }
      ],
      "source": [
        "win_arr.decode('cp1251')"
      ]
    },
    {
      "cell_type": "code",
      "execution_count": 127,
      "id": "8c633cb5-9528-403f-8a19-43b14a8030dc",
      "metadata": {
        "id": "8c633cb5-9528-403f-8a19-43b14a8030dc",
        "outputId": "1dab0f9b-d922-4e98-b5b6-8da8d1007990",
        "colab": {
          "base_uri": "https://localhost:8080/",
          "height": 35
        }
      },
      "outputs": [
        {
          "output_type": "execute_result",
          "data": {
            "text/plain": [
              "'Python3 is neat.'"
            ],
            "application/vnd.google.colaboratory.intrinsic+json": {
              "type": "string"
            }
          },
          "metadata": {},
          "execution_count": 127
        }
      ],
      "source": [
        "win_arr.decode('utf-8')"
      ]
    },
    {
      "cell_type": "code",
      "execution_count": 129,
      "id": "7c0502ef-fe54-4a68-8d8f-cdce65a17143",
      "metadata": {
        "tags": [],
        "id": "7c0502ef-fe54-4a68-8d8f-cdce65a17143",
        "outputId": "be90bc85-0c64-4404-adf1-bf1a08101c24",
        "colab": {
          "base_uri": "https://localhost:8080/"
        }
      },
      "outputs": [
        {
          "output_type": "execute_result",
          "data": {
            "text/plain": [
              "True"
            ]
          },
          "metadata": {},
          "execution_count": 129
        }
      ],
      "source": [
        "win_arr == arr"
      ]
    },
    {
      "cell_type": "code",
      "execution_count": 128,
      "id": "1fe13909-acd2-475c-ac15-a65f5f99fa9d",
      "metadata": {
        "tags": [],
        "id": "1fe13909-acd2-475c-ac15-a65f5f99fa9d",
        "colab": {
          "base_uri": "https://localhost:8080/"
        },
        "outputId": "f120bd38-f8e4-4b98-b026-119a19db8d4d"
      },
      "outputs": [
        {
          "output_type": "execute_result",
          "data": {
            "text/plain": [
              "b'\\xcf\\xf0\\xee\\xe2\\xe5\\xf0\\xea\\xe0 \\xf1\\xe2\\xff\\xe7\\xe8 :)'"
            ]
          },
          "metadata": {},
          "execution_count": 128
        }
      ],
      "source": [
        "encoded_string = \"Проверка связи :)\".encode('cp1251')\n",
        "encoded_string"
      ]
    },
    {
      "cell_type": "code",
      "execution_count": null,
      "id": "0cdad60d-0053-4c4a-b2f5-33954bbb5981",
      "metadata": {
        "tags": [],
        "id": "0cdad60d-0053-4c4a-b2f5-33954bbb5981",
        "outputId": "fd3c6632-ff77-434e-ab79-f9b37a29dd2c",
        "colab": {
          "base_uri": "https://localhost:8080/",
          "height": 139
        }
      },
      "outputs": [
        {
          "output_type": "error",
          "ename": "UnicodeDecodeError",
          "evalue": "'utf-8' codec can't decode byte 0xcf in position 0: invalid continuation byte",
          "traceback": [
            "\u001b[0;31m---------------------------------------------------------------------------\u001b[0m",
            "\u001b[0;31mUnicodeDecodeError\u001b[0m                        Traceback (most recent call last)",
            "\u001b[0;32m<ipython-input-20-f118bb39851b>\u001b[0m in \u001b[0;36m<cell line: 1>\u001b[0;34m()\u001b[0m\n\u001b[0;32m----> 1\u001b[0;31m \u001b[0mencoded_string\u001b[0m\u001b[0;34m.\u001b[0m\u001b[0mdecode\u001b[0m\u001b[0;34m(\u001b[0m\u001b[0;34m'utf-8'\u001b[0m\u001b[0;34m)\u001b[0m\u001b[0;34m\u001b[0m\u001b[0;34m\u001b[0m\u001b[0m\n\u001b[0m",
            "\u001b[0;31mUnicodeDecodeError\u001b[0m: 'utf-8' codec can't decode byte 0xcf in position 0: invalid continuation byte"
          ]
        }
      ],
      "source": [
        "encoded_string.decode('utf-8')"
      ]
    },
    {
      "cell_type": "code",
      "execution_count": null,
      "id": "b87cf87a-9632-4902-b419-0fbc7a4b485e",
      "metadata": {
        "id": "b87cf87a-9632-4902-b419-0fbc7a4b485e",
        "outputId": "e805bfd3-6a0f-41a9-a983-72f011e02718",
        "colab": {
          "base_uri": "https://localhost:8080/",
          "height": 35
        }
      },
      "outputs": [
        {
          "output_type": "execute_result",
          "data": {
            "text/plain": [
              "'Проверка связи :)'"
            ],
            "application/vnd.google.colaboratory.intrinsic+json": {
              "type": "string"
            }
          },
          "metadata": {},
          "execution_count": 21
        }
      ],
      "source": [
        "encoded_string.decode('cp1251')"
      ]
    },
    {
      "cell_type": "markdown",
      "id": "3add9acb-ddd2-4bb4-8848-ee82668de51f",
      "metadata": {
        "id": "3add9acb-ddd2-4bb4-8848-ee82668de51f"
      },
      "source": [
        "## List"
      ]
    },
    {
      "cell_type": "markdown",
      "id": "001af72d-7831-4b54-bd7f-40728c69dcf9",
      "metadata": {
        "id": "001af72d-7831-4b54-bd7f-40728c69dcf9"
      },
      "source": [
        "Most fundamental sequence, mutable and mixed-type"
      ]
    },
    {
      "cell_type": "code",
      "execution_count": null,
      "id": "56851000-5cd5-4861-80aa-7774ca1b03a3",
      "metadata": {
        "tags": [],
        "id": "56851000-5cd5-4861-80aa-7774ca1b03a3"
      },
      "outputs": [],
      "source": [
        "a = [1, 2, 3]\n",
        "b = ['1', [2], 3, 4.]"
      ]
    },
    {
      "cell_type": "markdown",
      "id": "199c09cd-0ca2-429b-981d-96f59be8a57f",
      "metadata": {
        "id": "199c09cd-0ca2-429b-981d-96f59be8a57f"
      },
      "source": [
        "### Базовые операции"
      ]
    },
    {
      "cell_type": "code",
      "execution_count": null,
      "id": "8bdbc9c9-b5e7-43bd-a337-a124ee1b122f",
      "metadata": {
        "tags": [],
        "id": "8bdbc9c9-b5e7-43bd-a337-a124ee1b122f",
        "outputId": "3803c316-466b-40e5-ac17-2bbcfc4a7491",
        "colab": {
          "base_uri": "https://localhost:8080/"
        }
      },
      "outputs": [
        {
          "output_type": "execute_result",
          "data": {
            "text/plain": [
              "[1, 2, 3, '1', [2], 3, 4.0]"
            ]
          },
          "metadata": {},
          "execution_count": 22
        }
      ],
      "source": [
        "a + b"
      ]
    },
    {
      "cell_type": "code",
      "execution_count": null,
      "id": "ac272a43-7c69-4ec5-9f31-7562e0dc41e5",
      "metadata": {
        "tags": [],
        "id": "ac272a43-7c69-4ec5-9f31-7562e0dc41e5",
        "outputId": "5079926d-d1d5-4edb-9963-d2e8b5e8513a"
      },
      "outputs": [
        {
          "data": {
            "text/plain": [
              "[1, 2, 3, 1, 2, 3, 1, 2, 3]"
            ]
          },
          "execution_count": 300,
          "metadata": {},
          "output_type": "execute_result"
        }
      ],
      "source": [
        "a * 3"
      ]
    },
    {
      "cell_type": "code",
      "execution_count": null,
      "id": "02381b7d-8c79-44f7-a619-d9757baafedd",
      "metadata": {
        "id": "02381b7d-8c79-44f7-a619-d9757baafedd",
        "colab": {
          "base_uri": "https://localhost:8080/"
        },
        "outputId": "0d7fe591-bdc0-4b08-e4e0-edc985ba708c"
      },
      "outputs": [
        {
          "output_type": "execute_result",
          "data": {
            "text/plain": [
              "[1]"
            ]
          },
          "metadata": {},
          "execution_count": 23
        }
      ],
      "source": [
        "a = [1]\n",
        "a"
      ]
    },
    {
      "cell_type": "code",
      "execution_count": null,
      "id": "3ba08151-d09d-410d-a006-67fb8cbed7bb",
      "metadata": {
        "id": "3ba08151-d09d-410d-a006-67fb8cbed7bb",
        "colab": {
          "base_uri": "https://localhost:8080/"
        },
        "outputId": "b7a5a06b-5b98-461f-ed63-2e9c0a7ef2bd"
      },
      "outputs": [
        {
          "output_type": "execute_result",
          "data": {
            "text/plain": [
              "[1, 1, 1]"
            ]
          },
          "metadata": {},
          "execution_count": 24
        }
      ],
      "source": [
        "a *= 3\n",
        "a"
      ]
    },
    {
      "cell_type": "code",
      "execution_count": null,
      "id": "2908bd95-1362-4748-a0ed-f19dc8e81691",
      "metadata": {
        "id": "2908bd95-1362-4748-a0ed-f19dc8e81691",
        "outputId": "71f50eee-0092-44a4-dfd7-12fb1e3efdb4",
        "colab": {
          "base_uri": "https://localhost:8080/"
        }
      },
      "outputs": [
        {
          "output_type": "stream",
          "name": "stdout",
          "text": [
            "136963531079920\n",
            "136963531079920\n",
            "136963531079920\n"
          ]
        }
      ],
      "source": [
        "for elem in a:\n",
        "    print(id(elem))"
      ]
    },
    {
      "cell_type": "code",
      "execution_count": null,
      "id": "b7009953-e7e7-4964-83d3-acc8debbc56b",
      "metadata": {
        "id": "b7009953-e7e7-4964-83d3-acc8debbc56b",
        "colab": {
          "base_uri": "https://localhost:8080/"
        },
        "outputId": "b3b162e9-4a35-430f-a32b-9084b6b100f5"
      },
      "outputs": [
        {
          "output_type": "execute_result",
          "data": {
            "text/plain": [
              "[1337, 1, 1]"
            ]
          },
          "metadata": {},
          "execution_count": 26
        }
      ],
      "source": [
        "a[0] = 1337\n",
        "a"
      ]
    },
    {
      "cell_type": "code",
      "source": [
        "for elem in a:\n",
        "    print(id(elem))"
      ],
      "metadata": {
        "colab": {
          "base_uri": "https://localhost:8080/"
        },
        "id": "tyJPS98RHFfg",
        "outputId": "e44f10f2-c6b7-489e-e064-8661195d45c1"
      },
      "id": "tyJPS98RHFfg",
      "execution_count": null,
      "outputs": [
        {
          "output_type": "stream",
          "name": "stdout",
          "text": [
            "136963100502352\n",
            "136963531079920\n",
            "136963531079920\n"
          ]
        }
      ]
    },
    {
      "cell_type": "code",
      "execution_count": null,
      "id": "708deb2a-1232-4c4b-9ef6-163c087ea7fd",
      "metadata": {
        "id": "708deb2a-1232-4c4b-9ef6-163c087ea7fd"
      },
      "outputs": [],
      "source": [
        "a = [[1]]"
      ]
    },
    {
      "cell_type": "code",
      "execution_count": null,
      "id": "360128a8-f0ea-4047-b5f5-af8918893ac5",
      "metadata": {
        "id": "360128a8-f0ea-4047-b5f5-af8918893ac5",
        "outputId": "5bfaae46-e4e1-4da5-b76e-b9785d70b9a6",
        "colab": {
          "base_uri": "https://localhost:8080/"
        }
      },
      "outputs": [
        {
          "output_type": "execute_result",
          "data": {
            "text/plain": [
              "[[1], [1], [1]]"
            ]
          },
          "metadata": {},
          "execution_count": 29
        }
      ],
      "source": [
        "a *= 3\n",
        "a"
      ]
    },
    {
      "cell_type": "code",
      "execution_count": null,
      "id": "08296f6e-d814-4b75-b531-cc665d557ec7",
      "metadata": {
        "id": "08296f6e-d814-4b75-b531-cc665d557ec7",
        "outputId": "544ac194-ce4d-4a05-bc7a-89bd471e7a16",
        "colab": {
          "base_uri": "https://localhost:8080/"
        }
      },
      "outputs": [
        {
          "output_type": "stream",
          "name": "stdout",
          "text": [
            "136963088305472\n",
            "136963088305472\n",
            "136963088305472\n"
          ]
        }
      ],
      "source": [
        "for elem in a:\n",
        "    print(id(elem))"
      ]
    },
    {
      "cell_type": "code",
      "execution_count": null,
      "id": "018fb324-925b-4314-ad75-1539553ef850",
      "metadata": {
        "id": "018fb324-925b-4314-ad75-1539553ef850"
      },
      "outputs": [],
      "source": [
        "a[0].append(2)"
      ]
    },
    {
      "cell_type": "code",
      "execution_count": null,
      "id": "3b2c04fb-07ba-4882-91ae-bc779d971f65",
      "metadata": {
        "id": "3b2c04fb-07ba-4882-91ae-bc779d971f65",
        "outputId": "7151b408-32d6-4f97-e612-a6db06c5dea5",
        "colab": {
          "base_uri": "https://localhost:8080/"
        }
      },
      "outputs": [
        {
          "output_type": "execute_result",
          "data": {
            "text/plain": [
              "[[1, 2], [1, 2], [1, 2]]"
            ]
          },
          "metadata": {},
          "execution_count": 32
        }
      ],
      "source": [
        "a"
      ]
    },
    {
      "cell_type": "markdown",
      "id": "17dbd3d5-02e4-4c3b-bb17-40c9529caabc",
      "metadata": {
        "id": "17dbd3d5-02e4-4c3b-bb17-40c9529caabc"
      },
      "source": [
        "`Слайсы!`"
      ]
    },
    {
      "cell_type": "code",
      "execution_count": null,
      "id": "6ae5aa57-0197-430b-885a-fc7d4b56ac7e",
      "metadata": {
        "tags": [],
        "id": "6ae5aa57-0197-430b-885a-fc7d4b56ac7e",
        "outputId": "1bf97968-5b0f-419f-faa0-8615800a0b0c"
      },
      "outputs": [
        {
          "data": {
            "text/plain": [
              "[4.0, 3, [2], '1']"
            ]
          },
          "execution_count": 323,
          "metadata": {},
          "output_type": "execute_result"
        }
      ],
      "source": [
        "b[::-1]"
      ]
    },
    {
      "cell_type": "markdown",
      "id": "9db366a9-9b07-47ed-a410-31c17dd6e652",
      "metadata": {
        "id": "9db366a9-9b07-47ed-a410-31c17dd6e652"
      },
      "source": [
        "Поддержка операций `in (not in), min, max, index (поиск), count`"
      ]
    },
    {
      "cell_type": "code",
      "execution_count": null,
      "id": "b6d89753-142f-4a83-8432-f8d79842bef6",
      "metadata": {
        "id": "b6d89753-142f-4a83-8432-f8d79842bef6"
      },
      "outputs": [],
      "source": [
        "a = [1, 2, 3]\n",
        "b = ['1', [2], 3, 4.]"
      ]
    },
    {
      "cell_type": "code",
      "execution_count": null,
      "id": "166bf0db-7697-4077-81a2-eb797bc31309",
      "metadata": {
        "tags": [],
        "id": "166bf0db-7697-4077-81a2-eb797bc31309",
        "outputId": "541988fb-c997-482c-eaa7-c36685bba92e",
        "colab": {
          "base_uri": "https://localhost:8080/"
        }
      },
      "outputs": [
        {
          "output_type": "execute_result",
          "data": {
            "text/plain": [
              "True"
            ]
          },
          "metadata": {},
          "execution_count": 33
        }
      ],
      "source": [
        "'1' not in a"
      ]
    },
    {
      "cell_type": "code",
      "execution_count": null,
      "id": "dbf14a4e-038d-4900-9bac-7d61994cc4ca",
      "metadata": {
        "tags": [],
        "id": "dbf14a4e-038d-4900-9bac-7d61994cc4ca",
        "outputId": "8ae3362d-5045-4ed3-e117-26167b55d5a2",
        "colab": {
          "base_uri": "https://localhost:8080/"
        }
      },
      "outputs": [
        {
          "output_type": "execute_result",
          "data": {
            "text/plain": [
              "True"
            ]
          },
          "metadata": {},
          "execution_count": 36
        }
      ],
      "source": [
        "'1' in a + b"
      ]
    },
    {
      "cell_type": "markdown",
      "id": "cace2f89-86b7-4c22-b6e3-b0982d6c1db8",
      "metadata": {
        "id": "cace2f89-86b7-4c22-b6e3-b0982d6c1db8"
      },
      "source": [
        "Для коллекций, содержащих разные типы, нужно явно определить компаратор"
      ]
    },
    {
      "cell_type": "code",
      "source": [
        "max(b)"
      ],
      "metadata": {
        "colab": {
          "base_uri": "https://localhost:8080/",
          "height": 139
        },
        "id": "ri531F1Z6Rts",
        "outputId": "51706353-acc9-4ae5-937f-43c4ba2168a4"
      },
      "id": "ri531F1Z6Rts",
      "execution_count": null,
      "outputs": [
        {
          "output_type": "error",
          "ename": "TypeError",
          "evalue": "'>' not supported between instances of 'list' and 'str'",
          "traceback": [
            "\u001b[0;31m---------------------------------------------------------------------------\u001b[0m",
            "\u001b[0;31mTypeError\u001b[0m                                 Traceback (most recent call last)",
            "\u001b[0;32m<ipython-input-37-8a5c24b585eb>\u001b[0m in \u001b[0;36m<cell line: 1>\u001b[0;34m()\u001b[0m\n\u001b[0;32m----> 1\u001b[0;31m \u001b[0mmax\u001b[0m\u001b[0;34m(\u001b[0m\u001b[0mb\u001b[0m\u001b[0;34m)\u001b[0m\u001b[0;34m\u001b[0m\u001b[0;34m\u001b[0m\u001b[0m\n\u001b[0m",
            "\u001b[0;31mTypeError\u001b[0m: '>' not supported between instances of 'list' and 'str'"
          ]
        }
      ]
    },
    {
      "cell_type": "code",
      "execution_count": null,
      "id": "9c71d8b0-d8fc-4e4f-809f-a839da066d23",
      "metadata": {
        "tags": [],
        "id": "9c71d8b0-d8fc-4e4f-809f-a839da066d23",
        "outputId": "45a79191-164f-43a9-c315-bdb14df3ffef"
      },
      "outputs": [
        {
          "data": {
            "text/plain": [
              "(1, 3)"
            ]
          },
          "execution_count": 330,
          "metadata": {},
          "output_type": "execute_result"
        }
      ],
      "source": [
        "min(a), max(a)"
      ]
    },
    {
      "cell_type": "code",
      "execution_count": null,
      "id": "2e3b5ba4-6cbf-484c-a5e6-479a5b8639d7",
      "metadata": {
        "tags": [],
        "id": "2e3b5ba4-6cbf-484c-a5e6-479a5b8639d7",
        "outputId": "87a30797-5f94-432f-b896-21dfa545d3e2"
      },
      "outputs": [
        {
          "data": {
            "text/plain": [
              "(2, 0)"
            ]
          },
          "execution_count": 338,
          "metadata": {},
          "output_type": "execute_result"
        }
      ],
      "source": [
        "a.index(3), a.index(1)"
      ]
    },
    {
      "cell_type": "code",
      "execution_count": null,
      "id": "8d7066f2-e87e-4b7e-96c8-82c9125fc41e",
      "metadata": {
        "tags": [],
        "id": "8d7066f2-e87e-4b7e-96c8-82c9125fc41e",
        "outputId": "71ec11d9-6597-4143-9ba5-fc74c2936cfe"
      },
      "outputs": [
        {
          "data": {
            "text/plain": [
              "(1, 0)"
            ]
          },
          "execution_count": 339,
          "metadata": {},
          "output_type": "execute_result"
        }
      ],
      "source": [
        "a.count(1), a.count(4)"
      ]
    },
    {
      "cell_type": "markdown",
      "id": "d3e9fe1b-88d6-423f-b031-67966dda6b7a",
      "metadata": {
        "id": "d3e9fe1b-88d6-423f-b031-67966dda6b7a"
      },
      "source": [
        "И, конечно же, уже знакомые нам"
      ]
    },
    {
      "cell_type": "code",
      "execution_count": null,
      "id": "918ae989-f288-4048-9d82-b82de5f77280",
      "metadata": {
        "tags": [],
        "id": "918ae989-f288-4048-9d82-b82de5f77280",
        "outputId": "11f8cbe3-82e5-45bc-9057-c91287d8d579"
      },
      "outputs": [
        {
          "data": {
            "text/plain": [
              "(3, 4)"
            ]
          },
          "execution_count": 340,
          "metadata": {},
          "output_type": "execute_result"
        }
      ],
      "source": [
        "len(a), len(b)"
      ]
    },
    {
      "cell_type": "code",
      "execution_count": null,
      "id": "a93413bf-37db-48de-9d84-d850594f7db0",
      "metadata": {
        "tags": [],
        "id": "a93413bf-37db-48de-9d84-d850594f7db0",
        "outputId": "824fa6e8-d248-456e-ef5f-db027f18552f"
      },
      "outputs": [
        {
          "data": {
            "text/plain": [
              "('[1, 2, 3]', '[1, 2, 3]')"
            ]
          },
          "execution_count": 341,
          "metadata": {},
          "output_type": "execute_result"
        }
      ],
      "source": [
        "repr(a), a.__repr__()"
      ]
    },
    {
      "cell_type": "code",
      "execution_count": null,
      "id": "d291106b-18e8-465a-94ac-6e8806d3e4b2",
      "metadata": {
        "tags": [],
        "id": "d291106b-18e8-465a-94ac-6e8806d3e4b2",
        "outputId": "fed03e69-93ed-4bf4-9567-596d4cea4c15"
      },
      "outputs": [
        {
          "data": {
            "text/plain": [
              "('[1, 2, 3]', '[1, 2, 3]')"
            ]
          },
          "execution_count": 342,
          "metadata": {},
          "output_type": "execute_result"
        }
      ],
      "source": [
        "str(a), a.__str__()"
      ]
    },
    {
      "cell_type": "markdown",
      "id": "103df298-e022-4962-9e73-63787c4f5af4",
      "metadata": {
        "id": "103df298-e022-4962-9e73-63787c4f5af4"
      },
      "source": [
        "**Inplace** изменения в список"
      ]
    },
    {
      "cell_type": "code",
      "execution_count": null,
      "id": "01b2e371-2382-448f-8993-0d70e8ce6c15",
      "metadata": {
        "tags": [],
        "id": "01b2e371-2382-448f-8993-0d70e8ce6c15",
        "outputId": "8304546e-c8d7-4617-8536-11746e0a51ef",
        "colab": {
          "base_uri": "https://localhost:8080/"
        }
      },
      "outputs": [
        {
          "output_type": "execute_result",
          "data": {
            "text/plain": [
              "[1, 2, 3, 4]"
            ]
          },
          "metadata": {},
          "execution_count": 38
        }
      ],
      "source": [
        "a.append(4)\n",
        "a"
      ]
    },
    {
      "cell_type": "code",
      "execution_count": null,
      "id": "d6d22048-4bae-4126-9602-095c705983f3",
      "metadata": {
        "tags": [],
        "id": "d6d22048-4bae-4126-9602-095c705983f3",
        "outputId": "cb670c00-0339-40d9-f973-55e7ba70170e"
      },
      "outputs": [
        {
          "data": {
            "text/plain": [
              "[1, 2, 3, 4, '1', [2], 3, 4.0]"
            ]
          },
          "execution_count": 344,
          "metadata": {},
          "output_type": "execute_result"
        }
      ],
      "source": [
        "a.extend(b)\n",
        "a"
      ]
    },
    {
      "cell_type": "code",
      "execution_count": null,
      "id": "865192ce-af08-4f66-a2a1-1c4578037dae",
      "metadata": {
        "tags": [],
        "id": "865192ce-af08-4f66-a2a1-1c4578037dae",
        "outputId": "c42c8cce-1ed1-49e3-cf91-2e80c2f3068c"
      },
      "outputs": [
        {
          "data": {
            "text/plain": [
              "[1, 2, 4, '1', [2], 3, 4.0]"
            ]
          },
          "execution_count": 345,
          "metadata": {},
          "output_type": "execute_result"
        }
      ],
      "source": [
        "a.remove(3)\n",
        "a"
      ]
    },
    {
      "cell_type": "code",
      "execution_count": null,
      "id": "8773b2d8-76b1-423b-8bd5-40922a1cc204",
      "metadata": {
        "tags": [],
        "id": "8773b2d8-76b1-423b-8bd5-40922a1cc204",
        "outputId": "9d9269af-779a-43ee-da89-93b3f7b82b1b"
      },
      "outputs": [
        {
          "data": {
            "text/plain": [
              "[100, 2, 4, '1', [2], 3, 4.0]"
            ]
          },
          "execution_count": 346,
          "metadata": {},
          "output_type": "execute_result"
        }
      ],
      "source": [
        "a[0] = 100\n",
        "a"
      ]
    },
    {
      "cell_type": "markdown",
      "id": "e7185bb7-8684-42e4-8f72-254d219b139e",
      "metadata": {
        "id": "e7185bb7-8684-42e4-8f72-254d219b139e"
      },
      "source": [
        "**+=, *=**"
      ]
    },
    {
      "cell_type": "code",
      "execution_count": null,
      "id": "51f12f59-3c79-4f2e-8d08-25334e2a976a",
      "metadata": {
        "tags": [],
        "id": "51f12f59-3c79-4f2e-8d08-25334e2a976a",
        "outputId": "28312592-65bb-4e9f-9ef9-5e1c66072c91",
        "colab": {
          "base_uri": "https://localhost:8080/"
        }
      },
      "outputs": [
        {
          "output_type": "stream",
          "name": "stdout",
          "text": [
            "136963100629952\n",
            "136963100629952\n",
            "136963100629952\n",
            "136962829969536\n"
          ]
        }
      ],
      "source": [
        "a = [1, 2, 3]\n",
        "print(id(a))\n",
        "\n",
        "a *= 3\n",
        "print(id(a))\n",
        "\n",
        "a += [10, 11]\n",
        "print(id(a))\n",
        "\n",
        "a = [1]\n",
        "print(id(a))"
      ]
    },
    {
      "cell_type": "code",
      "execution_count": null,
      "id": "80b404ef-53f4-44b2-9569-e162486dddf9",
      "metadata": {
        "id": "80b404ef-53f4-44b2-9569-e162486dddf9",
        "outputId": "6de61f3c-1c4e-458b-c36b-81bf89b4ca03",
        "colab": {
          "base_uri": "https://localhost:8080/"
        }
      },
      "outputs": [
        {
          "output_type": "stream",
          "name": "stdout",
          "text": [
            "id before extend 136963116362432\n",
            "id after  extend 136963116362432\n"
          ]
        },
        {
          "output_type": "execute_result",
          "data": {
            "text/plain": [
              "[5, 6, 7, 1, 2]"
            ]
          },
          "metadata": {},
          "execution_count": 41
        }
      ],
      "source": [
        "a = [5, 6, 7]\n",
        "b = [1, 2]\n",
        "\n",
        "print('id before extend', id(a))\n",
        "a.extend(b)\n",
        "print('id after  extend', id(a))\n",
        "a"
      ]
    },
    {
      "cell_type": "code",
      "execution_count": null,
      "id": "001c364c-0879-4475-bb2f-641ddafdc81b",
      "metadata": {
        "id": "001c364c-0879-4475-bb2f-641ddafdc81b",
        "outputId": "b8aa33dc-3cbb-4983-ab26-e92c1b5cf1dd",
        "colab": {
          "base_uri": "https://localhost:8080/"
        }
      },
      "outputs": [
        {
          "output_type": "stream",
          "name": "stdout",
          "text": [
            "id before extend 136963100631872\n",
            "id after  extend 136963100631872\n"
          ]
        },
        {
          "output_type": "execute_result",
          "data": {
            "text/plain": [
              "[5, 6, 7, 1, 2]"
            ]
          },
          "metadata": {},
          "execution_count": 42
        }
      ],
      "source": [
        "a = [5, 6, 7]\n",
        "b = [1, 2]\n",
        "\n",
        "print('id before extend', id(a))\n",
        "a += b\n",
        "print('id after  extend', id(a))\n",
        "a"
      ]
    },
    {
      "cell_type": "markdown",
      "id": "d85aa5a8-0bc6-4f0e-afb3-adbb42acc409",
      "metadata": {
        "id": "d85aa5a8-0bc6-4f0e-afb3-adbb42acc409"
      },
      "source": [
        "`При использовании inplace операции над изменяемым обектом, адрес не меняется, это все тот же объект`"
      ]
    },
    {
      "cell_type": "markdown",
      "id": "ba2078f8-ad04-4109-a8ef-bc4d3c40a331",
      "metadata": {
        "id": "ba2078f8-ad04-4109-a8ef-bc4d3c40a331"
      },
      "source": [
        "### Iterating"
      ]
    },
    {
      "cell_type": "code",
      "execution_count": null,
      "id": "25231680-5481-434d-87a3-6d6b3ee3b111",
      "metadata": {
        "tags": [],
        "id": "25231680-5481-434d-87a3-6d6b3ee3b111",
        "outputId": "d49e43d0-be34-478b-fd72-57e6ae6ae1ad"
      },
      "outputs": [
        {
          "name": "stdout",
          "output_type": "stream",
          "text": [
            "1\n",
            "2\n"
          ]
        }
      ],
      "source": [
        "for element in b:\n",
        "    print(element)"
      ]
    },
    {
      "cell_type": "markdown",
      "id": "1b6067ce-47f7-44ba-93e2-9dc85a930928",
      "metadata": {
        "id": "1b6067ce-47f7-44ba-93e2-9dc85a930928"
      },
      "source": [
        "Можно итерироваться по нескольким сразу"
      ]
    },
    {
      "cell_type": "code",
      "execution_count": null,
      "id": "5cd1adfd-36bd-4d67-8daa-b2690d26ee02",
      "metadata": {
        "tags": [],
        "id": "5cd1adfd-36bd-4d67-8daa-b2690d26ee02",
        "outputId": "871694bd-d178-4368-e86f-7025ac2bc995"
      },
      "outputs": [
        {
          "name": "stdout",
          "output_type": "stream",
          "text": [
            "1 10\n",
            "2 20\n",
            "3 30\n"
          ]
        }
      ],
      "source": [
        "c = [1, 2, 3]\n",
        "d = [10, 20, 30, 40]\n",
        "\n",
        "for val_one, val_two in zip(c, d):\n",
        "    print(val_one, val_two)"
      ]
    },
    {
      "cell_type": "markdown",
      "id": "2e7612a9-43f7-4615-b1b8-56290724cc71",
      "metadata": {
        "id": "2e7612a9-43f7-4615-b1b8-56290724cc71"
      },
      "source": [
        "По значению и индексу"
      ]
    },
    {
      "cell_type": "code",
      "execution_count": null,
      "id": "24a01b10-c3c8-46ce-ab47-644cb5e9050b",
      "metadata": {
        "tags": [],
        "id": "24a01b10-c3c8-46ce-ab47-644cb5e9050b",
        "outputId": "08654f80-7b5b-4188-af8b-7ffdc13c00cc"
      },
      "outputs": [
        {
          "name": "stdout",
          "output_type": "stream",
          "text": [
            "0 1\n",
            "1 2\n"
          ]
        }
      ],
      "source": [
        "for index, elem in enumerate(b, start=0):\n",
        "    print(index, elem)"
      ]
    },
    {
      "cell_type": "markdown",
      "id": "4ec5a71c-aeaa-4b49-919c-faffe2ad55ec",
      "metadata": {
        "id": "4ec5a71c-aeaa-4b49-919c-faffe2ad55ec"
      },
      "source": [
        "Разберем простой пример. Если у нас есть два списка, один -- с цветами, второй -- с размерами. Как можно вывести на экран все комбинации?"
      ]
    },
    {
      "cell_type": "code",
      "execution_count": null,
      "id": "96473a10-ceef-4236-b9a7-b7bfae8bc151",
      "metadata": {
        "tags": [],
        "id": "96473a10-ceef-4236-b9a7-b7bfae8bc151",
        "outputId": "d480279e-834b-4db5-dd4b-969c7641ea26"
      },
      "outputs": [
        {
          "name": "stdout",
          "output_type": "stream",
          "text": [
            "S black\n",
            "M black\n",
            "L black\n",
            "S white\n",
            "M white\n",
            "L white\n"
          ]
        }
      ],
      "source": [
        "colors = ['black', 'white']\n",
        "sizes = ['S', 'M', 'L']\n",
        "\n",
        "# your code\n",
        "\n",
        "for color in colors:\n",
        "    for size in sizes:\n",
        "        print(size, color)"
      ]
    },
    {
      "cell_type": "markdown",
      "id": "1bc92f77-4254-47c3-8275-cfc2bcc43328",
      "metadata": {
        "id": "1bc92f77-4254-47c3-8275-cfc2bcc43328"
      },
      "source": [
        "### Сортировка"
      ]
    },
    {
      "cell_type": "markdown",
      "source": [
        "https://en.wikipedia.org/wiki/Timsort - стандартный алгоритм сортировки Python O(n*Log(n))\n",
        "\n",
        "https://en.wikipedia.org/wiki/Asymptotic_computational_complexity\n",
        "Подробнее про O нотацию алгоритмической сложности"
      ],
      "metadata": {
        "id": "HWWadkkUWBeC"
      },
      "id": "HWWadkkUWBeC"
    },
    {
      "cell_type": "code",
      "execution_count": null,
      "id": "5bff5b34-2e02-449a-a3fe-f350a63850f8",
      "metadata": {
        "tags": [],
        "id": "5bff5b34-2e02-449a-a3fe-f350a63850f8"
      },
      "outputs": [],
      "source": [
        "a = [1, 2, 5, 4, 10, -5]\n",
        "a.sort()"
      ]
    },
    {
      "cell_type": "code",
      "execution_count": null,
      "id": "41671280-4f0e-4c91-99f3-03cb8421ca7d",
      "metadata": {
        "tags": [],
        "id": "41671280-4f0e-4c91-99f3-03cb8421ca7d",
        "outputId": "5ae7623c-d817-4163-f4e1-2e6daa3adab2"
      },
      "outputs": [
        {
          "data": {
            "text/plain": [
              "[-5, 1, 2, 4, 5, 10]"
            ]
          },
          "execution_count": 359,
          "metadata": {},
          "output_type": "execute_result"
        }
      ],
      "source": [
        "sorted(a)"
      ]
    },
    {
      "cell_type": "code",
      "execution_count": null,
      "id": "97741d13-b033-49fe-92ee-5207ad027cc1",
      "metadata": {
        "id": "97741d13-b033-49fe-92ee-5207ad027cc1",
        "outputId": "2f6de6a2-a064-4ebd-dcfa-92686e3caf91"
      },
      "outputs": [
        {
          "data": {
            "text/plain": [
              "['3', 'a', 'seminar']"
            ]
          },
          "execution_count": 361,
          "metadata": {},
          "output_type": "execute_result"
        }
      ],
      "source": [
        "str_a = ['3', 'a', 'seminar']\n",
        "sorted(str_a)"
      ]
    },
    {
      "cell_type": "markdown",
      "source": [
        "Кто знает radix sort https://en.wikipedia.org/wiki/Radix_sort, Backet sort https://en.wikipedia.org/wiki/Bucket_sort, quick sort https://en.wikipedia.org/wiki/Quicksort ?"
      ],
      "metadata": {
        "id": "Bktzo7yCWwcO"
      },
      "id": "Bktzo7yCWwcO"
    },
    {
      "cell_type": "markdown",
      "id": "00de86d3-49be-4497-b43a-ec90ef532f19",
      "metadata": {
        "id": "00de86d3-49be-4497-b43a-ec90ef532f19"
      },
      "source": [
        "### Со строками"
      ]
    },
    {
      "cell_type": "code",
      "execution_count": 132,
      "id": "329210e0-22c8-42e9-a93d-a37c24a2e08f",
      "metadata": {
        "id": "329210e0-22c8-42e9-a93d-a37c24a2e08f",
        "outputId": "f50da9ce-86a0-46bb-a3a4-fdac40343560",
        "colab": {
          "base_uri": "https://localhost:8080/"
        }
      },
      "outputs": [
        {
          "output_type": "execute_result",
          "data": {
            "text/plain": [
              "['i', 'am', 'enis']"
            ]
          },
          "metadata": {},
          "execution_count": 132
        }
      ],
      "source": [
        "'i am enis'.split()"
      ]
    },
    {
      "cell_type": "code",
      "execution_count": null,
      "id": "90d1a339-2296-485e-a0f2-99be37d3ced3",
      "metadata": {
        "id": "90d1a339-2296-485e-a0f2-99be37d3ced3",
        "outputId": "535837d3-bba9-46b0-fd5d-acab4ccbc28a"
      },
      "outputs": [
        {
          "data": {
            "text/plain": [
              "'i|am|Denis'"
            ]
          },
          "execution_count": 376,
          "metadata": {},
          "output_type": "execute_result"
        }
      ],
      "source": [
        "'|'.join(['i', 'am', 'Denis'])"
      ]
    },
    {
      "cell_type": "markdown",
      "id": "b63f03aa-3fcb-4930-bf82-f40560297b0f",
      "metadata": {
        "id": "b63f03aa-3fcb-4930-bf82-f40560297b0f"
      },
      "source": [
        "### Внутреннее устройство"
      ]
    },
    {
      "cell_type": "markdown",
      "id": "898286f4-5f94-4933-9b59-f16435f6b181",
      "metadata": {
        "id": "898286f4-5f94-4933-9b59-f16435f6b181"
      },
      "source": [
        "https://pythontutor.com/ -- наглядная визуализация происходящего в Python"
      ]
    },
    {
      "cell_type": "markdown",
      "id": "057cba4f-6377-49db-b125-e4a204363dfc",
      "metadata": {
        "id": "057cba4f-6377-49db-b125-e4a204363dfc"
      },
      "source": [
        "Как ни странно, список в Python -- это на самом деле массив :/\n",
        "\n",
        "То есть, внутри список предаставляется как непрерывный кусок памяти, каждый элемент -- это указатель на объект."
      ]
    },
    {
      "cell_type": "markdown",
      "id": "1f605016-59ac-4166-a658-8d79cb7eb6fa",
      "metadata": {
        "id": "1f605016-59ac-4166-a658-8d79cb7eb6fa"
      },
      "source": [
        "![array](https://media.geeksforgeeks.org/wp-content/uploads/array-2.png)"
      ]
    },
    {
      "cell_type": "markdown",
      "id": "a9d74c82-e05f-4dd9-a3c5-8a3afebe09d6",
      "metadata": {
        "id": "a9d74c82-e05f-4dd9-a3c5-8a3afebe09d6"
      },
      "source": [
        "    The implementation uses a contiguous array of references to other objects, and keeps a pointer to this array and the array’s length in a list head structure.\n",
        "    \n",
        "    When items are appended or inserted, the array of references is resized. Some cleverness is applied to improve the performance of appending items repeatedly; when the array must be grown, some extra space is allocated so the next few times don’t require an actual resize. (Python docs)"
      ]
    },
    {
      "cell_type": "markdown",
      "id": "0037551e-7d70-4283-b895-2cecece55bf2",
      "metadata": {
        "id": "0037551e-7d70-4283-b895-2cecece55bf2"
      },
      "source": [
        "**Что это дает на практике?**\n",
        "\n",
        "Важно понимать сложность базовых операций с нашей структурой данных. И в зависимости от этого подбирать правильную структуру данных под определенную задачу."
      ]
    },
    {
      "cell_type": "markdown",
      "id": "f6daf194-5679-478c-af15-7e793dccf0d5",
      "metadata": {
        "id": "f6daf194-5679-478c-af15-7e793dccf0d5"
      },
      "source": [
        "Recap:\n",
        "![o](https://wikimedia.org/api/rest_v1/media/math/render/svg/e45ededce98fd7f1d8866cff71d6311e6510e850), если $\\exists M, x_0$:\n",
        "![o_cond](https://wikimedia.org/api/rest_v1/media/math/render/svg/8248f95babb0ee9002984ae877f30dae8d710025)"
      ]
    },
    {
      "cell_type": "markdown",
      "id": "a6325ff6-b589-4727-8bb6-5b2b30ecc10c",
      "metadata": {
        "id": "a6325ff6-b589-4727-8bb6-5b2b30ecc10c"
      },
      "source": [
        "Так, основное для list:\n",
        "\n",
        "- Доступ по индексу -- O(1)\n",
        "- Дописывание в конец / удаление с конца -- в среднем O(1)\n",
        "- Вставка / удаление в произвольном месте -- O(n)\n",
        "- min, max -- O(n)\n",
        "\n",
        "O(1) означает выполнение за конcтантное время, O(n) -- время выполнения зависит от длины массива"
      ]
    },
    {
      "cell_type": "markdown",
      "id": "2f7eed07-7a3e-43a3-9295-2b8105968bf9",
      "metadata": {
        "id": "2f7eed07-7a3e-43a3-9295-2b8105968bf9"
      },
      "source": [
        "### List Comprehensions"
      ]
    },
    {
      "cell_type": "markdown",
      "id": "878b19c8-e0bc-4634-b294-e6c0212d24ff",
      "metadata": {
        "id": "878b19c8-e0bc-4634-b294-e6c0212d24ff"
      },
      "source": [
        "**Example**"
      ]
    },
    {
      "cell_type": "code",
      "execution_count": null,
      "id": "a403dc1f-3984-4979-85f0-df777b38592b",
      "metadata": {
        "tags": [],
        "id": "a403dc1f-3984-4979-85f0-df777b38592b"
      },
      "outputs": [],
      "source": [
        "symbols = '$¢£¥€¤'"
      ]
    },
    {
      "cell_type": "code",
      "execution_count": null,
      "id": "5138ff9a-3f7f-4e95-867c-12a87ba64092",
      "metadata": {
        "tags": [],
        "id": "5138ff9a-3f7f-4e95-867c-12a87ba64092",
        "outputId": "54793d0c-c15c-4f80-a10e-b736da4a9539"
      },
      "outputs": [
        {
          "data": {
            "text/plain": [
              "[36, 162, 163, 165, 8364, 164]"
            ]
          },
          "execution_count": 364,
          "metadata": {},
          "output_type": "execute_result"
        }
      ],
      "source": [
        "codes = []\n",
        "for s in symbols:\n",
        "    codes.append(ord(s))\n",
        "\n",
        "codes"
      ]
    },
    {
      "cell_type": "code",
      "execution_count": null,
      "id": "9cbf7dbb-7763-46ad-83f7-8a6b894a7e7d",
      "metadata": {
        "tags": [],
        "id": "9cbf7dbb-7763-46ad-83f7-8a6b894a7e7d",
        "outputId": "a135aea5-996f-4a11-db31-625a8f6d4410"
      },
      "outputs": [
        {
          "data": {
            "text/plain": [
              "[36, 162, 163, 165, 8364, 164]"
            ]
          },
          "execution_count": 366,
          "metadata": {},
          "output_type": "execute_result"
        }
      ],
      "source": [
        "codes = [ord(s) for s in symbols]\n",
        "\n",
        "codes"
      ]
    },
    {
      "cell_type": "markdown",
      "id": "bac0cbf5-eb2a-49dc-8a57-3414e8cb1f80",
      "metadata": {
        "id": "bac0cbf5-eb2a-49dc-8a57-3414e8cb1f80"
      },
      "source": [
        "Поддерживают условия, а также могут быть вложенными"
      ]
    },
    {
      "cell_type": "code",
      "execution_count": null,
      "id": "5fa6f244-b73d-4c41-b47b-2b73ce2ce1ed",
      "metadata": {
        "tags": [],
        "id": "5fa6f244-b73d-4c41-b47b-2b73ce2ce1ed",
        "outputId": "fb078064-1db5-4608-f488-e7e13029b737"
      },
      "outputs": [
        {
          "data": {
            "text/plain": [
              "[8364]"
            ]
          },
          "execution_count": 368,
          "metadata": {},
          "output_type": "execute_result"
        }
      ],
      "source": [
        "[ord(s) for s in symbols if ord(s) > 200]"
      ]
    },
    {
      "cell_type": "code",
      "execution_count": null,
      "id": "3fbdaa62-f22e-464a-b44e-63a15454d197",
      "metadata": {
        "tags": [],
        "id": "3fbdaa62-f22e-464a-b44e-63a15454d197",
        "outputId": "712cf9fe-3ec3-431b-dc72-9fc09805f7d5"
      },
      "outputs": [
        {
          "data": {
            "text/plain": [
              "[-1, -1, -1, -1, 8364, -1]"
            ]
          },
          "execution_count": 370,
          "metadata": {},
          "output_type": "execute_result"
        }
      ],
      "source": [
        "[ord(s) if ord(s) > 200 else -1 for s in symbols]"
      ]
    },
    {
      "cell_type": "markdown",
      "id": "55806eb3-8d17-4523-90ab-daaecee82945",
      "metadata": {
        "id": "55806eb3-8d17-4523-90ab-daaecee82945"
      },
      "source": [
        "**Listcomp для убирания вложенности в списке**"
      ]
    },
    {
      "cell_type": "code",
      "execution_count": null,
      "id": "5ffb98ba-2d3e-461d-b24b-a158e4d02632",
      "metadata": {
        "tags": [],
        "id": "5ffb98ba-2d3e-461d-b24b-a158e4d02632"
      },
      "outputs": [],
      "source": [
        "a = [[1, 2], [3, 4], [5, 6], [7, 8]]\n",
        "\n",
        "b = [item for inner_list in a for item in inner_list]\n",
        "\n",
        "flattened_a = []\n",
        "for inner_list in a:\n",
        "    for item in inner_list:\n",
        "        flattened_a.append(item)\n",
        "\n",
        "assert b == [1, 2, 3, 4, 5, 6, 7, 8]\n",
        "assert flattened_a == [1, 2, 3, 4, 5, 6, 7, 8]"
      ]
    },
    {
      "cell_type": "code",
      "execution_count": null,
      "id": "40bf77c7-5569-455b-8a8e-c2b0ce9f8329",
      "metadata": {
        "id": "40bf77c7-5569-455b-8a8e-c2b0ce9f8329",
        "outputId": "c2d3ff7c-9783-4e0d-c8f7-2b1da9a3267e"
      },
      "outputs": [
        {
          "data": {
            "text/plain": [
              "([1, 2, 3, 4, 5, 6, 7, 8],\n",
              " [[1, 2], [3, 4], [5, 6], [7, 8]],\n",
              " [1, 2, 3, 4, 5, 6, 7, 8])"
            ]
          },
          "execution_count": 380,
          "metadata": {},
          "output_type": "execute_result"
        }
      ],
      "source": [
        "flattened_a, a, b"
      ]
    },
    {
      "cell_type": "markdown",
      "id": "0c3db859-f220-4c35-b81a-5abb07f4d75b",
      "metadata": {
        "id": "0c3db859-f220-4c35-b81a-5abb07f4d75b"
      },
      "source": [
        "**Вспомним наш пример с размерами одежды**. Как можно сгенерировать список из всевозможных пар?"
      ]
    },
    {
      "cell_type": "code",
      "execution_count": null,
      "id": "4af50339-64c5-4f23-b086-b1dc8e12ccdc",
      "metadata": {
        "id": "4af50339-64c5-4f23-b086-b1dc8e12ccdc",
        "outputId": "113a4326-28b9-4c3b-a430-1e81a745083f"
      },
      "outputs": [
        {
          "data": {
            "text/plain": [
              "['black S', 'black M', 'black L', 'white S', 'white M', 'white L']"
            ]
          },
          "execution_count": 394,
          "metadata": {},
          "output_type": "execute_result"
        }
      ],
      "source": [
        "all_color_sizes = []\n",
        "for color in colors:\n",
        "    for size in sizes:\n",
        "        all_color_sizes.append(f'{color} {size}')\n",
        "\n",
        "all_color_sizes"
      ]
    },
    {
      "cell_type": "code",
      "execution_count": null,
      "id": "2af90856-3eb8-42bf-95a2-102623756a89",
      "metadata": {
        "tags": [],
        "id": "2af90856-3eb8-42bf-95a2-102623756a89",
        "outputId": "4618c9d0-0c59-4616-f1b3-ea545d0aca71"
      },
      "outputs": [
        {
          "data": {
            "text/plain": [
              "['black S', 'black M', 'black L', 'white S', 'white M', 'white L']"
            ]
          },
          "execution_count": 393,
          "metadata": {},
          "output_type": "execute_result"
        }
      ],
      "source": [
        "colors = ['black', 'white']\n",
        "sizes = ['S', 'M', 'L']\n",
        "\n",
        "# your code\n",
        "[f'{color} {size}' for color in colors for size in sizes]"
      ]
    },
    {
      "cell_type": "markdown",
      "id": "65a53907-87e0-42bd-b8c3-8f4ee1a6a76c",
      "metadata": {
        "id": "65a53907-87e0-42bd-b8c3-8f4ee1a6a76c"
      },
      "source": [
        "### Generator expressions"
      ]
    },
    {
      "cell_type": "markdown",
      "id": "a5cf80cb-74af-4cfe-a5fa-9d4615af53b9",
      "metadata": {
        "id": "a5cf80cb-74af-4cfe-a5fa-9d4615af53b9"
      },
      "source": [
        "Как list comprehension, только создает и выдает элементы на лету"
      ]
    },
    {
      "cell_type": "code",
      "execution_count": null,
      "id": "752b42fb-adca-46cf-bd20-79a5d78904af",
      "metadata": {
        "id": "752b42fb-adca-46cf-bd20-79a5d78904af",
        "outputId": "b01f7660-e60b-472e-f35e-dfe1aa5abb88"
      },
      "outputs": [
        {
          "data": {
            "text/plain": [
              "'$¢£¥€¤'"
            ]
          },
          "execution_count": 403,
          "metadata": {},
          "output_type": "execute_result"
        }
      ],
      "source": [
        "symbols"
      ]
    },
    {
      "cell_type": "code",
      "execution_count": null,
      "id": "b27aac1d-80de-4168-8acc-5a9667f23837",
      "metadata": {
        "id": "b27aac1d-80de-4168-8acc-5a9667f23837",
        "outputId": "ed220d98-c830-4047-b779-beaee26c4c42"
      },
      "outputs": [
        {
          "data": {
            "text/plain": [
              "[36, 162, 163, 165, 8364, 164]"
            ]
          },
          "execution_count": 398,
          "metadata": {},
          "output_type": "execute_result"
        }
      ],
      "source": [
        "[ord(s) for s in symbols]"
      ]
    },
    {
      "cell_type": "code",
      "execution_count": null,
      "id": "c0175d39-221b-48cf-b661-e6a7cb2c2cb3",
      "metadata": {
        "tags": [],
        "id": "c0175d39-221b-48cf-b661-e6a7cb2c2cb3",
        "outputId": "4dbe888c-3df3-457a-e3c2-6a7ff788c586"
      },
      "outputs": [
        {
          "data": {
            "text/plain": [
              "<generator object <genexpr> at 0x7f2bfe065740>"
            ]
          },
          "execution_count": 404,
          "metadata": {},
          "output_type": "execute_result"
        }
      ],
      "source": [
        "gen = (ord(s) for s in symbols)\n",
        "gen"
      ]
    },
    {
      "cell_type": "code",
      "execution_count": null,
      "id": "1b93a9b5-20cb-449c-b591-29c4a752b3b9",
      "metadata": {
        "tags": [],
        "id": "1b93a9b5-20cb-449c-b591-29c4a752b3b9",
        "outputId": "33f41737-2d42-49aa-eee3-729409a18bb2"
      },
      "outputs": [
        {
          "name": "stdout",
          "output_type": "stream",
          "text": [
            "36\n",
            "162\n",
            "163\n",
            "165\n",
            "8364\n",
            "164\n"
          ]
        }
      ],
      "source": [
        "for element in gen:\n",
        "    print(element)"
      ]
    },
    {
      "cell_type": "code",
      "execution_count": null,
      "id": "578a07c1-efa2-47c5-b9fd-1fbcfeb1e2f9",
      "metadata": {
        "tags": [],
        "id": "578a07c1-efa2-47c5-b9fd-1fbcfeb1e2f9"
      },
      "outputs": [],
      "source": [
        "for i in gen:\n",
        "    print(i)"
      ]
    },
    {
      "cell_type": "code",
      "execution_count": null,
      "id": "3ecc5a97-c5cb-46ea-b299-0abc328b830c",
      "metadata": {
        "id": "3ecc5a97-c5cb-46ea-b299-0abc328b830c"
      },
      "outputs": [],
      "source": [
        "gen = (ord(s) for s in symbols)"
      ]
    },
    {
      "cell_type": "code",
      "execution_count": null,
      "id": "fc8c994d-0e72-459a-a1b8-485c4654465a",
      "metadata": {
        "id": "fc8c994d-0e72-459a-a1b8-485c4654465a",
        "outputId": "f83cc5df-9573-48b0-e340-fb460dc2b076"
      },
      "outputs": [
        {
          "name": "stdout",
          "output_type": "stream",
          "text": [
            "[36, 162, 163, 165, 8364, 164]\n"
          ]
        }
      ],
      "source": [
        "print(list(gen))"
      ]
    },
    {
      "cell_type": "markdown",
      "id": "ba2ac352-e656-43d7-8aed-22c27b260f05",
      "metadata": {
        "id": "ba2ac352-e656-43d7-8aed-22c27b260f05"
      },
      "source": [
        "Почему пусто?\n",
        "Генератор \"отдал\" все созданные элементы, больше в нем нет :)"
      ]
    },
    {
      "cell_type": "markdown",
      "id": "ac0ae5c5-ed14-4412-a41b-f83bd0270014",
      "metadata": {
        "id": "ac0ae5c5-ed14-4412-a41b-f83bd0270014"
      },
      "source": [
        "## Range"
      ]
    },
    {
      "cell_type": "markdown",
      "id": "162ea875-d4cf-4154-b4a1-ad559d8d459a",
      "metadata": {
        "id": "162ea875-d4cf-4154-b4a1-ad559d8d459a"
      },
      "source": [
        "range() function generates the immutable sequence (of type rage) of numbers starting from the given start integer to the stop integer\n",
        "\n",
        "`range(start, stop, step)`"
      ]
    },
    {
      "cell_type": "code",
      "execution_count": null,
      "id": "54d53159-975f-42ec-90c7-68975a4d5f12",
      "metadata": {
        "tags": [],
        "id": "54d53159-975f-42ec-90c7-68975a4d5f12",
        "outputId": "341a2024-c322-4992-8d7f-39e058358208"
      },
      "outputs": [
        {
          "data": {
            "text/plain": [
              "range(0, 10)"
            ]
          },
          "execution_count": 415,
          "metadata": {},
          "output_type": "execute_result"
        }
      ],
      "source": [
        "range(10)"
      ]
    },
    {
      "cell_type": "code",
      "execution_count": null,
      "id": "4670534c-3c8b-4f05-90b1-a1a843dfc079",
      "metadata": {
        "tags": [],
        "id": "4670534c-3c8b-4f05-90b1-a1a843dfc079",
        "outputId": "1188d6c2-2c25-4177-e335-944c7a6ba96b"
      },
      "outputs": [
        {
          "data": {
            "text/plain": [
              "[0, 1, 2, 3, 4, 5, 6, 7, 8, 9]"
            ]
          },
          "execution_count": 416,
          "metadata": {},
          "output_type": "execute_result"
        }
      ],
      "source": [
        "list(range(10))"
      ]
    },
    {
      "cell_type": "code",
      "execution_count": 138,
      "id": "486b7e6d-0e6c-44a7-9b3a-cc0de4e645a7",
      "metadata": {
        "tags": [],
        "id": "486b7e6d-0e6c-44a7-9b3a-cc0de4e645a7",
        "outputId": "bcab0db0-e138-46b1-e8cc-861b964180ac",
        "colab": {
          "base_uri": "https://localhost:8080/"
        }
      },
      "outputs": [
        {
          "output_type": "execute_result",
          "data": {
            "text/plain": [
              "[10, 9, 8, 7, 6, 5, 4, 3, 2]"
            ]
          },
          "metadata": {},
          "execution_count": 138
        }
      ],
      "source": [
        "a = range(10, 1, -1)\n",
        "\n",
        "list(a)"
      ]
    },
    {
      "cell_type": "code",
      "execution_count": null,
      "id": "3c6a9f19-f405-4700-8885-5e0bd3a49af7",
      "metadata": {
        "tags": [],
        "id": "3c6a9f19-f405-4700-8885-5e0bd3a49af7",
        "outputId": "54dff67e-79cd-4aa3-a5f6-b82eb4829c9a"
      },
      "outputs": [
        {
          "name": "stdout",
          "output_type": "stream",
          "text": [
            "1\n",
            "3\n",
            "5\n",
            "7\n",
            "9\n"
          ]
        }
      ],
      "source": [
        "for i in a:\n",
        "    print(i)"
      ]
    },
    {
      "cell_type": "markdown",
      "id": "5fb47adc-2f6e-4c09-a93b-1f656a484eed",
      "metadata": {
        "id": "5fb47adc-2f6e-4c09-a93b-1f656a484eed"
      },
      "source": [
        "Поддерживает индексацию"
      ]
    },
    {
      "cell_type": "code",
      "execution_count": null,
      "id": "08a472f3-bb8a-4399-be1e-3ab652b1c979",
      "metadata": {
        "tags": [],
        "id": "08a472f3-bb8a-4399-be1e-3ab652b1c979"
      },
      "outputs": [],
      "source": [
        "a = range(0, 10)"
      ]
    },
    {
      "cell_type": "code",
      "execution_count": null,
      "id": "abc67156-33f9-40e1-8fd9-b4c3c15c9f9b",
      "metadata": {
        "tags": [],
        "id": "abc67156-33f9-40e1-8fd9-b4c3c15c9f9b",
        "outputId": "f4a6c369-ba77-4b45-c796-4d2b70aea10e"
      },
      "outputs": [
        {
          "data": {
            "text/plain": [
              "(1, 3)"
            ]
          },
          "execution_count": 420,
          "metadata": {},
          "output_type": "execute_result"
        }
      ],
      "source": [
        "a[1], a.index(3)"
      ]
    },
    {
      "cell_type": "markdown",
      "id": "a93ba49e-29c3-4103-b28c-e34d007bcafe",
      "metadata": {
        "id": "a93ba49e-29c3-4103-b28c-e34d007bcafe"
      },
      "source": [
        "range не генерирует числа сразу же, а делает это one-by-one. Это хорошо для памяти и скорости"
      ]
    },
    {
      "cell_type": "code",
      "execution_count": 139,
      "id": "12f6e5f9-d73a-4d6d-ac28-fcaa3fc76f51",
      "metadata": {
        "tags": [],
        "id": "12f6e5f9-d73a-4d6d-ac28-fcaa3fc76f51"
      },
      "outputs": [],
      "source": [
        "a = range(1000000000000000000000000000000000000000000000000000000000000000000000000000000000000000000000000000000000)"
      ]
    },
    {
      "cell_type": "code",
      "execution_count": null,
      "id": "952bb632-9b5b-409f-8cb5-c8e684fec444",
      "metadata": {
        "id": "952bb632-9b5b-409f-8cb5-c8e684fec444",
        "outputId": "91597b85-1e4f-4fb9-d29c-aa814d19c13f"
      },
      "outputs": [
        {
          "name": "stdout",
          "output_type": "stream",
          "text": [
            "0 1\n",
            "1 2\n",
            "2 3\n",
            "3 4\n"
          ]
        }
      ],
      "source": [
        "a = [1, 2, 3, 4]\n",
        "\n",
        "for i in range(len(a)):\n",
        "    print(i, a[i])"
      ]
    },
    {
      "cell_type": "markdown",
      "source": [
        "Просто удобная штука, к сведению"
      ],
      "metadata": {
        "id": "jVLoycMBMiTj"
      },
      "id": "jVLoycMBMiTj"
    },
    {
      "cell_type": "code",
      "source": [
        "!pip install tqdm"
      ],
      "metadata": {
        "colab": {
          "base_uri": "https://localhost:8080/"
        },
        "id": "ByrqGcFCMUBL",
        "outputId": "962f749f-d98e-4bb0-d908-b65c6684840d"
      },
      "id": "ByrqGcFCMUBL",
      "execution_count": null,
      "outputs": [
        {
          "output_type": "stream",
          "name": "stdout",
          "text": [
            "Requirement already satisfied: tqdm in /usr/local/lib/python3.10/dist-packages (4.66.5)\n"
          ]
        }
      ]
    },
    {
      "cell_type": "code",
      "source": [
        "from tqdm import tqdm\n",
        "import time\n",
        "\n",
        "items = list(range(0, 30))\n",
        "\n",
        "for item in tqdm(items):\n",
        "    time.sleep(0.1)"
      ],
      "metadata": {
        "colab": {
          "base_uri": "https://localhost:8080/"
        },
        "id": "2W-J-b--Mlhq",
        "outputId": "7e51acc3-e0ab-458b-f541-ece09804da50"
      },
      "id": "2W-J-b--Mlhq",
      "execution_count": 140,
      "outputs": [
        {
          "output_type": "stream",
          "name": "stderr",
          "text": [
            "100%|██████████| 30/30 [00:03<00:00,  9.81it/s]\n"
          ]
        }
      ]
    },
    {
      "cell_type": "markdown",
      "id": "4e2fc743-7ccf-4816-874d-983b3b2ce792",
      "metadata": {
        "id": "4e2fc743-7ccf-4816-874d-983b3b2ce792"
      },
      "source": [
        "## Tuples"
      ]
    },
    {
      "cell_type": "markdown",
      "id": "ccbe166f-8f90-4fa3-9f5e-11ff446b2604",
      "metadata": {
        "id": "ccbe166f-8f90-4fa3-9f5e-11ff446b2604"
      },
      "source": [
        "Очень похоже на списки, только неизменяемые"
      ]
    },
    {
      "cell_type": "code",
      "execution_count": null,
      "id": "dfba179b-9696-447c-8aa8-0758e7dd4ff1",
      "metadata": {
        "ExecuteTime": {
          "end_time": "2022-09-16T08:13:47.933751Z",
          "start_time": "2022-09-16T08:13:47.927350Z"
        },
        "collapsed": true,
        "jupyter": {
          "outputs_hidden": true
        },
        "id": "dfba179b-9696-447c-8aa8-0758e7dd4ff1"
      },
      "outputs": [],
      "source": [
        "a = (1, 2, 3,)"
      ]
    },
    {
      "cell_type": "code",
      "execution_count": null,
      "id": "79ab1219-8023-4484-b571-f5c9b29d2e8e",
      "metadata": {
        "ExecuteTime": {
          "end_time": "2022-09-16T08:14:01.331791Z",
          "start_time": "2022-09-16T08:14:01.319195Z"
        },
        "jupyter": {
          "outputs_hidden": true
        },
        "id": "79ab1219-8023-4484-b571-f5c9b29d2e8e",
        "outputId": "d255ffcf-07c1-4987-9306-5bf9f540e0d6"
      },
      "outputs": [
        {
          "ename": "TypeError",
          "evalue": "'tuple' object does not support item assignment",
          "output_type": "error",
          "traceback": [
            "\u001b[0;31m---------------------------------------------------------------------------\u001b[0m",
            "\u001b[0;31mTypeError\u001b[0m                                 Traceback (most recent call last)",
            "Input \u001b[0;32mIn [2]\u001b[0m, in \u001b[0;36m<cell line: 1>\u001b[0;34m()\u001b[0m\n\u001b[0;32m----> 1\u001b[0m a[\u001b[38;5;241m0\u001b[39m] \u001b[38;5;241m=\u001b[39m \u001b[38;5;241m3\u001b[39m\n",
            "\u001b[0;31mTypeError\u001b[0m: 'tuple' object does not support item assignment"
          ]
        }
      ],
      "source": [
        "a[0] = 3"
      ]
    },
    {
      "cell_type": "markdown",
      "id": "2b9633d9-d6e6-41a4-9120-a6da733ed4cd",
      "metadata": {
        "id": "2b9633d9-d6e6-41a4-9120-a6da733ed4cd"
      },
      "source": [
        "**Be careful!**\n",
        "Если внутренний элемент изменяемый, то можно его менять inplace"
      ]
    },
    {
      "cell_type": "code",
      "execution_count": null,
      "id": "af1f65af-f69e-442d-a763-baa15e815ce1",
      "metadata": {
        "ExecuteTime": {
          "end_time": "2022-09-16T08:15:07.745969Z",
          "start_time": "2022-09-16T08:15:07.740276Z"
        },
        "collapsed": true,
        "jupyter": {
          "outputs_hidden": true
        },
        "id": "af1f65af-f69e-442d-a763-baa15e815ce1"
      },
      "outputs": [],
      "source": [
        "a = (1, [1, 2], 3)\n",
        "a[1].append(4)"
      ]
    },
    {
      "cell_type": "code",
      "execution_count": null,
      "id": "e956bd59-ad31-4845-a7b4-a0b3deff7c18",
      "metadata": {
        "ExecuteTime": {
          "end_time": "2022-09-16T08:15:10.004318Z",
          "start_time": "2022-09-16T08:15:09.993233Z"
        },
        "jupyter": {
          "outputs_hidden": true
        },
        "id": "e956bd59-ad31-4845-a7b4-a0b3deff7c18",
        "outputId": "f734c4a4-d936-4d63-c1b9-89ef863da3f7"
      },
      "outputs": [
        {
          "data": {
            "text/plain": [
              "(1, [1, 2, 4], 3)"
            ]
          },
          "execution_count": 4,
          "metadata": {},
          "output_type": "execute_result"
        }
      ],
      "source": [
        "a"
      ]
    },
    {
      "cell_type": "code",
      "execution_count": null,
      "id": "07d7df09-0422-4982-82dc-7431ad9ee67e",
      "metadata": {
        "ExecuteTime": {
          "end_time": "2022-09-16T08:16:11.422278Z",
          "start_time": "2022-09-16T08:16:11.407080Z"
        },
        "jupyter": {
          "outputs_hidden": true
        },
        "id": "07d7df09-0422-4982-82dc-7431ad9ee67e",
        "outputId": "fc1eddfc-68a3-4f3e-aa6d-ecdc0bfcbd0a"
      },
      "outputs": [
        {
          "ename": "TypeError",
          "evalue": "'tuple' object does not support item assignment",
          "output_type": "error",
          "traceback": [
            "\u001b[0;31m---------------------------------------------------------------------------\u001b[0m",
            "\u001b[0;31mTypeError\u001b[0m                                 Traceback (most recent call last)",
            "Input \u001b[0;32mIn [5]\u001b[0m, in \u001b[0;36m<cell line: 2>\u001b[0;34m()\u001b[0m\n\u001b[1;32m      1\u001b[0m t \u001b[38;5;241m=\u001b[39m (\u001b[38;5;241m1\u001b[39m, \u001b[38;5;241m2\u001b[39m, [\u001b[38;5;241m30\u001b[39m, \u001b[38;5;241m40\u001b[39m])\n\u001b[0;32m----> 2\u001b[0m t[\u001b[38;5;241m2\u001b[39m] \u001b[38;5;241m+\u001b[39m\u001b[38;5;241m=\u001b[39m [\u001b[38;5;241m50\u001b[39m, \u001b[38;5;241m60\u001b[39m]\n",
            "\u001b[0;31mTypeError\u001b[0m: 'tuple' object does not support item assignment"
          ]
        }
      ],
      "source": [
        "t = (1, 2, [30, 40])\n",
        "t[2] += [50, 60]"
      ]
    },
    {
      "cell_type": "code",
      "execution_count": null,
      "id": "383d9504",
      "metadata": {
        "ExecuteTime": {
          "end_time": "2022-09-16T08:16:54.280163Z",
          "start_time": "2022-09-16T08:16:54.274570Z"
        },
        "id": "383d9504",
        "outputId": "708bd47e-acb2-438e-db0e-3c3a19548378"
      },
      "outputs": [
        {
          "data": {
            "text/plain": [
              "(1, 2, [30, 40, 50, 60])"
            ]
          },
          "execution_count": 6,
          "metadata": {},
          "output_type": "execute_result"
        }
      ],
      "source": [
        "t"
      ]
    },
    {
      "cell_type": "markdown",
      "id": "4e801ccf-6c61-43a6-a914-29aa6e79a745",
      "metadata": {
        "id": "4e801ccf-6c61-43a6-a914-29aa6e79a745"
      },
      "source": [
        "https://stackoverflow.com/questions/68630/are-tuples-more-efficient-than-lists-in-python/22140115#22140115"
      ]
    },
    {
      "cell_type": "markdown",
      "id": "14183cfd-653c-474a-932f-62d6ee77654d",
      "metadata": {
        "id": "14183cfd-653c-474a-932f-62d6ee77654d"
      },
      "source": [
        "• To evaluate a tuple literal, the Python compiler generates bytecode for a tuple constant in one operation; but for a list literal, the generated bytecode pushes each element as a separate constant to the data stack, and then builds the list.\n",
        "\n",
        "• Given a tuple t, tuple(t) simply returns a reference to the same t. There’s no need to copy. In contrast, given a list l, the list(l) constructor must create a new copy of l.\n",
        "\n",
        "• Because of its fixed length, a tuple instance is allocated the exact memory space it needs. Instances of list, on the other\n",
        "hand, are allocated with room to spare, to amortize the cost of future appends.\n",
        "\n",
        "• The references to the items in a tuple are stored in an array in the tuple struct, while a list holds a pointer to an array of references stored elsewhere. The indirection is necessary because when a list grows beyond the space currently allocated, Python needs to reallocate the array of references to make room. The extra indirection makes CPU caches less effective."
      ]
    },
    {
      "cell_type": "code",
      "execution_count": null,
      "id": "da149ef3-e55b-4872-853c-c0f44e648965",
      "metadata": {
        "ExecuteTime": {
          "end_time": "2022-09-16T08:18:05.970777Z",
          "start_time": "2022-09-16T08:18:05.964256Z"
        },
        "jupyter": {
          "outputs_hidden": true
        },
        "id": "da149ef3-e55b-4872-853c-c0f44e648965",
        "outputId": "36a3bd62-6b08-440e-eb20-5d466fe8fb95"
      },
      "outputs": [
        {
          "data": {
            "text/plain": [
              "(140213493983408, 140213493983408)"
            ]
          },
          "execution_count": 7,
          "metadata": {},
          "output_type": "execute_result"
        }
      ],
      "source": [
        "a = (1, 2, 3, 4)\n",
        "b = tuple(a)\n",
        "\n",
        "id(a), id(b)"
      ]
    },
    {
      "cell_type": "code",
      "execution_count": null,
      "id": "ed6d4f55-2c1d-484d-86fa-00c991be8b39",
      "metadata": {
        "ExecuteTime": {
          "end_time": "2022-09-16T08:18:52.559431Z",
          "start_time": "2022-09-16T08:18:52.553831Z"
        },
        "jupyter": {
          "outputs_hidden": true
        },
        "id": "ed6d4f55-2c1d-484d-86fa-00c991be8b39",
        "outputId": "7c510705-c73e-4716-97ff-3a52eefe3c69"
      },
      "outputs": [
        {
          "data": {
            "text/plain": [
              "(140214004418496, 140213494299904)"
            ]
          },
          "execution_count": 8,
          "metadata": {},
          "output_type": "execute_result"
        }
      ],
      "source": [
        "a = [1, 2, 3, 4]\n",
        "b = list(a)\n",
        "\n",
        "id(a), id(b)"
      ]
    },
    {
      "cell_type": "markdown",
      "id": "89fe35b0-86fa-4155-b6e3-42959f9e005a",
      "metadata": {
        "id": "89fe35b0-86fa-4155-b6e3-42959f9e005a"
      },
      "source": [
        "## Unpacking"
      ]
    },
    {
      "cell_type": "markdown",
      "id": "a77a10a4-79f9-4257-a709-17e4e31ecef8",
      "metadata": {
        "id": "a77a10a4-79f9-4257-a709-17e4e31ecef8"
      },
      "source": [
        "Работает с любым итерируемым объектом в Python"
      ]
    },
    {
      "cell_type": "code",
      "execution_count": null,
      "id": "b033ae78-3a6f-41f9-ad85-64339ed98c61",
      "metadata": {
        "ExecuteTime": {
          "end_time": "2022-09-16T08:24:52.225972Z",
          "start_time": "2022-09-16T08:24:52.220385Z"
        },
        "jupyter": {
          "outputs_hidden": true
        },
        "id": "b033ae78-3a6f-41f9-ad85-64339ed98c61",
        "outputId": "58ddcf91-6575-43dc-f092-a2302e66aa9a"
      },
      "outputs": [
        {
          "data": {
            "text/plain": [
              "(10.0, -11.0)"
            ]
          },
          "execution_count": 12,
          "metadata": {},
          "output_type": "execute_result"
        }
      ],
      "source": [
        "coordinates = (10., -11.)\n",
        "\n",
        "lat, lon = coordinates\n",
        "\n",
        "lat, lon"
      ]
    },
    {
      "cell_type": "code",
      "execution_count": null,
      "id": "e8ce3346-e5ce-4b14-88fc-f5ab13b299aa",
      "metadata": {
        "ExecuteTime": {
          "end_time": "2022-09-16T08:27:08.968521Z",
          "start_time": "2022-09-16T08:27:08.963105Z"
        },
        "collapsed": true,
        "jupyter": {
          "outputs_hidden": true
        },
        "id": "e8ce3346-e5ce-4b14-88fc-f5ab13b299aa"
      },
      "outputs": [],
      "source": [
        "lon, lat = lat, lon"
      ]
    },
    {
      "cell_type": "code",
      "source": [
        "a, b, c = [1, 2, 3 ]\n",
        "a"
      ],
      "metadata": {
        "colab": {
          "base_uri": "https://localhost:8080/"
        },
        "id": "tkNvuHZEWTS7",
        "outputId": "47665ff4-3c78-42e8-f34b-b1567e90ce45"
      },
      "id": "tkNvuHZEWTS7",
      "execution_count": null,
      "outputs": [
        {
          "output_type": "execute_result",
          "data": {
            "text/plain": [
              "1"
            ]
          },
          "metadata": {},
          "execution_count": 48
        }
      ]
    },
    {
      "cell_type": "markdown",
      "source": [
        "Тоже доступно для словарей"
      ],
      "metadata": {
        "id": "dXY8CbFAWkmR"
      },
      "id": "dXY8CbFAWkmR"
    },
    {
      "cell_type": "code",
      "source": [
        "my_dict = {'name': 'Alice', 'age': 25}\n",
        "for key, value in my_dict.items():\n",
        "    print(key, value)"
      ],
      "metadata": {
        "colab": {
          "base_uri": "https://localhost:8080/"
        },
        "id": "RFNtVK-_Wne7",
        "outputId": "8a58c3ac-db54-49b0-a35d-79094743d2b5"
      },
      "id": "RFNtVK-_Wne7",
      "execution_count": null,
      "outputs": [
        {
          "output_type": "stream",
          "name": "stdout",
          "text": [
            "name Alice\n",
            "age 25\n"
          ]
        }
      ]
    },
    {
      "cell_type": "markdown",
      "source": [
        "\n",
        "\n",
        "\n",
        "```\n",
        "* -\tCollects positional arguments into a tuple.\tUnpacks iterables like lists and tuples.\n",
        "** -\tCollects keyword arguments into a dictionary. Unpacks dictionaries into key-value pairs.\n",
        "```\n",
        "\n"
      ],
      "metadata": {
        "id": "JKH0YmDNW8i8"
      },
      "id": "JKH0YmDNW8i8"
    },
    {
      "cell_type": "code",
      "source": [
        "def func(a, b, c):\n",
        "    print(a, b, c)\n",
        "\n",
        "func(**{'a':1, 'c':2, 'b': 3}) # распаковывает в соотвевии"
      ],
      "metadata": {
        "colab": {
          "base_uri": "https://localhost:8080/"
        },
        "id": "2D1h4taKW8HZ",
        "outputId": "a4947e1d-e477-4af3-ae73-6e28a4e7ce3e"
      },
      "id": "2D1h4taKW8HZ",
      "execution_count": 145,
      "outputs": [
        {
          "output_type": "stream",
          "name": "stdout",
          "text": [
            "1 3 2\n"
          ]
        }
      ]
    },
    {
      "cell_type": "code",
      "source": [
        "def func(**kwds):\n",
        "  print(kwds)\n",
        "\n",
        "func(a=1, b=2, c=3, e=6) # и в обратную сторону работает"
      ],
      "metadata": {
        "colab": {
          "base_uri": "https://localhost:8080/"
        },
        "id": "YHCSLI0NX0rc",
        "outputId": "f244d897-4da1-4633-ed71-d2298a608d27"
      },
      "id": "YHCSLI0NX0rc",
      "execution_count": null,
      "outputs": [
        {
          "output_type": "stream",
          "name": "stdout",
          "text": [
            "{'a': 1, 'b': 2, 'c': 3, 'e': 6}\n"
          ]
        }
      ]
    },
    {
      "cell_type": "markdown",
      "id": "f9d9db93-e8c6-4392-ba90-f599338d387b",
      "metadata": {
        "id": "f9d9db93-e8c6-4392-ba90-f599338d387b"
      },
      "source": [
        "Лишние значения можно свернуть"
      ]
    },
    {
      "cell_type": "code",
      "execution_count": null,
      "id": "f2928bef-abd7-43a8-95f6-41aaee7e0b32",
      "metadata": {
        "ExecuteTime": {
          "end_time": "2022-09-16T08:27:11.237486Z",
          "start_time": "2022-09-16T08:27:11.232125Z"
        },
        "jupyter": {
          "outputs_hidden": true
        },
        "id": "f2928bef-abd7-43a8-95f6-41aaee7e0b32",
        "outputId": "a51259dc-25a6-4fcd-985b-16b9d5582082"
      },
      "outputs": [
        {
          "data": {
            "text/plain": [
              "[0, 1, 2, 3, 4, 5, 6, 7, 8, 9]"
            ]
          },
          "execution_count": 16,
          "metadata": {},
          "output_type": "execute_result"
        }
      ],
      "source": [
        "list(range(10))"
      ]
    },
    {
      "cell_type": "code",
      "execution_count": null,
      "id": "de15e2b5-7709-4330-957a-59e8e1823b97",
      "metadata": {
        "ExecuteTime": {
          "end_time": "2022-09-16T08:27:37.717623Z",
          "start_time": "2022-09-16T08:27:37.712150Z"
        },
        "collapsed": true,
        "jupyter": {
          "outputs_hidden": true
        },
        "id": "de15e2b5-7709-4330-957a-59e8e1823b97"
      },
      "outputs": [],
      "source": [
        "a, b, *rest = range(10)"
      ]
    },
    {
      "cell_type": "code",
      "execution_count": null,
      "id": "0ccd68fa-ae51-43c2-b32c-50e56bb92266",
      "metadata": {
        "ExecuteTime": {
          "end_time": "2022-09-16T08:27:38.704993Z",
          "start_time": "2022-09-16T08:27:38.696881Z"
        },
        "jupyter": {
          "outputs_hidden": true
        },
        "id": "0ccd68fa-ae51-43c2-b32c-50e56bb92266",
        "outputId": "70f75c18-c470-47e0-9764-9a4bfcbf691c"
      },
      "outputs": [
        {
          "data": {
            "text/plain": [
              "(0, 1)"
            ]
          },
          "execution_count": 18,
          "metadata": {},
          "output_type": "execute_result"
        }
      ],
      "source": [
        "a, b"
      ]
    },
    {
      "cell_type": "code",
      "execution_count": null,
      "id": "09a0f99d-cff5-4f2c-95bc-ab0112957b43",
      "metadata": {
        "ExecuteTime": {
          "end_time": "2022-09-16T08:27:43.839836Z",
          "start_time": "2022-09-16T08:27:43.831985Z"
        },
        "jupyter": {
          "outputs_hidden": true
        },
        "id": "09a0f99d-cff5-4f2c-95bc-ab0112957b43",
        "outputId": "0d02b641-052d-4851-a580-fc1989e0b586"
      },
      "outputs": [
        {
          "data": {
            "text/plain": [
              "[2, 3, 4, 5, 6, 7, 8, 9]"
            ]
          },
          "execution_count": 19,
          "metadata": {},
          "output_type": "execute_result"
        }
      ],
      "source": [
        "rest"
      ]
    },
    {
      "cell_type": "markdown",
      "id": "58bc679e-0062-4f17-b50b-a1ea7133059a",
      "metadata": {
        "id": "58bc679e-0062-4f17-b50b-a1ea7133059a"
      },
      "source": [
        "или"
      ]
    },
    {
      "cell_type": "code",
      "execution_count": null,
      "id": "68aed12e-5e7e-4d35-9b44-ec892183ca60",
      "metadata": {
        "ExecuteTime": {
          "end_time": "2022-09-16T08:27:56.545857Z",
          "start_time": "2022-09-16T08:27:56.540176Z"
        },
        "collapsed": true,
        "jupyter": {
          "outputs_hidden": true
        },
        "id": "68aed12e-5e7e-4d35-9b44-ec892183ca60"
      },
      "outputs": [],
      "source": [
        "first, *rest, last = range(10)"
      ]
    },
    {
      "cell_type": "code",
      "execution_count": null,
      "id": "39c764e6-2ff0-49af-8af6-0ebf1c4a8ecc",
      "metadata": {
        "ExecuteTime": {
          "end_time": "2022-09-16T08:27:57.567081Z",
          "start_time": "2022-09-16T08:27:57.558733Z"
        },
        "jupyter": {
          "outputs_hidden": true
        },
        "id": "39c764e6-2ff0-49af-8af6-0ebf1c4a8ecc",
        "outputId": "53289df0-7113-415e-faf2-aad785e3abd1"
      },
      "outputs": [
        {
          "data": {
            "text/plain": [
              "(0, 9)"
            ]
          },
          "execution_count": 21,
          "metadata": {},
          "output_type": "execute_result"
        }
      ],
      "source": [
        "first, last"
      ]
    },
    {
      "cell_type": "code",
      "execution_count": null,
      "id": "15d3ea4a-ad91-48e5-95d7-1a543d8fd971",
      "metadata": {
        "ExecuteTime": {
          "end_time": "2022-09-16T08:28:01.780339Z",
          "start_time": "2022-09-16T08:28:01.775026Z"
        },
        "jupyter": {
          "outputs_hidden": true
        },
        "id": "15d3ea4a-ad91-48e5-95d7-1a543d8fd971",
        "outputId": "fb57da1d-2887-4035-d873-97a74296d2fc"
      },
      "outputs": [
        {
          "data": {
            "text/plain": [
              "[1, 2, 3, 4, 5, 6, 7, 8]"
            ]
          },
          "execution_count": 22,
          "metadata": {},
          "output_type": "execute_result"
        }
      ],
      "source": [
        "rest"
      ]
    },
    {
      "cell_type": "markdown",
      "id": "2ac220f7-8733-4bb4-b0fa-c75ae7fee68a",
      "metadata": {
        "id": "2ac220f7-8733-4bb4-b0fa-c75ae7fee68a"
      },
      "source": [
        "**+=, *=**"
      ]
    },
    {
      "cell_type": "code",
      "execution_count": null,
      "id": "478b599e-73a7-432b-be4c-5893a2888014",
      "metadata": {
        "ExecuteTime": {
          "end_time": "2022-09-16T08:28:07.208087Z",
          "start_time": "2022-09-16T08:28:07.203225Z"
        },
        "jupyter": {
          "outputs_hidden": true
        },
        "id": "478b599e-73a7-432b-be4c-5893a2888014",
        "outputId": "cd45d2b0-7de7-40c5-c27a-dd3ce9f4481e"
      },
      "outputs": [
        {
          "name": "stdout",
          "output_type": "stream",
          "text": [
            "140213494212608\n",
            "140213494063168\n",
            "140213493931328\n"
          ]
        }
      ],
      "source": [
        "a = (1, 2, 3)\n",
        "print(id(a))\n",
        "\n",
        "a *= 3\n",
        "print(id(a))\n",
        "\n",
        "a += (10, 11)\n",
        "print(id(a))"
      ]
    },
    {
      "cell_type": "markdown",
      "id": "aca17610-a8f9-4b6d-91ee-4cd341e98dd6",
      "metadata": {
        "id": "aca17610-a8f9-4b6d-91ee-4cd341e98dd6"
      },
      "source": [
        "Tuple (кортеж) -- неизменяемый объект, поэтому каждый раз создается новый"
      ]
    },
    {
      "cell_type": "markdown",
      "id": "70778103-3607-42c8-bb1f-e3cbbe3c8660",
      "metadata": {
        "id": "70778103-3607-42c8-bb1f-e3cbbe3c8660"
      },
      "source": [
        "## Named Tuples"
      ]
    },
    {
      "cell_type": "code",
      "execution_count": null,
      "id": "b2a036c8-aa81-4801-a60e-ccd37cbd5c69",
      "metadata": {
        "ExecuteTime": {
          "end_time": "2022-09-16T08:29:04.947798Z",
          "start_time": "2022-09-16T08:29:04.942525Z"
        },
        "collapsed": true,
        "jupyter": {
          "outputs_hidden": true
        },
        "id": "b2a036c8-aa81-4801-a60e-ccd37cbd5c69"
      },
      "outputs": [],
      "source": [
        "from collections import namedtuple"
      ]
    },
    {
      "cell_type": "code",
      "execution_count": null,
      "id": "6215b04b-4b39-41b2-9504-88fb0cc56603",
      "metadata": {
        "ExecuteTime": {
          "end_time": "2022-09-16T08:29:07.743688Z",
          "start_time": "2022-09-16T08:29:07.738233Z"
        },
        "collapsed": true,
        "jupyter": {
          "outputs_hidden": true
        },
        "id": "6215b04b-4b39-41b2-9504-88fb0cc56603"
      },
      "outputs": [],
      "source": [
        "Subject = namedtuple('Subject', 'name difficulty')"
      ]
    },
    {
      "cell_type": "code",
      "source": [
        "Subject2 = namedtuple('Subject2', ['name','difficulty'])"
      ],
      "metadata": {
        "id": "hO6xjRjQYdBk"
      },
      "id": "hO6xjRjQYdBk",
      "execution_count": null,
      "outputs": []
    },
    {
      "cell_type": "code",
      "execution_count": null,
      "id": "640c26f8-13a5-4061-9248-417b749d7f61",
      "metadata": {
        "ExecuteTime": {
          "end_time": "2022-09-16T08:29:41.177271Z",
          "start_time": "2022-09-16T08:29:41.171660Z"
        },
        "jupyter": {
          "outputs_hidden": true
        },
        "id": "640c26f8-13a5-4061-9248-417b749d7f61",
        "outputId": "1e93da3b-12db-42bf-f18c-67aeefacb8f3",
        "colab": {
          "base_uri": "https://localhost:8080/"
        }
      },
      "outputs": [
        {
          "output_type": "execute_result",
          "data": {
            "text/plain": [
              "Subject(name='Python', difficulty=1)"
            ]
          },
          "metadata": {},
          "execution_count": 66
        }
      ],
      "source": [
        "python_course = Subject('Python', 1)\n",
        "python_course"
      ]
    },
    {
      "cell_type": "code",
      "source": [
        "python_course2 = Subject2('Python', 1)\n",
        "python_course2"
      ],
      "metadata": {
        "colab": {
          "base_uri": "https://localhost:8080/"
        },
        "id": "jDEuDwtOYjTE",
        "outputId": "bca69406-ea8d-46c1-95a5-b0488ec616e2"
      },
      "id": "jDEuDwtOYjTE",
      "execution_count": null,
      "outputs": [
        {
          "output_type": "execute_result",
          "data": {
            "text/plain": [
              "Subject2(name='Python', difficulty=1)"
            ]
          },
          "metadata": {},
          "execution_count": 69
        }
      ]
    },
    {
      "cell_type": "code",
      "execution_count": null,
      "id": "87236884-c33b-4b35-b08b-90ab07677e8c",
      "metadata": {
        "ExecuteTime": {
          "end_time": "2022-09-16T08:29:41.856605Z",
          "start_time": "2022-09-16T08:29:41.848159Z"
        },
        "jupyter": {
          "outputs_hidden": true
        },
        "id": "87236884-c33b-4b35-b08b-90ab07677e8c",
        "outputId": "bb5a1d67-fdbe-4053-9700-932a6eaee271",
        "colab": {
          "base_uri": "https://localhost:8080/"
        }
      },
      "outputs": [
        {
          "output_type": "execute_result",
          "data": {
            "text/plain": [
              "('Python', 1)"
            ]
          },
          "metadata": {},
          "execution_count": 70
        }
      ],
      "source": [
        "python_course[0], python_course[1]"
      ]
    },
    {
      "cell_type": "code",
      "execution_count": null,
      "id": "2581650d-488a-4fb3-81d3-f12e0db17cba",
      "metadata": {
        "ExecuteTime": {
          "end_time": "2022-09-16T08:29:58.782815Z",
          "start_time": "2022-09-16T08:29:58.777527Z"
        },
        "jupyter": {
          "outputs_hidden": true
        },
        "id": "2581650d-488a-4fb3-81d3-f12e0db17cba",
        "outputId": "51b14fef-c551-4299-bbd7-1856465bed0f",
        "colab": {
          "base_uri": "https://localhost:8080/"
        }
      },
      "outputs": [
        {
          "output_type": "execute_result",
          "data": {
            "text/plain": [
              "('Python', 1)"
            ]
          },
          "metadata": {},
          "execution_count": 71
        }
      ],
      "source": [
        "python_course.name, python_course.difficulty"
      ]
    },
    {
      "cell_type": "markdown",
      "id": "1888d78f-49f3-43ba-a4cb-7f2dec60fe70",
      "metadata": {
        "id": "1888d78f-49f3-43ba-a4cb-7f2dec60fe70"
      },
      "source": [
        "## Arrays"
      ]
    },
    {
      "cell_type": "markdown",
      "id": "fed8f7cb-e993-4313-9616-0c3cefeb0fc9",
      "metadata": {
        "id": "fed8f7cb-e993-4313-9616-0c3cefeb0fc9"
      },
      "source": [
        "Если очень хочется скорости для работы с числами и файлами, то можно пользоваться почти C-шными массивами"
      ]
    },
    {
      "cell_type": "markdown",
      "id": "e74ccc86-652e-4d4d-bb07-cc1823a8867e",
      "metadata": {
        "id": "e74ccc86-652e-4d4d-bb07-cc1823a8867e"
      },
      "source": [
        "![](img/python_seq_memory.png)"
      ]
    },
    {
      "cell_type": "code",
      "execution_count": null,
      "id": "fc5a5666-74fa-488d-b24a-a04d09439f47",
      "metadata": {
        "ExecuteTime": {
          "end_time": "2022-09-16T11:28:44.572991Z",
          "start_time": "2022-09-16T11:28:44.567197Z"
        },
        "collapsed": true,
        "jupyter": {
          "outputs_hidden": true
        },
        "id": "fc5a5666-74fa-488d-b24a-a04d09439f47"
      },
      "outputs": [],
      "source": [
        "from array import array"
      ]
    },
    {
      "cell_type": "markdown",
      "id": "6860873a-fe89-4dc2-a060-b66ce80d4e76",
      "metadata": {
        "id": "6860873a-fe89-4dc2-a060-b66ce80d4e76"
      },
      "source": [
        "'b' -- typecode для типа byte (целые от -128 до 127)"
      ]
    },
    {
      "cell_type": "code",
      "source": [
        "a = 120\n",
        "b = 120\n",
        "print(a == b)"
      ],
      "metadata": {
        "colab": {
          "base_uri": "https://localhost:8080/"
        },
        "id": "e6XObZuYLIi8",
        "outputId": "ef02d624-8c9b-400e-d56f-fb2b6de0c4ca"
      },
      "id": "e6XObZuYLIi8",
      "execution_count": 147,
      "outputs": [
        {
          "output_type": "stream",
          "name": "stdout",
          "text": [
            "True\n"
          ]
        }
      ]
    },
    {
      "cell_type": "code",
      "execution_count": null,
      "id": "1b20b85e-5713-45ca-991f-2104c322e99c",
      "metadata": {
        "ExecuteTime": {
          "end_time": "2022-09-16T08:31:14.488970Z",
          "start_time": "2022-09-16T08:31:14.483190Z"
        },
        "collapsed": true,
        "jupyter": {
          "outputs_hidden": true
        },
        "id": "1b20b85e-5713-45ca-991f-2104c322e99c"
      },
      "outputs": [],
      "source": [
        "bytes_array = array('b', (i for i in range(120)))"
      ]
    },
    {
      "cell_type": "code",
      "execution_count": null,
      "id": "6b99fba1-a561-424e-96a3-d09028856aa4",
      "metadata": {
        "ExecuteTime": {
          "end_time": "2022-09-16T08:31:15.651662Z",
          "start_time": "2022-09-16T08:31:15.643498Z"
        },
        "jupyter": {
          "outputs_hidden": true
        },
        "id": "6b99fba1-a561-424e-96a3-d09028856aa4",
        "outputId": "8cf94f12-823f-4658-a023-1a484c5d35db",
        "colab": {
          "base_uri": "https://localhost:8080/"
        }
      },
      "outputs": [
        {
          "output_type": "execute_result",
          "data": {
            "text/plain": [
              "array('b', [0, 1, 2, 3, 4, 5, 6, 7, 8, 9, 10, 11, 12, 13, 14, 15, 16, 17, 18, 19, 20, 21, 22, 23, 24, 25, 26, 27, 28, 29, 30, 31, 32, 33, 34, 35, 36, 37, 38, 39, 40, 41, 42, 43, 44, 45, 46, 47, 48, 49, 50, 51, 52, 53, 54, 55, 56, 57, 58, 59, 60, 61, 62, 63, 64, 65, 66, 67, 68, 69, 70, 71, 72, 73, 74, 75, 76, 77, 78, 79, 80, 81, 82, 83, 84, 85, 86, 87, 88, 89, 90, 91, 92, 93, 94, 95, 96, 97, 98, 99, 100, 101, 102, 103, 104, 105, 106, 107, 108, 109, 110, 111, 112, 113, 114, 115, 116, 117, 118, 119])"
            ]
          },
          "metadata": {},
          "execution_count": 76
        }
      ],
      "source": [
        "bytes_array"
      ]
    },
    {
      "cell_type": "code",
      "execution_count": null,
      "id": "e47031de-9489-431f-ade5-1b0b9841274f",
      "metadata": {
        "ExecuteTime": {
          "end_time": "2022-09-16T08:31:24.050250Z",
          "start_time": "2022-09-16T08:31:24.044965Z"
        },
        "collapsed": true,
        "jupyter": {
          "outputs_hidden": true
        },
        "id": "e47031de-9489-431f-ade5-1b0b9841274f"
      },
      "outputs": [],
      "source": [
        "bytes_array.append(127)"
      ]
    },
    {
      "cell_type": "markdown",
      "id": "f42c98cd-5b6b-4b66-8071-f9a28dea0bad",
      "metadata": {
        "id": "f42c98cd-5b6b-4b66-8071-f9a28dea0bad"
      },
      "source": [
        "Строгость типа не позволяет записать что-то помимо него"
      ]
    },
    {
      "cell_type": "code",
      "execution_count": null,
      "id": "d8d1d629-708c-494b-9ab6-5c6a38dd98a1",
      "metadata": {
        "ExecuteTime": {
          "end_time": "2022-09-16T08:31:33.220068Z",
          "start_time": "2022-09-16T08:31:33.205995Z"
        },
        "jupyter": {
          "outputs_hidden": true
        },
        "id": "d8d1d629-708c-494b-9ab6-5c6a38dd98a1",
        "outputId": "ab9f033b-6ce4-41e3-bf6e-47da4e0fbe40",
        "colab": {
          "base_uri": "https://localhost:8080/",
          "height": 139
        }
      },
      "outputs": [
        {
          "output_type": "error",
          "ename": "OverflowError",
          "evalue": "signed char is greater than maximum",
          "traceback": [
            "\u001b[0;31m---------------------------------------------------------------------------\u001b[0m",
            "\u001b[0;31mOverflowError\u001b[0m                             Traceback (most recent call last)",
            "\u001b[0;32m<ipython-input-79-d11d36961485>\u001b[0m in \u001b[0;36m<cell line: 1>\u001b[0;34m()\u001b[0m\n\u001b[0;32m----> 1\u001b[0;31m \u001b[0mbytes_array\u001b[0m\u001b[0;34m.\u001b[0m\u001b[0mappend\u001b[0m\u001b[0;34m(\u001b[0m\u001b[0;36m256\u001b[0m\u001b[0;34m)\u001b[0m\u001b[0;34m\u001b[0m\u001b[0;34m\u001b[0m\u001b[0m\n\u001b[0m",
            "\u001b[0;31mOverflowError\u001b[0m: signed char is greater than maximum"
          ]
        }
      ],
      "source": [
        "bytes_array.append(256)"
      ]
    },
    {
      "cell_type": "markdown",
      "id": "f9744ddb-6d1c-429e-b3f0-880694219318",
      "metadata": {
        "id": "f9744ddb-6d1c-429e-b3f0-880694219318"
      },
      "source": [
        "есть `array.fromfile() и array.tofile()` для быстрой записи и чтения"
      ]
    },
    {
      "cell_type": "markdown",
      "id": "0eded917-4988-4336-9ca8-2d42dba807dd",
      "metadata": {
        "id": "0eded917-4988-4336-9ca8-2d42dba807dd"
      },
      "source": [
        "Сравним скорость какой-нибудь простой арифметической операции для массива чисел"
      ]
    },
    {
      "cell_type": "code",
      "execution_count": null,
      "id": "7f086fd0-3b02-487c-8cd7-62969e9a0c9b",
      "metadata": {
        "ExecuteTime": {
          "end_time": "2022-09-16T11:28:39.517682Z",
          "start_time": "2022-09-16T11:28:39.501455Z"
        },
        "collapsed": true,
        "jupyter": {
          "outputs_hidden": true
        },
        "id": "7f086fd0-3b02-487c-8cd7-62969e9a0c9b"
      },
      "outputs": [],
      "source": [
        "list_ints = list(range(1000000))"
      ]
    },
    {
      "cell_type": "code",
      "execution_count": null,
      "id": "4fa1e181-15f9-43a7-82fb-637df36b2229",
      "metadata": {
        "ExecuteTime": {
          "end_time": "2022-09-16T08:33:21.432517Z",
          "start_time": "2022-09-16T08:33:03.437913Z"
        },
        "jupyter": {
          "outputs_hidden": true
        },
        "id": "4fa1e181-15f9-43a7-82fb-637df36b2229",
        "outputId": "2e19587e-f291-4322-fbb3-eef69dea7676",
        "colab": {
          "base_uri": "https://localhost:8080/"
        }
      },
      "outputs": [
        {
          "output_type": "stream",
          "name": "stdout",
          "text": [
            "7.67 ms ± 518 µs per loop (mean ± std. dev. of 7 runs, 1000 loops each)\n"
          ]
        }
      ],
      "source": [
        "%%timeit -n 1000\n",
        "sum(list_ints)"
      ]
    },
    {
      "cell_type": "code",
      "execution_count": null,
      "id": "5d842364-bc18-4135-bb0d-b0840b14f715",
      "metadata": {
        "ExecuteTime": {
          "end_time": "2022-09-16T11:28:47.063854Z",
          "start_time": "2022-09-16T11:28:47.023226Z"
        },
        "collapsed": true,
        "jupyter": {
          "outputs_hidden": true
        },
        "id": "5d842364-bc18-4135-bb0d-b0840b14f715"
      },
      "outputs": [],
      "source": [
        "array_ints = array('I', (i for i in range(1000000)))"
      ]
    },
    {
      "cell_type": "code",
      "execution_count": null,
      "id": "7c45a6e5-dd52-48d7-8cab-4d2bb860cec7",
      "metadata": {
        "ExecuteTime": {
          "end_time": "2022-09-16T08:34:24.078809Z",
          "start_time": "2022-09-16T08:33:25.203023Z"
        },
        "jupyter": {
          "outputs_hidden": true
        },
        "id": "7c45a6e5-dd52-48d7-8cab-4d2bb860cec7",
        "outputId": "5a459523-4035-4745-9273-370959732d01",
        "colab": {
          "base_uri": "https://localhost:8080/"
        }
      },
      "outputs": [
        {
          "output_type": "stream",
          "name": "stdout",
          "text": [
            "21.9 ms ± 1.09 ms per loop (mean ± std. dev. of 7 runs, 1000 loops each)\n"
          ]
        }
      ],
      "source": [
        "%%timeit -n 1000\n",
        "sum(array_ints)"
      ]
    },
    {
      "cell_type": "markdown",
      "id": "1dc93efd",
      "metadata": {
        "id": "1dc93efd"
      },
      "source": [
        "Как видим, скорость обычных списков для простой математической операции выше. Но преимущества array могуть быть в другом. В частности, в экономии памяти и в случае чтения и записи из файлов. Об этом ниже"
      ]
    },
    {
      "cell_type": "markdown",
      "id": "14b90eb8-70b3-4d91-a1fa-3543a1eed73a",
      "metadata": {
        "id": "14b90eb8-70b3-4d91-a1fa-3543a1eed73a"
      },
      "source": [
        "# Запись и чтение из файла"
      ]
    },
    {
      "cell_type": "code",
      "execution_count": null,
      "id": "91ddced6-48da-4b19-b85a-40fd5d401cd1",
      "metadata": {
        "ExecuteTime": {
          "end_time": "2022-09-16T08:37:29.897023Z",
          "start_time": "2022-09-16T08:37:29.891982Z"
        },
        "jupyter": {
          "outputs_hidden": true
        },
        "id": "91ddced6-48da-4b19-b85a-40fd5d401cd1",
        "outputId": "6b0c655c-b01b-4cb2-d3dc-b57582edfb98"
      },
      "outputs": [
        {
          "name": "stdout",
          "output_type": "stream",
          "text": [
            "b'Python3 is great'\n"
          ]
        }
      ],
      "source": [
        "filename = 'out.bin'\n",
        "\n",
        "byte_string = bytes('Python3 is great', encoding='utf-8')\n",
        "\n",
        "with open('out.bin', 'wb') as f:\n",
        "    f.write(byte_string)\n",
        "\n",
        "with open('out.bin', 'rb') as f:\n",
        "    content = f.read()\n",
        "    print(content)"
      ]
    },
    {
      "cell_type": "markdown",
      "id": "72689f20-d1ac-415b-ba38-1ae570ac1f8f",
      "metadata": {
        "id": "72689f20-d1ac-415b-ba38-1ae570ac1f8f"
      },
      "source": [
        "Если у нас есть какая-то структура"
      ]
    },
    {
      "cell_type": "code",
      "execution_count": 148,
      "id": "b297f150-f55a-4691-ab25-c9c7ea4faadf",
      "metadata": {
        "ExecuteTime": {
          "end_time": "2022-09-16T08:37:46.735386Z",
          "start_time": "2022-09-16T08:37:46.730148Z"
        },
        "jupyter": {
          "outputs_hidden": true
        },
        "id": "b297f150-f55a-4691-ab25-c9c7ea4faadf",
        "outputId": "814da7fb-77d7-4333-bb6a-c75d186755cd",
        "colab": {
          "base_uri": "https://localhost:8080/"
        }
      },
      "outputs": [
        {
          "output_type": "execute_result",
          "data": {
            "text/plain": [
              "[[1, 2, (4, 5, 3), 'something ()'], ('hello', 6)]"
            ]
          },
          "metadata": {},
          "execution_count": 148
        }
      ],
      "source": [
        "some_object = [[1, 2, (4, 5, 3), 'something ()'], ('hello', 6)]\n",
        "some_object"
      ]
    },
    {
      "cell_type": "code",
      "execution_count": 149,
      "id": "e5e4cd3a-f9f9-4e94-aa16-17e28f2185cc",
      "metadata": {
        "ExecuteTime": {
          "end_time": "2022-09-16T08:38:12.541008Z",
          "start_time": "2022-09-16T08:38:12.534943Z"
        },
        "collapsed": true,
        "jupyter": {
          "outputs_hidden": true
        },
        "id": "e5e4cd3a-f9f9-4e94-aa16-17e28f2185cc"
      },
      "outputs": [],
      "source": [
        "with open('out', 'w') as f:\n",
        "    f.write(str(some_object))"
      ]
    },
    {
      "cell_type": "code",
      "execution_count": 150,
      "id": "ccb1d769-a043-453d-aa7b-27f437189b8f",
      "metadata": {
        "ExecuteTime": {
          "end_time": "2022-09-16T08:38:28.410375Z",
          "start_time": "2022-09-16T08:38:28.406300Z"
        },
        "jupyter": {
          "outputs_hidden": true
        },
        "id": "ccb1d769-a043-453d-aa7b-27f437189b8f",
        "outputId": "8c932ff8-f221-4593-a4d5-89fe8aea6319",
        "colab": {
          "base_uri": "https://localhost:8080/"
        }
      },
      "outputs": [
        {
          "output_type": "stream",
          "name": "stdout",
          "text": [
            "[[1, 2, (4, 5, 3), 'something ()'], ('hello', 6)]\n"
          ]
        }
      ],
      "source": [
        "with open('out', 'r') as f:\n",
        "    content = f.read()\n",
        "    print(content)"
      ]
    },
    {
      "cell_type": "code",
      "source": [
        "content[0] # обычная строка"
      ],
      "metadata": {
        "colab": {
          "base_uri": "https://localhost:8080/",
          "height": 35
        },
        "id": "MoZptqf_aqb5",
        "outputId": "8123658e-4a6d-432a-fd89-3abf264ab95c"
      },
      "id": "MoZptqf_aqb5",
      "execution_count": null,
      "outputs": [
        {
          "output_type": "execute_result",
          "data": {
            "text/plain": [
              "'['"
            ],
            "application/vnd.google.colaboratory.intrinsic+json": {
              "type": "string"
            }
          },
          "metadata": {},
          "execution_count": 88
        }
      ]
    },
    {
      "cell_type": "code",
      "source": [
        "content == some_object"
      ],
      "metadata": {
        "colab": {
          "base_uri": "https://localhost:8080/"
        },
        "id": "U4q9TnVoamZv",
        "outputId": "43be86c6-9822-4367-985c-7cfb5ffc1a40"
      },
      "id": "U4q9TnVoamZv",
      "execution_count": null,
      "outputs": [
        {
          "output_type": "execute_result",
          "data": {
            "text/plain": [
              "False"
            ]
          },
          "metadata": {},
          "execution_count": 87
        }
      ]
    },
    {
      "cell_type": "markdown",
      "id": "c3ef788d-3dfc-4a2e-aa91-b7102bf8ff07",
      "metadata": {
        "id": "c3ef788d-3dfc-4a2e-aa91-b7102bf8ff07"
      },
      "source": [
        "Если хотим сохранить объект"
      ]
    },
    {
      "cell_type": "code",
      "execution_count": null,
      "id": "9d1c654e-ce06-4a5a-b303-2956de8fcc38",
      "metadata": {
        "ExecuteTime": {
          "end_time": "2022-09-16T11:30:12.527265Z",
          "start_time": "2022-09-16T11:30:12.522295Z"
        },
        "collapsed": true,
        "jupyter": {
          "outputs_hidden": true
        },
        "id": "9d1c654e-ce06-4a5a-b303-2956de8fcc38"
      },
      "outputs": [],
      "source": [
        "import pickle"
      ]
    },
    {
      "cell_type": "code",
      "execution_count": null,
      "id": "79aed50a-f73b-44d3-b779-c96583706a3a",
      "metadata": {
        "ExecuteTime": {
          "end_time": "2022-09-16T08:40:00.674411Z",
          "start_time": "2022-09-16T08:40:00.664628Z"
        },
        "jupyter": {
          "outputs_hidden": true
        },
        "id": "79aed50a-f73b-44d3-b779-c96583706a3a",
        "outputId": "3ab2c3de-55a6-4fb7-af62-7a33bf2b3f5e"
      },
      "outputs": [
        {
          "data": {
            "text/plain": [
              "True"
            ]
          },
          "execution_count": 55,
          "metadata": {},
          "output_type": "execute_result"
        }
      ],
      "source": [
        "with open('object', 'wb') as f:\n",
        "    pickle.dump(some_object, f)\n",
        "\n",
        "with open('object', 'rb') as f:\n",
        "    content = pickle.load(f)\n",
        "\n",
        "content == some_object"
      ]
    },
    {
      "cell_type": "markdown",
      "id": "21fe347c-2878-4932-9371-5f57a2c7031f",
      "metadata": {
        "id": "21fe347c-2878-4932-9371-5f57a2c7031f"
      },
      "source": [
        "Если у нас текст с форматированием"
      ]
    },
    {
      "cell_type": "code",
      "execution_count": null,
      "id": "d10adb22-7752-4806-8c38-b01029d5e9de",
      "metadata": {
        "ExecuteTime": {
          "end_time": "2022-09-16T09:46:14.006582Z",
          "start_time": "2022-09-16T09:46:13.999289Z"
        },
        "collapsed": true,
        "jupyter": {
          "outputs_hidden": true
        },
        "id": "d10adb22-7752-4806-8c38-b01029d5e9de"
      },
      "outputs": [],
      "source": [
        "some_text = \"\"\" Я готовлю семинар.\n",
        "Все пока идет хорошо.\n",
        "Почему уже 2 часа ночи...\n",
        "\"\"\"\n",
        "\n",
        "with open('out_str', 'w') as f:\n",
        "    f.write(some_text)"
      ]
    },
    {
      "cell_type": "code",
      "execution_count": null,
      "id": "0c919880-6eb3-44f3-964b-f0f27863b9f8",
      "metadata": {
        "ExecuteTime": {
          "end_time": "2022-09-16T08:40:40.336592Z",
          "start_time": "2022-09-16T08:40:40.331420Z"
        },
        "jupyter": {
          "outputs_hidden": true
        },
        "id": "0c919880-6eb3-44f3-964b-f0f27863b9f8",
        "outputId": "6cf690aa-f9d2-480a-ad21-46497ca11fcd"
      },
      "outputs": [
        {
          "name": "stdout",
          "output_type": "stream",
          "text": [
            " Я готовлю семинар.\n",
            "Все пока идет хорошо.\n",
            "Почему уже 2 часа ночи...\n",
            "\n"
          ]
        }
      ],
      "source": [
        "with open('out_str', 'r') as f:\n",
        "    content = f.read()\n",
        "\n",
        "print(content)"
      ]
    },
    {
      "cell_type": "code",
      "execution_count": null,
      "id": "a494f1cd-d64b-487f-b674-10ff9a2415f4",
      "metadata": {
        "ExecuteTime": {
          "end_time": "2022-09-16T08:40:59.019395Z",
          "start_time": "2022-09-16T08:40:59.013197Z"
        },
        "jupyter": {
          "outputs_hidden": true
        },
        "id": "a494f1cd-d64b-487f-b674-10ff9a2415f4",
        "outputId": "efb1707c-b15a-4d8e-9b0c-01fb61fb27c7"
      },
      "outputs": [
        {
          "name": "stdout",
          "output_type": "stream",
          "text": [
            " Я готовлю семинар.\n",
            " Все пока идет хорошо.\n",
            "\n"
          ]
        }
      ],
      "source": [
        "with open('out_str', 'r') as f:\n",
        "    first_line = f.readline()\n",
        "    second_line = f.readline()\n",
        "\n",
        "print(first_line, second_line)"
      ]
    },
    {
      "cell_type": "code",
      "execution_count": null,
      "id": "be0d99c9-a840-4565-8469-52e39d65947b",
      "metadata": {
        "ExecuteTime": {
          "end_time": "2022-09-16T08:41:14.609022Z",
          "start_time": "2022-09-16T08:41:14.599485Z"
        },
        "jupyter": {
          "outputs_hidden": true
        },
        "id": "be0d99c9-a840-4565-8469-52e39d65947b",
        "outputId": "5a480f4f-2608-43fe-f606-fa2c4e16ebfc"
      },
      "outputs": [
        {
          "name": "stdout",
          "output_type": "stream",
          "text": [
            "Line 0: Я готовлю семинар.\n",
            "Line 1: Все пока идет хорошо.\n",
            "Line 2: Почему уже 2 часа ночи...\n"
          ]
        }
      ],
      "source": [
        "with open('out_str', 'r') as f:\n",
        "    for index, line in enumerate(f):\n",
        "        print(f\"Line {index}: {line.strip()}\")"
      ]
    },
    {
      "cell_type": "markdown",
      "source": [
        "https://docs.python.org/3/library/mmap.html - Memory-mapped files - кому интересно глубже\n",
        "\n",
        "Можно использовать виртуальную память, если чтение не находит в оперативной памяти, выкидывается page fault и часть читается с жесткого диска в оперативную память, при этом другая часть может быть выгружена из оперативной памяти"
      ],
      "metadata": {
        "id": "ZgEjKEh5clux"
      },
      "id": "ZgEjKEh5clux"
    },
    {
      "cell_type": "code",
      "source": [
        "import mmap\n",
        "with open(\"file.txt\", \"w+t\") as f:\n",
        "  f.write(\"This   is a new file created by Python.\\n\")\n",
        "  f.flush()\n",
        "  mmapped_file = mmap.mmap(f.fileno(), 0)\n",
        "  mmapped_file[:5] = b\"Hello\"\n",
        "  mmapped_file.flush()\n",
        "  print(mmapped_file.read())\n",
        "  mmapped_file.close()"
      ],
      "metadata": {
        "colab": {
          "base_uri": "https://localhost:8080/"
        },
        "id": "UyViFw85a5L3",
        "outputId": "b0176ad7-4467-4a9e-aaea-5be35946da4f"
      },
      "id": "UyViFw85a5L3",
      "execution_count": null,
      "outputs": [
        {
          "output_type": "stream",
          "name": "stdout",
          "text": [
            "b'Hello  is a new file created by Python.\\n'\n"
          ]
        }
      ]
    },
    {
      "cell_type": "markdown",
      "id": "85b8291e",
      "metadata": {
        "id": "85b8291e"
      },
      "source": [
        "**Вернемся к array.** Давайте попробуем записать наши массивы чисел в файлы и прочитать их оттуда. Заодно посмотрим, сколько времени занимают такие операции, и какой получается размер у файлов."
      ]
    },
    {
      "cell_type": "code",
      "execution_count": null,
      "id": "ab332ce7",
      "metadata": {
        "ExecuteTime": {
          "end_time": "2022-09-22T10:07:26.857333Z",
          "start_time": "2022-09-22T10:07:26.437862Z"
        },
        "id": "ab332ce7"
      },
      "outputs": [],
      "source": [
        "N = 10000000\n",
        "\n",
        "list_ints = list(range(N))\n",
        "array_ints = array('I', list(range(N)))"
      ]
    },
    {
      "cell_type": "markdown",
      "id": "d9d163c5",
      "metadata": {
        "id": "d9d163c5"
      },
      "source": [
        "Запишем в файл большой массив чисел в виде списка. У нас два способа, как мы это можем сделать. Pickle и записать в виде строки, а потом сконвертить обратно"
      ]
    },
    {
      "cell_type": "markdown",
      "id": "3025e954",
      "metadata": {
        "id": "3025e954"
      },
      "source": [
        "Перед тем как записать в файл список в виде строк, надо его аккуратно сконвертить. Например, можно сохранить по одному числу на строку и отрезать квадратные скобки. Так мы сможем потом быстро перевести прочитанный файл обратно в list"
      ]
    },
    {
      "cell_type": "code",
      "execution_count": null,
      "id": "27bbf282",
      "metadata": {
        "ExecuteTime": {
          "end_time": "2022-09-22T10:07:30.501887Z",
          "start_time": "2022-09-22T10:07:29.403922Z"
        },
        "id": "27bbf282"
      },
      "outputs": [],
      "source": [
        "sep = '\\n'\n",
        "list_str_repr = sep.join([str(digit) for digit in list_ints])"
      ]
    },
    {
      "cell_type": "code",
      "execution_count": null,
      "id": "002484f2",
      "metadata": {
        "ExecuteTime": {
          "end_time": "2022-09-22T10:07:34.700801Z",
          "start_time": "2022-09-22T10:07:34.692082Z"
        },
        "id": "002484f2",
        "outputId": "d128938c-b91f-4d39-8e0d-5f177f9d1ecc",
        "colab": {
          "base_uri": "https://localhost:8080/",
          "height": 52
        }
      },
      "outputs": [
        {
          "output_type": "execute_result",
          "data": {
            "text/plain": [
              "'0\\n1\\n2\\n3\\n4\\n5\\n6\\n7\\n8\\n9\\n10\\n11\\n12\\n13\\n14\\n15\\n16\\n17\\n18\\n19\\n20\\n21\\n22\\n23\\n24\\n25\\n26\\n27\\n28\\n29\\n30\\n31\\n32\\n33\\n34\\n35\\n36\\n37\\n38\\n39\\n40\\n41\\n42\\n4'"
            ],
            "application/vnd.google.colaboratory.intrinsic+json": {
              "type": "string"
            }
          },
          "metadata": {},
          "execution_count": 106
        }
      ],
      "source": [
        "list_str_repr[:120]"
      ]
    },
    {
      "cell_type": "code",
      "execution_count": null,
      "id": "e5dd45cc",
      "metadata": {
        "ExecuteTime": {
          "end_time": "2022-09-22T10:08:10.919504Z",
          "start_time": "2022-09-22T10:08:10.662238Z"
        },
        "id": "e5dd45cc"
      },
      "outputs": [],
      "source": [
        "with open('list_ints', 'w') as f:\n",
        "    f.write(list_str_repr)\n",
        "\n",
        "with open('list_ints_pickle', 'wb') as f:\n",
        "    pickle.dump(list_ints, f)"
      ]
    },
    {
      "cell_type": "markdown",
      "id": "1702d591",
      "metadata": {
        "id": "1702d591"
      },
      "source": [
        "Запишем array в файл с помощью встроенного метода `.tofile()`"
      ]
    },
    {
      "cell_type": "code",
      "execution_count": null,
      "id": "ba609cf8",
      "metadata": {
        "ExecuteTime": {
          "end_time": "2022-09-22T10:08:19.143851Z",
          "start_time": "2022-09-22T10:08:19.119074Z"
        },
        "id": "ba609cf8"
      },
      "outputs": [],
      "source": [
        "with open('array_ints', 'wb') as f:\n",
        "    array_ints.tofile(f)"
      ]
    },
    {
      "cell_type": "markdown",
      "id": "f2e38578",
      "metadata": {
        "id": "f2e38578"
      },
      "source": [
        "Посмотрим, сколько места занимают файлы"
      ]
    },
    {
      "cell_type": "code",
      "execution_count": null,
      "id": "c0d1034c",
      "metadata": {
        "ExecuteTime": {
          "end_time": "2022-09-22T10:08:26.948196Z",
          "start_time": "2022-09-22T10:08:26.943180Z"
        },
        "id": "c0d1034c",
        "outputId": "b2051b8b-5a78-477f-9e14-3d0d8b98ac2b",
        "colab": {
          "base_uri": "https://localhost:8080/"
        }
      },
      "outputs": [
        {
          "output_type": "stream",
          "name": "stdout",
          "text": [
            "\n",
            "list (str): 6727 kBytes\n",
            "list (pickle): 4757 kBytes\n",
            "array (native): 3906 kBytes\n",
            "\n"
          ]
        }
      ],
      "source": [
        "import os\n",
        "\n",
        "print(f'''\n",
        "list (str): {os.path.getsize(\"list_ints\")/1024:.0f} kBytes\n",
        "list (pickle): {os.path.getsize(\"list_ints_pickle\")/1024:.0f} kBytes\n",
        "array (native): {os.path.getsize(\"array_ints\")/1024:.0f} kBytes\n",
        "''')"
      ]
    },
    {
      "cell_type": "markdown",
      "id": "007da557",
      "metadata": {
        "id": "007da557"
      },
      "source": [
        "Видим, что размер array для 10 миллионов чисел составил ровно $4 * 10^7$ байт, т.е. ровно по 4 байта на число. Pickle примерно на 25% менее эффективен с точки зрения места на диске, а сохранение через строковое представление и вовсе в 2 раза хуже"
      ]
    },
    {
      "cell_type": "markdown",
      "id": "4f13e0d5",
      "metadata": {
        "id": "4f13e0d5"
      },
      "source": [
        "А что по времени на чтение?"
      ]
    },
    {
      "cell_type": "code",
      "execution_count": null,
      "id": "674e63bb",
      "metadata": {
        "ExecuteTime": {
          "end_time": "2022-09-22T10:12:23.411342Z",
          "start_time": "2022-09-22T10:12:22.493870Z"
        },
        "id": "674e63bb",
        "outputId": "339ea27c-810f-4386-c043-26f61af6eaee"
      },
      "outputs": [
        {
          "name": "stdout",
          "output_type": "stream",
          "text": [
            "CPU times: user 670 ms, sys: 244 ms, total: 915 ms\n",
            "Wall time: 912 ms\n"
          ]
        }
      ],
      "source": [
        "%%time\n",
        "\n",
        "# так как мы разделили числа с помощью символ переноса строки, можем использовать readlines()\n",
        "# и потом скастить каждый элемент в тип int\n",
        "\n",
        "with open('list_ints', 'r') as f:\n",
        "    list_from_str = list(map(int, f.readlines()))"
      ]
    },
    {
      "cell_type": "code",
      "execution_count": null,
      "id": "ae877108",
      "metadata": {
        "ExecuteTime": {
          "end_time": "2022-09-22T10:12:30.980608Z",
          "start_time": "2022-09-22T10:12:30.807740Z"
        },
        "id": "ae877108",
        "outputId": "7f84660d-644a-40b3-f4c5-4d755a830b6d"
      },
      "outputs": [
        {
          "name": "stdout",
          "output_type": "stream",
          "text": [
            "CPU times: user 123 ms, sys: 48.7 ms, total: 172 ms\n",
            "Wall time: 169 ms\n"
          ]
        }
      ],
      "source": [
        "%%time\n",
        "\n",
        "with open('list_ints_pickle', 'rb') as f:\n",
        "    list_from_pickle = pickle.load(f)"
      ]
    },
    {
      "cell_type": "code",
      "execution_count": null,
      "id": "16ca8c1d",
      "metadata": {
        "ExecuteTime": {
          "end_time": "2022-09-22T10:12:33.325036Z",
          "start_time": "2022-09-22T10:12:33.299436Z"
        },
        "id": "16ca8c1d",
        "outputId": "d36c500e-781d-4707-cea2-94b82d7bf16f"
      },
      "outputs": [
        {
          "name": "stdout",
          "output_type": "stream",
          "text": [
            "CPU times: user 2.7 ms, sys: 20.6 ms, total: 23.3 ms\n",
            "Wall time: 21.3 ms\n"
          ]
        }
      ],
      "source": [
        "%%time\n",
        "\n",
        "with open('array_ints', 'rb') as f:\n",
        "    array_from_dump = array('I')\n",
        "    array_from_dump.fromfile(f, N)"
      ]
    },
    {
      "cell_type": "code",
      "execution_count": null,
      "id": "34c8f444",
      "metadata": {
        "ExecuteTime": {
          "end_time": "2022-09-22T10:13:11.333481Z",
          "start_time": "2022-09-22T10:13:11.189822Z"
        },
        "id": "34c8f444"
      },
      "outputs": [],
      "source": [
        "assert array_from_dump == array_ints\n",
        "assert list_from_pickle == list_ints\n",
        "assert list_from_str == list_ints"
      ]
    },
    {
      "cell_type": "markdown",
      "id": "b1835d7a",
      "metadata": {
        "id": "b1835d7a"
      },
      "source": [
        "У меня нет уверенности, что вы на практике столкнетесь с типом array.array напрямую. Но нечто похожее с точки зрения эффективности по хранению и скорости чтения вы увидите, когда будете работать с массивами из библиотеки NumPy. С одной лишь разницей, что там и математические операции будут гораздо быстрее, чем их аналоги на чистом Python  "
      ]
    }
  ],
  "metadata": {
    "kernelspec": {
      "display_name": "Python 3",
      "name": "python3"
    },
    "language_info": {
      "name": "python"
    },
    "toc": {
      "base_numbering": 1,
      "nav_menu": {},
      "number_sections": true,
      "sideBar": true,
      "skip_h1_title": false,
      "title_cell": "Table of Contents",
      "title_sidebar": "Contents",
      "toc_cell": false,
      "toc_position": {},
      "toc_section_display": true,
      "toc_window_display": true
    },
    "varInspector": {
      "cols": {
        "lenName": 16,
        "lenType": 16,
        "lenVar": 40
      },
      "kernels_config": {
        "python": {
          "delete_cmd_postfix": "",
          "delete_cmd_prefix": "del ",
          "library": "var_list.py",
          "varRefreshCmd": "print(var_dic_list())"
        },
        "r": {
          "delete_cmd_postfix": ") ",
          "delete_cmd_prefix": "rm(",
          "library": "var_list.r",
          "varRefreshCmd": "cat(var_dic_list()) "
        }
      },
      "types_to_exclude": [
        "module",
        "function",
        "builtin_function_or_method",
        "instance",
        "_Feature"
      ],
      "window_display": false
    },
    "colab": {
      "provenance": [],
      "toc_visible": true
    }
  },
  "nbformat": 4,
  "nbformat_minor": 5
}