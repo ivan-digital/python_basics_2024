{
  "cells": [
    {
      "cell_type": "markdown",
      "source": [
        "# Давайте немного повторим с прошлых занятий\n",
        "\n",
        "Что такое reduce и accumulate?<br>\n",
        "Принцип работы словаря (хеширование ключа)?\n",
        "\n",
        " А еще, спасибо Роман, прислал интересную формулировки задачки и решение с бегущими суммами с ЕГЭ:\n",
        "\n",
        " На прошлом занятии мы использовали словарь с позициями, тут используется массив со всеми возможными значениями k для хранения вспомогательной информации."
      ],
      "metadata": {
        "id": "EZ0yHRwlBln4"
      },
      "id": "EZ0yHRwlBln4"
    },
    {
      "cell_type": "code",
      "source": [
        "# нужно найти непрерывную последовательность элементов кратную k, с наибольшей суммой и наименьшей длинной\n",
        "f = list(map(int, input().split()))\n",
        "k = int(input())\n",
        "summa = 0\n",
        "ost = [None] * k\n",
        "ost[0] = [0, 0]\n",
        "total_summa = 0\n",
        "total_length = 0\n",
        "# создаем переменные в которых содержится текущая сумма, итоговая сумма и итоговая длина\n",
        "\n",
        "for i in range(len(f)):\n",
        "    summa += f[i]\n",
        "    r = summa % k\n",
        "    if ost[r] is not None: # если до этого момента есть сумма с таким остатком нужно сравнить ее сумму и длину\n",
        "        if summa - ost[r][0] > total_summa:\n",
        "            total_summa = summa - ost[r][0]\n",
        "            total_length = i - ost[r][1]\n",
        "        elif summa - ost[r][0] == total_summa:\n",
        "            if i - ost[r][1] < total_length:\n",
        "                total_length = i - ost[r][1]\n",
        "        if summa < ost[r][0]: # возможно, эта цепочка лучше страрой (меньше сумма / длиннее)\n",
        "            ost[r] = [summa, i]\n",
        "        elif summa == ost[r][0]:\n",
        "            if i > ost[r][1]: # если нам нужна самая короткая цепочка, то отсекать от начала надо самую длинную\n",
        "                ost[r][1] = i\n",
        "    else: # если такого остатка раньше не было, то просто записать\n",
        "        ost[r] = [summa, i]\n",
        "print(total_length, total_summa)"
      ],
      "metadata": {
        "id": "1yXG3OjGB-sW"
      },
      "id": "1yXG3OjGB-sW",
      "execution_count": null,
      "outputs": []
    },
    {
      "cell_type": "markdown",
      "id": "60cb9275",
      "metadata": {
        "id": "60cb9275"
      },
      "source": [
        "# Продолжаем про декораторы"
      ]
    },
    {
      "cell_type": "markdown",
      "id": "1e498b66",
      "metadata": {
        "id": "1e498b66"
      },
      "source": [
        "## Замена исходной функции"
      ]
    },
    {
      "cell_type": "markdown",
      "id": "669b53ef",
      "metadata": {
        "id": "669b53ef"
      },
      "source": [
        "Функция, возвращаемая декоратором, заменяет декорируемую"
      ]
    },
    {
      "cell_type": "code",
      "execution_count": 10,
      "id": "b059f7ec",
      "metadata": {
        "id": "b059f7ec"
      },
      "outputs": [],
      "source": [
        "def deco(func):\n",
        "    func() # можно к примеру ее выполнить,\n",
        "    def inner():\n",
        "        print('running inner()')\n",
        "    return inner"
      ]
    },
    {
      "cell_type": "code",
      "execution_count": 11,
      "id": "0cf88fc2",
      "metadata": {
        "id": "0cf88fc2"
      },
      "outputs": [],
      "source": [
        "def target():\n",
        "    print('running target()')"
      ]
    },
    {
      "cell_type": "code",
      "execution_count": 12,
      "id": "d22e2ba0",
      "metadata": {
        "colab": {
          "base_uri": "https://localhost:8080/"
        },
        "id": "d22e2ba0",
        "outputId": "822d89f9-d16c-4e06-c50b-73e93859d16f"
      },
      "outputs": [
        {
          "output_type": "stream",
          "name": "stdout",
          "text": [
            "running target()\n"
          ]
        }
      ],
      "source": [
        "@deco\n",
        "def target():\n",
        "    print('running target()')"
      ]
    },
    {
      "cell_type": "code",
      "execution_count": 13,
      "id": "b7cd210f",
      "metadata": {
        "colab": {
          "base_uri": "https://localhost:8080/"
        },
        "id": "b7cd210f",
        "outputId": "5fc928a5-f99a-4fc3-f27b-5468f9d8010c"
      },
      "outputs": [
        {
          "output_type": "stream",
          "name": "stdout",
          "text": [
            "running inner()\n"
          ]
        }
      ],
      "source": [
        "target()"
      ]
    },
    {
      "cell_type": "code",
      "execution_count": 38,
      "id": "1761e656",
      "metadata": {
        "colab": {
          "base_uri": "https://localhost:8080/",
          "height": 103
        },
        "id": "1761e656",
        "outputId": "c1c98897-060a-408f-8c97-bff6c147d604"
      },
      "outputs": [
        {
          "output_type": "execute_result",
          "data": {
            "text/plain": [
              "<function __main__.deco.<locals>.inner()>"
            ],
            "text/html": [
              "<div style=\"max-width:800px; border: 1px solid var(--colab-border-color);\"><style>\n",
              "      pre.function-repr-contents {\n",
              "        overflow-x: auto;\n",
              "        padding: 8px 12px;\n",
              "        max-height: 500px;\n",
              "      }\n",
              "\n",
              "      pre.function-repr-contents.function-repr-contents-collapsed {\n",
              "        cursor: pointer;\n",
              "        max-height: 100px;\n",
              "      }\n",
              "    </style>\n",
              "    <pre style=\"white-space: initial; background:\n",
              "         var(--colab-secondary-surface-color); padding: 8px 12px;\n",
              "         border-bottom: 1px solid var(--colab-border-color);\"><b>deco.&lt;locals&gt;.inner</b><br/>def inner()</pre><pre class=\"function-repr-contents function-repr-contents-collapsed\" style=\"\"><a class=\"filepath\" style=\"display:none\" href=\"#\">/content/&lt;ipython-input-34-6fd010cb97ae&gt;</a>&lt;no docstring&gt;</pre></div>"
            ]
          },
          "metadata": {},
          "execution_count": 38
        }
      ],
      "source": [
        "target  # now reference to inner"
      ]
    },
    {
      "cell_type": "markdown",
      "id": "2573aabc",
      "metadata": {
        "id": "2573aabc"
      },
      "source": [
        "## Running at import time"
      ]
    },
    {
      "cell_type": "markdown",
      "id": "52272992",
      "metadata": {
        "id": "52272992"
      },
      "source": [
        "Key feature декораторов в том, что они применяются сразу после объявления декорируемой функции во время загрузки модуля в Python"
      ]
    },
    {
      "cell_type": "code",
      "execution_count": 14,
      "id": "3bc71b96",
      "metadata": {
        "colab": {
          "base_uri": "https://localhost:8080/"
        },
        "id": "3bc71b96",
        "outputId": "91ade3cc-554a-4373-b8ce-22bb7d879dc2"
      },
      "outputs": [
        {
          "output_type": "stream",
          "name": "stdout",
          "text": [
            "running register <function f1 at 0x7f353010fa30>\n",
            "running register <function f2 at 0x7f35317560e0>\n"
          ]
        }
      ],
      "source": [
        "registry = []\n",
        "\n",
        "def register(func):\n",
        "    print(f'running register {func}')\n",
        "    registry.append(func)\n",
        "    return func\n",
        "\n",
        "@register\n",
        "def f1():\n",
        "    print('running f1()')\n",
        "\n",
        "@register\n",
        "def f2():\n",
        "    print('running f2()')\n",
        "\n",
        "def f3():\n",
        "    print('running f3()')\n",
        "\n",
        "def run():\n",
        "    print('running run()')\n",
        "    print('registry', registry)\n",
        "    f1()\n",
        "    f2()\n",
        "    f3()"
      ]
    },
    {
      "cell_type": "code",
      "execution_count": 15,
      "id": "92a1c39a",
      "metadata": {
        "colab": {
          "base_uri": "https://localhost:8080/"
        },
        "id": "92a1c39a",
        "outputId": "2ecbae93-4b36-4176-a75f-dfca8af7c9b9"
      },
      "outputs": [
        {
          "output_type": "stream",
          "name": "stdout",
          "text": [
            "running run()\n",
            "registry [<function f1 at 0x7f353010fa30>, <function f2 at 0x7f35317560e0>]\n",
            "running f1()\n",
            "running f2()\n",
            "running f3()\n"
          ]
        }
      ],
      "source": [
        "run()"
      ]
    },
    {
      "cell_type": "markdown",
      "id": "f3af0224",
      "metadata": {
        "id": "f3af0224"
      },
      "source": [
        "## Декоратор-логгер"
      ]
    },
    {
      "cell_type": "markdown",
      "id": "a8f69223",
      "metadata": {
        "id": "a8f69223"
      },
      "source": [
        "### logging"
      ]
    },
    {
      "cell_type": "markdown",
      "id": "2bf00a2d",
      "metadata": {
        "id": "2bf00a2d"
      },
      "source": [
        " Модуль `logging` содержит набор функций для логирования различного поведения в вашей программе. Например, для понимания, что ваша программа работает как ожидается, или там идет что-то не так"
      ]
    },
    {
      "cell_type": "markdown",
      "id": "a6881c30",
      "metadata": {
        "id": "a6881c30"
      },
      "source": [
        "Есть разные уровни логирования: debug, info, warning, error, critical"
      ]
    },
    {
      "cell_type": "code",
      "execution_count": 16,
      "id": "9c23d957",
      "metadata": {
        "ExecuteTime": {
          "end_time": "2022-09-28T23:46:50.639247Z",
          "start_time": "2022-09-28T23:46:50.632857Z"
        },
        "id": "9c23d957"
      },
      "outputs": [],
      "source": [
        "import logging"
      ]
    },
    {
      "cell_type": "code",
      "execution_count": 18,
      "id": "f5fd9c34",
      "metadata": {
        "ExecuteTime": {
          "end_time": "2022-09-28T23:47:41.188952Z",
          "start_time": "2022-09-28T23:47:41.180336Z"
        },
        "colab": {
          "base_uri": "https://localhost:8080/"
        },
        "id": "f5fd9c34",
        "outputId": "f3c9eb16-3a9a-4bd8-f64d-d24c6256fecf"
      },
      "outputs": [
        {
          "output_type": "stream",
          "name": "stderr",
          "text": [
            "WARNING:root:Smth might go wrong, check this!\n"
          ]
        }
      ],
      "source": [
        "logging.info('Working as expected')\n",
        "logging.warning('Smth might go wrong, check this!')"
      ]
    },
    {
      "cell_type": "markdown",
      "source": [
        "Уровень логгирования по умолчания Warning, info не пишется, но можно переконфигурировать"
      ],
      "metadata": {
        "id": "R0fhVjCegR4y"
      },
      "id": "R0fhVjCegR4y"
    },
    {
      "cell_type": "markdown",
      "id": "6a8bb9fa",
      "metadata": {
        "id": "6a8bb9fa"
      },
      "source": [
        "Можно логировать в файл (надо начать новую сессию в Python)"
      ]
    },
    {
      "cell_type": "code",
      "execution_count": 19,
      "id": "bc972ba4",
      "metadata": {
        "ExecuteTime": {
          "end_time": "2022-09-29T01:26:33.713156Z",
          "start_time": "2022-09-29T01:26:33.707004Z"
        },
        "colab": {
          "base_uri": "https://localhost:8080/"
        },
        "id": "bc972ba4",
        "outputId": "d0052757-aba6-42ad-b0bb-39c6c1117347"
      },
      "outputs": [
        {
          "output_type": "stream",
          "name": "stdout",
          "text": [
            "<StreamHandler stderr (NOTSET)>\n",
            "<FileHandler /content/data/example.log (NOTSET)>\n"
          ]
        }
      ],
      "source": [
        "import os\n",
        "import logging\n",
        "\n",
        "os.makedirs('data', exist_ok=True)\n",
        "log_filename = os.path.join('data', 'example.log')\n",
        "log_level = logging.DEBUG\n",
        "\n",
        "# Есть конфигурация по умолчанию на colab, и ее нужно убрать, что бы конфигурация применилась\n",
        "# Тоже бывает проблоема с юпитер ноутбуком\n",
        "for handler in logging.root.handlers[:]:\n",
        "    print(handler)\n",
        "    logging.root.removeHandler(handler)\n",
        "\n",
        "logging.basicConfig(\n",
        "    filename=log_filename,\n",
        "    encoding='utf-8',\n",
        "    level=log_level,\n",
        "    format='%(asctime)s %(message)s'  # add time\n",
        ")\n",
        "\n",
        "for handler in logging.root.handlers[:]:\n",
        "    print(handler)\n",
        "\n",
        "logging.debug('One very thorough message to save in our log')\n",
        "logging.info('Just some info, also in log')\n",
        "logging.warning('Something might be wrong')\n",
        "logging.error('Logging our failure')"
      ]
    },
    {
      "cell_type": "code",
      "execution_count": 20,
      "id": "6bca9c13",
      "metadata": {
        "ExecuteTime": {
          "end_time": "2022-09-29T00:04:14.323371Z",
          "start_time": "2022-09-29T00:04:14.204906Z"
        },
        "colab": {
          "base_uri": "https://localhost:8080/"
        },
        "id": "6bca9c13",
        "outputId": "7700befe-8610-41ce-ad6e-41f3d5ba26b6"
      },
      "outputs": [
        {
          "output_type": "stream",
          "name": "stdout",
          "text": [
            "2024-10-09 11:58:01,267 One very thorough message to save in our log\n",
            "2024-10-09 11:58:01,267 Just some info, also in log\n",
            "2024-10-09 11:58:01,268 Something might be wrong\n",
            "2024-10-09 11:58:01,268 Logging our failure\n"
          ]
        }
      ],
      "source": [
        "! cat data/example.log"
      ]
    },
    {
      "cell_type": "markdown",
      "source": [
        "https://docs.python.org/3/library/logging.handlers.html\n",
        "Так же много разных интеграций, можно настроить ротацию лог сообщений, или отправку на уделнный сервис, к примеру в Elasticsearch, особенно удобно если у нас много рабочих нод, можно централизованно смотреть логи."
      ],
      "metadata": {
        "id": "-5RPyYuOFGVA"
      },
      "id": "-5RPyYuOFGVA"
    },
    {
      "cell_type": "markdown",
      "source": [
        "# Декоратор с параметрами\n",
        "Он сначала вызывается для подготовки, с параметрами из декоратора"
      ],
      "metadata": {
        "id": "KX172bVEv3lG"
      },
      "id": "KX172bVEv3lG"
    },
    {
      "cell_type": "code",
      "source": [
        "def decorator_with_params(a):\n",
        "    print(f\"Decorator with params called {a}\")\n",
        "\n",
        "    def actual_decorator(func):\n",
        "        print(\"Actual decorator called\")\n",
        "        return func\n",
        "\n",
        "    return actual_decorator\n",
        "\n",
        "@decorator_with_params(a = 10)\n",
        "def my_function():\n",
        "    print(f\"my_function()\")"
      ],
      "metadata": {
        "colab": {
          "base_uri": "https://localhost:8080/"
        },
        "id": "fyD7GRz8v5lc",
        "outputId": "632df2da-e841-4b41-f705-583cd8dfc1c4"
      },
      "id": "fyD7GRz8v5lc",
      "execution_count": 27,
      "outputs": [
        {
          "output_type": "stream",
          "name": "stdout",
          "text": [
            "Decorator with params called 10\n",
            "Actual decorator called\n"
          ]
        }
      ]
    },
    {
      "cell_type": "code",
      "source": [
        "my_function()"
      ],
      "metadata": {
        "colab": {
          "base_uri": "https://localhost:8080/"
        },
        "id": "NoZGnetIwXQB",
        "outputId": "02fc212b-b552-4bc0-ba84-c4ede6b5fe26"
      },
      "id": "NoZGnetIwXQB",
      "execution_count": 28,
      "outputs": [
        {
          "output_type": "stream",
          "name": "stdout",
          "text": [
            "my_function()\n"
          ]
        }
      ]
    },
    {
      "cell_type": "markdown",
      "id": "bbe63dc5",
      "metadata": {
        "id": "bbe63dc5"
      },
      "source": [
        "### Напишем log-декоратор"
      ]
    },
    {
      "cell_type": "code",
      "execution_count": 30,
      "id": "498dfe8c",
      "metadata": {
        "ExecuteTime": {
          "end_time": "2022-09-30T01:12:26.207121Z",
          "start_time": "2022-09-30T01:12:26.200982Z"
        },
        "id": "498dfe8c"
      },
      "outputs": [],
      "source": [
        "import logging\n",
        "import sys\n",
        "\n",
        "from functools import wraps, partial"
      ]
    },
    {
      "cell_type": "code",
      "source": [
        "logger = logging.getLogger(name='log')\n",
        "logger.setLevel(logging.DEBUG)\n",
        "logger.addHandler(logging.StreamHandler(stream=sys.stdout)) # каждое выполнение добавляет логгер, предидущий остается, и можно увидеть\n",
        "# после повторного выполнения этого кода более одного сообщения логгирования"
      ],
      "metadata": {
        "id": "UaLPUkxg5hO4"
      },
      "id": "UaLPUkxg5hO4",
      "execution_count": 31,
      "outputs": []
    },
    {
      "cell_type": "markdown",
      "source": [
        "https://docs.python.org/3/howto/logging.html#logging-flow\n",
        "\n",
        "Можно почитать подробнее про иерархию логгирования"
      ],
      "metadata": {
        "id": "0PDtn-7B5WJH"
      },
      "id": "0PDtn-7B5WJH"
    },
    {
      "cell_type": "code",
      "execution_count": 29,
      "id": "94e9651c",
      "metadata": {
        "ExecuteTime": {
          "end_time": "2022-09-30T01:22:36.083106Z",
          "start_time": "2022-09-30T01:22:36.077708Z"
        },
        "id": "94e9651c"
      },
      "outputs": [],
      "source": [
        "def logged(func=None,\n",
        "           *,\n",
        "           log_level=logging.INFO,\n",
        "           log_name=None,\n",
        "           log_message=None):\n",
        "    print(func == None)\n",
        "    if func is None:\n",
        "        return partial(logged, log_level=log_level, log_name=log_name, log_message=log_message)\n",
        "\n",
        "    log_name = log_name if log_name else func.__name__\n",
        "    log_message = log_message if log_message else func.__name__\n",
        "\n",
        "    logger = logging.getLogger(log_name)\n",
        "    logger.propagate = False\n",
        "\n",
        "    @wraps(func)\n",
        "    def wrapper(*args, **kwargs):\n",
        "        logger.log(log_level, log_message)\n",
        "        return func(*args, **kwargs)\n",
        "\n",
        "    return wrapper"
      ]
    },
    {
      "cell_type": "code",
      "execution_count": 34,
      "id": "92ba0db5",
      "metadata": {
        "ExecuteTime": {
          "end_time": "2022-09-30T01:22:36.772640Z",
          "start_time": "2022-09-30T01:22:36.766515Z"
        },
        "colab": {
          "base_uri": "https://localhost:8080/"
        },
        "id": "92ba0db5",
        "outputId": "e55894b9-e5cb-4f85-f411-208756c5f3aa"
      },
      "outputs": [
        {
          "output_type": "stream",
          "name": "stdout",
          "text": [
            "True\n",
            "False\n"
          ]
        }
      ],
      "source": [
        "@logged(log_name='log')\n",
        "def add(x, y):\n",
        "    return x + y"
      ]
    },
    {
      "cell_type": "code",
      "execution_count": 35,
      "id": "936987c0",
      "metadata": {
        "ExecuteTime": {
          "end_time": "2022-09-30T01:22:37.139364Z",
          "start_time": "2022-09-30T01:22:37.124512Z"
        },
        "colab": {
          "base_uri": "https://localhost:8080/"
        },
        "id": "936987c0",
        "outputId": "4cafe547-02ad-49a8-fa65-a28d8359c53c"
      },
      "outputs": [
        {
          "output_type": "stream",
          "name": "stdout",
          "text": [
            "add\n"
          ]
        },
        {
          "output_type": "execute_result",
          "data": {
            "text/plain": [
              "3"
            ]
          },
          "metadata": {},
          "execution_count": 35
        }
      ],
      "source": [
        "add(1, 2)"
      ]
    },
    {
      "cell_type": "markdown",
      "id": "57319f62",
      "metadata": {
        "ExecuteTime": {
          "end_time": "2022-09-30T01:22:51.949782Z",
          "start_time": "2022-09-30T01:22:51.943855Z"
        },
        "id": "57319f62"
      },
      "source": [
        "Протестируем с декоратором с прошлых семинаров"
      ]
    },
    {
      "cell_type": "code",
      "execution_count": 36,
      "id": "13e94d89",
      "metadata": {
        "ExecuteTime": {
          "end_time": "2022-09-30T01:24:48.905560Z",
          "start_time": "2022-09-30T01:24:48.900721Z"
        },
        "id": "13e94d89"
      },
      "outputs": [],
      "source": [
        "import time\n",
        "\n",
        "def clock(func):\n",
        "    @wraps(func)\n",
        "    def clocked(*args):\n",
        "        t_start = time.time()\n",
        "        res = func(*args)\n",
        "        total_time = time.time() - t_start\n",
        "        print(f'{func.__name__}({args}) -> {res} executed in {total_time:.2f}s')\n",
        "        return res\n",
        "    return clocked"
      ]
    },
    {
      "cell_type": "code",
      "execution_count": 37,
      "id": "42e2d70d",
      "metadata": {
        "ExecuteTime": {
          "end_time": "2022-09-30T01:25:29.399717Z",
          "start_time": "2022-09-30T01:25:29.394475Z"
        },
        "colab": {
          "base_uri": "https://localhost:8080/"
        },
        "id": "42e2d70d",
        "outputId": "5534ff9f-2703-4d07-f06a-33e46aa7c049"
      },
      "outputs": [
        {
          "output_type": "stream",
          "name": "stdout",
          "text": [
            "True\n",
            "False\n"
          ]
        }
      ],
      "source": [
        "@logged(log_name='log')\n",
        "@clock\n",
        "def add(x, y):\n",
        "    time.sleep(2)\n",
        "    return x + y"
      ]
    },
    {
      "cell_type": "code",
      "execution_count": 38,
      "id": "2e13076a",
      "metadata": {
        "ExecuteTime": {
          "end_time": "2022-09-30T01:25:31.958253Z",
          "start_time": "2022-09-30T01:25:29.938545Z"
        },
        "colab": {
          "base_uri": "https://localhost:8080/"
        },
        "id": "2e13076a",
        "outputId": "b7bba579-2d13-4d82-d3c7-7bd567ea1134"
      },
      "outputs": [
        {
          "output_type": "stream",
          "name": "stdout",
          "text": [
            "add\n",
            "add((10, 10000000000)) -> 10000000010 executed in 2.00s\n"
          ]
        },
        {
          "output_type": "execute_result",
          "data": {
            "text/plain": [
              "10000000010"
            ]
          },
          "metadata": {},
          "execution_count": 38
        }
      ],
      "source": [
        "add(10, 10**10)"
      ]
    },
    {
      "cell_type": "markdown",
      "id": "e3043b65",
      "metadata": {
        "ExecuteTime": {
          "end_time": "2022-09-29T00:25:48.242814Z",
          "start_time": "2022-09-29T00:25:48.237247Z"
        },
        "id": "e3043b65"
      },
      "source": [
        "## Декоратор -- assert типов"
      ]
    },
    {
      "cell_type": "markdown",
      "id": "d7da87ae",
      "metadata": {
        "id": "d7da87ae"
      },
      "source": [
        "Мы уже говорили про type hints, а также про то, что никаких ошибок без использования сторонних модулей некорректные типы нам не дадут. Давайте реализуем логику проверки типов с помощью декоратора.\n",
        "\n",
        "Типы могут быть заданы как стандартными названиями, так и с использованыем модуля typing. Для Any пропускайте проверку"
      ]
    },
    {
      "cell_type": "code",
      "execution_count": 5,
      "id": "4577bf9c",
      "metadata": {
        "ExecuteTime": {
          "end_time": "2022-09-29T01:24:03.359218Z",
          "start_time": "2022-09-29T01:24:03.352879Z"
        },
        "id": "4577bf9c"
      },
      "outputs": [],
      "source": [
        "from typing import Any"
      ]
    },
    {
      "cell_type": "code",
      "execution_count": 9,
      "id": "4f6e4775",
      "metadata": {
        "ExecuteTime": {
          "end_time": "2022-09-29T01:22:10.141518Z",
          "start_time": "2022-09-29T01:22:10.137240Z"
        },
        "id": "4f6e4775"
      },
      "outputs": [],
      "source": [
        "def func(a: int, b: str) -> str:\n",
        "    return a * b"
      ]
    },
    {
      "cell_type": "markdown",
      "source": [
        "https://typeguard.readthedocs.io/en/stable/userguide.html"
      ],
      "metadata": {
        "id": "F9dXVjAN9M4L"
      },
      "id": "F9dXVjAN9M4L"
    },
    {
      "cell_type": "code",
      "source": [
        "func('2', 'a')"
      ],
      "metadata": {
        "colab": {
          "base_uri": "https://localhost:8080/",
          "height": 207
        },
        "id": "3bNd1FB1783f",
        "outputId": "cf70dec8-0923-4bbb-bb05-d1561aade6df"
      },
      "id": "3bNd1FB1783f",
      "execution_count": 7,
      "outputs": [
        {
          "output_type": "error",
          "ename": "TypeError",
          "evalue": "can't multiply sequence by non-int of type 'str'",
          "traceback": [
            "\u001b[0;31m---------------------------------------------------------------------------\u001b[0m",
            "\u001b[0;31mTypeError\u001b[0m                                 Traceback (most recent call last)",
            "\u001b[0;32m<ipython-input-7-60145c3afa2a>\u001b[0m in \u001b[0;36m<cell line: 1>\u001b[0;34m()\u001b[0m\n\u001b[0;32m----> 1\u001b[0;31m \u001b[0mfunc\u001b[0m\u001b[0;34m(\u001b[0m\u001b[0;34m'2'\u001b[0m\u001b[0;34m,\u001b[0m \u001b[0;34m'a'\u001b[0m\u001b[0;34m)\u001b[0m\u001b[0;34m\u001b[0m\u001b[0;34m\u001b[0m\u001b[0m\n\u001b[0m",
            "\u001b[0;32m<ipython-input-6-29d793e90e94>\u001b[0m in \u001b[0;36mfunc\u001b[0;34m(a, b)\u001b[0m\n\u001b[1;32m      1\u001b[0m \u001b[0;32mdef\u001b[0m \u001b[0mfunc\u001b[0m\u001b[0;34m(\u001b[0m\u001b[0ma\u001b[0m\u001b[0;34m:\u001b[0m \u001b[0mint\u001b[0m\u001b[0;34m,\u001b[0m \u001b[0mb\u001b[0m\u001b[0;34m:\u001b[0m \u001b[0mstr\u001b[0m\u001b[0;34m)\u001b[0m \u001b[0;34m->\u001b[0m \u001b[0mstr\u001b[0m\u001b[0;34m:\u001b[0m\u001b[0;34m\u001b[0m\u001b[0;34m\u001b[0m\u001b[0m\n\u001b[0;32m----> 2\u001b[0;31m     \u001b[0;32mreturn\u001b[0m \u001b[0ma\u001b[0m \u001b[0;34m*\u001b[0m \u001b[0mb\u001b[0m\u001b[0;34m\u001b[0m\u001b[0;34m\u001b[0m\u001b[0m\n\u001b[0m",
            "\u001b[0;31mTypeError\u001b[0m: can't multiply sequence by non-int of type 'str'"
          ]
        }
      ]
    },
    {
      "cell_type": "markdown",
      "id": "dfd6d913",
      "metadata": {
        "ExecuteTime": {
          "end_time": "2022-09-29T01:22:59.687912Z",
          "start_time": "2022-09-29T01:22:59.683005Z"
        },
        "id": "dfd6d913"
      },
      "source": [
        "Стоит выбросить ValueError, если есть несовпадение между реальным и ожидаемым типом у какой-то из переданных переменных или у возвращаемого значения"
      ]
    },
    {
      "cell_type": "markdown",
      "id": "14433448",
      "metadata": {
        "ExecuteTime": {
          "end_time": "2022-09-29T01:19:25.033928Z",
          "start_time": "2022-09-29T01:19:25.028889Z"
        },
        "id": "14433448"
      },
      "source": []
    },
    {
      "cell_type": "markdown",
      "id": "a4ba4594",
      "metadata": {
        "id": "a4ba4594"
      },
      "source": [
        "# OOP"
      ]
    },
    {
      "cell_type": "markdown",
      "id": "7569ce2c",
      "metadata": {
        "id": "7569ce2c"
      },
      "source": [
        "In Python, object-oriented Programming (OOPs) is a programming paradigm that uses objects and classes in programming. It aims to implement real-world entities like inheritance, polymorphisms, encapsulation, etc. in the programming. The main concept of OOPs is to bind the data and the functions that work on that together as a single unit so that no other part of the code can access this data."
      ]
    },
    {
      "cell_type": "markdown",
      "id": "d7c8b661",
      "metadata": {
        "id": "d7c8b661"
      },
      "source": [
        "Язык может быть ориентирован на объекты, но программу, построенную по принципам ООП, можно написать и в языках, где нет как таковых классов/объектов. Например, на C, или на Go."
      ]
    },
    {
      "cell_type": "markdown",
      "id": "ee244201",
      "metadata": {
        "id": "ee244201"
      },
      "source": [
        "- **Абстракция**.\n",
        "\n",
        "Выделение значимой информации и использование наиболее важных характеристик объекта.\n",
        "Абстракция от общего к частному. Класс -> экземпляр класса, Базовый класс -> производный класс.\n",
        "\n",
        "Выделяем общее из частного. Притом то общее, с которым мы хотим работать.\n",
        "\n",
        "Пример абстракции. Если нам нужно, чтобы утка крякала и плавала, то все то, что крякает и плавает для нас будет уткой. Мы отбросили все частное, которое нам не нужно.\n",
        "\n",
        "Можно сравнить с моделирование более сложного обьекта реальной жизни для экспериментов.\n",
        "\n",
        "Также абстракция бывает горизонтальной. Когда мы моделируем нечто с помощью массива (множество, дерево и пр.). С помощью одного и того же инструмента можем определять разное. Другой пример через модульность.\n",
        "\n",
        "Как это относится к ООП?\n",
        "\n",
        "\n",
        "- **Инкапсуляция**\n",
        "\n",
        "Логическое объединение данных и функций для работы с ними. Инструмент, который позволяет разделить действия, необходмые для разного уровня абстракций.\n",
        "\n",
        "Минимизация необходимого информационного пространства, за счет создания иерархии пространств имен (размещаем в объектке и его описание, и методы, которые с этим объектом работают). Нотация доступа к методам объекта через точку. Методы, поля и прочее и прочее и прочее. Посмотреть методы можно с помощью команды `dir()`.\n",
        "\n",
        "Следует заметить, что также часто используется также \"сокрытие\" определенных полей. Когда мы говорим, что внутри объекта есть еще поля, но мы вам их не покажем. В некоторых языках есть, например,\n",
        "\n",
        "\n",
        "- **Наследование**\n",
        "\n",
        "Повторное использование свойств объектов с описанием различий.\n",
        "\n",
        "Хотим, когда мы используем очередной класс объектов, мы могли сказать \"А можно сделать вот так же, как тут, только в некоторых пунктах мы делаем изменений\". Повторное использование кода.\n",
        "\n",
        "\n",
        "- **Полиморфизм**\n",
        "\n",
        "Предоставление одинаковых средств взаимодействия с объектами разной природы. Возможность для одного и того же кода обрабатывать данные разных типов. Duck typing в Python -- это из коробки\n",
        "\n",
        "\n",
        "Класс можно использовать как контейнер. Мы можем складывать в него дополнительные поля. Можно делать свои \"пространства имен\", и в них складывать какие-то методы. Например, можно сделать некоторый класс и объявить в нем свою функцию минимума. Или определить какое-то поле, например, value. И тогда value будет определена только в области видимости нашего класса"
      ]
    },
    {
      "cell_type": "code",
      "source": [
        "# псевдокод пример\n",
        "class Iterable:\n",
        "  def next():\n",
        "    pass\n",
        "\n",
        "class Array(Iterable):\n",
        "  def __init__(self, data):\n",
        "    self.i = 0\n",
        "    self.data = data\n",
        "  def next():\n",
        "    if self.i < len(self.data):\n",
        "      res = self.data[self.i]\n",
        "      self.i += 1\n",
        "      return res\n",
        "    else:\n",
        "      raise StopIteration\n",
        "\n",
        "\n",
        "class List(Iterable):\n",
        "  def __init__(self, data):\n",
        "    self.data = data\n",
        "    self.head = data.fist\n",
        "\n",
        "  def next():\n",
        "    if self.head is None:\n",
        "      raise StopIteration\n",
        "    res = self.head.value\n",
        "    self.head = self.head.next\n",
        "    return res\n",
        "\n",
        "arr = Array([1, 2, 3])\n",
        "\n"
      ],
      "metadata": {
        "id": "ngd34q3YQOl-"
      },
      "id": "ngd34q3YQOl-",
      "execution_count": null,
      "outputs": []
    },
    {
      "cell_type": "markdown",
      "id": "833a40dd",
      "metadata": {
        "id": "833a40dd"
      },
      "source": [
        "**Class**\n",
        "A class is a collection of objects. A class contains the blueprints or the prototype from which the objects are being created. It is a logical entity that contains some attributes and methods.\n",
        "\n",
        "To understand the need for creating a class let’s consider an example, let’s say you wanted to track the number of dogs that may have different attributes like breed, age. If a list is used, the first element could be the dog’s breed while the second element could represent its age. Let’s suppose there are 100 different dogs, then how would you know which element is supposed to be which? What if you wanted to add other properties to these dogs? This lacks organization and it’s the exact need for classes.\n",
        "\n",
        "Some points on Python class:  \n",
        "\n",
        "Classes are created by keyword class.\n",
        "Attributes are the variables that belong to a class.\n",
        "Attributes are always public and can be accessed using the dot (.) operator. Eg.: Myclass.Myattribute"
      ]
    },
    {
      "cell_type": "markdown",
      "id": "fbdf03ae",
      "metadata": {
        "id": "fbdf03ae"
      },
      "source": [
        "**Objects**\n",
        "The object is an entity that has a state and behavior associated with it. It may be any real-world object like a mouse, keyboard, chair, table, pen, etc. Integers, strings, floating-point numbers, even arrays, and dictionaries, are all objects. More specifically, any single integer or any single string is an object. The number 12 is an object, the string “Hello, world” is an object, a list is an object that can hold other objects, and so on. You’ve been using objects all along and may not even realize it."
      ]
    },
    {
      "cell_type": "markdown",
      "id": "f8011fcd",
      "metadata": {
        "id": "f8011fcd"
      },
      "source": [
        "*An object consists of :*\n",
        "\n",
        "- State: It is represented by the attributes of an object. It also reflects the properties of an object.\n",
        "\n",
        "- Behavior: It is represented by the methods of an object. It also reflects the response of an object to other objects.\n",
        "\n",
        "- Identity: It gives a unique name to an object and enables one object to interact with other objects."
      ]
    },
    {
      "cell_type": "markdown",
      "source": [
        "Давай попробуем сравнить ООП и функциональное программирование?"
      ],
      "metadata": {
        "id": "_5KobGAuAOoH"
      },
      "id": "_5KobGAuAOoH"
    },
    {
      "cell_type": "markdown",
      "id": "3fb3dea7",
      "metadata": {
        "id": "3fb3dea7"
      },
      "source": [
        "## Обработка исключений"
      ]
    },
    {
      "cell_type": "markdown",
      "source": [
        "https://docs.python.org/3/c-api/exceptions.html\n"
      ],
      "metadata": {
        "id": "4kngCYHeugQC"
      },
      "id": "4kngCYHeugQC"
    },
    {
      "cell_type": "code",
      "execution_count": 39,
      "id": "5c852d00",
      "metadata": {
        "ExecuteTime": {
          "end_time": "2022-10-06T11:24:55.272633Z",
          "start_time": "2022-10-06T11:24:55.267634Z"
        },
        "colab": {
          "base_uri": "https://localhost:8080/"
        },
        "id": "5c852d00",
        "outputId": "39f2d63f-8566-4381-9b1e-b4a87bd1d88d"
      },
      "outputs": [
        {
          "output_type": "stream",
          "name": "stdout",
          "text": [
            "impossible to modify object\n"
          ]
        }
      ],
      "source": [
        "a = '1234'\n",
        "\n",
        "try:\n",
        "    a[0] = '10'\n",
        "except:\n",
        "    print('impossible to modify object')"
      ]
    },
    {
      "cell_type": "code",
      "execution_count": null,
      "id": "48d8b516",
      "metadata": {
        "ExecuteTime": {
          "end_time": "2022-10-06T11:25:00.866327Z",
          "start_time": "2022-10-06T11:25:00.861712Z"
        },
        "id": "48d8b516",
        "outputId": "d9dfe1f2-ec47-4c92-9349-0fc96783db02"
      },
      "outputs": [
        {
          "name": "stdout",
          "output_type": "stream",
          "text": [
            "impossible to modify object\n"
          ]
        }
      ],
      "source": [
        "a = '1234'\n",
        "\n",
        "try:\n",
        "    a[0] = '10'\n",
        "except BaseException:\n",
        "    print('impossible to modify object')"
      ]
    },
    {
      "cell_type": "code",
      "execution_count": null,
      "id": "f6ed4c2c",
      "metadata": {
        "ExecuteTime": {
          "end_time": "2022-10-06T11:25:18.815658Z",
          "start_time": "2022-10-06T11:25:18.810629Z"
        },
        "id": "f6ed4c2c",
        "outputId": "156ffe69-ce4e-41b2-abda-4d123b04071a"
      },
      "outputs": [
        {
          "name": "stdout",
          "output_type": "stream",
          "text": [
            "impossible to modify object\n",
            "run finally in any case\n"
          ]
        }
      ],
      "source": [
        "a = '1234'\n",
        "\n",
        "try:\n",
        "    a[0] = '10'\n",
        "except BaseException:\n",
        "    print('impossible to modify object')\n",
        "finally:\n",
        "    print('run finally in any case')"
      ]
    },
    {
      "cell_type": "code",
      "execution_count": null,
      "id": "a6c597e3",
      "metadata": {
        "ExecuteTime": {
          "end_time": "2022-10-06T11:25:32.208917Z",
          "start_time": "2022-10-06T11:25:32.204576Z"
        },
        "id": "a6c597e3",
        "outputId": "f5afdd99-01da-46a0-8fb3-57166f16ad42"
      },
      "outputs": [
        {
          "name": "stdout",
          "output_type": "stream",
          "text": [
            "run finally in any case\n"
          ]
        }
      ],
      "source": [
        "a = [1, 2]\n",
        "\n",
        "try:\n",
        "    a[0] = '10'\n",
        "except BaseException:\n",
        "    print('impossible to modify object')\n",
        "finally:\n",
        "    print('run finally in any case')"
      ]
    },
    {
      "cell_type": "code",
      "execution_count": null,
      "id": "3b9b8d63",
      "metadata": {
        "ExecuteTime": {
          "end_time": "2022-10-06T11:25:47.172614Z",
          "start_time": "2022-10-06T11:25:47.165417Z"
        },
        "id": "3b9b8d63",
        "outputId": "248ff43e-e966-4c95-c256-8d2e3d3e549e"
      },
      "outputs": [
        {
          "data": {
            "text/plain": [
              "(True, True)"
            ]
          },
          "execution_count": 8,
          "metadata": {},
          "output_type": "execute_result"
        }
      ],
      "source": [
        "issubclass(TypeError, BaseException), issubclass(ValueError, BaseException)"
      ]
    },
    {
      "cell_type": "code",
      "execution_count": null,
      "id": "00eb7a21",
      "metadata": {
        "ExecuteTime": {
          "end_time": "2022-10-06T11:26:05.908859Z",
          "start_time": "2022-10-06T11:26:05.903372Z"
        },
        "id": "00eb7a21",
        "outputId": "6e3831d2-0d21-4a68-a16e-10de64b3e33a"
      },
      "outputs": [
        {
          "data": {
            "text/plain": [
              "([TypeError, Exception, BaseException, object],\n",
              " [ValueError, Exception, BaseException, object])"
            ]
          },
          "execution_count": 10,
          "metadata": {},
          "output_type": "execute_result"
        }
      ],
      "source": [
        "TypeError.mro(), ValueError.mro()  # смотрим цепочку наследования"
      ]
    },
    {
      "cell_type": "code",
      "execution_count": 42,
      "id": "67bd2ae0",
      "metadata": {
        "ExecuteTime": {
          "end_time": "2022-10-06T11:26:50.152313Z",
          "start_time": "2022-10-06T11:26:50.146317Z"
        },
        "id": "67bd2ae0"
      },
      "outputs": [],
      "source": [
        "class CustomStringException(BaseException):\n",
        "    pass"
      ]
    },
    {
      "cell_type": "code",
      "execution_count": null,
      "id": "85156eeb",
      "metadata": {
        "ExecuteTime": {
          "end_time": "2022-10-06T11:29:08.260140Z",
          "start_time": "2022-10-06T11:29:08.238132Z"
        },
        "id": "85156eeb",
        "outputId": "ad4e77e9-06a8-4e46-8c61-a6a0af98433d"
      },
      "outputs": [
        {
          "ename": "CustomStringException",
          "evalue": "'str' object does not support item assignment",
          "output_type": "error",
          "traceback": [
            "\u001b[0;31m---------------------------------------------------------------------------\u001b[0m",
            "\u001b[0;31mTypeError\u001b[0m                                 Traceback (most recent call last)",
            "Cell \u001b[0;32mIn [18], line 4\u001b[0m\n\u001b[1;32m      3\u001b[0m \u001b[38;5;28;01mtry\u001b[39;00m:\n\u001b[0;32m----> 4\u001b[0m     a[\u001b[38;5;241m0\u001b[39m] \u001b[38;5;241m=\u001b[39m \u001b[38;5;124m'\u001b[39m\u001b[38;5;124m10\u001b[39m\u001b[38;5;124m'\u001b[39m\n\u001b[1;32m      6\u001b[0m \u001b[38;5;28;01mexcept\u001b[39;00m \u001b[38;5;167;01mTypeError\u001b[39;00m \u001b[38;5;28;01mas\u001b[39;00m e:\n",
            "\u001b[0;31mTypeError\u001b[0m: 'str' object does not support item assignment",
            "\nDuring handling of the above exception, another exception occurred:\n",
            "\u001b[0;31mCustomStringException\u001b[0m                     Traceback (most recent call last)",
            "Cell \u001b[0;32mIn [18], line 7\u001b[0m\n\u001b[1;32m      4\u001b[0m     a[\u001b[38;5;241m0\u001b[39m] \u001b[38;5;241m=\u001b[39m \u001b[38;5;124m'\u001b[39m\u001b[38;5;124m10\u001b[39m\u001b[38;5;124m'\u001b[39m\n\u001b[1;32m      6\u001b[0m \u001b[38;5;28;01mexcept\u001b[39;00m \u001b[38;5;167;01mTypeError\u001b[39;00m \u001b[38;5;28;01mas\u001b[39;00m e:\n\u001b[0;32m----> 7\u001b[0m     \u001b[38;5;28;01mraise\u001b[39;00m CustomStringException(e)\n\u001b[1;32m      9\u001b[0m \u001b[38;5;28;01melse\u001b[39;00m:\n\u001b[1;32m     10\u001b[0m     \u001b[38;5;28mprint\u001b[39m(\u001b[38;5;124m'\u001b[39m\u001b[38;5;124msuccessfully modified\u001b[39m\u001b[38;5;124m'\u001b[39m, a)\n",
            "\u001b[0;31mCustomStringException\u001b[0m: 'str' object does not support item assignment"
          ]
        }
      ],
      "source": [
        "a = '1234'\n",
        "\n",
        "try:\n",
        "    a[0] = '10'\n",
        "\n",
        "except TypeError as e:\n",
        "    raise CustomStringException(e)\n",
        "\n",
        "else:\n",
        "    print('successfully modified', a)"
      ]
    },
    {
      "cell_type": "code",
      "execution_count": null,
      "id": "c28e64cd",
      "metadata": {
        "ExecuteTime": {
          "end_time": "2022-10-06T11:29:13.667686Z",
          "start_time": "2022-10-06T11:29:13.662750Z"
        },
        "id": "c28e64cd",
        "outputId": "1dc979b7-d3bc-4b71-fd6b-ab1d51586187"
      },
      "outputs": [
        {
          "name": "stdout",
          "output_type": "stream",
          "text": [
            "successfully modified a=['10', 2, 3]\n"
          ]
        }
      ],
      "source": [
        "a = ['1234', 2, 3]\n",
        "\n",
        "try:\n",
        "    a[0] = '10'\n",
        "\n",
        "except TypeError as e:\n",
        "    raise CustomStringException(e)\n",
        "\n",
        "else:\n",
        "    print(f'successfully modified {a=}')"
      ]
    },
    {
      "cell_type": "code",
      "execution_count": 41,
      "id": "6980338a",
      "metadata": {
        "ExecuteTime": {
          "end_time": "2022-10-06T11:29:39.970093Z",
          "start_time": "2022-10-06T11:29:39.956179Z"
        },
        "colab": {
          "base_uri": "https://localhost:8080/",
          "height": 139
        },
        "id": "6980338a",
        "outputId": "7f96b8bc-1589-438f-d65d-4a8ed59bf378"
      },
      "outputs": [
        {
          "output_type": "error",
          "ename": "NameError",
          "evalue": "name 'CustomStringException' is not defined",
          "traceback": [
            "\u001b[0;31m---------------------------------------------------------------------------\u001b[0m",
            "\u001b[0;31mNameError\u001b[0m                                 Traceback (most recent call last)",
            "\u001b[0;32m<ipython-input-41-af3e103f068f>\u001b[0m in \u001b[0;36m<cell line: 1>\u001b[0;34m()\u001b[0m\n\u001b[0;32m----> 1\u001b[0;31m \u001b[0;32mraise\u001b[0m \u001b[0mCustomStringException\u001b[0m\u001b[0;34m(\u001b[0m\u001b[0;34m'some message'\u001b[0m\u001b[0;34m)\u001b[0m\u001b[0;34m\u001b[0m\u001b[0;34m\u001b[0m\u001b[0m\n\u001b[0m",
            "\u001b[0;31mNameError\u001b[0m: name 'CustomStringException' is not defined"
          ]
        }
      ],
      "source": [
        "raise CustomStringException('some message')"
      ]
    },
    {
      "cell_type": "code",
      "source": [
        "a = (0, 1)\n",
        "try:\n",
        "  a[0] = 1\n",
        "except CustomStringException:\n",
        "  pass"
      ],
      "metadata": {
        "id": "qbMKewyAUO6y"
      },
      "id": "qbMKewyAUO6y",
      "execution_count": 44,
      "outputs": []
    },
    {
      "cell_type": "code",
      "execution_count": 45,
      "id": "58fefd4a",
      "metadata": {
        "ExecuteTime": {
          "end_time": "2022-10-06T11:31:11.929027Z",
          "start_time": "2022-10-06T11:31:11.923062Z"
        },
        "colab": {
          "base_uri": "https://localhost:8080/"
        },
        "id": "58fefd4a",
        "outputId": "9e1ce5f9-e1b2-46c6-d9cc-f5b41d922d4f"
      },
      "outputs": [
        {
          "output_type": "stream",
          "name": "stdout",
          "text": [
            "raised C\n",
            "A\n",
            "raised A\n",
            "A\n",
            "raised B\n",
            "A\n"
          ]
        }
      ],
      "source": [
        "class A(Exception):\n",
        "    pass\n",
        "\n",
        "class B(A):\n",
        "    pass\n",
        "\n",
        "class C(B):\n",
        "    pass\n",
        "\n",
        "for cls in [C, A, B]:\n",
        "    try:\n",
        "        print(f'raised {cls.__name__}')\n",
        "        raise cls()\n",
        "\n",
        "    except A:\n",
        "        print('A')\n",
        "\n",
        "    except C:\n",
        "        print('C')\n",
        "\n",
        "    except B:\n",
        "        print('B')\n",
        "\n",
        ""
      ]
    },
    {
      "cell_type": "code",
      "execution_count": 46,
      "id": "68652586",
      "metadata": {
        "ExecuteTime": {
          "end_time": "2022-10-06T11:31:30.111468Z",
          "start_time": "2022-10-06T11:31:30.106099Z"
        },
        "colab": {
          "base_uri": "https://localhost:8080/"
        },
        "id": "68652586",
        "outputId": "d4f47cc1-c248-4686-91fe-156c13e3aebe"
      },
      "outputs": [
        {
          "output_type": "stream",
          "name": "stdout",
          "text": [
            "raised C\n",
            "B\n",
            "raised A\n",
            "A\n",
            "raised B\n",
            "B\n"
          ]
        }
      ],
      "source": [
        "for cls in [C, A, B]:\n",
        "    try:\n",
        "        print(f'raised {cls.__name__}')\n",
        "        raise cls()\n",
        "\n",
        "    except B:\n",
        "        print('B')\n",
        "\n",
        "    except C:\n",
        "        print('C')\n",
        "\n",
        "    except A:\n",
        "        print('A')\n",
        "\n",
        ""
      ]
    },
    {
      "cell_type": "code",
      "execution_count": null,
      "id": "cf33451a",
      "metadata": {
        "ExecuteTime": {
          "end_time": "2022-10-06T11:32:03.847459Z",
          "start_time": "2022-10-06T11:32:03.842046Z"
        },
        "id": "cf33451a",
        "outputId": "ceec1bf2-1453-4088-abe8-f85d57c1c05d"
      },
      "outputs": [
        {
          "name": "stdout",
          "output_type": "stream",
          "text": [
            "raised C\n",
            "C\n",
            "raised A\n",
            "A\n",
            "raised B\n",
            "B\n"
          ]
        }
      ],
      "source": [
        "for cls in [C, A, B]:\n",
        "    try:\n",
        "        print(f'raised {cls.__name__}')\n",
        "        raise cls()\n",
        "\n",
        "    except C:\n",
        "        print('C')\n",
        "\n",
        "    except B:\n",
        "        print('B')\n",
        "\n",
        "    except A:\n",
        "        print('A')\n",
        "\n",
        ""
      ]
    },
    {
      "cell_type": "markdown",
      "id": "591e90a1",
      "metadata": {
        "id": "591e90a1"
      },
      "source": [
        "Родительское исключение будет перехватывать исключения всех своих наследников"
      ]
    },
    {
      "cell_type": "markdown",
      "id": "a6a05461",
      "metadata": {
        "id": "a6a05461"
      },
      "source": [
        "## class as a decorator"
      ]
    },
    {
      "cell_type": "markdown",
      "id": "ceb65b85",
      "metadata": {
        "id": "ceb65b85"
      },
      "source": [
        "Экземпляры класса могут быть callable. А если функция может быть декоратором, то что мешает тогда классу? Должен быть определен magic метод `__call__`"
      ]
    },
    {
      "cell_type": "code",
      "execution_count": 47,
      "id": "92446db3",
      "metadata": {
        "colab": {
          "base_uri": "https://localhost:8080/"
        },
        "id": "92446db3",
        "outputId": "c4f840ec-5520-4fc4-b8ea-9c0280f57b7f"
      },
      "outputs": [
        {
          "output_type": "stream",
          "name": "stdout",
          "text": [
            "init\n"
          ]
        }
      ],
      "source": [
        "class ClassDecorator:\n",
        "    def __init__(self, func):\n",
        "        print(\"init\")\n",
        "        self.entry_str = '[decorating inner func]'\n",
        "        self.function = func\n",
        "        self.close_str = '[letting the song flow]'\n",
        "\n",
        "\n",
        "    def __call__(self):\n",
        "        print(\"call\")\n",
        "        print(self.entry_str)\n",
        "        self.function()\n",
        "        print(self.close_str)\n",
        "\n",
        "\n",
        "\n",
        "@ClassDecorator\n",
        "def function():\n",
        "    print('Vanderlyle crybaby cry...')"
      ]
    },
    {
      "cell_type": "code",
      "execution_count": 48,
      "id": "4c204065",
      "metadata": {
        "colab": {
          "base_uri": "https://localhost:8080/"
        },
        "id": "4c204065",
        "outputId": "978f0006-28b1-4c5b-d90c-b4ef9ea6e3a1"
      },
      "outputs": [
        {
          "output_type": "stream",
          "name": "stdout",
          "text": [
            "call\n",
            "[decorating inner func]\n",
            "Vanderlyle crybaby cry...\n",
            "[letting the song flow]\n"
          ]
        }
      ],
      "source": [
        "function()"
      ]
    },
    {
      "cell_type": "markdown",
      "id": "cf870a4f",
      "metadata": {
        "id": "cf870a4f"
      },
      "source": [
        "Как и в декораторах-функциях, мы тоже можем возвращать значения (а не только использовать print) и делать параметры"
      ]
    },
    {
      "cell_type": "markdown",
      "id": "f32762db",
      "metadata": {
        "id": "f32762db"
      },
      "source": [
        "Сделаем таймер"
      ]
    },
    {
      "cell_type": "code",
      "execution_count": null,
      "id": "0003e077",
      "metadata": {
        "id": "0003e077"
      },
      "outputs": [],
      "source": [
        "import time\n",
        "\n",
        "class Timer:\n",
        "    def __init__(self, func):\n",
        "        self.func = func\n",
        "\n",
        "    def __call__(self, *args):\n",
        "        t_start = time.time()\n",
        "        res = self.func(*args)\n",
        "        total_time = time.time() - t_start\n",
        "        print(f'{self.func.__name__}({args}) -> {res} executed in {total_time:.2f}s')\n",
        "        return res"
      ]
    },
    {
      "cell_type": "code",
      "execution_count": null,
      "id": "48658a66",
      "metadata": {
        "id": "48658a66"
      },
      "outputs": [],
      "source": [
        "@Timer\n",
        "def slow_func(seconds_to_sleep):\n",
        "    time.sleep(seconds_to_sleep)\n",
        "    return 73"
      ]
    },
    {
      "cell_type": "code",
      "execution_count": null,
      "id": "a86e77a6",
      "metadata": {
        "id": "a86e77a6",
        "outputId": "f97d8c51-4a6b-4242-bc95-583b254985e9"
      },
      "outputs": [
        {
          "name": "stdout",
          "output_type": "stream",
          "text": [
            "slow_func((3,)) -> 73 executed in 3.00s\n"
          ]
        },
        {
          "data": {
            "text/plain": [
              "73"
            ]
          },
          "execution_count": 62,
          "metadata": {},
          "output_type": "execute_result"
        }
      ],
      "source": [
        "slow_func(3)"
      ]
    },
    {
      "cell_type": "markdown",
      "id": "6039aa2e",
      "metadata": {
        "id": "6039aa2e"
      },
      "source": [
        "## class as decorated"
      ]
    },
    {
      "cell_type": "markdown",
      "id": "9347aeef",
      "metadata": {
        "id": "9347aeef"
      },
      "source": [
        "Класс может быть тоже декорирован функцией или классом"
      ]
    },
    {
      "cell_type": "code",
      "execution_count": null,
      "id": "9878f6c1",
      "metadata": {
        "ExecuteTime": {
          "end_time": "2022-10-06T11:33:06.359490Z",
          "start_time": "2022-10-06T11:33:06.353011Z"
        },
        "id": "9878f6c1",
        "outputId": "730f33be-35cc-42e3-a2a8-2bb7245a2a29"
      },
      "outputs": [
        {
          "name": "stdout",
          "output_type": "stream",
          "text": [
            "Target running\n"
          ]
        },
        {
          "data": {
            "text/plain": [
              "{'arg_list': ('one', 1)}"
            ]
          },
          "execution_count": 27,
          "metadata": {},
          "output_type": "execute_result"
        }
      ],
      "source": [
        "def decorator_function(target):\n",
        "\n",
        "    def decorator_init(self, *args):\n",
        "        print(\"DECORATED\")\n",
        "\n",
        "    print('I changed __init__ in class')\n",
        "    target.__init__ = decorator_init\n",
        "\n",
        "    return target\n",
        "\n",
        "\n",
        "class Target:\n",
        "\n",
        "    def __init__(self, *args):\n",
        "        self.arg_list = args\n",
        "        print(\"Target running\")\n",
        "\n",
        "\n",
        "t = Target('one', 1)\n",
        "t.__dict__"
      ]
    },
    {
      "cell_type": "code",
      "execution_count": null,
      "id": "79d5aaf9",
      "metadata": {
        "ExecuteTime": {
          "end_time": "2022-10-06T11:33:07.188648Z",
          "start_time": "2022-10-06T11:33:07.180847Z"
        },
        "id": "79d5aaf9",
        "outputId": "abf742b2-d334-40a2-fa84-d645f3be995f"
      },
      "outputs": [
        {
          "name": "stdout",
          "output_type": "stream",
          "text": [
            "I changed __init__ in class\n"
          ]
        }
      ],
      "source": [
        "@decorator_function\n",
        "class Target:\n",
        "\n",
        "    def __init__(self, *args):\n",
        "        self.arg_list = args\n",
        "        print(\"Target running\")"
      ]
    },
    {
      "cell_type": "code",
      "execution_count": null,
      "id": "96c3df79",
      "metadata": {
        "ExecuteTime": {
          "end_time": "2022-10-06T11:33:08.503471Z",
          "start_time": "2022-10-06T11:33:08.497878Z"
        },
        "id": "96c3df79",
        "outputId": "13184782-6f4b-4cd5-911e-51436c5d5f56"
      },
      "outputs": [
        {
          "name": "stdout",
          "output_type": "stream",
          "text": [
            "DECORATED\n"
          ]
        },
        {
          "data": {
            "text/plain": [
              "{}"
            ]
          },
          "execution_count": 29,
          "metadata": {},
          "output_type": "execute_result"
        }
      ],
      "source": [
        "dt = Target('one', 1)\n",
        "dt.__dict__"
      ]
    },
    {
      "cell_type": "code",
      "source": [
        "# А можете помочь разобраться как работает такой код, как декоратор понимает, что внутренний аргумент, это часть основной функции?:\n",
        "# декоратор\n",
        "def param_transfer(fn):\n",
        "   def wrapper(arg):\n",
        "       print(\"Run function: \" + str(fn.__name__) + \"(), with param: \" + str(arg))\n",
        "       fn(arg)\n",
        "   return wrapper\n",
        "\n",
        "# функция с декоратором\n",
        "@param_transfer\n",
        "def print_sqrt(num):\n",
        "   print(num**0.5)"
      ],
      "metadata": {
        "id": "VTGHkEW3IXXE"
      },
      "id": "VTGHkEW3IXXE",
      "execution_count": 53,
      "outputs": []
    },
    {
      "cell_type": "code",
      "source": [
        "print_sqrt(5)"
      ],
      "metadata": {
        "colab": {
          "base_uri": "https://localhost:8080/"
        },
        "id": "XiJOfQ-xXINZ",
        "outputId": "0dc556a0-c3b3-4bfa-8461-d3f616a1f15a"
      },
      "id": "XiJOfQ-xXINZ",
      "execution_count": 54,
      "outputs": [
        {
          "output_type": "stream",
          "name": "stdout",
          "text": [
            "Run function: print_sqrt(), with param: 5\n",
            "2.23606797749979\n"
          ]
        }
      ]
    }
  ],
  "metadata": {
    "kernelspec": {
      "display_name": "Python 3 (ipykernel)",
      "language": "python",
      "name": "python3"
    },
    "language_info": {
      "codemirror_mode": {
        "name": "ipython",
        "version": 3
      },
      "file_extension": ".py",
      "mimetype": "text/x-python",
      "name": "python",
      "nbconvert_exporter": "python",
      "pygments_lexer": "ipython3",
      "version": "3.9.12"
    },
    "toc": {
      "base_numbering": 1,
      "nav_menu": {},
      "number_sections": true,
      "sideBar": true,
      "skip_h1_title": false,
      "title_cell": "Table of Contents",
      "title_sidebar": "Contents",
      "toc_cell": false,
      "toc_position": {},
      "toc_section_display": true,
      "toc_window_display": false
    },
    "varInspector": {
      "cols": {
        "lenName": 16,
        "lenType": 16,
        "lenVar": 40
      },
      "kernels_config": {
        "python": {
          "delete_cmd_postfix": "",
          "delete_cmd_prefix": "del ",
          "library": "var_list.py",
          "varRefreshCmd": "print(var_dic_list())"
        },
        "r": {
          "delete_cmd_postfix": ") ",
          "delete_cmd_prefix": "rm(",
          "library": "var_list.r",
          "varRefreshCmd": "cat(var_dic_list()) "
        }
      },
      "types_to_exclude": [
        "module",
        "function",
        "builtin_function_or_method",
        "instance",
        "_Feature"
      ],
      "window_display": false
    },
    "colab": {
      "provenance": []
    }
  },
  "nbformat": 4,
  "nbformat_minor": 5
}