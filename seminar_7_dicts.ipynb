{
  "cells": [
    {
      "cell_type": "markdown",
      "id": "3a44d2c7",
      "metadata": {
        "id": "3a44d2c7"
      },
      "source": [
        "# reduce, accumulate"
      ]
    },
    {
      "cell_type": "code",
      "execution_count": 47,
      "id": "027b5845",
      "metadata": {
        "ExecuteTime": {
          "end_time": "2022-09-29T10:09:36.972804Z",
          "start_time": "2022-09-29T10:09:36.966549Z"
        },
        "id": "027b5845"
      },
      "outputs": [],
      "source": [
        "import operator\n",
        "\n",
        "from functools import reduce\n",
        "from itertools import accumulate"
      ]
    },
    {
      "cell_type": "markdown",
      "id": "84d183f0",
      "metadata": {
        "id": "84d183f0"
      },
      "source": [
        "**reduce**"
      ]
    },
    {
      "cell_type": "code",
      "execution_count": 52,
      "id": "63281206",
      "metadata": {
        "ExecuteTime": {
          "end_time": "2022-09-29T10:19:40.093559Z",
          "start_time": "2022-09-29T10:19:40.087534Z"
        },
        "colab": {
          "base_uri": "https://localhost:8080/"
        },
        "id": "63281206",
        "outputId": "ba277ec7-0404-4ad8-ae16-4224315be82a"
      },
      "outputs": [
        {
          "output_type": "execute_result",
          "data": {
            "text/plain": [
              "[(0, 0),\n",
              " (1, 2),\n",
              " (2, 4),\n",
              " (3, 6),\n",
              " (4, 8),\n",
              " (5, 10),\n",
              " (6, 12),\n",
              " (7, 14),\n",
              " (8, 16),\n",
              " (9, 18)]"
            ]
          },
          "metadata": {},
          "execution_count": 52
        }
      ],
      "source": [
        "a = [(i, i*2) for i in range(10)]\n",
        "a"
      ]
    },
    {
      "cell_type": "code",
      "execution_count": 53,
      "id": "0992d843",
      "metadata": {
        "ExecuteTime": {
          "end_time": "2022-09-29T10:20:05.513204Z",
          "start_time": "2022-09-29T10:20:05.507517Z"
        },
        "colab": {
          "base_uri": "https://localhost:8080/"
        },
        "id": "0992d843",
        "outputId": "f24413c4-5a97-4754-e9a1-2b75fa341df8"
      },
      "outputs": [
        {
          "output_type": "execute_result",
          "data": {
            "text/plain": [
              "(9, 90)"
            ]
          },
          "metadata": {},
          "execution_count": 53
        }
      ],
      "source": [
        "reduce(lambda tup_one, tup_two: (max(tup_one[0], tup_two[0]), tup_one[1] + tup_two[1]), a)"
      ]
    },
    {
      "cell_type": "code",
      "execution_count": 55,
      "id": "b50dd3c9",
      "metadata": {
        "ExecuteTime": {
          "end_time": "2022-09-29T10:21:15.090587Z",
          "start_time": "2022-09-29T10:21:15.084908Z"
        },
        "colab": {
          "base_uri": "https://localhost:8080/"
        },
        "id": "b50dd3c9",
        "outputId": "5dfc52ca-b640-4e38-a13c-7e21a6752889"
      },
      "outputs": [
        {
          "output_type": "execute_result",
          "data": {
            "text/plain": [
              "[0, 1, 2, 3, 4, 5, 6, 7, 8, 9]"
            ]
          },
          "metadata": {},
          "execution_count": 55
        }
      ],
      "source": [
        "a = list(range(10))\n",
        "a"
      ]
    },
    {
      "cell_type": "code",
      "execution_count": 7,
      "id": "60689c7a",
      "metadata": {
        "ExecuteTime": {
          "end_time": "2022-09-29T10:21:17.176004Z",
          "start_time": "2022-09-29T10:21:17.170460Z"
        },
        "colab": {
          "base_uri": "https://localhost:8080/"
        },
        "id": "60689c7a",
        "outputId": "5b8766d6-b9b8-4f5c-fa4c-219cf8c64b4c"
      },
      "outputs": [
        {
          "output_type": "execute_result",
          "data": {
            "text/plain": [
              "45"
            ]
          },
          "metadata": {},
          "execution_count": 7
        }
      ],
      "source": [
        "reduce(lambda x, y: x + y, a)"
      ]
    },
    {
      "cell_type": "code",
      "source": [
        "reduce(lambda x, y: x + y, a, 0)"
      ],
      "metadata": {
        "colab": {
          "base_uri": "https://localhost:8080/"
        },
        "id": "9AWGqi_lMmnT",
        "outputId": "021345a1-9321-409b-ed40-fcf80b3c3347"
      },
      "id": "9AWGqi_lMmnT",
      "execution_count": 44,
      "outputs": [
        {
          "output_type": "execute_result",
          "data": {
            "text/plain": [
              "45"
            ]
          },
          "metadata": {},
          "execution_count": 44
        }
      ]
    },
    {
      "cell_type": "markdown",
      "id": "2e071dc5",
      "metadata": {
        "id": "2e071dc5"
      },
      "source": [
        "**accumulate**"
      ]
    },
    {
      "cell_type": "code",
      "execution_count": 58,
      "id": "69aed884",
      "metadata": {
        "ExecuteTime": {
          "end_time": "2022-09-29T10:24:26.917202Z",
          "start_time": "2022-09-29T10:24:26.911677Z"
        },
        "colab": {
          "base_uri": "https://localhost:8080/"
        },
        "id": "69aed884",
        "outputId": "0f9c69c4-da1b-49f6-ae9d-5349f4b1d91b"
      },
      "outputs": [
        {
          "output_type": "execute_result",
          "data": {
            "text/plain": [
              "[1, 2, 6, 24, 120, 720, 5040, 40320, 362880]"
            ]
          },
          "metadata": {},
          "execution_count": 58
        }
      ],
      "source": [
        "list(accumulate(a[1:], lambda x, y: x * y))"
      ]
    },
    {
      "cell_type": "markdown",
      "source": [
        "# MapReduce architecture pattern\n",
        "\n",
        "Map Phase:\n",
        "  Split the text into chunks.\n",
        "  For each word, output (word, 1).\n",
        "  \n",
        "Example input: \"apple banana apple\"\n",
        "\n",
        "**Output from Map:** (apple, 1), (banana, 1), (apple, 1)\n",
        "\n",
        "**Shuffle Phase:** Group by key:\n",
        "(apple: [1, 1]), (banana: [1])\n",
        "\n",
        "**Reduce Phase:**\n",
        "Sum the counts for each word: (apple, 2), (banana, 1)"
      ],
      "metadata": {
        "id": "pAYsAZdqZ4vH"
      },
      "id": "pAYsAZdqZ4vH"
    },
    {
      "cell_type": "markdown",
      "id": "73fd0adf",
      "metadata": {
        "id": "73fd0adf"
      },
      "source": [
        "**Count certain type of events**"
      ]
    },
    {
      "cell_type": "code",
      "execution_count": 1,
      "id": "767797fe",
      "metadata": {
        "ExecuteTime": {
          "end_time": "2022-09-29T10:32:21.979984Z",
          "start_time": "2022-09-29T10:32:21.973350Z"
        },
        "id": "767797fe"
      },
      "outputs": [],
      "source": [
        "event_log = [\n",
        "    (11214, 'search', 5),\n",
        "    (11215, 'item_view', 1),\n",
        "    (11216, 'item_viewphone', 10),\n",
        "    (11217, 'item_view', 2),\n",
        "    (11218, 'item_viewphone', 4),\n",
        "    (11219, 'item_view', 6),\n",
        "    (11210, 'item_viewphone', 2),\n",
        "    (11234, 'item_view', 4),\n",
        "    (11264, 'item_view', 3),\n",
        "    (11224, 'item_viewphone', 1),\n",
        "    (11204, 'search', 6),\n",
        "    (12214, 'search', 34),\n",
        "    (13214, 'item_view', 3),\n",
        "    (14214, 'item_view', 1000),\n",
        "    (15214, 'item_viewphone', 2000),\n",
        "    (16214, 'item_viewphone', 3444),\n",
        "    (17214, 'item_view', 0),\n",
        "    (18214, 'item_viewphone', 12),\n",
        "    (19214, 'search', 244),\n",
        "    (29214, 'item_viewphone', 4),\n",
        "    (30214, 'item_view', 56),\n",
        "    (48214, 'item_viewphone', 5),\n",
        "    (67214, 'item_view', 2),\n",
        "]"
      ]
    },
    {
      "cell_type": "markdown",
      "id": "fabedeb9",
      "metadata": {
        "id": "fabedeb9"
      },
      "source": [
        "1. Посчитать количество аномальных полей. Будем считать поле аномальным, если у него какое-то слишком большое значение для метрики. Например, количество событий > 999\n",
        "\n",
        "Можно, например, использовать filter() или list-comp"
      ]
    },
    {
      "cell_type": "code",
      "execution_count": 11,
      "id": "20f6274a",
      "metadata": {
        "ExecuteTime": {
          "end_time": "2022-09-29T10:33:35.006413Z",
          "start_time": "2022-09-29T10:33:35.001677Z"
        },
        "colab": {
          "base_uri": "https://localhost:8080/"
        },
        "id": "20f6274a",
        "outputId": "97ffe3a9-58a4-44b4-9008-73f53c3fb110"
      },
      "outputs": [
        {
          "output_type": "execute_result",
          "data": {
            "text/plain": [
              "3"
            ]
          },
          "metadata": {},
          "execution_count": 11
        }
      ],
      "source": [
        "anomaly_events_num = 999\n",
        "\n",
        "len(list(filter(lambda elem: elem[2] > anomaly_events_num, event_log)))"
      ]
    },
    {
      "cell_type": "code",
      "execution_count": null,
      "id": "ffdea0f3",
      "metadata": {
        "ExecuteTime": {
          "end_time": "2022-09-29T10:34:13.896702Z",
          "start_time": "2022-09-29T10:34:13.891948Z"
        },
        "id": "ffdea0f3"
      },
      "outputs": [],
      "source": [
        "cnt = 0\n",
        "\n",
        "for elem in filter(lambda elem: elem[2] > anomaly_events_num, event_log):\n",
        "    cnt += 1"
      ]
    },
    {
      "cell_type": "markdown",
      "id": "126b90a8",
      "metadata": {
        "id": "126b90a8"
      },
      "source": [
        "2. Посчитать общее количество событий по неаномальным полям"
      ]
    },
    {
      "cell_type": "code",
      "execution_count": 61,
      "id": "5e7c792d",
      "metadata": {
        "ExecuteTime": {
          "end_time": "2022-09-29T10:44:49.379701Z",
          "start_time": "2022-09-29T10:44:49.373695Z"
        },
        "id": "5e7c792d",
        "outputId": "41292867-a105-4058-fd90-0880bda35a9d",
        "colab": {
          "base_uri": "https://localhost:8080/"
        }
      },
      "outputs": [
        {
          "output_type": "stream",
          "name": "stdout",
          "text": [
            "[(11215, 'item_view', 1), (11217, 'item_view', 2), (11219, 'item_view', 6), (11234, 'item_view', 4), (11264, 'item_view', 3), (13214, 'item_view', 3), (14214, 'item_view', 1000), (17214, 'item_view', 0), (30214, 'item_view', 56), (67214, 'item_view', 2)]\n"
          ]
        },
        {
          "output_type": "execute_result",
          "data": {
            "text/plain": [
              "0"
            ]
          },
          "metadata": {},
          "execution_count": 61
        }
      ],
      "source": [
        "eventtype = 'item_view'\n",
        "\n",
        "filtered_events = filter(lambda event: event[1] == 'item_view', event_log)\n",
        "print(list(filtered_events))\n",
        "\n",
        "total_sum = reduce(lambda x, event: x + event[2], filtered_events, 0)\n",
        "\n",
        "total_sum"
      ]
    },
    {
      "cell_type": "markdown",
      "id": "ce0ab696",
      "metadata": {
        "id": "ce0ab696"
      },
      "source": [
        "# Dicts"
      ]
    },
    {
      "cell_type": "markdown",
      "id": "bd126c63",
      "metadata": {
        "id": "bd126c63"
      },
      "source": [
        "## Creation"
      ]
    },
    {
      "cell_type": "code",
      "execution_count": null,
      "id": "157e4657",
      "metadata": {
        "ExecuteTime": {
          "end_time": "2022-09-29T10:45:30.960391Z",
          "start_time": "2022-09-29T10:45:30.955621Z"
        },
        "id": "157e4657",
        "outputId": "8343b41a-e6aa-4055-ae4b-423df9084934"
      },
      "outputs": [
        {
          "name": "stdout",
          "output_type": "stream",
          "text": [
            "{} <class 'dict'>\n"
          ]
        }
      ],
      "source": [
        "some_empty_dict = dict()\n",
        "print(some_empty_dict, type(some_empty_dict))"
      ]
    },
    {
      "cell_type": "markdown",
      "id": "442dc1e0",
      "metadata": {
        "id": "442dc1e0"
      },
      "source": [
        "### Simple example"
      ]
    },
    {
      "cell_type": "code",
      "execution_count": 69,
      "id": "cc2ce912",
      "metadata": {
        "ExecuteTime": {
          "end_time": "2022-09-29T10:46:28.959440Z",
          "start_time": "2022-09-29T10:46:28.952739Z"
        },
        "id": "cc2ce912",
        "outputId": "fd614d42-a290-408a-aefa-9a978ed722a4",
        "colab": {
          "base_uri": "https://localhost:8080/"
        }
      },
      "outputs": [
        {
          "output_type": "execute_result",
          "data": {
            "text/plain": [
              "{'name': 'Denis',\n",
              " 'year': 2015,\n",
              " 'core subjects': ('Statistics', 'Algorimthms'),\n",
              " 'optional subjects': ['Urban Studies', 'Basic Physics'],\n",
              " 42: 'always the answer',\n",
              " (42,): 'always the answer'}"
            ]
          },
          "metadata": {},
          "execution_count": 69
        }
      ],
      "source": [
        "student_card = {\n",
        "    'name': 'Denis',\n",
        "    'year': 2015,\n",
        "    'core subjects': ('Statistics', 'Algorimthms'),\n",
        "    'optional subjects': ['Urban Studies', 'Basic Physics'],\n",
        "    42: 'always the answer',\n",
        "    (42,): 'always the answer',\n",
        "    # [1, 2]: 'dd'\n",
        "}\n",
        "\n",
        "student_card"
      ]
    },
    {
      "cell_type": "code",
      "execution_count": 65,
      "id": "d62cd3c8",
      "metadata": {
        "ExecuteTime": {
          "end_time": "2022-09-29T10:46:48.493675Z",
          "start_time": "2022-09-29T10:46:48.487761Z"
        },
        "id": "d62cd3c8"
      },
      "outputs": [],
      "source": [
        "student_card['surname'] = 'Belyakov'"
      ]
    },
    {
      "cell_type": "code",
      "execution_count": 66,
      "id": "8c53b2d0",
      "metadata": {
        "ExecuteTime": {
          "end_time": "2022-09-29T10:46:52.976135Z",
          "start_time": "2022-09-29T10:46:52.970574Z"
        },
        "id": "8c53b2d0",
        "outputId": "f6584026-4dce-4c33-ed86-c033163dd950",
        "colab": {
          "base_uri": "https://localhost:8080/"
        }
      },
      "outputs": [
        {
          "output_type": "execute_result",
          "data": {
            "text/plain": [
              "{'name': 'Denis',\n",
              " 'year': 2015,\n",
              " 'core subjects': ('Statistics', 'Algorimthms'),\n",
              " 'optional subjects': ['Urban Studies', 'Basic Physics'],\n",
              " 42: 'always the answer',\n",
              " (42,): 'always the answer',\n",
              " 'surname': 'Belyakov'}"
            ]
          },
          "metadata": {},
          "execution_count": 66
        }
      ],
      "source": [
        "student_card"
      ]
    },
    {
      "cell_type": "markdown",
      "id": "8ec20b73",
      "metadata": {
        "id": "8ec20b73"
      },
      "source": [
        "## Внутри"
      ]
    },
    {
      "cell_type": "markdown",
      "id": "0af4eb35",
      "metadata": {
        "id": "0af4eb35"
      },
      "source": [
        "Ключ может быть только hashable"
      ]
    },
    {
      "cell_type": "markdown",
      "id": "f7c07457",
      "metadata": {
        "id": "f7c07457"
      },
      "source": [
        "    An object is hashable if it has a hash value which never changes during its lifetime (it\n",
        "    needs a __hash__() method), and can be compared to other objects (it needs an\n",
        "    __eq__() method). Hashable objects which compare equal must have the same hash\n",
        "    value. […]"
      ]
    },
    {
      "cell_type": "markdown",
      "id": "6e7627ef",
      "metadata": {
        "id": "6e7627ef"
      },
      "source": [
        "Данное требование существует, потому что внутри dict -- это hash таблица!"
      ]
    },
    {
      "cell_type": "markdown",
      "id": "44cac078",
      "metadata": {
        "id": "44cac078"
      },
      "source": [
        "Операции доставания значения по ключу, добавления и проверки нахождения -- в среднем **O(1)**.\n",
        "\n",
        "` Может быть O(n), если у вас отвратительная хеш-функция `"
      ]
    },
    {
      "cell_type": "markdown",
      "id": "a6e29f62",
      "metadata": {
        "id": "a6e29f62"
      },
      "source": [
        "![hashtable](https://upload.wikimedia.org/wikipedia/commons/thumb/7/7d/Hash_table_3_1_1_0_1_0_0_SP.svg/1200px-Hash_table_3_1_1_0_1_0_0_SP.svg.png)"
      ]
    },
    {
      "cell_type": "markdown",
      "id": "35680796",
      "metadata": {
        "id": "35680796"
      },
      "source": [
        "## Basic operations"
      ]
    },
    {
      "cell_type": "markdown",
      "id": "b1162add",
      "metadata": {
        "id": "b1162add"
      },
      "source": [
        "### Get values"
      ]
    },
    {
      "cell_type": "code",
      "execution_count": 70,
      "id": "4e79e416",
      "metadata": {
        "ExecuteTime": {
          "end_time": "2022-09-29T10:51:56.818945Z",
          "start_time": "2022-09-29T10:51:56.813925Z"
        },
        "id": "4e79e416",
        "outputId": "b52476bd-3432-4b59-f30e-d49cad6a5eb6",
        "colab": {
          "base_uri": "https://localhost:8080/",
          "height": 35
        }
      },
      "outputs": [
        {
          "output_type": "execute_result",
          "data": {
            "text/plain": [
              "'Denis'"
            ],
            "application/vnd.google.colaboratory.intrinsic+json": {
              "type": "string"
            }
          },
          "metadata": {},
          "execution_count": 70
        }
      ],
      "source": [
        "student_card.get('name', 'key is not there')"
      ]
    },
    {
      "cell_type": "markdown",
      "id": "2e0b6efa",
      "metadata": {
        "id": "2e0b6efa"
      },
      "source": [
        "### Remove values"
      ]
    },
    {
      "cell_type": "code",
      "execution_count": 71,
      "id": "b7825737",
      "metadata": {
        "ExecuteTime": {
          "end_time": "2022-09-29T10:52:36.577905Z",
          "start_time": "2022-09-29T10:52:36.572474Z"
        },
        "id": "b7825737",
        "outputId": "a7c8711e-a7e4-48ac-dc56-e68bac9a0816",
        "colab": {
          "base_uri": "https://localhost:8080/",
          "height": 35
        }
      },
      "outputs": [
        {
          "output_type": "execute_result",
          "data": {
            "text/plain": [
              "'always the answer'"
            ],
            "application/vnd.google.colaboratory.intrinsic+json": {
              "type": "string"
            }
          },
          "metadata": {},
          "execution_count": 71
        }
      ],
      "source": [
        "student_card.pop((42,))"
      ]
    },
    {
      "cell_type": "code",
      "execution_count": 72,
      "id": "b3681e1d",
      "metadata": {
        "ExecuteTime": {
          "end_time": "2022-09-29T10:52:40.384217Z",
          "start_time": "2022-09-29T10:52:40.374694Z"
        },
        "id": "b3681e1d",
        "outputId": "3c4393f1-8162-4ce8-88a7-a564195c6aad",
        "colab": {
          "base_uri": "https://localhost:8080/"
        }
      },
      "outputs": [
        {
          "output_type": "execute_result",
          "data": {
            "text/plain": [
              "{'name': 'Denis',\n",
              " 'year': 2015,\n",
              " 'core subjects': ('Statistics', 'Algorimthms'),\n",
              " 'optional subjects': ['Urban Studies', 'Basic Physics'],\n",
              " 42: 'always the answer'}"
            ]
          },
          "metadata": {},
          "execution_count": 72
        }
      ],
      "source": [
        "student_card"
      ]
    },
    {
      "cell_type": "markdown",
      "id": "00c71455",
      "metadata": {
        "id": "00c71455"
      },
      "source": [
        "### Update with many `key:value` pairs"
      ]
    },
    {
      "cell_type": "code",
      "execution_count": 73,
      "id": "8a038738",
      "metadata": {
        "ExecuteTime": {
          "end_time": "2022-09-29T10:53:10.637785Z",
          "start_time": "2022-09-29T10:53:10.633331Z"
        },
        "id": "8a038738"
      },
      "outputs": [],
      "source": [
        "student_card.update({'name': 1, 'b': 2})"
      ]
    },
    {
      "cell_type": "code",
      "execution_count": 74,
      "id": "c33f67e2",
      "metadata": {
        "ExecuteTime": {
          "end_time": "2022-09-29T10:53:11.149492Z",
          "start_time": "2022-09-29T10:53:11.144024Z"
        },
        "id": "c33f67e2",
        "outputId": "dafe6a2d-27f8-43ff-9de0-b73e8ac3aca6",
        "colab": {
          "base_uri": "https://localhost:8080/"
        }
      },
      "outputs": [
        {
          "output_type": "execute_result",
          "data": {
            "text/plain": [
              "{'name': 1,\n",
              " 'year': 2015,\n",
              " 'core subjects': ('Statistics', 'Algorimthms'),\n",
              " 'optional subjects': ['Urban Studies', 'Basic Physics'],\n",
              " 42: 'always the answer',\n",
              " 'b': 2}"
            ]
          },
          "metadata": {},
          "execution_count": 74
        }
      ],
      "source": [
        "student_card"
      ]
    },
    {
      "cell_type": "markdown",
      "id": "fcdd6263",
      "metadata": {
        "id": "fcdd6263"
      },
      "source": [
        "### Iterate over"
      ]
    },
    {
      "cell_type": "code",
      "execution_count": 75,
      "id": "0fbb7ccd",
      "metadata": {
        "ExecuteTime": {
          "end_time": "2022-09-29T10:53:34.565055Z",
          "start_time": "2022-09-29T10:53:34.557961Z"
        },
        "id": "0fbb7ccd",
        "outputId": "c5c809dc-c0ac-40f7-ace4-7710c5d470cd",
        "colab": {
          "base_uri": "https://localhost:8080/"
        }
      },
      "outputs": [
        {
          "output_type": "stream",
          "name": "stdout",
          "text": [
            "name\n",
            "year\n",
            "core subjects\n",
            "optional subjects\n",
            "42\n",
            "b\n"
          ]
        }
      ],
      "source": [
        "for key in student_card:\n",
        "    print(key)"
      ]
    },
    {
      "cell_type": "code",
      "execution_count": 76,
      "id": "a517d82f",
      "metadata": {
        "ExecuteTime": {
          "end_time": "2022-09-29T10:53:45.237922Z",
          "start_time": "2022-09-29T10:53:45.233125Z"
        },
        "id": "a517d82f",
        "outputId": "e994e3ba-f15b-4ad7-8171-65594bc200cf",
        "colab": {
          "base_uri": "https://localhost:8080/"
        }
      },
      "outputs": [
        {
          "output_type": "stream",
          "name": "stdout",
          "text": [
            "name 1\n",
            "year 2015\n",
            "core subjects ('Statistics', 'Algorimthms')\n",
            "optional subjects ['Urban Studies', 'Basic Physics']\n",
            "42 always the answer\n",
            "b 2\n"
          ]
        }
      ],
      "source": [
        "for key, value in student_card.items():\n",
        "    print(key, value)"
      ]
    },
    {
      "cell_type": "code",
      "execution_count": 77,
      "id": "9bd592b0",
      "metadata": {
        "ExecuteTime": {
          "end_time": "2022-09-29T10:53:48.017634Z",
          "start_time": "2022-09-29T10:53:48.012746Z"
        },
        "id": "9bd592b0",
        "outputId": "4d1c7fb0-8305-4090-dd18-fcdbd377bf26",
        "colab": {
          "base_uri": "https://localhost:8080/"
        }
      },
      "outputs": [
        {
          "output_type": "execute_result",
          "data": {
            "text/plain": [
              "dict_values([1, 2015, ('Statistics', 'Algorimthms'), ['Urban Studies', 'Basic Physics'], 'always the answer', 2])"
            ]
          },
          "metadata": {},
          "execution_count": 77
        }
      ],
      "source": [
        "student_card.values()"
      ]
    },
    {
      "cell_type": "markdown",
      "id": "c8f8a6b5",
      "metadata": {
        "id": "c8f8a6b5"
      },
      "source": [
        "### clear"
      ]
    },
    {
      "cell_type": "code",
      "execution_count": 78,
      "id": "a37529b2",
      "metadata": {
        "ExecuteTime": {
          "end_time": "2022-09-29T10:53:53.687218Z",
          "start_time": "2022-09-29T10:53:53.681441Z"
        },
        "id": "a37529b2"
      },
      "outputs": [],
      "source": [
        "student_card.clear()"
      ]
    },
    {
      "cell_type": "code",
      "execution_count": 79,
      "id": "bc082cf8",
      "metadata": {
        "ExecuteTime": {
          "end_time": "2022-09-29T10:53:55.497666Z",
          "start_time": "2022-09-29T10:53:55.492440Z"
        },
        "id": "bc082cf8",
        "outputId": "54962592-c4c6-4ab9-98a4-db256a1a7078",
        "colab": {
          "base_uri": "https://localhost:8080/"
        }
      },
      "outputs": [
        {
          "output_type": "execute_result",
          "data": {
            "text/plain": [
              "{}"
            ]
          },
          "metadata": {},
          "execution_count": 79
        }
      ],
      "source": [
        "student_card"
      ]
    },
    {
      "cell_type": "markdown",
      "id": "9e2dd433",
      "metadata": {
        "id": "9e2dd433"
      },
      "source": [
        "## Sample task\n",
        "\n",
        "### Let's count unique symbols in a string!"
      ]
    },
    {
      "cell_type": "code",
      "execution_count": 20,
      "id": "de0f8733",
      "metadata": {
        "ExecuteTime": {
          "end_time": "2022-09-29T10:55:54.722336Z",
          "start_time": "2022-09-29T10:55:54.718780Z"
        },
        "id": "de0f8733"
      },
      "outputs": [],
      "source": [
        "sample_string = 'Eddie ate dynamite, goodbye Eddie'"
      ]
    },
    {
      "cell_type": "code",
      "execution_count": 22,
      "id": "84901775",
      "metadata": {
        "ExecuteTime": {
          "end_time": "2022-09-29T10:57:07.830534Z",
          "start_time": "2022-09-29T10:57:07.824421Z"
        },
        "id": "84901775",
        "colab": {
          "base_uri": "https://localhost:8080/"
        },
        "outputId": "dd83402d-9385-4a44-a0fc-ec0198058579"
      },
      "outputs": [
        {
          "output_type": "execute_result",
          "data": {
            "text/plain": [
              "{'e': 7,\n",
              " 'd': 6,\n",
              " 'i': 3,\n",
              " ' ': 4,\n",
              " 'a': 2,\n",
              " 't': 2,\n",
              " 'y': 2,\n",
              " 'n': 1,\n",
              " 'm': 1,\n",
              " ',': 1,\n",
              " 'g': 1,\n",
              " 'o': 2,\n",
              " 'b': 1}"
            ]
          },
          "metadata": {},
          "execution_count": 22
        }
      ],
      "source": [
        "symbols = {}\n",
        "\n",
        "{s.lower(): sample_string.lower().count(s) for s in sample_string} # -- не очень эффективно из-за count()"
      ]
    },
    {
      "cell_type": "code",
      "execution_count": null,
      "id": "2b8c94f8",
      "metadata": {
        "ExecuteTime": {
          "end_time": "2022-09-29T10:58:51.575252Z",
          "start_time": "2022-09-29T10:58:51.570798Z"
        },
        "id": "2b8c94f8"
      },
      "outputs": [],
      "source": [
        "symbols = {}\n",
        "for s in sample_string.lower():\n",
        "    #symbols[s] = symbols.get(s, 0) + 1\n",
        "    if s not in symbols:\n",
        "        symbols[s] = 1\n",
        "    else:\n",
        "        symbols[s] += 1"
      ]
    },
    {
      "cell_type": "code",
      "execution_count": null,
      "id": "11f442c5",
      "metadata": {
        "ExecuteTime": {
          "end_time": "2022-09-29T10:58:51.920540Z",
          "start_time": "2022-09-29T10:58:51.910213Z"
        },
        "id": "11f442c5",
        "outputId": "e8ea922a-d797-4fcf-8da0-109d35dd7598"
      },
      "outputs": [
        {
          "data": {
            "text/plain": [
              "{'e': 7,\n",
              " 'd': 6,\n",
              " 'i': 3,\n",
              " ' ': 4,\n",
              " 'a': 2,\n",
              " 't': 2,\n",
              " 'y': 2,\n",
              " 'n': 1,\n",
              " 'm': 1,\n",
              " ',': 1,\n",
              " 'g': 1,\n",
              " 'o': 2,\n",
              " 'b': 1}"
            ]
          },
          "execution_count": 74,
          "metadata": {},
          "output_type": "execute_result"
        }
      ],
      "source": [
        "symbols"
      ]
    },
    {
      "cell_type": "code",
      "execution_count": 81,
      "id": "0ead69c2",
      "metadata": {
        "ExecuteTime": {
          "end_time": "2022-09-29T10:59:05.906581Z",
          "start_time": "2022-09-29T10:59:05.900415Z"
        },
        "id": "0ead69c2"
      },
      "outputs": [],
      "source": [
        "from collections import defaultdict"
      ]
    },
    {
      "cell_type": "code",
      "execution_count": 84,
      "id": "496efeb0",
      "metadata": {
        "ExecuteTime": {
          "end_time": "2022-09-29T11:00:40.552715Z",
          "start_time": "2022-09-29T11:00:40.546215Z"
        },
        "id": "496efeb0"
      },
      "outputs": [],
      "source": [
        "symbols = defaultdict(int)"
      ]
    },
    {
      "cell_type": "code",
      "execution_count": 86,
      "id": "81463421",
      "metadata": {
        "ExecuteTime": {
          "end_time": "2022-09-29T11:00:43.407367Z",
          "start_time": "2022-09-29T11:00:43.403271Z"
        },
        "id": "81463421"
      },
      "outputs": [],
      "source": [
        "for s in sample_string.lower():\n",
        "    symbols[s] += 1"
      ]
    },
    {
      "cell_type": "code",
      "execution_count": 87,
      "id": "951d8526",
      "metadata": {
        "ExecuteTime": {
          "end_time": "2022-09-29T11:00:47.604540Z",
          "start_time": "2022-09-29T11:00:47.598733Z"
        },
        "id": "951d8526",
        "outputId": "56f1f3eb-1e27-4fd0-c280-615102693e37",
        "colab": {
          "base_uri": "https://localhost:8080/"
        }
      },
      "outputs": [
        {
          "output_type": "execute_result",
          "data": {
            "text/plain": [
              "defaultdict(float,\n",
              "            {'a': 2.0,\n",
              "             'e': 7.0,\n",
              "             'd': 6.0,\n",
              "             'i': 3.0,\n",
              "             ' ': 4.0,\n",
              "             't': 2.0,\n",
              "             'y': 2.0,\n",
              "             'n': 1.0,\n",
              "             'm': 1.0,\n",
              "             ',': 1.0,\n",
              "             'g': 1.0,\n",
              "             'o': 2.0,\n",
              "             'b': 1.0})"
            ]
          },
          "metadata": {},
          "execution_count": 87
        }
      ],
      "source": [
        "symbols"
      ]
    },
    {
      "cell_type": "markdown",
      "id": "fa9043db",
      "metadata": {
        "id": "fa9043db"
      },
      "source": [
        "What can we do to make our solution above better?\n",
        "\n",
        "Bonus: try to use `defaultdict` *(from collections import defaultdict)*"
      ]
    },
    {
      "cell_type": "markdown",
      "id": "d1101d46",
      "metadata": {
        "id": "d1101d46"
      },
      "source": [
        "# Sets"
      ]
    },
    {
      "cell_type": "markdown",
      "id": "f237c19c",
      "metadata": {
        "id": "f237c19c"
      },
      "source": [
        "Коллекция уникальных объектов"
      ]
    },
    {
      "cell_type": "code",
      "execution_count": 88,
      "id": "3050d765",
      "metadata": {
        "ExecuteTime": {
          "end_time": "2022-09-29T11:02:03.345520Z",
          "start_time": "2022-09-29T11:02:03.339739Z"
        },
        "id": "3050d765",
        "outputId": "cd556396-863b-4324-dd51-345e394bf6b7",
        "colab": {
          "base_uri": "https://localhost:8080/"
        }
      },
      "outputs": [
        {
          "output_type": "execute_result",
          "data": {
            "text/plain": [
              "{'one', 'two'}"
            ]
          },
          "metadata": {},
          "execution_count": 88
        }
      ],
      "source": [
        "a = ['one', 'two', 'two', 'one']\n",
        "set(a)"
      ]
    },
    {
      "cell_type": "markdown",
      "id": "6354a3c1",
      "metadata": {
        "id": "6354a3c1"
      },
      "source": [
        "set -- mutable, frozenset -- immutable"
      ]
    },
    {
      "cell_type": "code",
      "source": [
        "b = frozenset(a)\n",
        "b"
      ],
      "metadata": {
        "colab": {
          "base_uri": "https://localhost:8080/"
        },
        "id": "mcwigUezMaWA",
        "outputId": "aa05278d-fa60-4c61-c4b4-9ef29d86f878"
      },
      "id": "mcwigUezMaWA",
      "execution_count": 33,
      "outputs": [
        {
          "output_type": "execute_result",
          "data": {
            "text/plain": [
              "frozenset({'one', 'two'})"
            ]
          },
          "metadata": {},
          "execution_count": 33
        }
      ]
    },
    {
      "cell_type": "code",
      "execution_count": null,
      "id": "3de613e7",
      "metadata": {
        "ExecuteTime": {
          "end_time": "2022-09-29T11:02:09.214140Z",
          "start_time": "2022-09-29T11:02:09.209693Z"
        },
        "id": "3de613e7"
      },
      "outputs": [],
      "source": [
        "first_set = {1, 2, 3, 4, 5}\n",
        "second_set = {4, 5, 6, 7, 8}"
      ]
    },
    {
      "cell_type": "code",
      "execution_count": null,
      "id": "3f04a1d8",
      "metadata": {
        "ExecuteTime": {
          "end_time": "2022-09-29T11:02:26.106745Z",
          "start_time": "2022-09-29T11:02:26.101744Z"
        },
        "id": "3f04a1d8",
        "outputId": "7112c6b4-1618-45c9-ee66-b4e82f15eb9e"
      },
      "outputs": [
        {
          "data": {
            "text/plain": [
              "({4, 5}, {4, 5})"
            ]
          },
          "execution_count": 85,
          "metadata": {},
          "output_type": "execute_result"
        }
      ],
      "source": [
        "first_set & second_set, first_set.intersection(second_set)"
      ]
    },
    {
      "cell_type": "code",
      "execution_count": null,
      "id": "029c0fb6",
      "metadata": {
        "ExecuteTime": {
          "end_time": "2022-09-29T11:02:29.655710Z",
          "start_time": "2022-09-29T11:02:29.649761Z"
        },
        "id": "029c0fb6",
        "outputId": "3482dc55-2de2-4ed2-e3e2-039b3cf07366"
      },
      "outputs": [
        {
          "data": {
            "text/plain": [
              "({1, 2, 3, 4, 5, 6, 7, 8}, {1, 2, 3, 4, 5, 6, 7, 8})"
            ]
          },
          "execution_count": 86,
          "metadata": {},
          "output_type": "execute_result"
        }
      ],
      "source": [
        "first_set | second_set, first_set.union(second_set)"
      ]
    },
    {
      "cell_type": "code",
      "execution_count": null,
      "id": "e9d83bcd",
      "metadata": {
        "ExecuteTime": {
          "end_time": "2022-09-29T11:03:30.185556Z",
          "start_time": "2022-09-29T11:03:30.180464Z"
        },
        "id": "e9d83bcd",
        "outputId": "49797766-2df3-4527-85bf-dd95a145c55d"
      },
      "outputs": [
        {
          "data": {
            "text/plain": [
              "{6, 7, 8}"
            ]
          },
          "execution_count": 90,
          "metadata": {},
          "output_type": "execute_result"
        }
      ],
      "source": [
        "second_set - first_set"
      ]
    },
    {
      "cell_type": "markdown",
      "id": "7eec30ac",
      "metadata": {
        "id": "7eec30ac"
      },
      "source": [
        "Внутри хеш-таблица, что дает нам операцию проверки вхождения за O(1) при хорошей хеш-функции\n",
        "\n",
        "Пример:"
      ]
    },
    {
      "cell_type": "code",
      "execution_count": null,
      "id": "dea35448",
      "metadata": {
        "ExecuteTime": {
          "end_time": "2022-09-29T11:03:51.650652Z",
          "start_time": "2022-09-29T11:03:51.644391Z"
        },
        "id": "dea35448"
      },
      "outputs": [],
      "source": [
        "import random"
      ]
    },
    {
      "cell_type": "code",
      "execution_count": null,
      "id": "3ec4ce04",
      "metadata": {
        "ExecuteTime": {
          "end_time": "2022-09-29T11:04:29.591280Z",
          "start_time": "2022-09-29T11:04:29.533857Z"
        },
        "id": "3ec4ce04"
      },
      "outputs": [],
      "source": [
        "good_values = set(range(100))\n",
        "\n",
        "filtered_values = []\n",
        "for i in range(100000):\n",
        "    val = random.randint(1, 500)\n",
        "    if val in good_values:\n",
        "        filtered_values.append(val)"
      ]
    },
    {
      "cell_type": "code",
      "execution_count": null,
      "id": "22d437d0",
      "metadata": {
        "ExecuteTime": {
          "end_time": "2022-09-29T11:05:05.964849Z",
          "start_time": "2022-09-29T11:05:05.959204Z"
        },
        "id": "22d437d0"
      },
      "outputs": [],
      "source": [
        "assert len(list(filter(lambda x: x >= 100, filtered_values))) == 0"
      ]
    },
    {
      "cell_type": "markdown",
      "id": "d8fafb74",
      "metadata": {
        "id": "d8fafb74"
      },
      "source": [
        "Задачка. Дедуплицируем список с сохранением порядка"
      ]
    },
    {
      "cell_type": "code",
      "execution_count": null,
      "id": "a2ef88f8",
      "metadata": {
        "ExecuteTime": {
          "end_time": "2022-09-29T11:27:15.308033Z",
          "start_time": "2022-09-29T11:27:15.303105Z"
        },
        "id": "a2ef88f8"
      },
      "outputs": [],
      "source": [
        "a = list(range(10000)) + list(range(10000)) + list(range(10000))"
      ]
    },
    {
      "cell_type": "code",
      "execution_count": null,
      "id": "02cef8c9",
      "metadata": {
        "ExecuteTime": {
          "end_time": "2022-09-29T11:12:15.542788Z",
          "start_time": "2022-09-29T11:12:15.087460Z"
        },
        "id": "02cef8c9",
        "outputId": "aa26ff9e-a251-44b3-a26f-ea4535ed10d6"
      },
      "outputs": [
        {
          "name": "stdout",
          "output_type": "stream",
          "text": [
            "CPU times: user 452 ms, sys: 0 ns, total: 452 ms\n",
            "Wall time: 451 ms\n"
          ]
        }
      ],
      "source": [
        "%%time\n",
        "\n",
        "seen_values = []\n",
        "dedup_a = []\n",
        "\n",
        "for value in a:\n",
        "    if value not in seen_values: # O(N)\n",
        "        dedup_a.append(value)\n",
        "        seen_values.append(value)\n"
      ]
    },
    {
      "cell_type": "code",
      "execution_count": null,
      "id": "3c52da63",
      "metadata": {
        "ExecuteTime": {
          "end_time": "2022-09-29T11:12:44.893102Z",
          "start_time": "2022-09-29T11:12:44.880454Z"
        },
        "id": "3c52da63",
        "outputId": "8801648d-6abc-48d9-c1d8-0cfd7884769f"
      },
      "outputs": [
        {
          "name": "stdout",
          "output_type": "stream",
          "text": [
            "CPU times: user 5.36 ms, sys: 105 µs, total: 5.47 ms\n",
            "Wall time: 5.16 ms\n"
          ]
        }
      ],
      "source": [
        "%%time\n",
        "\n",
        "seen_values = set()\n",
        "dedup_a = []\n",
        "\n",
        "for value in a:\n",
        "    if value not in seen_values: O(1)\n",
        "        dedup_a.append(value)\n",
        "        seen_values.add(value)"
      ]
    },
    {
      "cell_type": "markdown",
      "id": "7a9a2ff0",
      "metadata": {
        "id": "7a9a2ff0"
      },
      "source": [
        "Другая задачка. 2-sum"
      ]
    },
    {
      "cell_type": "code",
      "execution_count": null,
      "id": "dfdaa35c",
      "metadata": {
        "ExecuteTime": {
          "end_time": "2022-09-29T11:22:09.435886Z",
          "start_time": "2022-09-29T11:22:09.429734Z"
        },
        "id": "dfdaa35c",
        "outputId": "3ee44050-1f91-4533-c6e8-4ea8617c38ea"
      },
      "outputs": [
        {
          "data": {
            "text/plain": [
              "{(-3, 10), (-1, 8), (1, 6), (2, 5), (3, 4)}"
            ]
          },
          "execution_count": 111,
          "metadata": {},
          "output_type": "execute_result"
        }
      ],
      "source": [
        "a = [-1, -6, -3, 1, 2, 3, 4, 5, 6, 7, 3, 6, 8, 2, 10]\n",
        "target_sum = 7\n",
        "\n",
        "set_a = set(a)\n",
        "ans = set()\n",
        "\n",
        "for elem in a:\n",
        "    pair_elem = target_sum - elem\n",
        "    if pair_elem in a:\n",
        "        ans.add((min(elem, pair_elem), max(elem, pair_elem)))\n",
        "\n",
        "ans"
      ]
    },
    {
      "cell_type": "markdown",
      "id": "c3ec30a5",
      "metadata": {
        "ExecuteTime": {
          "end_time": "2022-09-29T01:19:25.033928Z",
          "start_time": "2022-09-29T01:19:25.028889Z"
        },
        "id": "c3ec30a5"
      },
      "source": [
        "Priority queue"
      ]
    },
    {
      "cell_type": "code",
      "source": [
        "import heapq\n",
        "\n",
        "priority_queue = []\n",
        "\n",
        "heapq.heappush(priority_queue, (2, 'task2'))\n",
        "print(heapq.heappop(priority_queue))\n",
        "print(priority_queue)\n",
        "\n",
        "heapq.heappush(priority_queue, (3, 'task1'))\n",
        "heapq.heappush(priority_queue, (1, 'task3'))\n",
        "heapq.heappush(priority_queue, (2, 'task2'))\n",
        "heapq.heappush(priority_queue, (5, 'task5'))\n",
        "heapq.heappush(priority_queue, (0, 'task0'))\n",
        "print(priority_queue)\n",
        "\n",
        "print(heapq.heappop(priority_queue))\n",
        "print(heapq.heappop(priority_queue))"
      ],
      "metadata": {
        "colab": {
          "base_uri": "https://localhost:8080/"
        },
        "id": "kLalevxqa0DL",
        "outputId": "8cd0b153-9ad8-4132-a26d-f14275b28b65"
      },
      "id": "kLalevxqa0DL",
      "execution_count": 91,
      "outputs": [
        {
          "output_type": "stream",
          "name": "stdout",
          "text": [
            "(2, 'task2')\n",
            "[]\n",
            "[(0, 'task0'), (1, 'task3'), (2, 'task2'), (5, 'task5'), (3, 'task1')]\n",
            "(0, 'task0')\n",
            "(1, 'task3')\n"
          ]
        }
      ]
    },
    {
      "cell_type": "markdown",
      "source": [
        "Сложность? Вспоминаем бинарный поиск, тут нечто похожее - бинарная куча, гарантирует что минимальное всегда в начале"
      ],
      "metadata": {
        "id": "KQ4Y13_40Jmv"
      },
      "id": "KQ4Y13_40Jmv"
    },
    {
      "cell_type": "markdown",
      "source": [
        "# Least Recent Used cache O(1) implementation\n",
        "With map and double linked list"
      ],
      "metadata": {
        "id": "GkS3qR4vZq5V"
      },
      "id": "GkS3qR4vZq5V"
    },
    {
      "cell_type": "code",
      "source": [
        "class Node:\n",
        "    def __init__(self, key, value):\n",
        "        self.key = key\n",
        "        self.value = value\n",
        "        self.prev = None\n",
        "        self.next = None\n",
        "\n",
        "    def __repr__(self):\n",
        "        return f'({self.key}, {self.value})'\n",
        "\n",
        "class LRUCache:\n",
        "    def __init__(self, capacity: int):\n",
        "        self.capacity = capacity\n",
        "        self.cache = {}\n",
        "        self.head = Node(0, 0)\n",
        "        self.tail = Node(0, 0)\n",
        "        self.head.next = self.tail\n",
        "        self.tail.prev = self.head\n",
        "\n",
        "    def _add(self, node: Node):\n",
        "        \"\"\"Add a new node right after the head (most recent).\"\"\"\n",
        "        node.next = self.head.next\n",
        "        node.prev = self.head\n",
        "        self.head.next.prev = node\n",
        "        self.head.next = node\n",
        "\n",
        "\n",
        "    def get(self, key: int) -> int:\n",
        "        \"\"\"Return the value (will always be positive) of the key if the key exists in the cache, otherwise return -1.\"\"\"\n",
        "        if key in self.cache:\n",
        "          node = self.cache[key]\n",
        "          self._remove(node)\n",
        "          self._add(node)\n",
        "          return node.value\n",
        "        return -1\n",
        "\n",
        "    def _remove(self, node: Node):\n",
        "        \"\"\"Removes a node from the doubly linked list.\"\"\"\n",
        "        prev_node = node.prev\n",
        "        next_node = node.next\n",
        "        prev_node.next = next_node\n",
        "        next_node.prev = prev_node\n",
        "\n",
        "    def put(self, key: int, value: int) -> None:\n",
        "        \"\"\"Insert or update the value if the key is not already present.\"\"\"\n",
        "        if key in self.cache:\n",
        "            self._remove(self.cache[key])\n",
        "\n",
        "        new_node = Node(key, value)\n",
        "        self._add(new_node)\n",
        "        self.cache[key] = new_node\n",
        "\n",
        "        if len(self.cache) > self.capacity:\n",
        "            lru_node = self.tail.prev\n",
        "            self._remove(lru_node)\n",
        "            del self.cache[lru_node.key]\n",
        "\n",
        "lru = LRUCache(3)\n",
        "lru.put(1, 1)\n",
        "print(lru.cache)\n",
        "lru.put(2, 2)\n",
        "print(lru.cache)\n",
        "print(lru.get(1))\n",
        "print(lru.cache)\n",
        "lru.put(3, 3)\n",
        "print(lru.cache)\n",
        "print(lru.get(2))\n",
        "print(lru.cache)\n",
        "lru.put(4, 4)\n",
        "print(lru.cache)\n",
        "print(lru.get(1))\n",
        "print(lru.get(1))\n",
        "lru.put(2, 2)\n",
        "print(lru.cache)\n",
        "print(lru.get(3))\n",
        "print(lru.cache)\n",
        "print(lru.get(4))\n",
        "print(lru.cache)\n"
      ],
      "metadata": {
        "colab": {
          "base_uri": "https://localhost:8080/"
        },
        "id": "ySr0-anDZowj",
        "outputId": "53e0d6c9-8a37-46ed-c9f2-523fdf4e7e1b"
      },
      "id": "ySr0-anDZowj",
      "execution_count": 93,
      "outputs": [
        {
          "output_type": "stream",
          "name": "stdout",
          "text": [
            "{1: (1, 1)}\n",
            "{1: (1, 1), 2: (2, 2)}\n",
            "1\n",
            "{1: (1, 1), 2: (2, 2)}\n",
            "{1: (1, 1), 2: (2, 2), 3: (3, 3)}\n",
            "2\n",
            "{1: (1, 1), 2: (2, 2), 3: (3, 3)}\n",
            "{2: (2, 2), 3: (3, 3), 4: (4, 4)}\n",
            "-1\n",
            "-1\n",
            "{2: (2, 2), 3: (3, 3), 4: (4, 4)}\n",
            "3\n",
            "{2: (2, 2), 3: (3, 3), 4: (4, 4)}\n",
            "4\n",
            "{2: (2, 2), 3: (3, 3), 4: (4, 4)}\n"
          ]
        }
      ]
    }
  ],
  "metadata": {
    "kernelspec": {
      "display_name": "base-env",
      "language": "python",
      "name": "base-env"
    },
    "language_info": {
      "codemirror_mode": {
        "name": "ipython",
        "version": 3
      },
      "file_extension": ".py",
      "mimetype": "text/x-python",
      "name": "python",
      "nbconvert_exporter": "python",
      "pygments_lexer": "ipython3",
      "version": "3.9.12"
    },
    "toc": {
      "base_numbering": 1,
      "nav_menu": {},
      "number_sections": true,
      "sideBar": true,
      "skip_h1_title": false,
      "title_cell": "Table of Contents",
      "title_sidebar": "Contents",
      "toc_cell": false,
      "toc_position": {},
      "toc_section_display": true,
      "toc_window_display": true
    },
    "varInspector": {
      "cols": {
        "lenName": 16,
        "lenType": 16,
        "lenVar": 40
      },
      "kernels_config": {
        "python": {
          "delete_cmd_postfix": "",
          "delete_cmd_prefix": "del ",
          "library": "var_list.py",
          "varRefreshCmd": "print(var_dic_list())"
        },
        "r": {
          "delete_cmd_postfix": ") ",
          "delete_cmd_prefix": "rm(",
          "library": "var_list.r",
          "varRefreshCmd": "cat(var_dic_list()) "
        }
      },
      "types_to_exclude": [
        "module",
        "function",
        "builtin_function_or_method",
        "instance",
        "_Feature"
      ],
      "window_display": false
    },
    "colab": {
      "provenance": []
    }
  },
  "nbformat": 4,
  "nbformat_minor": 5
}