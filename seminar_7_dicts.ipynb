{
  "cells": [
    {
      "cell_type": "markdown",
      "id": "3a44d2c7",
      "metadata": {
        "id": "3a44d2c7"
      },
      "source": [
        "# reduce, accumulate"
      ]
    },
    {
      "cell_type": "markdown",
      "source": [
        "# Сумма кубов\n",
        "\n"
      ],
      "metadata": {
        "id": "sezHDL9GgbVM"
      },
      "id": "sezHDL9GgbVM"
    },
    {
      "cell_type": "code",
      "source": [
        "# --------------------------------------------------------------\n",
        "# Задача:\n",
        "# Напишите программу, которая представляет переданное натуральное\n",
        "# число N в виде суммы не более чем 7 кубов других натуральных чисел.\n",
        "#\n",
        "# Формат ввода:\n",
        "# Вход содержит одно целое число N.\n",
        "#\n",
        "# Формат вывода:\n",
        "# Программа должна вывести любое разложение N в виде суммы кубов\n",
        "# не более чем 7 натуральных чисел. Выведите основания кубов\n",
        "# (a1 a2 ... ak), такие что N = a1^3 + a2^3 + ... + ak^3, k ≤ 7.\n",
        "# Если такое разложение невозможно, выведите число 0.\n",
        "#\n",
        "# Пример:\n",
        "# Ввод: 5\n",
        "# Вывод: 1 1 1 1 1\n",
        "# --------------------------------------------------------------\n",
        "\n",
        "import math\n",
        "\n",
        "def icbrt(n: int) -> int:\n",
        "    \"\"\"floor(cuberoot(n)) без плавающих ошибок.\"\"\"\n",
        "    x = int(round(n ** (1/3)))\n",
        "    while (x + 1) ** 3 <= n:\n",
        "        x += 1\n",
        "    while x > 0 and x ** 3 > n:\n",
        "        x -= 1\n",
        "    return x\n",
        "\n",
        "def solve_dp(N: int, K: int = 7):\n",
        "    # Подготовим все кубы ≤ N\n",
        "    bases = list(range(1, icbrt(N) + 1))\n",
        "    cubes = [a*a*a for a in bases]\n",
        "\n",
        "    INF = 10**9\n",
        "    dp = [INF] * (N + 1)   # dp[s] — минимальное число кубов для суммы s\n",
        "    prev = [-1]  * (N + 1) # prev[s] — предыдущая сумма\n",
        "    pick = [0]   * (N + 1) # pick[s] — какое основание куба взяли на шаге s\n",
        "\n",
        "    dp[0] = 0\n",
        "    for s in range(1, N + 1):\n",
        "        for a, c in zip(bases, cubes):\n",
        "            if c > s:\n",
        "                break\n",
        "            cand = dp[s - c] + 1\n",
        "            if cand < dp[s]:\n",
        "                dp[s] = cand\n",
        "                prev[s] = s - c\n",
        "                pick[s] = a\n",
        "\n",
        "    if dp[N] <= K:\n",
        "        # восстановим одно разложение\n",
        "        ans = []\n",
        "        s = N\n",
        "        while s > 0:\n",
        "            ans.append(pick[s])\n",
        "            s = prev[s]\n",
        "        ans.sort(reverse=True)\n",
        "        return ans\n",
        "    else:\n",
        "        return None\n",
        "\n",
        "if __name__ == \"__main__\":\n",
        "    N = 35  # из примера; поменяйте на нужное число\n",
        "    ans = solve_dp(N, 7)\n",
        "    if ans is None:\n",
        "        print(0)\n",
        "    else:\n",
        "        print(*ans)\n",
        "\n",
        "# Решение рекурсией\n",
        "import sys\n",
        "from functools import lru_cache\n",
        "\n",
        "def icbrt(n: int) -> int:\n",
        "    \"\"\"Целая кубическая корень: floor(cuberoot(n)).\"\"\"\n",
        "    x = int(round(n ** (1/3)))\n",
        "    if x < 0:\n",
        "        x = 0\n",
        "    while (x + 1) ** 3 <= n:\n",
        "        x += 1\n",
        "    while x ** 3 > n and x > 0:\n",
        "        x -= 1\n",
        "    return x\n",
        "\n",
        "@lru_cache(maxsize=None)\n",
        "def dfs(n: int, k: int, bmax: int):\n",
        "    \"\"\"\n",
        "    Ищет представление n как суммы не более k кубов,\n",
        "    значения (основания кубов) не превышают bmax и\n",
        "    идут невозрастающе (для уменьшения перебора).\n",
        "    Возвращает кортеж оснований или None.\n",
        "    \"\"\"\n",
        "    if n == 0:\n",
        "        return ()\n",
        "    if k == 0 or bmax == 0:\n",
        "        return None\n",
        "\n",
        "    b = min(icbrt(n), bmax)\n",
        "\n",
        "    # Отсечение: даже взяв k раз самый большой разрешённый куб, не дотянем\n",
        "    if (b ** 3) * k < n:\n",
        "        return None\n",
        "\n",
        "    for a in range(b, 0, -1):\n",
        "        c = a * a * a\n",
        "        if c > n:\n",
        "            continue\n",
        "        rest = dfs(n - c, k - 1, a)  # можно использовать тот же a или меньше\n",
        "        if rest is not None:\n",
        "            return (a,) + rest\n",
        "    return None\n",
        "\n",
        "def main():\n",
        "    data = sys.stdin.read().strip()\n",
        "    n = int(data)\n",
        "    ans = dfs(n, 7, icbrt(n))\n",
        "    if ans is None:\n",
        "        print(0)\n",
        "    else:\n",
        "        print(*ans)\n",
        "\n",
        "if __name__ == \"__main__\":\n",
        "    main()"
      ],
      "metadata": {
        "colab": {
          "base_uri": "https://localhost:8080/"
        },
        "id": "uxeyy4PyrTJH",
        "outputId": "fd48720c-750a-4d59-d9dd-f5300bf3d6fe"
      },
      "id": "uxeyy4PyrTJH",
      "execution_count": 5,
      "outputs": [
        {
          "output_type": "stream",
          "name": "stdout",
          "text": [
            "3 2\n"
          ]
        }
      ]
    },
    {
      "cell_type": "code",
      "execution_count": 3,
      "id": "027b5845",
      "metadata": {
        "ExecuteTime": {
          "end_time": "2022-09-29T10:09:36.972804Z",
          "start_time": "2022-09-29T10:09:36.966549Z"
        },
        "id": "027b5845"
      },
      "outputs": [],
      "source": [
        "import operator\n",
        "\n",
        "from functools import reduce\n",
        "from itertools import accumulate"
      ]
    },
    {
      "cell_type": "markdown",
      "id": "84d183f0",
      "metadata": {
        "id": "84d183f0"
      },
      "source": [
        "**reduce**"
      ]
    },
    {
      "cell_type": "code",
      "source": [
        "a = [i for i in range(10)]\n",
        "a"
      ],
      "metadata": {
        "colab": {
          "base_uri": "https://localhost:8080/"
        },
        "id": "VD5anI0-om13",
        "outputId": "09a45d23-7934-4299-b189-29dfa6f88f78"
      },
      "id": "VD5anI0-om13",
      "execution_count": 15,
      "outputs": [
        {
          "output_type": "execute_result",
          "data": {
            "text/plain": [
              "[0, 1, 2, 3, 4, 5, 6, 7, 8, 9]"
            ]
          },
          "metadata": {},
          "execution_count": 15
        }
      ]
    },
    {
      "cell_type": "code",
      "source": [
        "reduce(lambda element_one, element_two: element_one + element_two, a, 10)"
      ],
      "metadata": {
        "colab": {
          "base_uri": "https://localhost:8080/"
        },
        "id": "8L1XKbCdoq1I",
        "outputId": "81a0b127-79d6-4e1d-aa77-decf15b4291d"
      },
      "id": "8L1XKbCdoq1I",
      "execution_count": 16,
      "outputs": [
        {
          "output_type": "execute_result",
          "data": {
            "text/plain": [
              "55"
            ]
          },
          "metadata": {},
          "execution_count": 16
        }
      ]
    },
    {
      "cell_type": "code",
      "source": [
        "reduce(lambda element_one, element_two: element_one + element_two, a)"
      ],
      "metadata": {
        "colab": {
          "base_uri": "https://localhost:8080/"
        },
        "id": "QFK_kvzEpzvj",
        "outputId": "09b35c92-1d69-40a1-c33c-92b1cd96733f"
      },
      "id": "QFK_kvzEpzvj",
      "execution_count": 17,
      "outputs": [
        {
          "output_type": "execute_result",
          "data": {
            "text/plain": [
              "45"
            ]
          },
          "metadata": {},
          "execution_count": 17
        }
      ]
    },
    {
      "cell_type": "code",
      "execution_count": 18,
      "id": "63281206",
      "metadata": {
        "ExecuteTime": {
          "end_time": "2022-09-29T10:19:40.093559Z",
          "start_time": "2022-09-29T10:19:40.087534Z"
        },
        "colab": {
          "base_uri": "https://localhost:8080/"
        },
        "id": "63281206",
        "outputId": "82bca584-8767-4cf1-a3d8-824f4a02c729"
      },
      "outputs": [
        {
          "output_type": "execute_result",
          "data": {
            "text/plain": [
              "[(0, 0),\n",
              " (1, 2),\n",
              " (2, 4),\n",
              " (3, 6),\n",
              " (4, 8),\n",
              " (5, 10),\n",
              " (6, 12),\n",
              " (7, 14),\n",
              " (8, 16),\n",
              " (9, 18)]"
            ]
          },
          "metadata": {},
          "execution_count": 18
        }
      ],
      "source": [
        "a = [(i, i*2) for i in range(10)]\n",
        "a"
      ]
    },
    {
      "cell_type": "code",
      "execution_count": 19,
      "id": "0992d843",
      "metadata": {
        "ExecuteTime": {
          "end_time": "2022-09-29T10:20:05.513204Z",
          "start_time": "2022-09-29T10:20:05.507517Z"
        },
        "colab": {
          "base_uri": "https://localhost:8080/"
        },
        "id": "0992d843",
        "outputId": "9c86b445-5428-4d62-e115-2cd3214d88fc"
      },
      "outputs": [
        {
          "output_type": "execute_result",
          "data": {
            "text/plain": [
              "(9, 90)"
            ]
          },
          "metadata": {},
          "execution_count": 19
        }
      ],
      "source": [
        "reduce(lambda tup_one, tup_two: (max(tup_one[0], tup_two[0]), tup_one[1] + tup_two[1]), a)"
      ]
    },
    {
      "cell_type": "markdown",
      "id": "2e071dc5",
      "metadata": {
        "id": "2e071dc5"
      },
      "source": [
        "**accumulate**"
      ]
    },
    {
      "cell_type": "code",
      "source": [
        "a = [i for i in range(10)]\n",
        "a"
      ],
      "metadata": {
        "colab": {
          "base_uri": "https://localhost:8080/"
        },
        "id": "HsS2eLk6p7JK",
        "outputId": "e090e707-ef1b-4210-c9f9-7cb0f9efabfe"
      },
      "id": "HsS2eLk6p7JK",
      "execution_count": 24,
      "outputs": [
        {
          "output_type": "execute_result",
          "data": {
            "text/plain": [
              "[0, 1, 2, 3, 4, 5, 6, 7, 8, 9]"
            ]
          },
          "metadata": {},
          "execution_count": 24
        }
      ]
    },
    {
      "cell_type": "code",
      "source": [
        "list(accumulate(a, lambda x, y: x + y))"
      ],
      "metadata": {
        "colab": {
          "base_uri": "https://localhost:8080/"
        },
        "id": "7r86KEyGp9cE",
        "outputId": "bca012e1-c754-419f-a26a-4c81f82db0dd"
      },
      "id": "7r86KEyGp9cE",
      "execution_count": 28,
      "outputs": [
        {
          "output_type": "execute_result",
          "data": {
            "text/plain": [
              "[0, 1, 3, 6, 10, 15, 21, 28, 36, 45]"
            ]
          },
          "metadata": {},
          "execution_count": 28
        }
      ]
    },
    {
      "cell_type": "markdown",
      "source": [
        "# MapReduce architecture pattern\n",
        "\n",
        "Map Phase:\n",
        "  Split the text into chunks.\n",
        "  For each word, output (word, 1).\n",
        "  \n",
        "Example input: \"apple banana apple\", \"apple\"\n",
        "\n",
        "**Output from Map:** (apple, 2), (banana, 1), (apple, 1)\n",
        "\n",
        "**Shuffle Phase:** Group by key:\n",
        "(apple: [2, 1]), (banana: [1])\n",
        "\n",
        "**Reduce Phase:**\n",
        "Sum the counts for each word: (apple, 3), (banana, 1)"
      ],
      "metadata": {
        "id": "pAYsAZdqZ4vH"
      },
      "id": "pAYsAZdqZ4vH"
    },
    {
      "cell_type": "markdown",
      "id": "73fd0adf",
      "metadata": {
        "id": "73fd0adf"
      },
      "source": [
        "**Count certain type of events**"
      ]
    },
    {
      "cell_type": "code",
      "execution_count": 30,
      "id": "767797fe",
      "metadata": {
        "ExecuteTime": {
          "end_time": "2022-09-29T10:32:21.979984Z",
          "start_time": "2022-09-29T10:32:21.973350Z"
        },
        "id": "767797fe"
      },
      "outputs": [],
      "source": [
        "event_log = [\n",
        "    (11214, 'search', 5),\n",
        "    (11215, 'item_view', 1),\n",
        "    (11216, 'item_viewphone', 10),\n",
        "    (11217, 'item_view', 2),\n",
        "    (11218, 'item_viewphone', 4),\n",
        "    (11219, 'item_view', 6),\n",
        "    (11210, 'item_viewphone', 2),\n",
        "    (11234, 'item_view', 4),\n",
        "    (11264, 'item_view', 3),\n",
        "    (11224, 'item_viewphone', 1),\n",
        "    (11204, 'search', 6),\n",
        "    (12214, 'search', 34),\n",
        "    (13214, 'item_view', 3),\n",
        "    (14214, 'item_view', 1000),\n",
        "    (15214, 'item_viewphone', 2000),\n",
        "    (16214, 'item_viewphone', 3444),\n",
        "    (17214, 'item_view', 0),\n",
        "    (18214, 'item_viewphone', 12),\n",
        "    (19214, 'search', 244),\n",
        "    (29214, 'item_viewphone', 4),\n",
        "    (30214, 'item_view', 56),\n",
        "    (48214, 'item_viewphone', 5),\n",
        "    (67214, 'item_view', 2),\n",
        "]"
      ]
    },
    {
      "cell_type": "markdown",
      "id": "fabedeb9",
      "metadata": {
        "id": "fabedeb9"
      },
      "source": [
        "1. Посчитать количество аномальных полей. Будем считать поле аномальным, если у него какое-то слишком большое значение для метрики. Например, количество событий > 999\n",
        "\n",
        "Можно, например, использовать filter() или list-comp"
      ]
    },
    {
      "cell_type": "code",
      "execution_count": 31,
      "id": "20f6274a",
      "metadata": {
        "ExecuteTime": {
          "end_time": "2022-09-29T10:33:35.006413Z",
          "start_time": "2022-09-29T10:33:35.001677Z"
        },
        "colab": {
          "base_uri": "https://localhost:8080/"
        },
        "id": "20f6274a",
        "outputId": "933d350a-220e-418e-935d-49076ba9cd87"
      },
      "outputs": [
        {
          "output_type": "execute_result",
          "data": {
            "text/plain": [
              "3"
            ]
          },
          "metadata": {},
          "execution_count": 31
        }
      ],
      "source": [
        "anomaly_events_num = 999\n",
        "\n",
        "len(list(filter(lambda elem: elem[2] > anomaly_events_num, event_log)))"
      ]
    },
    {
      "cell_type": "code",
      "execution_count": 36,
      "id": "ffdea0f3",
      "metadata": {
        "ExecuteTime": {
          "end_time": "2022-09-29T10:34:13.896702Z",
          "start_time": "2022-09-29T10:34:13.891948Z"
        },
        "id": "ffdea0f3",
        "colab": {
          "base_uri": "https://localhost:8080/"
        },
        "outputId": "d1fa8dfa-0449-4c63-a20d-17ba898aaf07"
      },
      "outputs": [
        {
          "output_type": "execute_result",
          "data": {
            "text/plain": [
              "3"
            ]
          },
          "metadata": {},
          "execution_count": 36
        }
      ],
      "source": [
        "cnt = 0\n",
        "\n",
        "for elem in filter(lambda elem: elem[2] > anomaly_events_num, event_log):\n",
        "    cnt += 1\n",
        "\n",
        "cnt"
      ]
    },
    {
      "cell_type": "markdown",
      "id": "126b90a8",
      "metadata": {
        "id": "126b90a8"
      },
      "source": [
        "2. Посчитать общее количество событий по неаномальным полям"
      ]
    },
    {
      "cell_type": "code",
      "execution_count": 63,
      "id": "5e7c792d",
      "metadata": {
        "ExecuteTime": {
          "end_time": "2022-09-29T10:44:49.379701Z",
          "start_time": "2022-09-29T10:44:49.373695Z"
        },
        "id": "5e7c792d",
        "outputId": "41c0252b-a614-4f9f-8023-9e3556b20697",
        "colab": {
          "base_uri": "https://localhost:8080/"
        }
      },
      "outputs": [
        {
          "output_type": "execute_result",
          "data": {
            "text/plain": [
              "[(11215, 'item_view', 1),\n",
              " (11217, 'item_view', 2),\n",
              " (11219, 'item_view', 6),\n",
              " (11234, 'item_view', 4),\n",
              " (11264, 'item_view', 3),\n",
              " (13214, 'item_view', 3),\n",
              " (14214, 'item_view', 1000),\n",
              " (17214, 'item_view', 0),\n",
              " (30214, 'item_view', 56),\n",
              " (67214, 'item_view', 2)]"
            ]
          },
          "metadata": {},
          "execution_count": 63
        }
      ],
      "source": [
        "eventtype = 'item_view'\n",
        "\n",
        "filtered_events = list(filter(lambda event: event[1] == 'item_view', event_log))\n",
        "filtered_events"
      ]
    },
    {
      "cell_type": "code",
      "source": [
        "reduce(lambda accumulate, event:  accumulate + event[2], filtered_events, 0)"
      ],
      "metadata": {
        "colab": {
          "base_uri": "https://localhost:8080/"
        },
        "id": "oPj5ZNNzuKRV",
        "outputId": "bf43041a-51e9-4325-be06-678ac4885f8c"
      },
      "id": "oPj5ZNNzuKRV",
      "execution_count": 71,
      "outputs": [
        {
          "output_type": "execute_result",
          "data": {
            "text/plain": [
              "1077"
            ]
          },
          "metadata": {},
          "execution_count": 71
        }
      ]
    },
    {
      "cell_type": "code",
      "source": [
        "mapped = list(map(lambda x: x[2], filtered_events))\n",
        "mapped"
      ],
      "metadata": {
        "colab": {
          "base_uri": "https://localhost:8080/"
        },
        "id": "-e9BRdEstgaQ",
        "outputId": "41a0e5c6-b2c8-49bd-90e3-025d1511abb8"
      },
      "id": "-e9BRdEstgaQ",
      "execution_count": 65,
      "outputs": [
        {
          "output_type": "execute_result",
          "data": {
            "text/plain": [
              "[1, 2, 6, 4, 3, 3, 1000, 0, 56, 2]"
            ]
          },
          "metadata": {},
          "execution_count": 65
        }
      ]
    },
    {
      "cell_type": "code",
      "source": [
        "reduce(lambda x, y: x + y, mapped )"
      ],
      "metadata": {
        "colab": {
          "base_uri": "https://localhost:8080/"
        },
        "id": "YWghGa8Vs6Sx",
        "outputId": "3877609f-059b-4600-c236-d13530248257"
      },
      "id": "YWghGa8Vs6Sx",
      "execution_count": 66,
      "outputs": [
        {
          "output_type": "execute_result",
          "data": {
            "text/plain": [
              "1077"
            ]
          },
          "metadata": {},
          "execution_count": 66
        }
      ]
    },
    {
      "cell_type": "markdown",
      "id": "ce0ab696",
      "metadata": {
        "id": "ce0ab696"
      },
      "source": [
        "# Dicts"
      ]
    },
    {
      "cell_type": "markdown",
      "id": "bd126c63",
      "metadata": {
        "id": "bd126c63"
      },
      "source": [
        "## Creation"
      ]
    },
    {
      "cell_type": "code",
      "execution_count": 72,
      "id": "157e4657",
      "metadata": {
        "ExecuteTime": {
          "end_time": "2022-09-29T10:45:30.960391Z",
          "start_time": "2022-09-29T10:45:30.955621Z"
        },
        "id": "157e4657",
        "outputId": "3d11a184-949f-4b27-fcf1-b94127317823",
        "colab": {
          "base_uri": "https://localhost:8080/"
        }
      },
      "outputs": [
        {
          "output_type": "stream",
          "name": "stdout",
          "text": [
            "{} <class 'dict'>\n"
          ]
        }
      ],
      "source": [
        "some_empty_dict = dict()\n",
        "print(some_empty_dict, type(some_empty_dict))"
      ]
    },
    {
      "cell_type": "markdown",
      "id": "442dc1e0",
      "metadata": {
        "id": "442dc1e0"
      },
      "source": [
        "### Simple example"
      ]
    },
    {
      "cell_type": "code",
      "execution_count": 80,
      "id": "cc2ce912",
      "metadata": {
        "ExecuteTime": {
          "end_time": "2022-09-29T10:46:28.959440Z",
          "start_time": "2022-09-29T10:46:28.952739Z"
        },
        "id": "cc2ce912",
        "outputId": "18989e0a-a7a3-48b3-a874-98204c4f2e5c",
        "colab": {
          "base_uri": "https://localhost:8080/"
        }
      },
      "outputs": [
        {
          "output_type": "execute_result",
          "data": {
            "text/plain": [
              "{'name': 'Denis',\n",
              " 'year': 2015,\n",
              " 'core subjects': ('Statistics', 'Algorimthms'),\n",
              " 'optional subjects': ['Urban Studies', 'Basic Physics'],\n",
              " 42: 'always the answer',\n",
              " (42,): 'always the answer'}"
            ]
          },
          "metadata": {},
          "execution_count": 80
        }
      ],
      "source": [
        "student_card = {\n",
        "    'name': 'Denis',\n",
        "    'year': 2015,\n",
        "    'core subjects': ('Statistics', 'Algorimthms'),\n",
        "    'optional subjects': ['Urban Studies', 'Basic Physics'],\n",
        "    42: 'always the answer',\n",
        "    (42,): 'always the answer',\n",
        "    # [1, 2]: 'dd'\n",
        "}\n",
        "\n",
        "student_card"
      ]
    },
    {
      "cell_type": "code",
      "execution_count": null,
      "id": "d62cd3c8",
      "metadata": {
        "ExecuteTime": {
          "end_time": "2022-09-29T10:46:48.493675Z",
          "start_time": "2022-09-29T10:46:48.487761Z"
        },
        "id": "d62cd3c8"
      },
      "outputs": [],
      "source": [
        "student_card['surname'] = 'Belyakov'"
      ]
    },
    {
      "cell_type": "code",
      "execution_count": null,
      "id": "8c53b2d0",
      "metadata": {
        "ExecuteTime": {
          "end_time": "2022-09-29T10:46:52.976135Z",
          "start_time": "2022-09-29T10:46:52.970574Z"
        },
        "id": "8c53b2d0",
        "outputId": "f6584026-4dce-4c33-ed86-c033163dd950",
        "colab": {
          "base_uri": "https://localhost:8080/"
        }
      },
      "outputs": [
        {
          "output_type": "execute_result",
          "data": {
            "text/plain": [
              "{'name': 'Denis',\n",
              " 'year': 2015,\n",
              " 'core subjects': ('Statistics', 'Algorimthms'),\n",
              " 'optional subjects': ['Urban Studies', 'Basic Physics'],\n",
              " 42: 'always the answer',\n",
              " (42,): 'always the answer',\n",
              " 'surname': 'Belyakov'}"
            ]
          },
          "metadata": {},
          "execution_count": 66
        }
      ],
      "source": [
        "student_card"
      ]
    },
    {
      "cell_type": "markdown",
      "id": "8ec20b73",
      "metadata": {
        "id": "8ec20b73"
      },
      "source": [
        "## Внутри"
      ]
    },
    {
      "cell_type": "markdown",
      "id": "0af4eb35",
      "metadata": {
        "id": "0af4eb35"
      },
      "source": [
        "Ключ может быть только hashable\n",
        "\n",
        "https://en.wikipedia.org/wiki/Hash_table"
      ]
    },
    {
      "cell_type": "markdown",
      "id": "f7c07457",
      "metadata": {
        "id": "f7c07457"
      },
      "source": [
        "    An object is hashable if it has a hash value which never changes during its lifetime (it\n",
        "    needs a __hash__() method), and can be compared to other objects (it needs an\n",
        "    __eq__() method). Hashable objects which compare equal must have the same hash\n",
        "    value. […]"
      ]
    },
    {
      "cell_type": "markdown",
      "id": "6e7627ef",
      "metadata": {
        "id": "6e7627ef"
      },
      "source": [
        "Данное требование существует, потому что внутри dict -- это hash таблица!"
      ]
    },
    {
      "cell_type": "markdown",
      "id": "44cac078",
      "metadata": {
        "id": "44cac078"
      },
      "source": [
        "Операции доставания значения по ключу, добавления и проверки нахождения -- в среднем **O(1)**.\n",
        "\n",
        "` Может быть O(n), если у вас отвратительная хеш-функция `"
      ]
    },
    {
      "cell_type": "markdown",
      "id": "a6e29f62",
      "metadata": {
        "id": "a6e29f62"
      },
      "source": [
        "![hashtable](https://upload.wikimedia.org/wikipedia/commons/thumb/7/7d/Hash_table_3_1_1_0_1_0_0_SP.svg/1200px-Hash_table_3_1_1_0_1_0_0_SP.svg.png)"
      ]
    },
    {
      "cell_type": "markdown",
      "id": "35680796",
      "metadata": {
        "id": "35680796"
      },
      "source": [
        "## Basic operations"
      ]
    },
    {
      "cell_type": "markdown",
      "id": "b1162add",
      "metadata": {
        "id": "b1162add"
      },
      "source": [
        "### Get values"
      ]
    },
    {
      "cell_type": "code",
      "execution_count": 75,
      "id": "4e79e416",
      "metadata": {
        "ExecuteTime": {
          "end_time": "2022-09-29T10:51:56.818945Z",
          "start_time": "2022-09-29T10:51:56.813925Z"
        },
        "id": "4e79e416",
        "outputId": "a43bc906-7e31-48e9-b456-b01e84efb0db",
        "colab": {
          "base_uri": "https://localhost:8080/",
          "height": 35
        }
      },
      "outputs": [
        {
          "output_type": "execute_result",
          "data": {
            "text/plain": [
              "'Denis'"
            ],
            "application/vnd.google.colaboratory.intrinsic+json": {
              "type": "string"
            }
          },
          "metadata": {},
          "execution_count": 75
        }
      ],
      "source": [
        "student_card.get('name', 'key is not there')"
      ]
    },
    {
      "cell_type": "markdown",
      "id": "2e0b6efa",
      "metadata": {
        "id": "2e0b6efa"
      },
      "source": [
        "### Remove values"
      ]
    },
    {
      "cell_type": "code",
      "execution_count": 81,
      "id": "b7825737",
      "metadata": {
        "ExecuteTime": {
          "end_time": "2022-09-29T10:52:36.577905Z",
          "start_time": "2022-09-29T10:52:36.572474Z"
        },
        "id": "b7825737",
        "outputId": "3ac60948-a885-48b5-ecd4-6e48c06afc84",
        "colab": {
          "base_uri": "https://localhost:8080/",
          "height": 35
        }
      },
      "outputs": [
        {
          "output_type": "execute_result",
          "data": {
            "text/plain": [
              "'always the answer'"
            ],
            "application/vnd.google.colaboratory.intrinsic+json": {
              "type": "string"
            }
          },
          "metadata": {},
          "execution_count": 81
        }
      ],
      "source": [
        "a = student_card.pop((42,))\n",
        "a"
      ]
    },
    {
      "cell_type": "code",
      "source": [
        "student_card.pop((42,))"
      ],
      "metadata": {
        "colab": {
          "base_uri": "https://localhost:8080/",
          "height": 144
        },
        "id": "LcIdXB3dwE3L",
        "outputId": "3757f1a7-24eb-4475-d575-d3f038681ce7"
      },
      "id": "LcIdXB3dwE3L",
      "execution_count": 82,
      "outputs": [
        {
          "output_type": "error",
          "ename": "KeyError",
          "evalue": "(42,)",
          "traceback": [
            "\u001b[0;31m---------------------------------------------------------------------------\u001b[0m",
            "\u001b[0;31mKeyError\u001b[0m                                  Traceback (most recent call last)",
            "\u001b[0;32m/tmp/ipython-input-216483811.py\u001b[0m in \u001b[0;36m<cell line: 0>\u001b[0;34m()\u001b[0m\n\u001b[0;32m----> 1\u001b[0;31m \u001b[0mstudent_card\u001b[0m\u001b[0;34m.\u001b[0m\u001b[0mpop\u001b[0m\u001b[0;34m(\u001b[0m\u001b[0;34m(\u001b[0m\u001b[0;36m42\u001b[0m\u001b[0;34m,\u001b[0m\u001b[0;34m)\u001b[0m\u001b[0;34m)\u001b[0m\u001b[0;34m\u001b[0m\u001b[0;34m\u001b[0m\u001b[0m\n\u001b[0m",
            "\u001b[0;31mKeyError\u001b[0m: (42,)"
          ]
        }
      ]
    },
    {
      "cell_type": "code",
      "execution_count": 83,
      "id": "b3681e1d",
      "metadata": {
        "ExecuteTime": {
          "end_time": "2022-09-29T10:52:40.384217Z",
          "start_time": "2022-09-29T10:52:40.374694Z"
        },
        "id": "b3681e1d",
        "outputId": "aa297ed8-01eb-4f1f-997e-1b50b0332a92",
        "colab": {
          "base_uri": "https://localhost:8080/"
        }
      },
      "outputs": [
        {
          "output_type": "execute_result",
          "data": {
            "text/plain": [
              "{'name': 'Denis',\n",
              " 'year': 2015,\n",
              " 'core subjects': ('Statistics', 'Algorimthms'),\n",
              " 'optional subjects': ['Urban Studies', 'Basic Physics'],\n",
              " 42: 'always the answer'}"
            ]
          },
          "metadata": {},
          "execution_count": 83
        }
      ],
      "source": [
        "student_card"
      ]
    },
    {
      "cell_type": "markdown",
      "id": "00c71455",
      "metadata": {
        "id": "00c71455"
      },
      "source": [
        "### Update with many `key:value` pairs"
      ]
    },
    {
      "cell_type": "code",
      "execution_count": null,
      "id": "8a038738",
      "metadata": {
        "ExecuteTime": {
          "end_time": "2022-09-29T10:53:10.637785Z",
          "start_time": "2022-09-29T10:53:10.633331Z"
        },
        "id": "8a038738"
      },
      "outputs": [],
      "source": [
        "student_card.update({'name': 1, 'b': 2})"
      ]
    },
    {
      "cell_type": "code",
      "execution_count": null,
      "id": "c33f67e2",
      "metadata": {
        "ExecuteTime": {
          "end_time": "2022-09-29T10:53:11.149492Z",
          "start_time": "2022-09-29T10:53:11.144024Z"
        },
        "id": "c33f67e2",
        "outputId": "dafe6a2d-27f8-43ff-9de0-b73e8ac3aca6",
        "colab": {
          "base_uri": "https://localhost:8080/"
        }
      },
      "outputs": [
        {
          "output_type": "execute_result",
          "data": {
            "text/plain": [
              "{'name': 1,\n",
              " 'year': 2015,\n",
              " 'core subjects': ('Statistics', 'Algorimthms'),\n",
              " 'optional subjects': ['Urban Studies', 'Basic Physics'],\n",
              " 42: 'always the answer',\n",
              " 'b': 2}"
            ]
          },
          "metadata": {},
          "execution_count": 74
        }
      ],
      "source": [
        "student_card"
      ]
    },
    {
      "cell_type": "markdown",
      "id": "fcdd6263",
      "metadata": {
        "id": "fcdd6263"
      },
      "source": [
        "### Iterate over"
      ]
    },
    {
      "cell_type": "code",
      "execution_count": null,
      "id": "0fbb7ccd",
      "metadata": {
        "ExecuteTime": {
          "end_time": "2022-09-29T10:53:34.565055Z",
          "start_time": "2022-09-29T10:53:34.557961Z"
        },
        "id": "0fbb7ccd",
        "outputId": "c5c809dc-c0ac-40f7-ace4-7710c5d470cd",
        "colab": {
          "base_uri": "https://localhost:8080/"
        }
      },
      "outputs": [
        {
          "output_type": "stream",
          "name": "stdout",
          "text": [
            "name\n",
            "year\n",
            "core subjects\n",
            "optional subjects\n",
            "42\n",
            "b\n"
          ]
        }
      ],
      "source": [
        "for key in student_card:\n",
        "    print(key)"
      ]
    },
    {
      "cell_type": "code",
      "execution_count": null,
      "id": "a517d82f",
      "metadata": {
        "ExecuteTime": {
          "end_time": "2022-09-29T10:53:45.237922Z",
          "start_time": "2022-09-29T10:53:45.233125Z"
        },
        "id": "a517d82f",
        "outputId": "e994e3ba-f15b-4ad7-8171-65594bc200cf",
        "colab": {
          "base_uri": "https://localhost:8080/"
        }
      },
      "outputs": [
        {
          "output_type": "stream",
          "name": "stdout",
          "text": [
            "name 1\n",
            "year 2015\n",
            "core subjects ('Statistics', 'Algorimthms')\n",
            "optional subjects ['Urban Studies', 'Basic Physics']\n",
            "42 always the answer\n",
            "b 2\n"
          ]
        }
      ],
      "source": [
        "for key, value in student_card.items():\n",
        "    print(key, value)"
      ]
    },
    {
      "cell_type": "code",
      "execution_count": null,
      "id": "9bd592b0",
      "metadata": {
        "ExecuteTime": {
          "end_time": "2022-09-29T10:53:48.017634Z",
          "start_time": "2022-09-29T10:53:48.012746Z"
        },
        "id": "9bd592b0",
        "outputId": "4d1c7fb0-8305-4090-dd18-fcdbd377bf26",
        "colab": {
          "base_uri": "https://localhost:8080/"
        }
      },
      "outputs": [
        {
          "output_type": "execute_result",
          "data": {
            "text/plain": [
              "dict_values([1, 2015, ('Statistics', 'Algorimthms'), ['Urban Studies', 'Basic Physics'], 'always the answer', 2])"
            ]
          },
          "metadata": {},
          "execution_count": 77
        }
      ],
      "source": [
        "student_card.values()"
      ]
    },
    {
      "cell_type": "markdown",
      "id": "c8f8a6b5",
      "metadata": {
        "id": "c8f8a6b5"
      },
      "source": [
        "### clear"
      ]
    },
    {
      "cell_type": "code",
      "execution_count": null,
      "id": "a37529b2",
      "metadata": {
        "ExecuteTime": {
          "end_time": "2022-09-29T10:53:53.687218Z",
          "start_time": "2022-09-29T10:53:53.681441Z"
        },
        "id": "a37529b2"
      },
      "outputs": [],
      "source": [
        "student_card.clear()"
      ]
    },
    {
      "cell_type": "code",
      "execution_count": null,
      "id": "bc082cf8",
      "metadata": {
        "ExecuteTime": {
          "end_time": "2022-09-29T10:53:55.497666Z",
          "start_time": "2022-09-29T10:53:55.492440Z"
        },
        "id": "bc082cf8",
        "outputId": "54962592-c4c6-4ab9-98a4-db256a1a7078",
        "colab": {
          "base_uri": "https://localhost:8080/"
        }
      },
      "outputs": [
        {
          "output_type": "execute_result",
          "data": {
            "text/plain": [
              "{}"
            ]
          },
          "metadata": {},
          "execution_count": 79
        }
      ],
      "source": [
        "student_card"
      ]
    },
    {
      "cell_type": "markdown",
      "id": "9e2dd433",
      "metadata": {
        "id": "9e2dd433"
      },
      "source": [
        "## Sample task\n",
        "\n",
        "### Let's count unique symbols in a string!"
      ]
    },
    {
      "cell_type": "code",
      "execution_count": 3,
      "id": "de0f8733",
      "metadata": {
        "ExecuteTime": {
          "end_time": "2022-09-29T10:55:54.722336Z",
          "start_time": "2022-09-29T10:55:54.718780Z"
        },
        "id": "de0f8733"
      },
      "outputs": [],
      "source": [
        "sample_string = 'Eddie ate dynamite, goodbye Eddie'"
      ]
    },
    {
      "cell_type": "code",
      "execution_count": null,
      "id": "84901775",
      "metadata": {
        "ExecuteTime": {
          "end_time": "2022-09-29T10:57:07.830534Z",
          "start_time": "2022-09-29T10:57:07.824421Z"
        },
        "id": "84901775",
        "colab": {
          "base_uri": "https://localhost:8080/"
        },
        "outputId": "dd83402d-9385-4a44-a0fc-ec0198058579"
      },
      "outputs": [
        {
          "output_type": "execute_result",
          "data": {
            "text/plain": [
              "{'e': 7,\n",
              " 'd': 6,\n",
              " 'i': 3,\n",
              " ' ': 4,\n",
              " 'a': 2,\n",
              " 't': 2,\n",
              " 'y': 2,\n",
              " 'n': 1,\n",
              " 'm': 1,\n",
              " ',': 1,\n",
              " 'g': 1,\n",
              " 'o': 2,\n",
              " 'b': 1}"
            ]
          },
          "metadata": {},
          "execution_count": 22
        }
      ],
      "source": [
        "symbols = {}\n",
        "\n",
        "{s.lower(): sample_string.lower().count(s) for s in sample_string} # -- не очень эффективно из-за count()"
      ]
    },
    {
      "cell_type": "code",
      "execution_count": 6,
      "id": "2b8c94f8",
      "metadata": {
        "ExecuteTime": {
          "end_time": "2022-09-29T10:58:51.575252Z",
          "start_time": "2022-09-29T10:58:51.570798Z"
        },
        "id": "2b8c94f8"
      },
      "outputs": [],
      "source": [
        "symbols = {}\n",
        "for s in sample_string.lower():\n",
        "    #symbols[s] = symbols.get(s, 0) + 1\n",
        "    if s not in symbols:\n",
        "      symbols[s] = 1\n",
        "    else:\n",
        "      symbols[s] = symbols.get(s, 0) + 1\n",
        "      # symbols[s] += 1"
      ]
    },
    {
      "cell_type": "code",
      "execution_count": 5,
      "id": "11f442c5",
      "metadata": {
        "ExecuteTime": {
          "end_time": "2022-09-29T10:58:51.920540Z",
          "start_time": "2022-09-29T10:58:51.910213Z"
        },
        "id": "11f442c5",
        "outputId": "d3876935-b283-406c-dc6a-1ec45d6928f3",
        "colab": {
          "base_uri": "https://localhost:8080/"
        }
      },
      "outputs": [
        {
          "output_type": "execute_result",
          "data": {
            "text/plain": [
              "{'e': 7,\n",
              " 'd': 6,\n",
              " 'i': 3,\n",
              " ' ': 4,\n",
              " 'a': 2,\n",
              " 't': 2,\n",
              " 'y': 2,\n",
              " 'n': 1,\n",
              " 'm': 1,\n",
              " ',': 1,\n",
              " 'g': 1,\n",
              " 'o': 2,\n",
              " 'b': 1}"
            ]
          },
          "metadata": {},
          "execution_count": 5
        }
      ],
      "source": [
        "symbols"
      ]
    },
    {
      "cell_type": "code",
      "execution_count": 8,
      "id": "0ead69c2",
      "metadata": {
        "ExecuteTime": {
          "end_time": "2022-09-29T10:59:05.906581Z",
          "start_time": "2022-09-29T10:59:05.900415Z"
        },
        "id": "0ead69c2"
      },
      "outputs": [],
      "source": [
        "from collections import defaultdict"
      ]
    },
    {
      "cell_type": "code",
      "execution_count": null,
      "id": "496efeb0",
      "metadata": {
        "ExecuteTime": {
          "end_time": "2022-09-29T11:00:40.552715Z",
          "start_time": "2022-09-29T11:00:40.546215Z"
        },
        "id": "496efeb0"
      },
      "outputs": [],
      "source": [
        "symbols = defaultdict(int)"
      ]
    },
    {
      "cell_type": "code",
      "execution_count": null,
      "id": "81463421",
      "metadata": {
        "ExecuteTime": {
          "end_time": "2022-09-29T11:00:43.407367Z",
          "start_time": "2022-09-29T11:00:43.403271Z"
        },
        "id": "81463421"
      },
      "outputs": [],
      "source": [
        "for s in sample_string.lower():\n",
        "    symbols[s] += 1"
      ]
    },
    {
      "cell_type": "code",
      "execution_count": null,
      "id": "951d8526",
      "metadata": {
        "ExecuteTime": {
          "end_time": "2022-09-29T11:00:47.604540Z",
          "start_time": "2022-09-29T11:00:47.598733Z"
        },
        "id": "951d8526",
        "outputId": "56f1f3eb-1e27-4fd0-c280-615102693e37",
        "colab": {
          "base_uri": "https://localhost:8080/"
        }
      },
      "outputs": [
        {
          "output_type": "execute_result",
          "data": {
            "text/plain": [
              "defaultdict(float,\n",
              "            {'a': 2.0,\n",
              "             'e': 7.0,\n",
              "             'd': 6.0,\n",
              "             'i': 3.0,\n",
              "             ' ': 4.0,\n",
              "             't': 2.0,\n",
              "             'y': 2.0,\n",
              "             'n': 1.0,\n",
              "             'm': 1.0,\n",
              "             ',': 1.0,\n",
              "             'g': 1.0,\n",
              "             'o': 2.0,\n",
              "             'b': 1.0})"
            ]
          },
          "metadata": {},
          "execution_count": 87
        }
      ],
      "source": [
        "symbols"
      ]
    },
    {
      "cell_type": "code",
      "source": [
        "help(defaultdict)"
      ],
      "metadata": {
        "colab": {
          "base_uri": "https://localhost:8080/"
        },
        "id": "gTdLsvIwIN26",
        "outputId": "70a39f4d-5f7e-40f8-cfb6-dd7ac52bdf78"
      },
      "id": "gTdLsvIwIN26",
      "execution_count": 9,
      "outputs": [
        {
          "output_type": "stream",
          "name": "stdout",
          "text": [
            "Help on class defaultdict in module collections:\n",
            "\n",
            "class defaultdict(builtins.dict)\n",
            " |  defaultdict(default_factory=None, /, [...]) --> dict with default factory\n",
            " |\n",
            " |  The default factory is called without arguments to produce\n",
            " |  a new value when a key is not present, in __getitem__ only.\n",
            " |  A defaultdict compares equal to a dict with the same items.\n",
            " |  All remaining arguments are treated the same as if they were\n",
            " |  passed to the dict constructor, including keyword arguments.\n",
            " |\n",
            " |  Method resolution order:\n",
            " |      defaultdict\n",
            " |      builtins.dict\n",
            " |      builtins.object\n",
            " |\n",
            " |  Methods defined here:\n",
            " |\n",
            " |  __copy__(...)\n",
            " |      D.copy() -> a shallow copy of D.\n",
            " |\n",
            " |  __getattribute__(self, name, /)\n",
            " |      Return getattr(self, name).\n",
            " |\n",
            " |  __init__(self, /, *args, **kwargs)\n",
            " |      Initialize self.  See help(type(self)) for accurate signature.\n",
            " |\n",
            " |  __missing__(...)\n",
            " |      __missing__(key) # Called by __getitem__ for missing key; pseudo-code:\n",
            " |      if self.default_factory is None: raise KeyError((key,))\n",
            " |      self[key] = value = self.default_factory()\n",
            " |      return value\n",
            " |\n",
            " |  __or__(self, value, /)\n",
            " |      Return self|value.\n",
            " |\n",
            " |  __reduce__(...)\n",
            " |      Return state information for pickling.\n",
            " |\n",
            " |  __repr__(self, /)\n",
            " |      Return repr(self).\n",
            " |\n",
            " |  __ror__(self, value, /)\n",
            " |      Return value|self.\n",
            " |\n",
            " |  copy(...)\n",
            " |      D.copy() -> a shallow copy of D.\n",
            " |\n",
            " |  ----------------------------------------------------------------------\n",
            " |  Class methods defined here:\n",
            " |\n",
            " |  __class_getitem__(...)\n",
            " |      See PEP 585\n",
            " |\n",
            " |  ----------------------------------------------------------------------\n",
            " |  Data descriptors defined here:\n",
            " |\n",
            " |  default_factory\n",
            " |      Factory for default value called by __missing__().\n",
            " |\n",
            " |  ----------------------------------------------------------------------\n",
            " |  Methods inherited from builtins.dict:\n",
            " |\n",
            " |  __contains__(self, key, /)\n",
            " |      True if the dictionary has the specified key, else False.\n",
            " |\n",
            " |  __delitem__(self, key, /)\n",
            " |      Delete self[key].\n",
            " |\n",
            " |  __eq__(self, value, /)\n",
            " |      Return self==value.\n",
            " |\n",
            " |  __ge__(self, value, /)\n",
            " |      Return self>=value.\n",
            " |\n",
            " |  __getitem__(self, key, /)\n",
            " |      Return self[key].\n",
            " |\n",
            " |  __gt__(self, value, /)\n",
            " |      Return self>value.\n",
            " |\n",
            " |  __ior__(self, value, /)\n",
            " |      Return self|=value.\n",
            " |\n",
            " |  __iter__(self, /)\n",
            " |      Implement iter(self).\n",
            " |\n",
            " |  __le__(self, value, /)\n",
            " |      Return self<=value.\n",
            " |\n",
            " |  __len__(self, /)\n",
            " |      Return len(self).\n",
            " |\n",
            " |  __lt__(self, value, /)\n",
            " |      Return self<value.\n",
            " |\n",
            " |  __ne__(self, value, /)\n",
            " |      Return self!=value.\n",
            " |\n",
            " |  __reversed__(self, /)\n",
            " |      Return a reverse iterator over the dict keys.\n",
            " |\n",
            " |  __setitem__(self, key, value, /)\n",
            " |      Set self[key] to value.\n",
            " |\n",
            " |  __sizeof__(...)\n",
            " |      D.__sizeof__() -> size of D in memory, in bytes\n",
            " |\n",
            " |  clear(...)\n",
            " |      D.clear() -> None.  Remove all items from D.\n",
            " |\n",
            " |  get(self, key, default=None, /)\n",
            " |      Return the value for key if key is in the dictionary, else default.\n",
            " |\n",
            " |  items(...)\n",
            " |      D.items() -> a set-like object providing a view on D's items\n",
            " |\n",
            " |  keys(...)\n",
            " |      D.keys() -> a set-like object providing a view on D's keys\n",
            " |\n",
            " |  pop(...)\n",
            " |      D.pop(k[,d]) -> v, remove specified key and return the corresponding value.\n",
            " |\n",
            " |      If the key is not found, return the default if given; otherwise,\n",
            " |      raise a KeyError.\n",
            " |\n",
            " |  popitem(self, /)\n",
            " |      Remove and return a (key, value) pair as a 2-tuple.\n",
            " |\n",
            " |      Pairs are returned in LIFO (last-in, first-out) order.\n",
            " |      Raises KeyError if the dict is empty.\n",
            " |\n",
            " |  setdefault(self, key, default=None, /)\n",
            " |      Insert key with a value of default if key is not in the dictionary.\n",
            " |\n",
            " |      Return the value for key if key is in the dictionary, else default.\n",
            " |\n",
            " |  update(...)\n",
            " |      D.update([E, ]**F) -> None.  Update D from mapping/iterable E and F.\n",
            " |      If E is present and has a .keys() method, then does:  for k in E.keys(): D[k] = E[k]\n",
            " |      If E is present and lacks a .keys() method, then does:  for k, v in E: D[k] = v\n",
            " |      In either case, this is followed by: for k in F:  D[k] = F[k]\n",
            " |\n",
            " |  values(...)\n",
            " |      D.values() -> an object providing a view on D's values\n",
            " |\n",
            " |  ----------------------------------------------------------------------\n",
            " |  Class methods inherited from builtins.dict:\n",
            " |\n",
            " |  fromkeys(iterable, value=None, /)\n",
            " |      Create a new dictionary with keys from iterable and values set to value.\n",
            " |\n",
            " |  ----------------------------------------------------------------------\n",
            " |  Static methods inherited from builtins.dict:\n",
            " |\n",
            " |  __new__(*args, **kwargs) class method of builtins.dict\n",
            " |      Create and return a new object.  See help(type) for accurate signature.\n",
            " |\n",
            " |  ----------------------------------------------------------------------\n",
            " |  Data and other attributes inherited from builtins.dict:\n",
            " |\n",
            " |  __hash__ = None\n",
            "\n"
          ]
        }
      ]
    },
    {
      "cell_type": "markdown",
      "id": "fa9043db",
      "metadata": {
        "id": "fa9043db"
      },
      "source": [
        "What can we do to make our solution above better?\n",
        "\n",
        "Bonus: try to use `defaultdict` *(from collections import defaultdict)*"
      ]
    },
    {
      "cell_type": "markdown",
      "id": "d1101d46",
      "metadata": {
        "id": "d1101d46"
      },
      "source": [
        "# Sets"
      ]
    },
    {
      "cell_type": "markdown",
      "id": "f237c19c",
      "metadata": {
        "id": "f237c19c"
      },
      "source": [
        "Коллекция уникальных объектов"
      ]
    },
    {
      "cell_type": "code",
      "execution_count": 13,
      "id": "3050d765",
      "metadata": {
        "ExecuteTime": {
          "end_time": "2022-09-29T11:02:03.345520Z",
          "start_time": "2022-09-29T11:02:03.339739Z"
        },
        "id": "3050d765",
        "outputId": "8cc060f6-b43d-4021-b302-c57bd46499b1",
        "colab": {
          "base_uri": "https://localhost:8080/"
        }
      },
      "outputs": [
        {
          "output_type": "stream",
          "name": "stdout",
          "text": [
            "136410815455616\n"
          ]
        },
        {
          "output_type": "execute_result",
          "data": {
            "text/plain": [
              "{'one', 'two'}"
            ]
          },
          "metadata": {},
          "execution_count": 13
        }
      ],
      "source": [
        "a = ['one', 'two', 'two', 'one']\n",
        "a = set(a)\n",
        "print(id(a))\n",
        "a"
      ]
    },
    {
      "cell_type": "code",
      "source": [
        "a.add('one')\n",
        "print(id(a))\n",
        "a"
      ],
      "metadata": {
        "colab": {
          "base_uri": "https://localhost:8080/"
        },
        "id": "p665HJriIjDC",
        "outputId": "25f7b889-b1f0-49a7-bf8c-df909083b1fb"
      },
      "id": "p665HJriIjDC",
      "execution_count": 14,
      "outputs": [
        {
          "output_type": "stream",
          "name": "stdout",
          "text": [
            "136410815455616\n"
          ]
        },
        {
          "output_type": "execute_result",
          "data": {
            "text/plain": [
              "{'one', 'two'}"
            ]
          },
          "metadata": {},
          "execution_count": 14
        }
      ]
    },
    {
      "cell_type": "markdown",
      "id": "6354a3c1",
      "metadata": {
        "id": "6354a3c1"
      },
      "source": [
        "set -- mutable, frozenset -- immutable"
      ]
    },
    {
      "cell_type": "code",
      "source": [
        "b = frozenset(a)\n",
        "b"
      ],
      "metadata": {
        "colab": {
          "base_uri": "https://localhost:8080/"
        },
        "id": "mcwigUezMaWA",
        "outputId": "f77b4169-f73e-4c8d-99be-d018e5930805"
      },
      "id": "mcwigUezMaWA",
      "execution_count": 16,
      "outputs": [
        {
          "output_type": "stream",
          "name": "stdout",
          "text": [
            "136410270128544\n"
          ]
        },
        {
          "output_type": "execute_result",
          "data": {
            "text/plain": [
              "frozenset({'one', 'two'})"
            ]
          },
          "metadata": {},
          "execution_count": 16
        }
      ]
    },
    {
      "cell_type": "code",
      "execution_count": null,
      "id": "3de613e7",
      "metadata": {
        "ExecuteTime": {
          "end_time": "2022-09-29T11:02:09.214140Z",
          "start_time": "2022-09-29T11:02:09.209693Z"
        },
        "id": "3de613e7"
      },
      "outputs": [],
      "source": [
        "first_set = {1, 2, 3, 4, 5}\n",
        "second_set = {4, 5, 6, 7, 8}"
      ]
    },
    {
      "cell_type": "code",
      "execution_count": null,
      "id": "3f04a1d8",
      "metadata": {
        "ExecuteTime": {
          "end_time": "2022-09-29T11:02:26.106745Z",
          "start_time": "2022-09-29T11:02:26.101744Z"
        },
        "id": "3f04a1d8",
        "outputId": "7112c6b4-1618-45c9-ee66-b4e82f15eb9e"
      },
      "outputs": [
        {
          "data": {
            "text/plain": [
              "({4, 5}, {4, 5})"
            ]
          },
          "execution_count": 85,
          "metadata": {},
          "output_type": "execute_result"
        }
      ],
      "source": [
        "first_set & second_set, first_set.intersection(second_set)"
      ]
    },
    {
      "cell_type": "code",
      "execution_count": null,
      "id": "029c0fb6",
      "metadata": {
        "ExecuteTime": {
          "end_time": "2022-09-29T11:02:29.655710Z",
          "start_time": "2022-09-29T11:02:29.649761Z"
        },
        "id": "029c0fb6",
        "outputId": "3482dc55-2de2-4ed2-e3e2-039b3cf07366"
      },
      "outputs": [
        {
          "data": {
            "text/plain": [
              "({1, 2, 3, 4, 5, 6, 7, 8}, {1, 2, 3, 4, 5, 6, 7, 8})"
            ]
          },
          "execution_count": 86,
          "metadata": {},
          "output_type": "execute_result"
        }
      ],
      "source": [
        "first_set | second_set, first_set.union(second_set)"
      ]
    },
    {
      "cell_type": "code",
      "execution_count": null,
      "id": "e9d83bcd",
      "metadata": {
        "ExecuteTime": {
          "end_time": "2022-09-29T11:03:30.185556Z",
          "start_time": "2022-09-29T11:03:30.180464Z"
        },
        "id": "e9d83bcd",
        "outputId": "49797766-2df3-4527-85bf-dd95a145c55d"
      },
      "outputs": [
        {
          "data": {
            "text/plain": [
              "{6, 7, 8}"
            ]
          },
          "execution_count": 90,
          "metadata": {},
          "output_type": "execute_result"
        }
      ],
      "source": [
        "second_set - first_set"
      ]
    },
    {
      "cell_type": "markdown",
      "id": "7eec30ac",
      "metadata": {
        "id": "7eec30ac"
      },
      "source": [
        "Внутри хеш-таблица, что дает нам операцию проверки вхождения за O(1) при хорошей хеш-функции\n",
        "\n",
        "Пример:"
      ]
    },
    {
      "cell_type": "code",
      "execution_count": 17,
      "id": "dea35448",
      "metadata": {
        "ExecuteTime": {
          "end_time": "2022-09-29T11:03:51.650652Z",
          "start_time": "2022-09-29T11:03:51.644391Z"
        },
        "id": "dea35448"
      },
      "outputs": [],
      "source": [
        "import random"
      ]
    },
    {
      "cell_type": "code",
      "execution_count": 30,
      "id": "3ec4ce04",
      "metadata": {
        "ExecuteTime": {
          "end_time": "2022-09-29T11:04:29.591280Z",
          "start_time": "2022-09-29T11:04:29.533857Z"
        },
        "id": "3ec4ce04",
        "colab": {
          "base_uri": "https://localhost:8080/"
        },
        "outputId": "c002c4c3-32df-44b5-8fb1-7a1c7c912a02"
      },
      "outputs": [
        {
          "output_type": "execute_result",
          "data": {
            "text/plain": [
              "19648"
            ]
          },
          "metadata": {},
          "execution_count": 30
        }
      ],
      "source": [
        "good_values = set(range(100))\n",
        "\n",
        "filtered_values = []\n",
        "for i in range(100000):\n",
        "    val = random.randint(1, 500)\n",
        "    if val in good_values:\n",
        "        filtered_values.append(val)\n",
        "len(filtered_values)"
      ]
    },
    {
      "cell_type": "code",
      "execution_count": 31,
      "id": "22d437d0",
      "metadata": {
        "ExecuteTime": {
          "end_time": "2022-09-29T11:05:05.964849Z",
          "start_time": "2022-09-29T11:05:05.959204Z"
        },
        "id": "22d437d0"
      },
      "outputs": [],
      "source": [
        "assert len(list(filter(lambda x: x >= 100, filtered_values))) == 0"
      ]
    },
    {
      "cell_type": "code",
      "source": [
        "len(list(filter(lambda x: x >= 99, filtered_values)))"
      ],
      "metadata": {
        "colab": {
          "base_uri": "https://localhost:8080/"
        },
        "id": "3xWFFhOAKVVa",
        "outputId": "632b9d31-85e7-4f54-df45-3da956aacb54"
      },
      "id": "3xWFFhOAKVVa",
      "execution_count": 32,
      "outputs": [
        {
          "output_type": "execute_result",
          "data": {
            "text/plain": [
              "206"
            ]
          },
          "metadata": {},
          "execution_count": 32
        }
      ]
    },
    {
      "cell_type": "markdown",
      "id": "d8fafb74",
      "metadata": {
        "id": "d8fafb74"
      },
      "source": [
        "Задачка. Дедуплицируем список с сохранением порядка"
      ]
    },
    {
      "cell_type": "code",
      "execution_count": null,
      "id": "a2ef88f8",
      "metadata": {
        "ExecuteTime": {
          "end_time": "2022-09-29T11:27:15.308033Z",
          "start_time": "2022-09-29T11:27:15.303105Z"
        },
        "id": "a2ef88f8"
      },
      "outputs": [],
      "source": [
        "a = list(range(10000)) + list(range(10000)) + list(range(10000))"
      ]
    },
    {
      "cell_type": "code",
      "execution_count": null,
      "id": "02cef8c9",
      "metadata": {
        "ExecuteTime": {
          "end_time": "2022-09-29T11:12:15.542788Z",
          "start_time": "2022-09-29T11:12:15.087460Z"
        },
        "id": "02cef8c9",
        "outputId": "aa26ff9e-a251-44b3-a26f-ea4535ed10d6"
      },
      "outputs": [
        {
          "name": "stdout",
          "output_type": "stream",
          "text": [
            "CPU times: user 452 ms, sys: 0 ns, total: 452 ms\n",
            "Wall time: 451 ms\n"
          ]
        }
      ],
      "source": [
        "%%time\n",
        "\n",
        "seen_values = []\n",
        "dedup_a = []\n",
        "\n",
        "for value in a:\n",
        "    if value not in seen_values: # O(N)\n",
        "        dedup_a.append(value)\n",
        "        seen_values.append(value)\n"
      ]
    },
    {
      "cell_type": "code",
      "execution_count": null,
      "id": "3c52da63",
      "metadata": {
        "ExecuteTime": {
          "end_time": "2022-09-29T11:12:44.893102Z",
          "start_time": "2022-09-29T11:12:44.880454Z"
        },
        "id": "3c52da63",
        "outputId": "8801648d-6abc-48d9-c1d8-0cfd7884769f"
      },
      "outputs": [
        {
          "name": "stdout",
          "output_type": "stream",
          "text": [
            "CPU times: user 5.36 ms, sys: 105 µs, total: 5.47 ms\n",
            "Wall time: 5.16 ms\n"
          ]
        }
      ],
      "source": [
        "%%time\n",
        "\n",
        "seen_values = set()\n",
        "dedup_a = []\n",
        "\n",
        "for value in a:\n",
        "    if value not in seen_values: # O(1)\n",
        "        dedup_a.append(value)\n",
        "        seen_values.add(value)"
      ]
    },
    {
      "cell_type": "markdown",
      "id": "7a9a2ff0",
      "metadata": {
        "id": "7a9a2ff0"
      },
      "source": [
        "Другая задачка. 2-sum"
      ]
    },
    {
      "cell_type": "code",
      "execution_count": null,
      "id": "dfdaa35c",
      "metadata": {
        "ExecuteTime": {
          "end_time": "2022-09-29T11:22:09.435886Z",
          "start_time": "2022-09-29T11:22:09.429734Z"
        },
        "id": "dfdaa35c",
        "outputId": "3ee44050-1f91-4533-c6e8-4ea8617c38ea"
      },
      "outputs": [
        {
          "data": {
            "text/plain": [
              "{(-3, 10), (-1, 8), (1, 6), (2, 5), (3, 4)}"
            ]
          },
          "execution_count": 111,
          "metadata": {},
          "output_type": "execute_result"
        }
      ],
      "source": [
        "a = [-1, -6, -3, 1, 2, 3, 4, 5, 6, 7, 3, 6, 8, 2, 10]\n",
        "target_sum = 7\n",
        "\n",
        "set_a = set(a) # дополнительная память O(N)\n",
        "ans = set()\n",
        "\n",
        "for elem in a: # сложность вычисления O(N)\n",
        "    pair_elem = target_sum - elem\n",
        "    if pair_elem in a:\n",
        "        ans.add((min(elem, pair_elem), max(elem, pair_elem)))\n",
        "\n",
        "ans"
      ]
    },
    {
      "cell_type": "markdown",
      "id": "c3ec30a5",
      "metadata": {
        "ExecuteTime": {
          "end_time": "2022-09-29T01:19:25.033928Z",
          "start_time": "2022-09-29T01:19:25.028889Z"
        },
        "id": "c3ec30a5"
      },
      "source": [
        "Priority queue - log(N)"
      ]
    },
    {
      "cell_type": "markdown",
      "source": [
        "![image.png](data:image/png;base64,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)"
      ],
      "metadata": {
        "id": "_uMMvmuiMOHB"
      },
      "id": "_uMMvmuiMOHB"
    },
    {
      "cell_type": "code",
      "source": [
        "import heapq\n",
        "\n",
        "priority_queue = []\n",
        "\n",
        "heapq.heappush(priority_queue, (2, 'task2'))\n",
        "print(heapq.heappop(priority_queue))\n",
        "print(priority_queue)\n",
        "\n",
        "heapq.heappush(priority_queue, (3, 'task1'))\n",
        "heapq.heappush(priority_queue, (1, 'task3'))\n",
        "heapq.heappush(priority_queue, (2, 'task2'))\n",
        "heapq.heappush(priority_queue, (5, 'task5'))\n",
        "heapq.heappush(priority_queue, (0, 'task0'))\n",
        "print(priority_queue)\n",
        "\n",
        "print(heapq.heappop(priority_queue))\n",
        "print(heapq.heappop(priority_queue))"
      ],
      "metadata": {
        "colab": {
          "base_uri": "https://localhost:8080/"
        },
        "id": "kLalevxqa0DL",
        "outputId": "8cd0b153-9ad8-4132-a26d-f14275b28b65"
      },
      "id": "kLalevxqa0DL",
      "execution_count": null,
      "outputs": [
        {
          "output_type": "stream",
          "name": "stdout",
          "text": [
            "(2, 'task2')\n",
            "[]\n",
            "[(0, 'task0'), (1, 'task3'), (2, 'task2'), (5, 'task5'), (3, 'task1')]\n",
            "(0, 'task0')\n",
            "(1, 'task3')\n"
          ]
        }
      ]
    },
    {
      "cell_type": "markdown",
      "source": [
        "Сложность? Вспоминаем бинарный поиск, тут нечто похожее - бинарная куча, гарантирует что минимальное всегда в начале"
      ],
      "metadata": {
        "id": "KQ4Y13_40Jmv"
      },
      "id": "KQ4Y13_40Jmv"
    },
    {
      "cell_type": "markdown",
      "source": [
        "# Least Recent Used cache O(1) implementation\n",
        "With map and double linked list"
      ],
      "metadata": {
        "id": "GkS3qR4vZq5V"
      },
      "id": "GkS3qR4vZq5V"
    },
    {
      "cell_type": "markdown",
      "source": [
        "![image.png](data:image/png;base64,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)"
      ],
      "metadata": {
        "id": "dJfcYzGIO_kj"
      },
      "id": "dJfcYzGIO_kj"
    },
    {
      "cell_type": "code",
      "source": [
        "class Node:\n",
        "    def __init__(self, key, value):\n",
        "        self.key = key\n",
        "        self.value = value\n",
        "        self.prev = None\n",
        "        self.next = None\n",
        "\n",
        "    def __repr__(self):\n",
        "        return f'({self.key}, {self.value})'\n",
        "\n",
        "class LRUCache:\n",
        "    def __init__(self, capacity: int):\n",
        "        self.capacity = capacity\n",
        "        self.cache = {}\n",
        "        self.head = Node(0, 0)\n",
        "        self.tail = Node(0, 0)\n",
        "        self.head.next = self.tail\n",
        "        self.tail.prev = self.head\n",
        "\n",
        "    def _add(self, node: Node):\n",
        "        \"\"\"Add a new node right after the head (most recent).\"\"\"\n",
        "        node.next = self.head.next\n",
        "        node.prev = self.head\n",
        "        self.head.next.prev = node\n",
        "        self.head.next = node\n",
        "\n",
        "\n",
        "    def get(self, key: int) -> int:\n",
        "        \"\"\"Return the value (will always be positive) of the key if the key exists in the cache, otherwise return -1.\"\"\"\n",
        "        if key in self.cache:\n",
        "          node = self.cache[key]\n",
        "          self._remove(node)\n",
        "          self._add(node)\n",
        "          return node.value\n",
        "        return -1\n",
        "\n",
        "    def _remove(self, node: Node):\n",
        "        \"\"\"Removes a node from the doubly linked list.\"\"\"\n",
        "        prev_node = node.prev\n",
        "        next_node = node.next\n",
        "        prev_node.next = next_node\n",
        "        next_node.prev = prev_node\n",
        "\n",
        "    def put(self, key: int, value: int) -> None:\n",
        "        \"\"\"Insert or update the value if the key is not already present.\"\"\"\n",
        "        if key in self.cache:\n",
        "            self._remove(self.cache[key])\n",
        "\n",
        "        new_node = Node(key, value)\n",
        "        self._add(new_node)\n",
        "        self.cache[key] = new_node\n",
        "\n",
        "        if len(self.cache) > self.capacity:\n",
        "            lru_node = self.tail.prev\n",
        "            self._remove(lru_node)\n",
        "            del self.cache[lru_node.key]\n",
        "\n",
        "lru = LRUCache(3)\n",
        "lru.put(1, 1)\n",
        "print(lru.cache)\n",
        "lru.put(2, 2)\n",
        "print(lru.cache)\n",
        "print(lru.get(1))\n",
        "print(lru.cache)\n",
        "lru.put(3, 3)\n",
        "print(lru.cache)\n",
        "print(lru.get(2))\n",
        "print(lru.cache)\n",
        "lru.put(4, 4)\n",
        "print(lru.cache)\n",
        "print(lru.get(1))\n",
        "print(lru.get(1))\n",
        "lru.put(2, 2)\n",
        "print(lru.cache)\n",
        "print(lru.get(3))\n",
        "print(lru.cache)\n",
        "print(lru.get(4))\n",
        "print(lru.cache)\n"
      ],
      "metadata": {
        "colab": {
          "base_uri": "https://localhost:8080/"
        },
        "id": "ySr0-anDZowj",
        "outputId": "53e0d6c9-8a37-46ed-c9f2-523fdf4e7e1b"
      },
      "id": "ySr0-anDZowj",
      "execution_count": null,
      "outputs": [
        {
          "output_type": "stream",
          "name": "stdout",
          "text": [
            "{1: (1, 1)}\n",
            "{1: (1, 1), 2: (2, 2)}\n",
            "1\n",
            "{1: (1, 1), 2: (2, 2)}\n",
            "{1: (1, 1), 2: (2, 2), 3: (3, 3)}\n",
            "2\n",
            "{1: (1, 1), 2: (2, 2), 3: (3, 3)}\n",
            "{2: (2, 2), 3: (3, 3), 4: (4, 4)}\n",
            "-1\n",
            "-1\n",
            "{2: (2, 2), 3: (3, 3), 4: (4, 4)}\n",
            "3\n",
            "{2: (2, 2), 3: (3, 3), 4: (4, 4)}\n",
            "4\n",
            "{2: (2, 2), 3: (3, 3), 4: (4, 4)}\n"
          ]
        }
      ]
    }
  ],
  "metadata": {
    "kernelspec": {
      "display_name": "base-env",
      "language": "python",
      "name": "base-env"
    },
    "language_info": {
      "codemirror_mode": {
        "name": "ipython",
        "version": 3
      },
      "file_extension": ".py",
      "mimetype": "text/x-python",
      "name": "python",
      "nbconvert_exporter": "python",
      "pygments_lexer": "ipython3",
      "version": "3.9.12"
    },
    "toc": {
      "base_numbering": 1,
      "nav_menu": {},
      "number_sections": true,
      "sideBar": true,
      "skip_h1_title": false,
      "title_cell": "Table of Contents",
      "title_sidebar": "Contents",
      "toc_cell": false,
      "toc_position": {},
      "toc_section_display": true,
      "toc_window_display": true
    },
    "varInspector": {
      "cols": {
        "lenName": 16,
        "lenType": 16,
        "lenVar": 40
      },
      "kernels_config": {
        "python": {
          "delete_cmd_postfix": "",
          "delete_cmd_prefix": "del ",
          "library": "var_list.py",
          "varRefreshCmd": "print(var_dic_list())"
        },
        "r": {
          "delete_cmd_postfix": ") ",
          "delete_cmd_prefix": "rm(",
          "library": "var_list.r",
          "varRefreshCmd": "cat(var_dic_list()) "
        }
      },
      "types_to_exclude": [
        "module",
        "function",
        "builtin_function_or_method",
        "instance",
        "_Feature"
      ],
      "window_display": false
    },
    "colab": {
      "provenance": []
    }
  },
  "nbformat": 4,
  "nbformat_minor": 5
}