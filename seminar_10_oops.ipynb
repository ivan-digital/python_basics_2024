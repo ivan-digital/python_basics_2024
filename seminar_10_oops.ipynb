{
  "cells": [
    {
      "cell_type": "markdown",
      "id": "4a7a3b80",
      "metadata": {
        "id": "4a7a3b80"
      },
      "source": [
        "# Descriptors"
      ]
    },
    {
      "cell_type": "markdown",
      "id": "3a8c49cb",
      "metadata": {
        "id": "3a8c49cb"
      },
      "source": [
        "Короткое описание в [доке](https://docs.python.org/3/reference/datamodel.html#invoking-descriptors)\n",
        "\n",
        "Должны быть методы `__get__`, `__set__`, `__del__`\n",
        "\n",
        "Обычно когда в Python мы хотим получить доступ к атрибуту класса, то сначала мы ищем его в `__dict__` инстанса класса, потом в классе, и далее выше по цепочке наследования."
      ]
    },
    {
      "cell_type": "code",
      "execution_count": 1,
      "id": "f3c44eeb",
      "metadata": {
        "ExecuteTime": {
          "end_time": "2022-10-07T08:18:40.257732Z",
          "start_time": "2022-10-07T08:18:40.252492Z"
        },
        "id": "f3c44eeb"
      },
      "outputs": [],
      "source": [
        "class BestConstant:\n",
        "    def __get__(self, obj, objtype=None):\n",
        "        print('Using descriptor!')\n",
        "        return 73\n",
        "\n",
        "class Number:\n",
        "    x = 10\n",
        "    y = BestConstant()  # our descriptor"
      ]
    },
    {
      "cell_type": "code",
      "execution_count": 2,
      "id": "4ce3973d",
      "metadata": {
        "ExecuteTime": {
          "end_time": "2022-10-07T08:18:40.765261Z",
          "start_time": "2022-10-07T08:18:40.759961Z"
        },
        "id": "4ce3973d"
      },
      "outputs": [],
      "source": [
        "num = Number()"
      ]
    },
    {
      "cell_type": "code",
      "execution_count": 3,
      "id": "b6a59212",
      "metadata": {
        "ExecuteTime": {
          "end_time": "2022-10-07T08:18:49.218062Z",
          "start_time": "2022-10-07T08:18:49.212432Z"
        },
        "id": "b6a59212",
        "outputId": "1d7d4952-7038-4501-9ab4-fb7ecf44abe5",
        "colab": {
          "base_uri": "https://localhost:8080/"
        }
      },
      "outputs": [
        {
          "output_type": "stream",
          "name": "stdout",
          "text": [
            "Using descriptor!\n"
          ]
        },
        {
          "output_type": "execute_result",
          "data": {
            "text/plain": [
              "(10, 73)"
            ]
          },
          "metadata": {},
          "execution_count": 3
        }
      ],
      "source": [
        "num.x, num.y"
      ]
    },
    {
      "cell_type": "code",
      "execution_count": 5,
      "id": "ee1deb30",
      "metadata": {
        "ExecuteTime": {
          "end_time": "2022-10-07T08:19:11.073557Z",
          "start_time": "2022-10-07T08:19:11.068439Z"
        },
        "id": "ee1deb30",
        "outputId": "6083bbaa-d61f-4fc8-d4bb-1f153198d158",
        "colab": {
          "base_uri": "https://localhost:8080/"
        }
      },
      "outputs": [
        {
          "output_type": "execute_result",
          "data": {
            "text/plain": [
              "{}"
            ]
          },
          "metadata": {},
          "execution_count": 5
        }
      ],
      "source": [
        "num.__dict__"
      ]
    },
    {
      "cell_type": "code",
      "execution_count": 6,
      "id": "9aca4f46",
      "metadata": {
        "ExecuteTime": {
          "end_time": "2022-10-07T08:19:35.376222Z",
          "start_time": "2022-10-07T08:19:35.370330Z"
        },
        "id": "9aca4f46",
        "outputId": "912801ee-664b-41c9-a773-3960ccc4c422",
        "colab": {
          "base_uri": "https://localhost:8080/"
        }
      },
      "outputs": [
        {
          "output_type": "execute_result",
          "data": {
            "text/plain": [
              "mappingproxy({'__module__': '__main__',\n",
              "              'x': 10,\n",
              "              'y': <__main__.BestConstant at 0x7a1586f21ac0>,\n",
              "              '__dict__': <attribute '__dict__' of 'Number' objects>,\n",
              "              '__weakref__': <attribute '__weakref__' of 'Number' objects>,\n",
              "              '__doc__': None})"
            ]
          },
          "metadata": {},
          "execution_count": 6
        }
      ],
      "source": [
        "Number.__dict__"
      ]
    },
    {
      "cell_type": "markdown",
      "source": [
        "https://docs.python.org/3/library/types.html#types.MappingProxyType\n"
      ],
      "metadata": {
        "id": "lAep2bCmb8SY"
      },
      "id": "lAep2bCmb8SY"
    },
    {
      "cell_type": "code",
      "execution_count": null,
      "id": "590f30ba",
      "metadata": {
        "ExecuteTime": {
          "end_time": "2022-10-07T08:20:27.309329Z",
          "start_time": "2022-10-07T08:20:27.305012Z"
        },
        "id": "590f30ba"
      },
      "outputs": [],
      "source": [
        "num.__dict__['y'] = 42"
      ]
    },
    {
      "cell_type": "code",
      "execution_count": null,
      "id": "22524e5b",
      "metadata": {
        "ExecuteTime": {
          "end_time": "2022-10-07T08:20:55.598418Z",
          "start_time": "2022-10-07T08:20:55.593472Z"
        },
        "id": "22524e5b",
        "outputId": "9243e1ec-8031-469a-c9c9-9182665c02b9"
      },
      "outputs": [
        {
          "data": {
            "text/plain": [
              "42"
            ]
          },
          "execution_count": 19,
          "metadata": {},
          "output_type": "execute_result"
        }
      ],
      "source": [
        "num.y"
      ]
    },
    {
      "cell_type": "code",
      "execution_count": null,
      "id": "470fadeb",
      "metadata": {
        "ExecuteTime": {
          "end_time": "2022-10-07T08:21:22.948084Z",
          "start_time": "2022-10-07T08:21:22.941307Z"
        },
        "id": "470fadeb"
      },
      "outputs": [],
      "source": [
        "num.y = 32"
      ]
    },
    {
      "cell_type": "code",
      "execution_count": null,
      "id": "bd95027f",
      "metadata": {
        "ExecuteTime": {
          "end_time": "2022-10-07T08:21:27.345789Z",
          "start_time": "2022-10-07T08:21:27.340434Z"
        },
        "id": "bd95027f",
        "outputId": "ca9a64c8-7d6d-444f-a329-b4361c276fec"
      },
      "outputs": [
        {
          "data": {
            "text/plain": [
              "32"
            ]
          },
          "execution_count": 21,
          "metadata": {},
          "output_type": "execute_result"
        }
      ],
      "source": [
        "num.y"
      ]
    },
    {
      "cell_type": "markdown",
      "id": "4f30469e",
      "metadata": {
        "id": "4f30469e"
      },
      "source": [
        "Видим, что мы переписали значение. Дескриптор, у которого определен только get, называется non-data дескриптором. https://docs.python.org/3/howto/descriptor.html - больше теории про дескрипторы."
      ]
    },
    {
      "cell_type": "markdown",
      "source": [
        "Пример с weakref - слабая ссылка"
      ],
      "metadata": {
        "id": "fg02Vkpqpcfc"
      },
      "id": "fg02Vkpqpcfc"
    },
    {
      "cell_type": "code",
      "source": [
        "import weakref\n",
        "\n",
        "class MyClass:\n",
        "    def __init__(self, name):\n",
        "        self.name = name\n",
        "    def __repr__(self):\n",
        "        return f\"MyClass({self.name})\"\n",
        "obj = MyClass(\"example\")\n",
        "weak_obj = weakref.ref(obj)\n",
        "print(\"Before deletion:\", weak_obj())\n",
        "del obj\n",
        "\n",
        "# Как и ожидалось слабая ссылка не держит обьект и позволяет его очистить сборщику мусора\n",
        "# удобно использовать для кеша, что бы избежать переполнения памяти\n",
        "print(\"After deletion:\", weak_obj())\n"
      ],
      "metadata": {
        "colab": {
          "base_uri": "https://localhost:8080/"
        },
        "id": "2bMR8AHopbnU",
        "outputId": "84947ba6-afd3-4205-86c3-558376d3f37c"
      },
      "id": "2bMR8AHopbnU",
      "execution_count": null,
      "outputs": [
        {
          "output_type": "stream",
          "name": "stdout",
          "text": [
            "Before deletion: MyClass(example)\n",
            "After deletion: None\n"
          ]
        }
      ]
    },
    {
      "cell_type": "markdown",
      "id": "e200d09b",
      "metadata": {
        "ExecuteTime": {
          "end_time": "2022-10-07T08:21:41.696553Z",
          "start_time": "2022-10-07T08:21:41.688443Z"
        },
        "id": "e200d09b"
      },
      "source": [
        "---"
      ]
    },
    {
      "cell_type": "code",
      "execution_count": 8,
      "id": "ab6548b9",
      "metadata": {
        "ExecuteTime": {
          "end_time": "2022-10-07T08:29:41.044859Z",
          "start_time": "2022-10-07T08:29:41.039454Z"
        },
        "id": "ab6548b9"
      },
      "outputs": [],
      "source": [
        "class BestConstantComplete:\n",
        "    def __get__(self, obj, owner):\n",
        "        print('Using descriptor!')\n",
        "        print(f'{owner}')\n",
        "        return obj._y\n",
        "\n",
        "    def __set__(self, obj, value):\n",
        "        print('Setting descriptor!')\n",
        "        obj._y = value\n",
        "\n",
        "    def __del__(self, obj):\n",
        "        del obj._y\n",
        "\n",
        "\n",
        "class Number:\n",
        "    y = BestConstantComplete()  # our new descriptor\n",
        "\n",
        "    def __init__(self, x: int = 10, y: int = 42):\n",
        "        self.x = x\n",
        "        self.y = y"
      ]
    },
    {
      "cell_type": "code",
      "execution_count": 9,
      "id": "caf6af8e",
      "metadata": {
        "ExecuteTime": {
          "end_time": "2022-10-07T08:29:41.207291Z",
          "start_time": "2022-10-07T08:29:41.201699Z"
        },
        "colab": {
          "base_uri": "https://localhost:8080/"
        },
        "id": "caf6af8e",
        "outputId": "054d0b17-ca8b-4a51-ed22-519659d041fe"
      },
      "outputs": [
        {
          "output_type": "stream",
          "name": "stdout",
          "text": [
            "Setting descriptor!\n"
          ]
        }
      ],
      "source": [
        "num = Number()"
      ]
    },
    {
      "cell_type": "code",
      "execution_count": 58,
      "id": "cf54b07b",
      "metadata": {
        "ExecuteTime": {
          "end_time": "2022-10-07T08:29:41.382373Z",
          "start_time": "2022-10-07T08:29:41.373249Z"
        },
        "colab": {
          "base_uri": "https://localhost:8080/"
        },
        "id": "cf54b07b",
        "outputId": "c62a1459-3603-493e-d10f-599359d8afa3"
      },
      "outputs": [
        {
          "output_type": "execute_result",
          "data": {
            "text/plain": [
              "{'x': 10, '_y': 42}"
            ]
          },
          "metadata": {},
          "execution_count": 58
        }
      ],
      "source": [
        "num.__dict__"
      ]
    },
    {
      "cell_type": "code",
      "execution_count": null,
      "id": "eaca8390",
      "metadata": {
        "ExecuteTime": {
          "end_time": "2022-10-07T08:29:41.515897Z",
          "start_time": "2022-10-07T08:29:41.506477Z"
        },
        "colab": {
          "base_uri": "https://localhost:8080/"
        },
        "id": "eaca8390",
        "outputId": "955e5f48-24ef-44a1-da7f-23e3e3060b88"
      },
      "outputs": [
        {
          "output_type": "stream",
          "name": "stdout",
          "text": [
            "Using descriptor!\n",
            "<class '__main__.Number'>\n"
          ]
        },
        {
          "output_type": "execute_result",
          "data": {
            "text/plain": [
              "42"
            ]
          },
          "metadata": {},
          "execution_count": 17
        }
      ],
      "source": [
        "num.y"
      ]
    },
    {
      "cell_type": "code",
      "execution_count": null,
      "id": "f90387c8",
      "metadata": {
        "ExecuteTime": {
          "end_time": "2022-10-07T08:29:41.855692Z",
          "start_time": "2022-10-07T08:29:41.849695Z"
        },
        "id": "f90387c8"
      },
      "outputs": [],
      "source": [
        "num.y = 73"
      ]
    },
    {
      "cell_type": "code",
      "execution_count": null,
      "id": "d6204ab0",
      "metadata": {
        "ExecuteTime": {
          "end_time": "2022-10-07T08:29:42.786531Z",
          "start_time": "2022-10-07T08:29:42.781578Z"
        },
        "colab": {
          "base_uri": "https://localhost:8080/"
        },
        "id": "d6204ab0",
        "outputId": "de8a5a86-ff12-451e-f1f3-f4941f2dbf6e"
      },
      "outputs": [
        {
          "output_type": "stream",
          "name": "stdout",
          "text": [
            "Using descriptor!\n",
            "<class '__main__.Number'>\n"
          ]
        },
        {
          "output_type": "execute_result",
          "data": {
            "text/plain": [
              "73"
            ]
          },
          "metadata": {},
          "execution_count": 19
        }
      ],
      "source": [
        "num.y"
      ]
    },
    {
      "cell_type": "code",
      "execution_count": null,
      "id": "cd5f4927",
      "metadata": {
        "ExecuteTime": {
          "end_time": "2022-10-07T08:29:42.955703Z",
          "start_time": "2022-10-07T08:29:42.946261Z"
        },
        "colab": {
          "base_uri": "https://localhost:8080/"
        },
        "id": "cd5f4927",
        "outputId": "1df79446-f21b-4395-8e54-db20738d26f6"
      },
      "outputs": [
        {
          "output_type": "execute_result",
          "data": {
            "text/plain": [
              "{'x': 10, '_y': 73}"
            ]
          },
          "metadata": {},
          "execution_count": 20
        }
      ],
      "source": [
        "num.__dict__"
      ]
    },
    {
      "cell_type": "code",
      "execution_count": null,
      "id": "416bb01c",
      "metadata": {
        "ExecuteTime": {
          "end_time": "2022-10-07T08:29:45.867338Z",
          "start_time": "2022-10-07T08:29:45.861050Z"
        },
        "id": "416bb01c"
      },
      "outputs": [],
      "source": [
        "num.__dict__['y'] = 100"
      ]
    },
    {
      "cell_type": "code",
      "execution_count": null,
      "id": "14836989",
      "metadata": {
        "ExecuteTime": {
          "end_time": "2022-10-07T08:29:47.540030Z",
          "start_time": "2022-10-07T08:29:47.530004Z"
        },
        "colab": {
          "base_uri": "https://localhost:8080/"
        },
        "id": "14836989",
        "outputId": "2756b575-2971-43f8-b128-4000b15aa258"
      },
      "outputs": [
        {
          "output_type": "execute_result",
          "data": {
            "text/plain": [
              "{'x': 10, '_y': 73, 'y': 100}"
            ]
          },
          "metadata": {},
          "execution_count": 22
        }
      ],
      "source": [
        "num.__dict__"
      ]
    },
    {
      "cell_type": "code",
      "execution_count": null,
      "id": "1bf0f4e2",
      "metadata": {
        "ExecuteTime": {
          "end_time": "2022-10-07T08:30:03.932135Z",
          "start_time": "2022-10-07T08:30:03.922326Z"
        },
        "colab": {
          "base_uri": "https://localhost:8080/"
        },
        "id": "1bf0f4e2",
        "outputId": "aaaca87b-b830-4228-eb07-b1221a1c24f6"
      },
      "outputs": [
        {
          "output_type": "stream",
          "name": "stdout",
          "text": [
            "Using descriptor!\n",
            "<class '__main__.Number'>\n"
          ]
        },
        {
          "output_type": "execute_result",
          "data": {
            "text/plain": [
              "73"
            ]
          },
          "metadata": {},
          "execution_count": 23
        }
      ],
      "source": [
        "num.y"
      ]
    },
    {
      "cell_type": "markdown",
      "id": "be569d3a",
      "metadata": {
        "id": "be569d3a"
      },
      "source": [
        "Если у дескриптора определен `__set__`, то Python при попытке достать атрибут по названию, будет доставать сначала дескриптор, даже если в `__dict__` объекта лежит что-то одноименное"
      ]
    },
    {
      "cell_type": "markdown",
      "id": "c9e741d8",
      "metadata": {
        "id": "c9e741d8"
      },
      "source": [
        "---"
      ]
    },
    {
      "cell_type": "code",
      "execution_count": 14,
      "id": "981cac2d",
      "metadata": {
        "ExecuteTime": {
          "end_time": "2022-10-07T08:31:36.128765Z",
          "start_time": "2022-10-07T08:31:36.123004Z"
        },
        "id": "981cac2d"
      },
      "outputs": [],
      "source": [
        "import os"
      ]
    },
    {
      "cell_type": "code",
      "execution_count": 11,
      "id": "62b9eae1",
      "metadata": {
        "ExecuteTime": {
          "end_time": "2022-10-07T08:33:40.024914Z",
          "start_time": "2022-10-07T08:33:40.019976Z"
        },
        "id": "62b9eae1"
      },
      "outputs": [],
      "source": [
        "class DirectorySize:\n",
        "\n",
        "    def __get__(self, obj, objtype=None):\n",
        "        return len(os.listdir(obj.dirname))\n",
        "\n",
        "class Directory:\n",
        "    size = DirectorySize()\n",
        "\n",
        "    def __init__(self, dirname):\n",
        "        self.dirname = dirname\n",
        "        if not os.path.exists(dirname):\n",
        "            os.makedirs(dirname)"
      ]
    },
    {
      "cell_type": "code",
      "execution_count": 12,
      "id": "55568099",
      "metadata": {
        "ExecuteTime": {
          "end_time": "2022-10-07T08:34:08.991918Z",
          "start_time": "2022-10-07T08:34:08.870880Z"
        },
        "colab": {
          "base_uri": "https://localhost:8080/"
        },
        "id": "55568099",
        "outputId": "4f2ec6d9-5249-4cc3-a060-5d3a1bcd424e"
      },
      "outputs": [
        {
          "output_type": "stream",
          "name": "stdout",
          "text": [
            "sample_data\n"
          ]
        }
      ],
      "source": [
        "! ls"
      ]
    },
    {
      "cell_type": "code",
      "execution_count": 18,
      "id": "f5ebc517",
      "metadata": {
        "ExecuteTime": {
          "end_time": "2022-10-07T08:35:14.637482Z",
          "start_time": "2022-10-07T08:35:14.630969Z"
        },
        "id": "f5ebc517"
      },
      "outputs": [],
      "source": [
        "a = Directory('data')\n",
        "\n",
        "b = Directory('img')\n",
        "c = Directory('img/1')"
      ]
    },
    {
      "cell_type": "code",
      "execution_count": 21,
      "id": "7217b283",
      "metadata": {
        "ExecuteTime": {
          "end_time": "2022-10-07T08:35:15.145651Z",
          "start_time": "2022-10-07T08:35:15.135780Z"
        },
        "colab": {
          "base_uri": "https://localhost:8080/"
        },
        "id": "7217b283",
        "outputId": "564991c3-c882-41e7-ece9-c6169b554a10"
      },
      "outputs": [
        {
          "output_type": "execute_result",
          "data": {
            "text/plain": [
              "0"
            ]
          },
          "metadata": {},
          "execution_count": 21
        }
      ],
      "source": [
        "a.size"
      ]
    },
    {
      "cell_type": "code",
      "execution_count": 22,
      "id": "08e4b45b",
      "metadata": {
        "ExecuteTime": {
          "end_time": "2022-10-07T08:36:20.629557Z",
          "start_time": "2022-10-07T08:36:20.619937Z"
        },
        "colab": {
          "base_uri": "https://localhost:8080/"
        },
        "id": "08e4b45b",
        "outputId": "889326e9-b1b3-4ac6-8dbc-0605ef6c32e8"
      },
      "outputs": [
        {
          "output_type": "execute_result",
          "data": {
            "text/plain": [
              "1"
            ]
          },
          "metadata": {},
          "execution_count": 22
        }
      ],
      "source": [
        "b.size"
      ]
    },
    {
      "cell_type": "code",
      "execution_count": 23,
      "id": "8f70d976",
      "metadata": {
        "ExecuteTime": {
          "end_time": "2022-10-07T08:36:56.761671Z",
          "start_time": "2022-10-07T08:36:56.641506Z"
        },
        "id": "8f70d976"
      },
      "outputs": [],
      "source": [
        "! touch data/tempfile"
      ]
    },
    {
      "cell_type": "code",
      "source": [
        "! touch data/tempfile2"
      ],
      "metadata": {
        "id": "NuHLxskySWRi"
      },
      "id": "NuHLxskySWRi",
      "execution_count": 25,
      "outputs": []
    },
    {
      "cell_type": "code",
      "execution_count": 26,
      "id": "49a7d423",
      "metadata": {
        "ExecuteTime": {
          "end_time": "2022-10-07T08:37:21.356889Z",
          "start_time": "2022-10-07T08:37:21.354234Z"
        },
        "colab": {
          "base_uri": "https://localhost:8080/"
        },
        "id": "49a7d423",
        "outputId": "22db19b0-fe4c-41a3-a7ca-ca84b3d073a7"
      },
      "outputs": [
        {
          "output_type": "execute_result",
          "data": {
            "text/plain": [
              "2"
            ]
          },
          "metadata": {},
          "execution_count": 26
        }
      ],
      "source": [
        "a.size"
      ]
    },
    {
      "cell_type": "markdown",
      "id": "738d27b2",
      "metadata": {
        "id": "738d27b2"
      },
      "source": [
        "Дескриптор вызывается при обращении к атрибуту *size*. При этом, код дескриптора выполняется каждый раз"
      ]
    },
    {
      "cell_type": "markdown",
      "id": "038d0f06",
      "metadata": {
        "id": "038d0f06"
      },
      "source": [
        "---"
      ]
    },
    {
      "cell_type": "markdown",
      "id": "695a4ab4",
      "metadata": {
        "id": "695a4ab4"
      },
      "source": [
        "**Класс Nuts**:\n",
        "\n",
        "можно создавать из чего угодно\n",
        "\n",
        "содержит любой аттрибут\n",
        "\n",
        "можно удалять и присваивать любые поля\n",
        "\n",
        "можно доставать по индексу\n",
        "\n",
        "присваивать значения по индексу\n",
        "\n",
        "по нeму можно итерироваться\n",
        "\n",
        "имеет \"красивое\"  строковое представление\n",
        "\n",
        "имеет формальное строковое представление"
      ]
    },
    {
      "cell_type": "code",
      "execution_count": 32,
      "id": "ead769fd",
      "metadata": {
        "ExecuteTime": {
          "end_time": "2022-10-07T09:04:21.974370Z",
          "start_time": "2022-10-07T09:04:21.967940Z"
        },
        "id": "ead769fd"
      },
      "outputs": [],
      "source": [
        "class Nuts:\n",
        "  def __init__(self, **kwargs):\n",
        "    self.args = kwargs\n",
        "\n",
        "  def __repr__(self):\n",
        "    return f\"Nuts({self.args})\"\n",
        "\n",
        "  def __str__(self):\n",
        "    return f\"str({self.args})\"\n",
        "\n",
        "  def __getitem__(self, item):\n",
        "    print(\"__getitem__\")\n",
        "    return item\n",
        "\n",
        "  def __getattr__(self, item):\n",
        "    print(f\"__getattr__:{item}\")\n",
        "    return item\n",
        "\n",
        "  def __iter__(self):\n",
        "    return iter(self.args)\n",
        "\n",
        "\n",
        "\n",
        "\n"
      ]
    },
    {
      "cell_type": "code",
      "source": [
        "nuts = Nuts(a='34', b='34')\n",
        "nuts"
      ],
      "metadata": {
        "colab": {
          "base_uri": "https://localhost:8080/"
        },
        "id": "bU8IBBa65HlN",
        "outputId": "ffffd4d1-a78f-461a-90af-c85a89c28e45"
      },
      "id": "bU8IBBa65HlN",
      "execution_count": 33,
      "outputs": [
        {
          "output_type": "stream",
          "name": "stdout",
          "text": [
            "__getattr__:_ipython_canary_method_should_not_exist_\n",
            "__getattr__:_ipython_canary_method_should_not_exist_\n",
            "__getattr__:_ipython_canary_method_should_not_exist_\n",
            "__getattr__:_ipython_canary_method_should_not_exist_\n",
            "__getattr__:_ipython_canary_method_should_not_exist_\n",
            "__getattr__:_ipython_canary_method_should_not_exist_\n",
            "__getattr__:_ipython_canary_method_should_not_exist_\n",
            "__getattr__:_ipython_canary_method_should_not_exist_\n",
            "__getattr__:_ipython_canary_method_should_not_exist_\n",
            "__getattr__:_ipython_canary_method_should_not_exist_\n",
            "__getattr__:_ipython_canary_method_should_not_exist_\n",
            "__getattr__:_ipython_canary_method_should_not_exist_\n"
          ]
        },
        {
          "output_type": "execute_result",
          "data": {
            "text/plain": [
              "Nuts({'a': '34', 'b': '34'})"
            ]
          },
          "metadata": {},
          "execution_count": 33
        }
      ]
    },
    {
      "cell_type": "code",
      "source": [
        "nuts['ffg']"
      ],
      "metadata": {
        "colab": {
          "base_uri": "https://localhost:8080/",
          "height": 53
        },
        "id": "A7mZBCxoTH_T",
        "outputId": "3a41813f-6853-450b-83fd-0be20d0cc4df"
      },
      "id": "A7mZBCxoTH_T",
      "execution_count": 34,
      "outputs": [
        {
          "output_type": "stream",
          "name": "stdout",
          "text": [
            "__getitem__\n"
          ]
        },
        {
          "output_type": "execute_result",
          "data": {
            "text/plain": [
              "'ffg'"
            ],
            "application/vnd.google.colaboratory.intrinsic+json": {
              "type": "string"
            }
          },
          "metadata": {},
          "execution_count": 34
        }
      ]
    },
    {
      "cell_type": "code",
      "source": [
        "for v in nuts:\n",
        "  print(v)"
      ],
      "metadata": {
        "colab": {
          "base_uri": "https://localhost:8080/"
        },
        "id": "Vs55PpZoBm-x",
        "outputId": "c4ed87f7-309b-4396-9424-befa056935e0"
      },
      "id": "Vs55PpZoBm-x",
      "execution_count": 35,
      "outputs": [
        {
          "output_type": "stream",
          "name": "stdout",
          "text": [
            "a\n",
            "b\n"
          ]
        }
      ]
    },
    {
      "cell_type": "code",
      "source": [
        "nuts.hhh"
      ],
      "metadata": {
        "colab": {
          "base_uri": "https://localhost:8080/",
          "height": 53
        },
        "id": "1XNSQboQDggp",
        "outputId": "bd1f41c8-b53e-4a73-f78a-423673fb4f96"
      },
      "id": "1XNSQboQDggp",
      "execution_count": 36,
      "outputs": [
        {
          "output_type": "stream",
          "name": "stdout",
          "text": [
            "__getattr__:hhh\n"
          ]
        },
        {
          "output_type": "execute_result",
          "data": {
            "text/plain": [
              "'hhh'"
            ],
            "application/vnd.google.colaboratory.intrinsic+json": {
              "type": "string"
            }
          },
          "metadata": {},
          "execution_count": 36
        }
      ]
    },
    {
      "cell_type": "markdown",
      "id": "83952304",
      "metadata": {
        "id": "83952304"
      },
      "source": [
        "---"
      ]
    },
    {
      "cell_type": "markdown",
      "id": "9c08f582",
      "metadata": {
        "id": "9c08f582"
      },
      "source": [
        "В чем могут быть проблемы при наследовании от стандартных типов"
      ]
    },
    {
      "cell_type": "code",
      "execution_count": null,
      "id": "40bf097f",
      "metadata": {
        "ExecuteTime": {
          "end_time": "2022-10-07T09:12:24.397869Z",
          "start_time": "2022-10-07T09:12:24.392568Z"
        },
        "id": "40bf097f"
      },
      "outputs": [],
      "source": [
        "class DoubleDict(dict):\n",
        "  def __setitem__(self, key, value):\n",
        "    super().__setitem__(key, value * 2)\n",
        "\n",
        "  def update(self, d: dict):\n",
        "    for key, val in d.items():\n",
        "      self.__setitem__(key, val)"
      ]
    },
    {
      "cell_type": "code",
      "execution_count": null,
      "id": "702b3dcb",
      "metadata": {
        "ExecuteTime": {
          "end_time": "2022-10-07T09:11:43.511849Z",
          "start_time": "2022-10-07T09:11:43.505908Z"
        },
        "id": "702b3dcb"
      },
      "outputs": [],
      "source": [
        "double_d = DoubleDict()"
      ]
    },
    {
      "cell_type": "code",
      "execution_count": null,
      "id": "4d9866ae",
      "metadata": {
        "ExecuteTime": {
          "end_time": "2022-10-07T09:11:43.707780Z",
          "start_time": "2022-10-07T09:11:43.698087Z"
        },
        "colab": {
          "base_uri": "https://localhost:8080/"
        },
        "id": "4d9866ae",
        "outputId": "d9465192-e96d-431b-e215-979e6145227a"
      },
      "outputs": [
        {
          "output_type": "execute_result",
          "data": {
            "text/plain": [
              "{'sdf': 4}"
            ]
          },
          "metadata": {},
          "execution_count": 180
        }
      ],
      "source": [
        "double_d['sdf'] = 2\n",
        "double_d"
      ]
    },
    {
      "cell_type": "code",
      "execution_count": null,
      "id": "7504be4b",
      "metadata": {
        "ExecuteTime": {
          "end_time": "2022-10-07T09:11:44.399580Z",
          "start_time": "2022-10-07T09:11:44.393248Z"
        },
        "colab": {
          "base_uri": "https://localhost:8080/"
        },
        "id": "7504be4b",
        "outputId": "d67050c1-cdd7-4eb9-822b-bfbcad19221a"
      },
      "outputs": [
        {
          "output_type": "execute_result",
          "data": {
            "text/plain": [
              "{'sdf': 4, 'afaf': 48, '41': 24}"
            ]
          },
          "metadata": {},
          "execution_count": 181
        }
      ],
      "source": [
        "double_d.update({'afaf': 24, '41': 12})\n",
        "double_d"
      ]
    },
    {
      "cell_type": "markdown",
      "id": "0f61f438",
      "metadata": {
        "id": "0f61f438"
      },
      "source": [
        "Проигнорили setitem при выполнении update"
      ]
    },
    {
      "cell_type": "code",
      "execution_count": 50,
      "id": "e65c9968",
      "metadata": {
        "ExecuteTime": {
          "end_time": "2022-10-07T09:13:14.155127Z",
          "start_time": "2022-10-07T09:13:14.150174Z"
        },
        "id": "e65c9968"
      },
      "outputs": [],
      "source": [
        "class AnswerDict(dict):\n",
        "    def __getitem__(self, key):\n",
        "        print(f\"key:{key}\")\n",
        "        if key == 'a':\n",
        "          return 1\n",
        "        return 42\n",
        "    def __getattr__(self, key):\n",
        "      print(f\"key:{key}\")\n",
        "      return key"
      ]
    },
    {
      "cell_type": "code",
      "execution_count": 51,
      "id": "07c24ae3",
      "metadata": {
        "ExecuteTime": {
          "end_time": "2022-10-07T09:13:41.134371Z",
          "start_time": "2022-10-07T09:13:41.127825Z"
        },
        "id": "07c24ae3"
      },
      "outputs": [],
      "source": [
        "ad = AnswerDict(a='answer')"
      ]
    },
    {
      "cell_type": "code",
      "execution_count": 52,
      "id": "b6c831fb",
      "metadata": {
        "ExecuteTime": {
          "end_time": "2022-10-07T09:13:58.953558Z",
          "start_time": "2022-10-07T09:13:58.948458Z"
        },
        "id": "b6c831fb",
        "outputId": "111f85db-5c66-45ed-8860-53ef12052873",
        "colab": {
          "base_uri": "https://localhost:8080/"
        }
      },
      "outputs": [
        {
          "output_type": "stream",
          "name": "stdout",
          "text": [
            "key:adfdsg\n"
          ]
        },
        {
          "output_type": "execute_result",
          "data": {
            "text/plain": [
              "42"
            ]
          },
          "metadata": {},
          "execution_count": 52
        }
      ],
      "source": [
        "ad['adfdsg']"
      ]
    },
    {
      "cell_type": "code",
      "source": [
        "ad['a']"
      ],
      "metadata": {
        "colab": {
          "base_uri": "https://localhost:8080/"
        },
        "id": "LbtJVHf4UTVI",
        "outputId": "8153a89c-9870-4451-8d87-60742dd62b96"
      },
      "id": "LbtJVHf4UTVI",
      "execution_count": 53,
      "outputs": [
        {
          "output_type": "stream",
          "name": "stdout",
          "text": [
            "key:a\n"
          ]
        },
        {
          "output_type": "execute_result",
          "data": {
            "text/plain": [
              "1"
            ]
          },
          "metadata": {},
          "execution_count": 53
        }
      ]
    },
    {
      "cell_type": "code",
      "source": [
        "ad.attribute_arbitrary_text"
      ],
      "metadata": {
        "colab": {
          "base_uri": "https://localhost:8080/",
          "height": 53
        },
        "id": "Cb0afbxmVpx-",
        "outputId": "77202752-838d-4e9f-cbdc-e1e6cac8fd91"
      },
      "id": "Cb0afbxmVpx-",
      "execution_count": 56,
      "outputs": [
        {
          "output_type": "stream",
          "name": "stdout",
          "text": [
            "key:attribute_arbitrary_text\n"
          ]
        },
        {
          "output_type": "execute_result",
          "data": {
            "text/plain": [
              "'attribute_arbitrary_text'"
            ],
            "application/vnd.google.colaboratory.intrinsic+json": {
              "type": "string"
            }
          },
          "metadata": {},
          "execution_count": 56
        }
      ]
    },
    {
      "cell_type": "code",
      "source": [
        "ad.__dict__"
      ],
      "metadata": {
        "colab": {
          "base_uri": "https://localhost:8080/"
        },
        "id": "kUy0GcOKV64l",
        "outputId": "f65880f8-5253-4d7c-c94d-b738401d4966"
      },
      "id": "kUy0GcOKV64l",
      "execution_count": 57,
      "outputs": [
        {
          "output_type": "execute_result",
          "data": {
            "text/plain": [
              "{}"
            ]
          },
          "metadata": {},
          "execution_count": 57
        }
      ]
    },
    {
      "cell_type": "code",
      "execution_count": 48,
      "id": "83cec0bf",
      "metadata": {
        "ExecuteTime": {
          "end_time": "2022-10-07T09:14:58.692482Z",
          "start_time": "2022-10-07T09:14:58.685991Z"
        },
        "id": "83cec0bf"
      },
      "outputs": [],
      "source": [
        "simple_dict = {}\n",
        "simple_dict.update(ad)"
      ]
    },
    {
      "cell_type": "code",
      "execution_count": 49,
      "id": "089cc4c1",
      "metadata": {
        "ExecuteTime": {
          "end_time": "2022-10-07T09:14:59.481806Z",
          "start_time": "2022-10-07T09:14:59.476651Z"
        },
        "id": "089cc4c1",
        "outputId": "e5de5a9c-52a4-4320-a2f9-e85f64bb8c07",
        "colab": {
          "base_uri": "https://localhost:8080/"
        }
      },
      "outputs": [
        {
          "output_type": "execute_result",
          "data": {
            "text/plain": [
              "{'a': 'answer'}"
            ]
          },
          "metadata": {},
          "execution_count": 49
        }
      ],
      "source": [
        "simple_dict"
      ]
    },
    {
      "cell_type": "markdown",
      "id": "6ad2546c",
      "metadata": {
        "id": "6ad2546c"
      },
      "source": [
        "Проигнорили getitem, переорпеделение не меняет данные, просто выводит константу"
      ]
    },
    {
      "cell_type": "markdown",
      "id": "c59bc21d",
      "metadata": {
        "id": "c59bc21d"
      },
      "source": [
        "Так произошло потому, что реализация метода update не использует измененные методы. Пофиксить можно наследованием от \"пользовательского словаря\" из модуля collections."
      ]
    },
    {
      "cell_type": "code",
      "execution_count": null,
      "id": "37ea7592",
      "metadata": {
        "ExecuteTime": {
          "end_time": "2022-10-07T09:16:09.152098Z",
          "start_time": "2022-10-07T09:16:09.148966Z"
        },
        "id": "37ea7592"
      },
      "outputs": [],
      "source": [
        "from collections import UserDict"
      ]
    },
    {
      "cell_type": "code",
      "execution_count": null,
      "id": "911cc569",
      "metadata": {
        "ExecuteTime": {
          "end_time": "2022-10-07T09:16:25.642942Z",
          "start_time": "2022-10-07T09:16:25.637985Z"
        },
        "id": "911cc569"
      },
      "outputs": [],
      "source": [
        "class DoubleDict(UserDict):\n",
        "    def __setitem__(self, key, value):\n",
        "        super().__setitem__(key, value * 2)"
      ]
    },
    {
      "cell_type": "code",
      "execution_count": null,
      "id": "7ce65c74",
      "metadata": {
        "ExecuteTime": {
          "end_time": "2022-10-07T09:16:31.854420Z",
          "start_time": "2022-10-07T09:16:31.851861Z"
        },
        "id": "7ce65c74"
      },
      "outputs": [],
      "source": [
        "double_d = DoubleDict()"
      ]
    },
    {
      "cell_type": "code",
      "execution_count": null,
      "id": "d2544c13",
      "metadata": {
        "ExecuteTime": {
          "end_time": "2022-10-07T09:16:36.141579Z",
          "start_time": "2022-10-07T09:16:36.136538Z"
        },
        "id": "d2544c13",
        "outputId": "0b5ad47c-b793-43a7-be0c-7cf23e6512c4"
      },
      "outputs": [
        {
          "data": {
            "text/plain": [
              "{'sdf': 4}"
            ]
          },
          "execution_count": 204,
          "metadata": {},
          "output_type": "execute_result"
        }
      ],
      "source": [
        "double_d['sdf'] = 2\n",
        "double_d"
      ]
    },
    {
      "cell_type": "code",
      "execution_count": null,
      "id": "29fe5fbb",
      "metadata": {
        "ExecuteTime": {
          "end_time": "2022-10-07T09:16:40.261725Z",
          "start_time": "2022-10-07T09:16:40.255988Z"
        },
        "id": "29fe5fbb",
        "outputId": "af09397b-307a-4db3-a435-50f4ff1809ba"
      },
      "outputs": [
        {
          "data": {
            "text/plain": [
              "{'sdf': 4, 'afaf': 48, '41': 24}"
            ]
          },
          "execution_count": 205,
          "metadata": {},
          "output_type": "execute_result"
        }
      ],
      "source": [
        "double_d.update({'afaf': 24, '41': 12})\n",
        "double_d"
      ]
    },
    {
      "cell_type": "code",
      "execution_count": null,
      "id": "235ca24d",
      "metadata": {
        "ExecuteTime": {
          "end_time": "2022-10-07T09:17:39.790393Z",
          "start_time": "2022-10-07T09:17:39.783870Z"
        },
        "id": "235ca24d"
      },
      "outputs": [],
      "source": [
        "class AnswerDict(UserDict):\n",
        "    def __getitem__(self, key):\n",
        "        return 42"
      ]
    },
    {
      "cell_type": "code",
      "execution_count": null,
      "id": "fddfbdd0",
      "metadata": {
        "ExecuteTime": {
          "end_time": "2022-10-07T09:17:33.578599Z",
          "start_time": "2022-10-07T09:17:33.571980Z"
        },
        "id": "fddfbdd0"
      },
      "outputs": [],
      "source": [
        "ad = AnswerDict(a='answer')"
      ]
    },
    {
      "cell_type": "code",
      "execution_count": null,
      "id": "115e735d",
      "metadata": {
        "ExecuteTime": {
          "end_time": "2022-10-07T09:17:45.928096Z",
          "start_time": "2022-10-07T09:17:45.918833Z"
        },
        "id": "115e735d",
        "outputId": "a69ac230-5b10-41ce-b7f2-8b3181dd819f"
      },
      "outputs": [
        {
          "data": {
            "text/plain": [
              "42"
            ]
          },
          "execution_count": 217,
          "metadata": {},
          "output_type": "execute_result"
        }
      ],
      "source": [
        "ad['a']"
      ]
    },
    {
      "cell_type": "code",
      "execution_count": null,
      "id": "089827a0",
      "metadata": {
        "ExecuteTime": {
          "end_time": "2022-10-07T09:18:24.390052Z",
          "start_time": "2022-10-07T09:18:24.381289Z"
        },
        "id": "089827a0",
        "outputId": "d3a6e6df-88ae-492c-9f87-e6337a30c57a"
      },
      "outputs": [
        {
          "data": {
            "text/plain": [
              "{'data': {'a': 'answer'}}"
            ]
          },
          "execution_count": 221,
          "metadata": {},
          "output_type": "execute_result"
        }
      ],
      "source": [
        "ad.__dict__"
      ]
    },
    {
      "cell_type": "code",
      "execution_count": null,
      "id": "8a7a6e3a",
      "metadata": {
        "ExecuteTime": {
          "end_time": "2022-10-07T09:18:02.810125Z",
          "start_time": "2022-10-07T09:18:02.805935Z"
        },
        "id": "8a7a6e3a"
      },
      "outputs": [],
      "source": [
        "simple_dict = {}\n",
        "simple_dict.update(ad)"
      ]
    },
    {
      "cell_type": "code",
      "execution_count": null,
      "id": "547d1342",
      "metadata": {
        "ExecuteTime": {
          "end_time": "2022-10-07T09:18:05.142612Z",
          "start_time": "2022-10-07T09:18:05.137599Z"
        },
        "id": "547d1342",
        "outputId": "102ed14f-41b9-444d-9ee4-f9f26876e7bd"
      },
      "outputs": [
        {
          "data": {
            "text/plain": [
              "{'a': 42}"
            ]
          },
          "execution_count": 219,
          "metadata": {},
          "output_type": "execute_result"
        }
      ],
      "source": [
        "simple_dict"
      ]
    },
    {
      "cell_type": "markdown",
      "id": "6e659dc4",
      "metadata": {
        "id": "6e659dc4"
      },
      "source": [
        "---"
      ]
    },
    {
      "cell_type": "markdown",
      "id": "fa5edc76",
      "metadata": {
        "id": "fa5edc76"
      },
      "source": [
        "Выше мы видели, что можем объявить логику итерирования задав только один метод"
      ]
    },
    {
      "cell_type": "code",
      "execution_count": 2,
      "id": "dfb2a81f",
      "metadata": {
        "ExecuteTime": {
          "end_time": "2022-10-07T09:25:21.682991Z",
          "start_time": "2022-10-07T09:25:21.677992Z"
        },
        "id": "dfb2a81f"
      },
      "outputs": [],
      "source": [
        "class Digits:\n",
        "    digits = '0123456789'\n",
        "\n",
        "    def __getitem__(self, i):\n",
        "        return self.digits[i]\n",
        "\n",
        "#     def __setitem__(self, i, value):  # не будет работать, потому что строки все еще неизменяемые\n",
        "#         self.digits[i] = value"
      ]
    },
    {
      "cell_type": "code",
      "execution_count": 3,
      "id": "fe98bc36",
      "metadata": {
        "ExecuteTime": {
          "end_time": "2022-10-07T09:25:23.883465Z",
          "start_time": "2022-10-07T09:25:23.877022Z"
        },
        "id": "fe98bc36"
      },
      "outputs": [],
      "source": [
        "digits = Digits()"
      ]
    },
    {
      "cell_type": "code",
      "execution_count": 7,
      "id": "a9508f51",
      "metadata": {
        "ExecuteTime": {
          "end_time": "2022-10-07T09:25:24.060602Z",
          "start_time": "2022-10-07T09:25:24.053065Z"
        },
        "colab": {
          "base_uri": "https://localhost:8080/"
        },
        "id": "a9508f51",
        "outputId": "34fad28c-ac05-431a-e88e-729f0c6f8bcc"
      },
      "outputs": [
        {
          "output_type": "stream",
          "name": "stdout",
          "text": [
            "0\n",
            "1\n",
            "2\n",
            "3\n",
            "4\n",
            "5\n",
            "6\n",
            "7\n",
            "8\n",
            "9\n"
          ]
        }
      ],
      "source": [
        "for d in digits: print(d)"
      ]
    },
    {
      "cell_type": "code",
      "execution_count": null,
      "id": "ef8e6cab",
      "metadata": {
        "ExecuteTime": {
          "end_time": "2022-10-07T09:25:24.250065Z",
          "start_time": "2022-10-07T09:25:24.224443Z"
        },
        "colab": {
          "base_uri": "https://localhost:8080/",
          "height": 139
        },
        "id": "ef8e6cab",
        "outputId": "ba9bda49-6d8f-4acf-800a-d25c99d7c1c5"
      },
      "outputs": [
        {
          "output_type": "error",
          "ename": "TypeError",
          "evalue": "'Digits' object does not support item assignment",
          "traceback": [
            "\u001b[0;31m---------------------------------------------------------------------------\u001b[0m",
            "\u001b[0;31mTypeError\u001b[0m                                 Traceback (most recent call last)",
            "\u001b[0;32m<ipython-input-188-1b66a4dde92e>\u001b[0m in \u001b[0;36m<cell line: 1>\u001b[0;34m()\u001b[0m\n\u001b[0;32m----> 1\u001b[0;31m \u001b[0mdigits\u001b[0m\u001b[0;34m[\u001b[0m\u001b[0;36m1\u001b[0m\u001b[0;34m]\u001b[0m \u001b[0;34m=\u001b[0m \u001b[0;34m'0'\u001b[0m\u001b[0;34m\u001b[0m\u001b[0;34m\u001b[0m\u001b[0m\n\u001b[0m",
            "\u001b[0;31mTypeError\u001b[0m: 'Digits' object does not support item assignment"
          ]
        }
      ],
      "source": [
        "digits[1] = '0'"
      ]
    },
    {
      "cell_type": "code",
      "execution_count": null,
      "id": "6e1ced62",
      "metadata": {
        "ExecuteTime": {
          "end_time": "2022-10-07T09:25:24.879886Z",
          "start_time": "2022-10-07T09:25:24.866799Z"
        },
        "colab": {
          "base_uri": "https://localhost:8080/",
          "height": 139
        },
        "id": "6e1ced62",
        "outputId": "1bb0c42e-921f-4eed-8973-4aa85929c92c"
      },
      "outputs": [
        {
          "output_type": "error",
          "ename": "TypeError",
          "evalue": "object of type 'Digits' has no len()",
          "traceback": [
            "\u001b[0;31m---------------------------------------------------------------------------\u001b[0m",
            "\u001b[0;31mTypeError\u001b[0m                                 Traceback (most recent call last)",
            "\u001b[0;32m<ipython-input-189-9b7d253b44df>\u001b[0m in \u001b[0;36m<cell line: 1>\u001b[0;34m()\u001b[0m\n\u001b[0;32m----> 1\u001b[0;31m \u001b[0mlen\u001b[0m\u001b[0;34m(\u001b[0m\u001b[0mdigits\u001b[0m\u001b[0;34m)\u001b[0m\u001b[0;34m\u001b[0m\u001b[0;34m\u001b[0m\u001b[0m\n\u001b[0m",
            "\u001b[0;31mTypeError\u001b[0m: object of type 'Digits' has no len()"
          ]
        }
      ],
      "source": [
        "len(digits)"
      ]
    },
    {
      "cell_type": "markdown",
      "id": "07b35bfa",
      "metadata": {
        "id": "07b35bfa"
      },
      "source": [
        "Получается, что итерироваться можем, а длину не знаем.. Если вдруг передадим такой класс в код, который ожидает последовательность, можно получить ошибку в неожиданный момент\n",
        "\n",
        "Можно задать явно недостающий метод"
      ]
    },
    {
      "cell_type": "code",
      "execution_count": 24,
      "id": "5dc9c3fc",
      "metadata": {
        "ExecuteTime": {
          "end_time": "2022-10-07T09:26:36.181529Z",
          "start_time": "2022-10-07T09:26:36.175962Z"
        },
        "id": "5dc9c3fc"
      },
      "outputs": [],
      "source": [
        "class Digits:\n",
        "\n",
        "    def __init__(self, items:str):\n",
        "        self.digits = items\n",
        "\n",
        "    def __getitem__(self, i):\n",
        "        return self.digits[i]\n",
        "\n",
        "    def __len__(self):\n",
        "        return len(self.digits)\n",
        "\n",
        "#     def __setitem__(self, i, value):\n",
        "#         self.digits[i] = value"
      ]
    },
    {
      "cell_type": "code",
      "execution_count": 25,
      "id": "a3295b7e",
      "metadata": {
        "ExecuteTime": {
          "end_time": "2022-10-07T09:26:50.315356Z",
          "start_time": "2022-10-07T09:26:50.310868Z"
        },
        "id": "a3295b7e"
      },
      "outputs": [],
      "source": [
        "fixed_digits = Digits('4817491724971')"
      ]
    },
    {
      "cell_type": "code",
      "execution_count": 26,
      "id": "73a7b7b5",
      "metadata": {
        "ExecuteTime": {
          "end_time": "2022-10-07T09:26:58.389743Z",
          "start_time": "2022-10-07T09:26:58.384981Z"
        },
        "id": "73a7b7b5",
        "outputId": "20534779-60a7-4510-e8c8-adb5cecdf8ab",
        "colab": {
          "base_uri": "https://localhost:8080/"
        }
      },
      "outputs": [
        {
          "output_type": "stream",
          "name": "stdout",
          "text": [
            "4\n",
            "8\n",
            "1\n",
            "7\n",
            "4\n",
            "9\n",
            "1\n",
            "7\n",
            "2\n",
            "4\n",
            "9\n",
            "7\n",
            "1\n"
          ]
        }
      ],
      "source": [
        "for i in fixed_digits:\n",
        "    print(i)"
      ]
    },
    {
      "cell_type": "code",
      "execution_count": 23,
      "id": "a9cdc34c",
      "metadata": {
        "ExecuteTime": {
          "end_time": "2022-10-07T09:27:07.953225Z",
          "start_time": "2022-10-07T09:27:07.947749Z"
        },
        "id": "a9cdc34c",
        "outputId": "6508e6af-a527-4bfe-deb6-d7f94a53fa54",
        "colab": {
          "base_uri": "https://localhost:8080/"
        }
      },
      "outputs": [
        {
          "output_type": "execute_result",
          "data": {
            "text/plain": [
              "14"
            ]
          },
          "metadata": {},
          "execution_count": 23
        }
      ],
      "source": [
        "len(fixed_digits)"
      ]
    },
    {
      "cell_type": "code",
      "execution_count": 27,
      "id": "65dbc439",
      "metadata": {
        "ExecuteTime": {
          "end_time": "2022-10-07T09:27:44.340845Z",
          "start_time": "2022-10-07T09:27:44.334651Z"
        },
        "id": "65dbc439"
      },
      "outputs": [],
      "source": [
        "from random import choice"
      ]
    },
    {
      "cell_type": "code",
      "execution_count": 32,
      "id": "f80ddedf",
      "metadata": {
        "ExecuteTime": {
          "end_time": "2022-10-07T09:27:57.619978Z",
          "start_time": "2022-10-07T09:27:57.615158Z"
        },
        "id": "f80ddedf",
        "outputId": "5308d9ef-1704-4ff8-f30c-04e8c3b9527b",
        "colab": {
          "base_uri": "https://localhost:8080/",
          "height": 35
        }
      },
      "outputs": [
        {
          "output_type": "execute_result",
          "data": {
            "text/plain": [
              "'7'"
            ],
            "application/vnd.google.colaboratory.intrinsic+json": {
              "type": "string"
            }
          },
          "metadata": {},
          "execution_count": 32
        }
      ],
      "source": [
        "choice(fixed_digits)"
      ]
    },
    {
      "cell_type": "markdown",
      "id": "6941bd9b",
      "metadata": {
        "id": "6941bd9b"
      },
      "source": [
        "---"
      ]
    },
    {
      "cell_type": "markdown",
      "id": "65410136",
      "metadata": {
        "id": "65410136"
      },
      "source": [
        "Также можно добавить в код некоторую проверку на соответсвию интерфейсу. Например, так мы проверяем наш класс на следованию интерфейсу абстрактной последовательности\n",
        "\n",
        "https://docs.python.org/3/library/collections.abc.html"
      ]
    },
    {
      "cell_type": "code",
      "execution_count": 35,
      "id": "188d0722",
      "metadata": {
        "ExecuteTime": {
          "end_time": "2022-10-07T09:30:50.114376Z",
          "start_time": "2022-10-07T09:30:50.110024Z"
        },
        "id": "188d0722"
      },
      "outputs": [],
      "source": [
        "from collections import abc\n",
        "\n",
        "class Digits(abc.Sequence):\n",
        "\n",
        "    digits = '0123456789'\n",
        "\n",
        "    def __getitem__(self, i):\n",
        "        return self.digits[i]\n",
        "\n",
        "#    def __len__(self):\n",
        "#        return len(self.digits)\n",
        "\n"
      ]
    },
    {
      "cell_type": "code",
      "execution_count": 36,
      "id": "c440015c",
      "metadata": {
        "ExecuteTime": {
          "end_time": "2022-10-07T09:29:29.497048Z",
          "start_time": "2022-10-07T09:29:29.483883Z"
        },
        "id": "c440015c",
        "outputId": "84d82515-391f-452b-bf79-10f3f537ad73",
        "colab": {
          "base_uri": "https://localhost:8080/",
          "height": 144
        }
      },
      "outputs": [
        {
          "output_type": "error",
          "ename": "TypeError",
          "evalue": "Can't instantiate abstract class Digits without an implementation for abstract method '__len__'",
          "traceback": [
            "\u001b[0;31m---------------------------------------------------------------------------\u001b[0m",
            "\u001b[0;31mTypeError\u001b[0m                                 Traceback (most recent call last)",
            "\u001b[0;32m/tmp/ipython-input-653953018.py\u001b[0m in \u001b[0;36m<cell line: 0>\u001b[0;34m()\u001b[0m\n\u001b[0;32m----> 1\u001b[0;31m \u001b[0mdigits\u001b[0m \u001b[0;34m=\u001b[0m \u001b[0mDigits\u001b[0m\u001b[0;34m(\u001b[0m\u001b[0;34m)\u001b[0m\u001b[0;34m\u001b[0m\u001b[0;34m\u001b[0m\u001b[0m\n\u001b[0m",
            "\u001b[0;31mTypeError\u001b[0m: Can't instantiate abstract class Digits without an implementation for abstract method '__len__'"
          ]
        }
      ],
      "source": [
        "digits = Digits()"
      ]
    },
    {
      "cell_type": "markdown",
      "id": "5da75056",
      "metadata": {
        "id": "5da75056"
      },
      "source": [
        "И получаем ошибку при создании объекта, потому что без операции длины это не последовательность в полном смысле"
      ]
    },
    {
      "cell_type": "code",
      "execution_count": 37,
      "id": "3366dd61",
      "metadata": {
        "ExecuteTime": {
          "end_time": "2022-10-07T09:31:35.550005Z",
          "start_time": "2022-10-07T09:31:35.545017Z"
        },
        "id": "3366dd61"
      },
      "outputs": [],
      "source": [
        "class Digits(abc.Sequence):\n",
        "\n",
        "    digits = '0123456789'\n",
        "\n",
        "    def __getitem__(self, i):\n",
        "        return self.digits[i]\n",
        "\n",
        "    def __len__(self):\n",
        "        return len(self.digits)"
      ]
    },
    {
      "cell_type": "code",
      "execution_count": 38,
      "id": "bebef943",
      "metadata": {
        "ExecuteTime": {
          "end_time": "2022-10-07T09:31:35.727036Z",
          "start_time": "2022-10-07T09:31:35.720586Z"
        },
        "id": "bebef943"
      },
      "outputs": [],
      "source": [
        "digits = Digits()"
      ]
    },
    {
      "cell_type": "code",
      "execution_count": 39,
      "id": "9a5610a3",
      "metadata": {
        "ExecuteTime": {
          "end_time": "2022-10-07T09:31:35.903048Z",
          "start_time": "2022-10-07T09:31:35.893475Z"
        },
        "colab": {
          "base_uri": "https://localhost:8080/"
        },
        "id": "9a5610a3",
        "outputId": "4d029ab4-1b2e-4af7-e961-4e701744887d"
      },
      "outputs": [
        {
          "output_type": "execute_result",
          "data": {
            "text/plain": [
              "10"
            ]
          },
          "metadata": {},
          "execution_count": 39
        }
      ],
      "source": [
        "len(digits)"
      ]
    },
    {
      "cell_type": "markdown",
      "source": [
        "https://docs.python.org/3/library/abc.html\n",
        "\n",
        "\n",
        "@abstractmethod"
      ],
      "metadata": {
        "id": "urJZpV91i5dX"
      },
      "id": "urJZpV91i5dX"
    },
    {
      "cell_type": "code",
      "source": [
        "from abc import ABC, abstractmethod\n",
        "\n",
        "class Interface(ABC):\n",
        "\n",
        "  @abstractmethod\n",
        "  def method(self):\n",
        "    pass\n",
        "\n",
        "class Instance(Interface):\n",
        "\n",
        "  def method(self):\n",
        "    pass\n",
        "\n",
        "inst = Instance()"
      ],
      "metadata": {
        "id": "6T0MAAKRi-Nl"
      },
      "id": "6T0MAAKRi-Nl",
      "execution_count": 43,
      "outputs": []
    }
  ],
  "metadata": {
    "kernelspec": {
      "display_name": "base-env",
      "language": "python",
      "name": "base-env"
    },
    "language_info": {
      "codemirror_mode": {
        "name": "ipython",
        "version": 3
      },
      "file_extension": ".py",
      "mimetype": "text/x-python",
      "name": "python",
      "nbconvert_exporter": "python",
      "pygments_lexer": "ipython3",
      "version": "3.9.12"
    },
    "toc": {
      "base_numbering": 1,
      "nav_menu": {},
      "number_sections": true,
      "sideBar": true,
      "skip_h1_title": false,
      "title_cell": "Table of Contents",
      "title_sidebar": "Contents",
      "toc_cell": false,
      "toc_position": {},
      "toc_section_display": true,
      "toc_window_display": false
    },
    "varInspector": {
      "cols": {
        "lenName": 16,
        "lenType": 16,
        "lenVar": 40
      },
      "kernels_config": {
        "python": {
          "delete_cmd_postfix": "",
          "delete_cmd_prefix": "del ",
          "library": "var_list.py",
          "varRefreshCmd": "print(var_dic_list())"
        },
        "r": {
          "delete_cmd_postfix": ") ",
          "delete_cmd_prefix": "rm(",
          "library": "var_list.r",
          "varRefreshCmd": "cat(var_dic_list()) "
        }
      },
      "types_to_exclude": [
        "module",
        "function",
        "builtin_function_or_method",
        "instance",
        "_Feature"
      ],
      "window_display": false
    },
    "colab": {
      "provenance": []
    }
  },
  "nbformat": 4,
  "nbformat_minor": 5
}