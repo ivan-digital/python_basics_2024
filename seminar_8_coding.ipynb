{
  "cells": [
    {
      "cell_type": "markdown",
      "source": [
        "# Bytes"
      ],
      "metadata": {
        "id": "qPjCNPPPE8Xo"
      },
      "id": "qPjCNPPPE8Xo"
    },
    {
      "cell_type": "code",
      "source": [
        "text = bytes('text', encoding = 'utf-8')\n",
        "text"
      ],
      "metadata": {
        "colab": {
          "base_uri": "https://localhost:8080/"
        },
        "id": "2jSWYElwEcGt",
        "outputId": "3c319d35-774a-4984-cd4b-c8fd22ece5b5"
      },
      "id": "2jSWYElwEcGt",
      "execution_count": 8,
      "outputs": [
        {
          "output_type": "execute_result",
          "data": {
            "text/plain": [
              "b'text'"
            ]
          },
          "metadata": {},
          "execution_count": 8
        }
      ]
    },
    {
      "cell_type": "code",
      "source": [
        "integer_list = [ord(char) for char in \"text\"]\n",
        "integer_list"
      ],
      "metadata": {
        "colab": {
          "base_uri": "https://localhost:8080/"
        },
        "id": "o4gAD63MFfNi",
        "outputId": "2dd44772-dae2-4b80-8fe3-65cac7bcc97b"
      },
      "id": "o4gAD63MFfNi",
      "execution_count": 2,
      "outputs": [
        {
          "output_type": "execute_result",
          "data": {
            "text/plain": [
              "[116, 101, 120, 116]"
            ]
          },
          "metadata": {},
          "execution_count": 2
        }
      ]
    },
    {
      "cell_type": "code",
      "source": [
        "bytes(integer_list)"
      ],
      "metadata": {
        "colab": {
          "base_uri": "https://localhost:8080/"
        },
        "id": "6Ugntm98FV6e",
        "outputId": "57eb59d2-ee4b-4159-ae7a-0ad7540580dc"
      },
      "id": "6Ugntm98FV6e",
      "execution_count": null,
      "outputs": [
        {
          "output_type": "execute_result",
          "data": {
            "text/plain": [
              "b'text'"
            ]
          },
          "metadata": {},
          "execution_count": 8
        }
      ]
    },
    {
      "cell_type": "code",
      "source": [
        "# вспоминаем как из массива integer_list с использованием list comprehension сделать строку?\n",
        "# your code\n",
        "''.join([chr(integer) for integer in integer_list])"
      ],
      "metadata": {
        "id": "W32hWZ15FqEi",
        "colab": {
          "base_uri": "https://localhost:8080/",
          "height": 35
        },
        "outputId": "5170ed7b-2b54-4f74-efc1-f47d0c5ec237"
      },
      "id": "W32hWZ15FqEi",
      "execution_count": 6,
      "outputs": [
        {
          "output_type": "execute_result",
          "data": {
            "text/plain": [
              "'text'"
            ],
            "application/vnd.google.colaboratory.intrinsic+json": {
              "type": "string"
            }
          },
          "metadata": {},
          "execution_count": 6
        }
      ]
    },
    {
      "cell_type": "code",
      "source": [
        "text[0] = 123 # сработает?"
      ],
      "metadata": {
        "id": "RshT1gywGUii",
        "colab": {
          "base_uri": "https://localhost:8080/",
          "height": 139
        },
        "outputId": "6786d977-7a6f-47ab-a4fb-5ee72de7cc1b"
      },
      "id": "RshT1gywGUii",
      "execution_count": 9,
      "outputs": [
        {
          "output_type": "error",
          "ename": "TypeError",
          "evalue": "'bytes' object does not support item assignment",
          "traceback": [
            "\u001b[0;31m---------------------------------------------------------------------------\u001b[0m",
            "\u001b[0;31mTypeError\u001b[0m                                 Traceback (most recent call last)",
            "\u001b[0;32m<ipython-input-9-1f02f6361fbb>\u001b[0m in \u001b[0;36m<cell line: 1>\u001b[0;34m()\u001b[0m\n\u001b[0;32m----> 1\u001b[0;31m \u001b[0mtext\u001b[0m\u001b[0;34m[\u001b[0m\u001b[0;36m0\u001b[0m\u001b[0;34m]\u001b[0m \u001b[0;34m=\u001b[0m \u001b[0;36m123\u001b[0m \u001b[0;31m# сработает?\u001b[0m\u001b[0;34m\u001b[0m\u001b[0;34m\u001b[0m\u001b[0m\n\u001b[0m",
            "\u001b[0;31mTypeError\u001b[0m: 'bytes' object does not support item assignment"
          ]
        }
      ]
    },
    {
      "cell_type": "code",
      "source": [
        "text_mutable = bytearray(text)\n",
        "text_mutable"
      ],
      "metadata": {
        "colab": {
          "base_uri": "https://localhost:8080/"
        },
        "id": "fBe9DnhwGaxk",
        "outputId": "0e0f1bc3-0da4-458b-ab35-02d4e75bbcc6"
      },
      "id": "fBe9DnhwGaxk",
      "execution_count": 10,
      "outputs": [
        {
          "output_type": "execute_result",
          "data": {
            "text/plain": [
              "bytearray(b'text')"
            ]
          },
          "metadata": {},
          "execution_count": 10
        }
      ]
    },
    {
      "cell_type": "code",
      "source": [
        "text_mutable[0] = 123 # а тут?\n",
        "text_mutable"
      ],
      "metadata": {
        "id": "v3cLmJZgGj4g",
        "colab": {
          "base_uri": "https://localhost:8080/"
        },
        "outputId": "e85bd54d-48db-4f43-ffd4-36e1d5e5156d"
      },
      "id": "v3cLmJZgGj4g",
      "execution_count": 11,
      "outputs": [
        {
          "output_type": "execute_result",
          "data": {
            "text/plain": [
              "bytearray(b'{ext')"
            ]
          },
          "metadata": {},
          "execution_count": 11
        }
      ]
    },
    {
      "cell_type": "markdown",
      "source": [
        "https://docs.python.org/3/library/io.html#io.StringIO\n",
        "\n",
        "### Text I/O\n",
        "Text I/O over a binary storage (such as a file) is significantly slower than binary I/O over the same storage, because it requires conversions between unicode and binary data using a character codec. This can become noticeable handling huge amounts of text data like large log files. Also, tell() and seek() are both quite slow due to the reconstruction algorithm used.\n",
        "\n",
        "\n",
        "\n"
      ],
      "metadata": {
        "id": "hFn1qxq4IKoQ"
      },
      "id": "hFn1qxq4IKoQ"
    },
    {
      "cell_type": "markdown",
      "source": [
        "# Файловая система и os модуль\n",
        "https://pythonworld.ru/moduli/modul-os.html"
      ],
      "metadata": {
        "id": "EPvpzz2ueOsY"
      },
      "id": "EPvpzz2ueOsY"
    },
    {
      "cell_type": "code",
      "source": [
        "import os\n",
        "os.uname()"
      ],
      "metadata": {
        "colab": {
          "base_uri": "https://localhost:8080/"
        },
        "id": "HFHWU3bofbx3",
        "outputId": "c5943218-ea8b-4275-c5c9-12ae3eda90bd"
      },
      "id": "HFHWU3bofbx3",
      "execution_count": 13,
      "outputs": [
        {
          "output_type": "execute_result",
          "data": {
            "text/plain": [
              "posix.uname_result(sysname='Linux', nodename='be9d81109b35', release='6.1.85+', version='#1 SMP PREEMPT_DYNAMIC Thu Jun 27 21:05:47 UTC 2024', machine='x86_64')"
            ]
          },
          "metadata": {},
          "execution_count": 13
        }
      ]
    },
    {
      "cell_type": "code",
      "source": [
        "os.getpid()"
      ],
      "metadata": {
        "colab": {
          "base_uri": "https://localhost:8080/"
        },
        "id": "loc6_8CJfdWw",
        "outputId": "c2711af1-ac79-48af-9ccb-26fab8fbbe6e"
      },
      "id": "loc6_8CJfdWw",
      "execution_count": null,
      "outputs": [
        {
          "output_type": "execute_result",
          "data": {
            "text/plain": [
              "219"
            ]
          },
          "metadata": {},
          "execution_count": 21
        }
      ]
    },
    {
      "cell_type": "code",
      "source": [
        "print(os.getcwd()) # текущая рабочая директория\n",
        "print(os.listdir(path=\".\")) # список файлов и директорий в папке\n"
      ],
      "metadata": {
        "colab": {
          "base_uri": "https://localhost:8080/"
        },
        "id": "3esrK6bzeOX2",
        "outputId": "59ac11b9-dd19-467a-d012-49ba58b3a924"
      },
      "id": "3esrK6bzeOX2",
      "execution_count": 16,
      "outputs": [
        {
          "output_type": "stream",
          "name": "stdout",
          "text": [
            "/content\n",
            "['.config', 'test_dir', 'sample_data']\n"
          ]
        }
      ]
    },
    {
      "cell_type": "code",
      "source": [
        "os.mkdir(\"test_dir\", mode=0o700) # o - octal"
      ],
      "metadata": {
        "id": "FjqqQk_ye245"
      },
      "id": "FjqqQk_ye245",
      "execution_count": 15,
      "outputs": []
    },
    {
      "cell_type": "markdown",
      "source": [
        "https://cratecode.com/info/octal-notation\n",
        "https://en.wikipedia.org/wiki/POSIX"
      ],
      "metadata": {
        "id": "Eik-hNuzjfRk"
      },
      "id": "Eik-hNuzjfRk"
    },
    {
      "cell_type": "code",
      "source": [
        "import os\n",
        "\n",
        "status = os.system('exit 42')\n",
        "print(status)\n",
        "# Получение реального кода возврата\n",
        "exit_code = os.WEXITSTATUS(status)\n",
        "\n",
        "print(f\"Код возврата: {exit_code}\")"
      ],
      "metadata": {
        "colab": {
          "base_uri": "https://localhost:8080/"
        },
        "id": "LQhcokbqh7zc",
        "outputId": "cc4d102a-7b9f-4525-9cf4-ee498f549826"
      },
      "id": "LQhcokbqh7zc",
      "execution_count": 18,
      "outputs": [
        {
          "output_type": "stream",
          "name": "stdout",
          "text": [
            "10752\n",
            "Код возврата: 42\n"
          ]
        }
      ]
    },
    {
      "cell_type": "markdown",
      "source": [
        "#  Модуль argparse"
      ],
      "metadata": {
        "id": "9EA-5FSEiytZ"
      },
      "id": "9EA-5FSEiytZ"
    },
    {
      "cell_type": "code",
      "source": [
        "# python my_script.py --one value_here\n",
        "import argparse\n",
        "\n",
        "parser = argparse.ArgumentParser()\n",
        "parser.add_argument('-1', '--one', help='option One')\n",
        "args = parser.parse_args(['-1', 'test_value'])  # Manually pass arguments here\n",
        "\n",
        "print(args.one)\n"
      ],
      "metadata": {
        "colab": {
          "base_uri": "https://localhost:8080/"
        },
        "id": "f8Cmf5z5iySq",
        "outputId": "8fab5102-a693-457f-cf7e-46aa89013e67"
      },
      "id": "f8Cmf5z5iySq",
      "execution_count": 19,
      "outputs": [
        {
          "output_type": "stream",
          "name": "stdout",
          "text": [
            "test_value\n"
          ]
        }
      ]
    },
    {
      "cell_type": "markdown",
      "id": "c1e196fa",
      "metadata": {
        "id": "c1e196fa"
      },
      "source": [
        "# Разные задачки"
      ]
    },
    {
      "cell_type": "markdown",
      "id": "587a77fb",
      "metadata": {
        "id": "587a77fb"
      },
      "source": [
        "Попрактикуемся по разным темам"
      ]
    },
    {
      "cell_type": "markdown",
      "id": "4a690322",
      "metadata": {
        "id": "4a690322"
      },
      "source": [
        "## Сумма цифр числа рекурсией"
      ]
    },
    {
      "cell_type": "markdown",
      "id": "0143408a",
      "metadata": {
        "id": "0143408a"
      },
      "source": [
        "Дано число произвольного размера. Посчитайте рекурсивно сумму его цифр"
      ]
    },
    {
      "cell_type": "code",
      "execution_count": null,
      "id": "625a2c5a",
      "metadata": {
        "ExecuteTime": {
          "end_time": "2022-09-30T08:23:14.228012Z",
          "start_time": "2022-09-30T08:23:14.222191Z"
        },
        "id": "625a2c5a"
      },
      "outputs": [],
      "source": [
        "value = 1233455610"
      ]
    },
    {
      "cell_type": "code",
      "execution_count": null,
      "id": "afb140b4",
      "metadata": {
        "ExecuteTime": {
          "end_time": "2022-09-30T08:24:47.531771Z",
          "start_time": "2022-09-30T08:24:47.527023Z"
        },
        "id": "afb140b4"
      },
      "outputs": [],
      "source": [
        "def sum_of_digit(value: int):\n",
        "    return 0 if not value else value % 10 + sum_of_digit(value // 10)"
      ]
    },
    {
      "cell_type": "code",
      "execution_count": null,
      "id": "62211990",
      "metadata": {
        "ExecuteTime": {
          "end_time": "2022-09-30T08:24:48.080009Z",
          "start_time": "2022-09-30T08:24:48.074518Z"
        },
        "id": "62211990",
        "outputId": "59fbce88-992f-4d10-bc11-5d883a0c9f5a"
      },
      "outputs": [
        {
          "data": {
            "text/plain": [
              "30"
            ]
          },
          "execution_count": 11,
          "metadata": {},
          "output_type": "execute_result"
        }
      ],
      "source": [
        "sum_of_digit(value)"
      ]
    },
    {
      "cell_type": "code",
      "execution_count": null,
      "id": "52b770fc",
      "metadata": {
        "ExecuteTime": {
          "end_time": "2022-09-30T08:24:48.625133Z",
          "start_time": "2022-09-30T08:24:48.619744Z"
        },
        "id": "52b770fc",
        "outputId": "131ba7b5-1697-4687-e077-64ec6ce0cd1f"
      },
      "outputs": [
        {
          "data": {
            "text/plain": [
              "30"
            ]
          },
          "execution_count": 12,
          "metadata": {},
          "output_type": "execute_result"
        }
      ],
      "source": [
        "sum_value = 0\n",
        "for elem in str(value):\n",
        "    sum_value += int(elem)\n",
        "\n",
        "sum_value"
      ]
    },
    {
      "cell_type": "markdown",
      "id": "8c7e2622",
      "metadata": {
        "id": "8c7e2622"
      },
      "source": [
        "## Run-Length Encoding"
      ]
    },
    {
      "cell_type": "markdown",
      "id": "4164f97e",
      "metadata": {
        "id": "4164f97e"
      },
      "source": [
        "RLE -- это один из алгоритмом сжатия последовательностей.\n",
        "\n",
        "Пусть у вас есть строка `aaaaaabbbcbbdddeea`, ее можно представить в виде `[(a, 6), (b, 3), (c, 1), (b, 2), (d, 3), (e, 2), (a, 1)]`"
      ]
    },
    {
      "cell_type": "code",
      "execution_count": 42,
      "id": "02dacea2",
      "metadata": {
        "ExecuteTime": {
          "end_time": "2022-09-30T08:51:13.446646Z",
          "start_time": "2022-09-30T08:51:13.440631Z"
        },
        "id": "02dacea2"
      },
      "outputs": [],
      "source": [
        "s = 'aaaaaabbbcbbdddeea'"
      ]
    },
    {
      "cell_type": "code",
      "source": [
        "# a6b3c1b2d3e2a1"
      ],
      "metadata": {
        "id": "JJ-mJAdw0Db3"
      },
      "id": "JJ-mJAdw0Db3",
      "execution_count": null,
      "outputs": []
    },
    {
      "cell_type": "code",
      "execution_count": null,
      "id": "44b9e31b",
      "metadata": {
        "ExecuteTime": {
          "end_time": "2022-09-30T08:33:17.392480Z",
          "start_time": "2022-09-30T08:33:17.387694Z"
        },
        "id": "44b9e31b",
        "outputId": "ccc1ef84-8884-4370-97d6-5f672010b02c"
      },
      "outputs": [
        {
          "data": {
            "text/plain": [
              "Counter({'a': 7, 'b': 5, 'c': 1, 'd': 3, 'e': 2})"
            ]
          },
          "execution_count": 17,
          "metadata": {},
          "output_type": "execute_result"
        }
      ],
      "source": [
        "# без сохранения порядка\n",
        "\n",
        "from collections import Counter\n",
        "Counter(s)"
      ]
    },
    {
      "cell_type": "markdown",
      "source": [
        "https://docs.python.org/3/library/collections.html"
      ],
      "metadata": {
        "id": "WgY7MTk30QO1"
      },
      "id": "WgY7MTk30QO1"
    },
    {
      "cell_type": "markdown",
      "id": "f55dcbdb",
      "metadata": {
        "id": "f55dcbdb"
      },
      "source": [
        "**Напишем обычную версию**"
      ]
    },
    {
      "cell_type": "code",
      "execution_count": 24,
      "id": "e5a093a7",
      "metadata": {
        "ExecuteTime": {
          "end_time": "2022-09-30T08:47:01.279752Z",
          "start_time": "2022-09-30T08:47:01.274077Z"
        },
        "id": "e5a093a7"
      },
      "outputs": [],
      "source": [
        "def do_rle(s: str) -> list[tuple]:\n",
        "\n",
        "    if not s:\n",
        "        return []\n",
        "\n",
        "    encoded_s = []\n",
        "\n",
        "    k = 0\n",
        "    for i in range(1, len(s)):\n",
        "\n",
        "        if s[i - 1] != s[i]:\n",
        "            encoded_s.append((s[i - 1], i - k))\n",
        "            k = i\n",
        "\n",
        "    encoded_s.append((s[k], len(s) - k))\n",
        "\n",
        "    return encoded_s"
      ]
    },
    {
      "cell_type": "code",
      "execution_count": 25,
      "id": "55686733",
      "metadata": {
        "ExecuteTime": {
          "end_time": "2022-09-30T08:47:01.941554Z",
          "start_time": "2022-09-30T08:47:01.935840Z"
        },
        "id": "55686733",
        "outputId": "c0732a81-2cf5-4715-a54b-a7a33fb13c12",
        "colab": {
          "base_uri": "https://localhost:8080/"
        }
      },
      "outputs": [
        {
          "output_type": "execute_result",
          "data": {
            "text/plain": [
              "[('a', 6), ('b', 3), ('c', 1), ('b', 2), ('d', 3), ('e', 2), ('a', 1)]"
            ]
          },
          "metadata": {},
          "execution_count": 25
        }
      ],
      "source": [
        "do_rle(s)"
      ]
    },
    {
      "cell_type": "markdown",
      "id": "dee7810a",
      "metadata": {
        "id": "dee7810a"
      },
      "source": [
        "**Рекурсивная версия**"
      ]
    },
    {
      "cell_type": "code",
      "execution_count": 46,
      "id": "fa3426b2",
      "metadata": {
        "ExecuteTime": {
          "end_time": "2022-09-30T08:50:49.952820Z",
          "start_time": "2022-09-30T08:50:49.947538Z"
        },
        "id": "fa3426b2"
      },
      "outputs": [],
      "source": [
        "def do_rle_recursive(s: str, i: int, encoded_s: list[tuple]) -> list[tuple]:\n",
        "\n",
        "    # your base case\n",
        "    if not s or i >= len(s):\n",
        "        return encoded_s\n",
        "\n",
        "    # your code\n",
        "    j = 1\n",
        "    while i + 1 < len(s) - 1 and s[i] == s[i + 1]:\n",
        "      i += 1\n",
        "      j += 1\n",
        "\n",
        "    encoded_s.append((s[i], j))\n",
        "\n",
        "    return do_rle_recursive(s, i + 1, encoded_s)\n",
        "\n",
        ""
      ]
    },
    {
      "cell_type": "code",
      "execution_count": 27,
      "id": "38555ab0",
      "metadata": {
        "ExecuteTime": {
          "end_time": "2022-09-30T08:51:19.214363Z",
          "start_time": "2022-09-30T08:51:19.209391Z"
        },
        "id": "38555ab0",
        "outputId": "2fd81fc4-7742-49e8-a967-cb9af2c384df",
        "colab": {
          "base_uri": "https://localhost:8080/"
        }
      },
      "outputs": [
        {
          "output_type": "execute_result",
          "data": {
            "text/plain": [
              "[('a', 6), ('b', 3), ('c', 1), ('b', 2), ('d', 3), ('e', 2), ('a', 1)]"
            ]
          },
          "metadata": {},
          "execution_count": 27
        }
      ],
      "source": [
        "do_rle_recursive(s, [])"
      ]
    },
    {
      "cell_type": "code",
      "source": [
        "do_rle_recursive(s, 0, [])"
      ],
      "metadata": {
        "colab": {
          "base_uri": "https://localhost:8080/"
        },
        "id": "9bZaFhVH2qqZ",
        "outputId": "c395adcc-7215-4005-b140-7de336748abf"
      },
      "id": "9bZaFhVH2qqZ",
      "execution_count": 45,
      "outputs": [
        {
          "output_type": "execute_result",
          "data": {
            "text/plain": [
              "[('a', 6), ('b', 3), ('c', 1), ('b', 2), ('d', 3), ('e', 2), ('a', 1)]"
            ]
          },
          "metadata": {},
          "execution_count": 45
        }
      ]
    },
    {
      "cell_type": "markdown",
      "id": "21b7fa32",
      "metadata": {
        "id": "21b7fa32"
      },
      "source": [
        "## Уникальные слова в тексте"
      ]
    },
    {
      "cell_type": "markdown",
      "id": "846726da",
      "metadata": {
        "id": "846726da"
      },
      "source": [
        "Вывести самые популярные слова в тексте и их количество\n",
        "\n",
        "https://en.wikipedia.org/wiki/Tf%E2%80%93idf"
      ]
    },
    {
      "cell_type": "markdown",
      "id": "79fa1840",
      "metadata": {
        "ExecuteTime": {
          "end_time": "2022-09-29T23:55:17.327610Z",
          "start_time": "2022-09-29T23:55:17.322371Z"
        },
        "id": "79fa1840"
      },
      "source": [
        "Если дан не текст, а список из слов через запятую, то как можно решить задачу? А как превратить текст в список из слов?"
      ]
    },
    {
      "cell_type": "code",
      "execution_count": null,
      "id": "8013c821",
      "metadata": {
        "ExecuteTime": {
          "end_time": "2022-09-30T08:53:16.416907Z",
          "start_time": "2022-09-30T08:53:16.411407Z"
        },
        "id": "8013c821",
        "outputId": "afd69b45-1c9f-4287-cef9-a835060f80cd"
      },
      "outputs": [
        {
          "data": {
            "text/plain": [
              "Counter({'word': 2, 'a': 2, 'b': 1})"
            ]
          },
          "execution_count": 28,
          "metadata": {},
          "output_type": "execute_result"
        }
      ],
      "source": [
        "splitted_text = ['word', 'word', 'a', 'a', 'b']\n",
        "\n",
        "Counter(splitted_text)"
      ]
    },
    {
      "cell_type": "code",
      "execution_count": 49,
      "id": "0d2bf870",
      "metadata": {
        "ExecuteTime": {
          "end_time": "2022-09-30T08:52:32.144904Z",
          "start_time": "2022-09-30T08:52:32.139719Z"
        },
        "id": "0d2bf870"
      },
      "outputs": [],
      "source": [
        "sample_text = \"The secret menu reveals a business model that goes beyond a right to repair issue, Sullivan argues. It represents, as he describes it, nothing short of a milkshake shakedown: Sell franchisees a complicated and fragile machine. Prevent them from figuring out why it constantly breaks. Take a cut of the distributors’ profit from the repairs. “It’s a huge money maker to have a customer that’s purposefully, intentionally blind and unable to make very fundamental changes to their own equipment,” Sullivan says. And McDonald’s presides over all of it, he says, insisting on loyalty to its longtime supplier. (Resist the McDonald’s monarchy on decisions like equipment, and the corporation can end a restaurant’s lease on the literal ground beneath it, which McDonald's owns under its franchise agreement.)\""
      ]
    },
    {
      "cell_type": "code",
      "execution_count": 48,
      "id": "0bf3e33e",
      "metadata": {
        "ExecuteTime": {
          "end_time": "2022-09-30T08:53:28.896225Z",
          "start_time": "2022-09-30T08:53:28.889688Z"
        },
        "id": "0bf3e33e"
      },
      "outputs": [],
      "source": [
        "import re\n",
        "from collections import Counter"
      ]
    },
    {
      "cell_type": "code",
      "execution_count": 50,
      "id": "32d34fcc",
      "metadata": {
        "ExecuteTime": {
          "end_time": "2022-09-30T08:54:35.664344Z",
          "start_time": "2022-09-30T08:54:35.656013Z"
        },
        "id": "32d34fcc",
        "outputId": "fbc56142-c5ea-4938-fd3e-b63333ea5015",
        "colab": {
          "base_uri": "https://localhost:8080/"
        }
      },
      "outputs": [
        {
          "output_type": "execute_result",
          "data": {
            "text/plain": [
              "Counter({'the': 6,\n",
              "         'secret': 1,\n",
              "         'menu': 1,\n",
              "         'reveals': 1,\n",
              "         'a': 8,\n",
              "         'business': 1,\n",
              "         'model': 1,\n",
              "         'that': 1,\n",
              "         'goes': 1,\n",
              "         'beyond': 1,\n",
              "         'right': 1,\n",
              "         'to': 5,\n",
              "         'repair': 1,\n",
              "         'issue': 1,\n",
              "         'sullivan': 2,\n",
              "         'argues': 1,\n",
              "         'it': 5,\n",
              "         'represents': 1,\n",
              "         'as': 1,\n",
              "         'he': 2,\n",
              "         'describes': 1,\n",
              "         'nothing': 1,\n",
              "         'short': 1,\n",
              "         'of': 3,\n",
              "         'milkshake': 1,\n",
              "         'shakedown': 1,\n",
              "         'sell': 1,\n",
              "         'franchisees': 1,\n",
              "         'complicated': 1,\n",
              "         'and': 4,\n",
              "         'fragile': 1,\n",
              "         'machine': 1,\n",
              "         'prevent': 1,\n",
              "         'them': 1,\n",
              "         'from': 2,\n",
              "         'figuring': 1,\n",
              "         'out': 1,\n",
              "         'why': 1,\n",
              "         'constantly': 1,\n",
              "         'breaks': 1,\n",
              "         'take': 1,\n",
              "         'cut': 1,\n",
              "         'distributors’': 1,\n",
              "         'profit': 1,\n",
              "         'repairs': 1,\n",
              "         '“it’s': 1,\n",
              "         'huge': 1,\n",
              "         'money': 1,\n",
              "         'maker': 1,\n",
              "         'have': 1,\n",
              "         'customer': 1,\n",
              "         'that’s': 1,\n",
              "         'purposefully': 1,\n",
              "         'intentionally': 1,\n",
              "         'blind': 1,\n",
              "         'unable': 1,\n",
              "         'make': 1,\n",
              "         'very': 1,\n",
              "         'fundamental': 1,\n",
              "         'changes': 1,\n",
              "         'their': 1,\n",
              "         'own': 1,\n",
              "         'equipment': 2,\n",
              "         'says': 2,\n",
              "         'mcdonald’s': 2,\n",
              "         'presides': 1,\n",
              "         'over': 1,\n",
              "         'all': 1,\n",
              "         'insisting': 1,\n",
              "         'on': 3,\n",
              "         'loyalty': 1,\n",
              "         'its': 2,\n",
              "         'longtime': 1,\n",
              "         'supplier': 1,\n",
              "         'resist': 1,\n",
              "         'monarchy': 1,\n",
              "         'decisions': 1,\n",
              "         'like': 1,\n",
              "         'corporation': 1,\n",
              "         'can': 1,\n",
              "         'end': 1,\n",
              "         'restaurant’s': 1,\n",
              "         'lease': 1,\n",
              "         'literal': 1,\n",
              "         'ground': 1,\n",
              "         'beneath': 1,\n",
              "         'which': 1,\n",
              "         \"mcdonald's\": 1,\n",
              "         'owns': 1,\n",
              "         'under': 1,\n",
              "         'franchise': 1,\n",
              "         'agreement': 1,\n",
              "         '': 1})"
            ]
          },
          "metadata": {},
          "execution_count": 50
        }
      ],
      "source": [
        "word_counts = Counter(re.split('[,.()”:\\s]+', sample_text.lower().strip()))\n",
        "word_counts"
      ]
    },
    {
      "cell_type": "code",
      "execution_count": null,
      "id": "716728d4",
      "metadata": {
        "ExecuteTime": {
          "end_time": "2022-09-30T08:55:56.123822Z",
          "start_time": "2022-09-30T08:55:56.117816Z"
        },
        "id": "716728d4",
        "outputId": "d3d724dd-b101-4932-a7b7-bd34eb0c4376"
      },
      "outputs": [
        {
          "data": {
            "text/plain": [
              "[('a', 8),\n",
              " ('the', 6),\n",
              " ('to', 5),\n",
              " ('it', 5),\n",
              " ('and', 4),\n",
              " ('of', 3),\n",
              " ('on', 3),\n",
              " ('sullivan', 2),\n",
              " ('he', 2),\n",
              " ('from', 2)]"
            ]
          },
          "execution_count": 36,
          "metadata": {},
          "output_type": "execute_result"
        }
      ],
      "source": [
        "word_counts.most_common(10)"
      ]
    },
    {
      "cell_type": "markdown",
      "id": "7b2efcad",
      "metadata": {
        "id": "7b2efcad"
      },
      "source": [
        "## Общие элементы двух списков (однострочник)"
      ]
    },
    {
      "cell_type": "markdown",
      "id": "968f0085",
      "metadata": {
        "id": "968f0085"
      },
      "source": [
        "Даны списки a и b. Вывести общие элементы в них"
      ]
    },
    {
      "cell_type": "code",
      "execution_count": 52,
      "id": "b0811123",
      "metadata": {
        "ExecuteTime": {
          "end_time": "2022-09-30T08:58:46.281098Z",
          "start_time": "2022-09-30T08:58:46.274985Z"
        },
        "id": "b0811123",
        "outputId": "22c7a85e-e687-400e-baf4-d352247084ea",
        "colab": {
          "base_uri": "https://localhost:8080/"
        }
      },
      "outputs": [
        {
          "output_type": "execute_result",
          "data": {
            "text/plain": [
              "({4, 7}, {4, 7})"
            ]
          },
          "metadata": {},
          "execution_count": 52
        }
      ],
      "source": [
        "a = set([1, 2, 3, 4, 7, 8, 9, 7, 7])\n",
        "b = set([5, 4, 6, 7, 10, 11, 12, 7, 7])\n",
        "\n",
        "# your code\n",
        "(a.intersection(b), a & b)"
      ]
    },
    {
      "cell_type": "code",
      "execution_count": 53,
      "id": "f1f962be",
      "metadata": {
        "ExecuteTime": {
          "end_time": "2022-09-30T09:03:23.258816Z",
          "start_time": "2022-09-30T09:03:23.253308Z"
        },
        "id": "f1f962be",
        "outputId": "a1fa0887-394c-47f1-f5ec-294a09e4c7ef",
        "colab": {
          "base_uri": "https://localhost:8080/"
        }
      },
      "outputs": [
        {
          "output_type": "execute_result",
          "data": {
            "text/plain": [
              "Counter({4: 1, 7: 1})"
            ]
          },
          "metadata": {},
          "execution_count": 53
        }
      ],
      "source": [
        "Counter(a) & Counter(b)"
      ]
    },
    {
      "cell_type": "markdown",
      "id": "0f672edc",
      "metadata": {
        "id": "0f672edc"
      },
      "source": [
        "## Номер появления слова"
      ]
    },
    {
      "cell_type": "markdown",
      "id": "60ee65b6",
      "metadata": {
        "id": "60ee65b6"
      },
      "source": [
        "Дан список из слов. Получить список с их номерами по порядку их появления.\n",
        "\n",
        "```\n",
        "word_list = ['two', 'one', 'three', 'three', 'two', 'three']\n",
        "fun(word_list) -> [1, 1, 1, 2, 2, 3]\n",
        "```"
      ]
    },
    {
      "cell_type": "code",
      "execution_count": null,
      "id": "4ce4f3e6",
      "metadata": {
        "ExecuteTime": {
          "end_time": "2022-09-30T09:11:23.672691Z",
          "start_time": "2022-09-30T09:11:23.666150Z"
        },
        "id": "4ce4f3e6"
      },
      "outputs": [],
      "source": [
        "word_list = ['two', 'one', 'three', 'three', 'two', 'three']"
      ]
    },
    {
      "cell_type": "code",
      "execution_count": null,
      "id": "d7321b7f",
      "metadata": {
        "ExecuteTime": {
          "end_time": "2022-09-30T09:11:24.371393Z",
          "start_time": "2022-09-30T09:11:24.365034Z"
        },
        "id": "d7321b7f",
        "outputId": "41693051-c933-4416-b693-12f514d2e485"
      },
      "outputs": [
        {
          "data": {
            "text/plain": [
              "[1, 1, 1, 2, 2, 3]"
            ]
          },
          "execution_count": 51,
          "metadata": {},
          "output_type": "execute_result"
        }
      ],
      "source": [
        "from collections import defaultdict\n",
        "\n",
        "counts = defaultdict(int)\n",
        "ans = []\n",
        "\n",
        "for elem in word_list:\n",
        "    counts[elem] += 1\n",
        "    ans.append(counts[elem])\n",
        "\n",
        "ans"
      ]
    },
    {
      "cell_type": "markdown",
      "source": [
        "# Huffman code"
      ],
      "metadata": {
        "id": "ofBhDjhyNZvl"
      },
      "id": "ofBhDjhyNZvl"
    },
    {
      "cell_type": "code",
      "source": [
        "import heapq\n",
        "from collections import Counter\n",
        "\n",
        "# Класс для представления узлов дерева Хаффмана\n",
        "class HuffmanNode:\n",
        "    def __init__(self, char=None, freq=0, left=None, right=None):\n",
        "        # Символ (если узел лист)\n",
        "        self.char = char\n",
        "        # Частота символа\n",
        "        self.freq = freq\n",
        "        # Левый и правый потомки (для внутреннего узла)\n",
        "        self.left = left\n",
        "        self.right = right\n",
        "\n",
        "    # Определяем как сравнивать узлы (нужно для приоритетной очереди)\n",
        "    def __lt__(self, other):\n",
        "        return self.freq < other.freq\n",
        "\n",
        "# Функция для построения дерева Хаффмана\n",
        "def build_huffman_tree(frequencies):\n",
        "    # Создаем очередь с приоритетами (min-heap) из всех символов с их частотами\n",
        "    heap = [HuffmanNode(char, freq) for char, freq in frequencies.items()]\n",
        "    heapq.heapify(heap)\n",
        "\n",
        "    print(\"Initial heap (leaf nodes):\")\n",
        "    for node in heap:\n",
        "        print(f\"Symbol: {node.char}, Frequency: {node.freq}\")\n",
        "    print()\n",
        "\n",
        "    # Строим дерево Хаффмана\n",
        "    step = 1\n",
        "    while len(heap) > 1:\n",
        "        # Извлекаем два узла с наименьшей частотой\n",
        "        left = heapq.heappop(heap)\n",
        "        right = heapq.heappop(heap)\n",
        "\n",
        "        # Создаем новый узел, который объединяет два наименьших узла\n",
        "        merged = HuffmanNode(None, left.freq + right.freq, left, right)\n",
        "\n",
        "        # Помещаем объединенный узел обратно в очередь\n",
        "        heapq.heappush(heap, merged)\n",
        "\n",
        "        # Выводим информацию о текущем шаге построения дерева\n",
        "        print(f\"Step {step}: Merging nodes:\")\n",
        "        if left.char is not None:\n",
        "            print(f\"  Left: Symbol: {left.char}, Frequency: {left.freq}\")\n",
        "        else:\n",
        "            print(f\"  Left: Internal node, Frequency: {left.freq}\")\n",
        "\n",
        "        if right.char is not None:\n",
        "            print(f\"  Right: Symbol: {right.char}, Frequency: {right.freq}\")\n",
        "        else:\n",
        "            print(f\"  Right: Internal node, Frequency: {right.freq}\")\n",
        "\n",
        "        print(f\"  Merged node frequency: {merged.freq}\")\n",
        "        print()\n",
        "        step += 1\n",
        "\n",
        "    # Возвращаем корень дерева\n",
        "    return heap[0]\n",
        "\n",
        "# Рекурсивная функция для создания кодов Хаффмана\n",
        "def build_huffman_codes(node, binary_code=\"\", code_dict={}):\n",
        "    if node is None:\n",
        "        return\n",
        "\n",
        "    # Если мы находимся в листе (символ), добавляем его код в словарь\n",
        "    if node.char is not None:\n",
        "        code_dict[node.char] = binary_code\n",
        "\n",
        "    # Рекурсивно идем по левому и правому поддереву\n",
        "    build_huffman_codes(node.left, binary_code + \"0\", code_dict)\n",
        "    build_huffman_codes(node.right, binary_code + \"1\", code_dict)\n",
        "\n",
        "    return code_dict\n",
        "\n",
        "# Функция для сжатия данных\n",
        "def compress(data, huffman_codes):\n",
        "    # Заменяем каждый символ в строке на его код\n",
        "    return ''.join(huffman_codes[char] for char in data)\n",
        "\n",
        "# Функция для декодирования сжатых данных\n",
        "def decompress(encoded_data, huffman_tree):\n",
        "    decoded_data = []\n",
        "    node = huffman_tree\n",
        "\n",
        "    # Проходим по каждому биту в сжатой строке\n",
        "    for bit in encoded_data:\n",
        "        # Спускаемся по дереву влево или вправо в зависимости от значения бита\n",
        "        if bit == '0':\n",
        "            node = node.left\n",
        "        else:\n",
        "            node = node.right\n",
        "\n",
        "        # Если достигли листа (символ), добавляем его к результату\n",
        "        if node.left is None and node.right is None:\n",
        "            decoded_data.append(node.char)\n",
        "            node = huffman_tree  # Возвращаемся к корню дерева для следующего символа\n",
        "\n",
        "    return ''.join(decoded_data)\n",
        "\n",
        "# Пример использования\n",
        "data = \"AAABBBCCDAA\"\n",
        "\n",
        "# Шаг 1: Подсчет частот символов\n",
        "frequencies = Counter(data)\n",
        "print(\"Frequencies:\", frequencies)\n",
        "print()\n",
        "\n",
        "# Шаг 2: Построение дерева Хаффмана с дебаг логами\n",
        "huffman_tree = build_huffman_tree(frequencies)\n",
        "\n",
        "# Шаг 3: Создание словаря кодов Хаффмана\n",
        "huffman_codes = build_huffman_codes(huffman_tree)\n",
        "print(\"Huffman Codes:\", huffman_codes)\n",
        "print()\n",
        "\n",
        "# Шаг 4: Сжатие\n",
        "compressed_data = compress(data, huffman_codes)\n",
        "print(\"Compressed Data:\", compressed_data)\n",
        "\n",
        "# Шаг 5: Декодирование\n",
        "decompressed_data = decompress(compressed_data, huffman_tree)\n",
        "print(\"Decompressed Data:\", decompressed_data)\n",
        "\n",
        "# Вычисление занимаемых байтов\n",
        "def calculate_size(frequencies, huffman_codes):\n",
        "    original_size_bits = 0\n",
        "    compressed_size_bits = 0\n",
        "\n",
        "    # Подсчет исходного размера (8 бит на символ)\n",
        "    for char, freq in frequencies.items():\n",
        "        original_size_bits += freq * 8  # Каждый символ занимает 8 бит (1 байт)\n",
        "\n",
        "    # Подсчет сжатого размера (в зависимости от длины кодов)\n",
        "    for char, freq in frequencies.items():\n",
        "        compressed_size_bits += freq * len(huffman_codes[char])  # Символ занимает количество бит по коду Хаффмана\n",
        "\n",
        "    return original_size_bits, compressed_size_bits\n",
        "\n",
        "# Вычисляем исходный и сжатый размер данных\n",
        "original_size_bits, compressed_size_bits = calculate_size(frequencies, huffman_codes)\n",
        "print(f\"Original Size: {original_size_bits // 8} bytes ({original_size_bits} bits)\")\n",
        "print(f\"Compressed Size: {compressed_size_bits // 8} bytes ({compressed_size_bits} bits)\")\n",
        "\n",
        "# Выводим бинарные значения кодов для символов\n",
        "print(\"Binary values for characters:\")\n",
        "for char, code in huffman_codes.items():\n",
        "    print(f\"Character '{char}': Code {code} (Length: {len(code)} bits)\")\n"
      ],
      "metadata": {
        "colab": {
          "base_uri": "https://localhost:8080/"
        },
        "id": "mRT48b8NTRKe",
        "outputId": "23f43767-e6e9-4096-bf05-2e62f596ed3b"
      },
      "id": "mRT48b8NTRKe",
      "execution_count": null,
      "outputs": [
        {
          "output_type": "stream",
          "name": "stdout",
          "text": [
            "Frequencies: Counter({'A': 5, 'B': 3, 'C': 2, 'D': 1})\n",
            "\n",
            "Initial heap (leaf nodes):\n",
            "Symbol: D, Frequency: 1\n",
            "Symbol: B, Frequency: 3\n",
            "Symbol: C, Frequency: 2\n",
            "Symbol: A, Frequency: 5\n",
            "\n",
            "Step 1: Merging nodes:\n",
            "  Left: Symbol: D, Frequency: 1\n",
            "  Right: Symbol: C, Frequency: 2\n",
            "  Merged node frequency: 3\n",
            "\n",
            "Step 2: Merging nodes:\n",
            "  Left: Symbol: B, Frequency: 3\n",
            "  Right: Internal node, Frequency: 3\n",
            "  Merged node frequency: 6\n",
            "\n",
            "Step 3: Merging nodes:\n",
            "  Left: Symbol: A, Frequency: 5\n",
            "  Right: Internal node, Frequency: 6\n",
            "  Merged node frequency: 11\n",
            "\n",
            "Huffman Codes: {'A': '0', 'B': '10', 'D': '110', 'C': '111'}\n",
            "\n",
            "Compressed Data: 00010101011111111000\n",
            "Decompressed Data: AAABBBCCDAA\n",
            "Original Size: 11 bytes (88 bits)\n",
            "Compressed Size: 2 bytes (20 bits)\n",
            "Binary values for characters:\n",
            "Character 'A': Code 0 (Length: 1 bits)\n",
            "Character 'B': Code 10 (Length: 2 bits)\n",
            "Character 'D': Code 110 (Length: 3 bits)\n",
            "Character 'C': Code 111 (Length: 3 bits)\n"
          ]
        }
      ]
    },
    {
      "cell_type": "markdown",
      "source": [
        "https://en.wikipedia.org/wiki/Huffman_coding"
      ],
      "metadata": {
        "id": "IVjsKMko89EZ"
      },
      "id": "IVjsKMko89EZ"
    },
    {
      "cell_type": "markdown",
      "id": "9e618cf4",
      "metadata": {
        "id": "9e618cf4"
      },
      "source": [
        "## Непрерывный массив суммой N"
      ]
    },
    {
      "cell_type": "markdown",
      "id": "be6c1d76",
      "metadata": {
        "id": "be6c1d76"
      },
      "source": [
        "Дано: некоторый массив целых чисел и число N\n",
        "\n",
        "Задача: Найти непрерывный подмассив, сумма элементов которого равна N. И вывести длину подмассива. Если таких несколько, то вывести максимальную длину. Если не существует, то вывести 0\n",
        "\n",
        "```\n",
        "Пример:\n",
        "\n",
        "1.\n",
        "Дано: [1, 2, 3, 4, -1, 2, -1, 4, 0], N = 4\n",
        "Подмассивы с суммой 4: [4], [4, -1, 2, -1], [-1, 2, -1, 4, 0]\n",
        "Ответ: 5\n",
        "\n",
        "2.\n",
        "Дано: [1, 2, 3], N = 10\n",
        "Ответ: 0\n",
        "```"
      ]
    },
    {
      "cell_type": "markdown",
      "id": "bc1198a3",
      "metadata": {
        "id": "bc1198a3"
      },
      "source": [
        "**Квадратичное решение**"
      ]
    },
    {
      "cell_type": "markdown",
      "source": [
        "arr = [1, 2, 3, 5] <br>\n",
        "напоминание как работает accumulate <br>\n",
        "refix_sums = [1, 1+2=3, 1+2+3=6, 1+2+3+5=11]"
      ],
      "metadata": {
        "id": "vvK_Z9X7zdat"
      },
      "id": "vvK_Z9X7zdat"
    },
    {
      "cell_type": "code",
      "execution_count": 56,
      "id": "3dc607ec",
      "metadata": {
        "ExecuteTime": {
          "end_time": "2022-09-30T09:22:30.887469Z",
          "start_time": "2022-09-30T09:22:30.882074Z"
        },
        "id": "3dc607ec"
      },
      "outputs": [],
      "source": [
        "from itertools import accumulate\n",
        "\n",
        "def find_n_subarray_quadratic(arr: list, n: int) -> int:\n",
        "\n",
        "    prefix_sums = list(accumulate(arr))\n",
        "    max_subarr_len = 0\n",
        "\n",
        "    for i, acc in enumerate(prefix_sums):\n",
        "        for j in range(i + 1, len(prefix_sums)):\n",
        "            if prefix_sums[j - 1] - acc == n:\n",
        "                max_subarr_len = max(max_subarr_len, j - i)\n",
        "\n",
        "\n",
        "    return max_subarr_len"
      ]
    },
    {
      "cell_type": "code",
      "execution_count": 57,
      "id": "c7cf201b",
      "metadata": {
        "ExecuteTime": {
          "end_time": "2022-09-30T09:22:55.068179Z",
          "start_time": "2022-09-30T09:22:55.063025Z"
        },
        "id": "c7cf201b",
        "outputId": "7cc470ec-76e9-4652-82b9-5b91c8fe2ead",
        "colab": {
          "base_uri": "https://localhost:8080/"
        }
      },
      "outputs": [
        {
          "output_type": "execute_result",
          "data": {
            "text/plain": [
              "4"
            ]
          },
          "metadata": {},
          "execution_count": 57
        }
      ],
      "source": [
        "arr = [1, 2, 3, 4, -1, 2, -1, 4, 0]\n",
        "\n",
        "find_n_subarray_quadratic(arr, 0)"
      ]
    },
    {
      "cell_type": "code",
      "execution_count": 58,
      "id": "91209a11",
      "metadata": {
        "ExecuteTime": {
          "end_time": "2022-09-30T09:34:37.126560Z",
          "start_time": "2022-09-30T09:34:37.121357Z"
        },
        "id": "91209a11",
        "outputId": "0b8b63f7-3573-4376-f6ac-be57f302e4cb",
        "colab": {
          "base_uri": "https://localhost:8080/"
        }
      },
      "outputs": [
        {
          "output_type": "execute_result",
          "data": {
            "text/plain": [
              "[1, 3, 6, 10, 9, 11, 10, 14, 14]"
            ]
          },
          "metadata": {},
          "execution_count": 58
        }
      ],
      "source": [
        "list(accumulate(arr))"
      ]
    },
    {
      "cell_type": "markdown",
      "id": "b0223585",
      "metadata": {
        "id": "b0223585"
      },
      "source": [
        "**Делаем быстрее**"
      ]
    },
    {
      "cell_type": "code",
      "execution_count": null,
      "id": "c0b61133",
      "metadata": {
        "ExecuteTime": {
          "end_time": "2022-09-30T10:01:57.564417Z",
          "start_time": "2022-09-30T10:01:57.558349Z"
        },
        "id": "c0b61133"
      },
      "outputs": [],
      "source": [
        "# O(N) вычислительное, О(N) по памями\n",
        "def find_n_subarray(arr: list, n: int) -> int:\n",
        "\n",
        "    cumsums = {}\n",
        "    prefix_sums = list(accumulate(arr))\n",
        "    max_subarr_len = 0\n",
        "\n",
        "    print('cumulative sums', prefix_sums)\n",
        "\n",
        "    for i, acc in enumerate(prefix_sums):\n",
        "\n",
        "        if acc not in cumsums:\n",
        "            cumsums[acc] = i\n",
        "\n",
        "        print(f'index {i}| cumsum {acc}, {cumsums}')\n",
        "\n",
        "        if acc - n in cumsums:\n",
        "            complement_cumsum_index = cumsums[acc - n]\n",
        "\n",
        "            print(f'found cumsum acc - n = {acc} - {n} = {acc - n} with leftmost index {complement_cumsum_index}')\n",
        "\n",
        "            max_subarr_len = max(max_subarr_len, i - complement_cumsum_index)\n",
        "\n",
        "    return max_subarr_len"
      ]
    },
    {
      "cell_type": "code",
      "execution_count": null,
      "id": "c606ca0c",
      "metadata": {
        "ExecuteTime": {
          "end_time": "2022-09-30T10:01:57.998809Z",
          "start_time": "2022-09-30T10:01:57.987855Z"
        },
        "id": "c606ca0c",
        "outputId": "f8dc9fd1-06b4-4ace-d93c-f3960dbf76f4"
      },
      "outputs": [
        {
          "name": "stdout",
          "output_type": "stream",
          "text": [
            "cumulative sums [1, 3, 6, 10, 9, 11, 10, 14, 14]\n",
            "index 0| cumsum 1, {1: 0}\n",
            "index 1| cumsum 3, {1: 0, 3: 1}\n",
            "index 2| cumsum 6, {1: 0, 3: 1, 6: 2}\n",
            "index 3| cumsum 10, {1: 0, 3: 1, 6: 2, 10: 3}\n",
            "found cumsum acc - n = 10 - 4 = 6 with leftmost index 2\n",
            "index 4| cumsum 9, {1: 0, 3: 1, 6: 2, 10: 3, 9: 4}\n",
            "index 5| cumsum 11, {1: 0, 3: 1, 6: 2, 10: 3, 9: 4, 11: 5}\n",
            "index 6| cumsum 10, {1: 0, 3: 1, 6: 2, 10: 3, 9: 4, 11: 5}\n",
            "found cumsum acc - n = 10 - 4 = 6 with leftmost index 2\n",
            "index 7| cumsum 14, {1: 0, 3: 1, 6: 2, 10: 3, 9: 4, 11: 5, 14: 7}\n",
            "found cumsum acc - n = 14 - 4 = 10 with leftmost index 3\n",
            "index 8| cumsum 14, {1: 0, 3: 1, 6: 2, 10: 3, 9: 4, 11: 5, 14: 7}\n",
            "found cumsum acc - n = 14 - 4 = 10 with leftmost index 3\n"
          ]
        },
        {
          "data": {
            "text/plain": [
              "5"
            ]
          },
          "execution_count": 85,
          "metadata": {},
          "output_type": "execute_result"
        }
      ],
      "source": [
        "find_n_subarray(arr, 4)"
      ]
    },
    {
      "cell_type": "markdown",
      "id": "2722dd48",
      "metadata": {
        "id": "2722dd48"
      },
      "source": [
        "Идея решения задачи похожа на 2-sum из прошлого семинара. По аналогии с квадратичным решением, мы хотим найти такую \"дополняющую\" префиксную сумму, разница с которой будет составлять N. Если такая сумма есть, значит массив между этими двумя префиксными суммами и есть наш ответ.\n",
        "\n",
        "В квадратичном решении мы искали дополняющие суммы с помощью цикла, что медленно. Здесь мы пользуемся свойством словаря как хеш-таблицы, которое позволяет проверить наличие элемента за O(1). Для этого храним самый левый индекс для каждой из префиксных сумм (потому что хотим найти именно самый длинный подмассив суммой N) в словаре cumsums.\n",
        "\n",
        "На каждой итерации цикла (имеет текущую префиксную сумму acc) проверяем, видели ли мы уже подходящий комплемент (префиксную сумму со значением acc - N) или нет. Эта проверка делается за O(1) по аналогии с парным числов в задаче 2-sum. Если сумму нашли, то разница между текущим индексом и индексом найденной кумулятивной суммы размера acc - N и есть наш ответ"
      ]
    },
    {
      "cell_type": "markdown",
      "id": "46871cf4",
      "metadata": {
        "id": "46871cf4"
      },
      "source": [
        "**Еще одно решение**"
      ]
    },
    {
      "cell_type": "markdown",
      "id": "576e0f41",
      "metadata": {
        "id": "576e0f41"
      },
      "source": [
        "Решение аналогично решению выше, только без использования accumulate"
      ]
    },
    {
      "cell_type": "code",
      "execution_count": null,
      "id": "d6138656",
      "metadata": {
        "id": "d6138656"
      },
      "outputs": [],
      "source": [
        "def find_n_subarray(arr: list, n: int) -> int:\n",
        "    cumsums = {}\n",
        "\n",
        "    acc = 0\n",
        "    max_subarr_len = 0\n",
        "\n",
        "    for index, elem in enumerate(arr):\n",
        "        acc += elem\n",
        "        if acc not in cumsums:\n",
        "            cumsums[acc] = index + 1  # sum(arr[:index + 1]) == acc\n",
        "\n",
        "        if elem == n and not max_subarr_len:\n",
        "            max_subarr_len = 1\n",
        "\n",
        "        if acc - n in cumsums:\n",
        "            max_subarr_len = max(max_subarr_len, index - cumsums[acc - n] + 1)\n",
        "\n",
        "    return max_subarr_len"
      ]
    }
  ],
  "metadata": {
    "kernelspec": {
      "display_name": "Python 3 (ipykernel)",
      "language": "python",
      "name": "python3"
    },
    "language_info": {
      "codemirror_mode": {
        "name": "ipython",
        "version": 3
      },
      "file_extension": ".py",
      "mimetype": "text/x-python",
      "name": "python",
      "nbconvert_exporter": "python",
      "pygments_lexer": "ipython3",
      "version": "3.9.12"
    },
    "toc": {
      "base_numbering": 1,
      "nav_menu": {},
      "number_sections": true,
      "sideBar": true,
      "skip_h1_title": false,
      "title_cell": "Table of Contents",
      "title_sidebar": "Contents",
      "toc_cell": false,
      "toc_position": {},
      "toc_section_display": true,
      "toc_window_display": false
    },
    "varInspector": {
      "cols": {
        "lenName": 16,
        "lenType": 16,
        "lenVar": 40
      },
      "kernels_config": {
        "python": {
          "delete_cmd_postfix": "",
          "delete_cmd_prefix": "del ",
          "library": "var_list.py",
          "varRefreshCmd": "print(var_dic_list())"
        },
        "r": {
          "delete_cmd_postfix": ") ",
          "delete_cmd_prefix": "rm(",
          "library": "var_list.r",
          "varRefreshCmd": "cat(var_dic_list()) "
        }
      },
      "types_to_exclude": [
        "module",
        "function",
        "builtin_function_or_method",
        "instance",
        "_Feature"
      ],
      "window_display": false
    },
    "colab": {
      "provenance": []
    }
  },
  "nbformat": 4,
  "nbformat_minor": 5
}