{
  "cells": [
    {
      "cell_type": "markdown",
      "id": "399b899b",
      "metadata": {
        "id": "399b899b"
      },
      "source": [
        "# Тестирование"
      ]
    },
    {
      "cell_type": "markdown",
      "id": "7b7b2f8c",
      "metadata": {
        "id": "7b7b2f8c"
      },
      "source": [
        "[Levels of testing](https://softwaretestingfundamentals.com/software-testing-levels/):\n",
        "\n",
        "- Unit Testing: \tA level of the software testing process where individual units of a software are tested. The purpose is to validate that each unit of the software performs as designed.\n",
        "\n",
        "- Integration Testing: \tA level of the software testing process where individual units are combined and tested as a group. The purpose of this level of testing is to expose faults in the interaction between integrated units.\n",
        "\n",
        "- System Testing: \tA level of the software testing process where a complete, integrated system is tested. The purpose of this test is to evaluate the system’s compliance with the specified requirements.\n",
        "\n",
        "- Acceptance Testing: \tA level of the software testing process where a system is tested for acceptability. The purpose of this test is to evaluate the system’s compliance with the business requirements and assess whether it is acceptable for delivery."
      ]
    },
    {
      "cell_type": "markdown",
      "id": "56580b12",
      "metadata": {
        "id": "56580b12"
      },
      "source": [
        "Сегодня мы концентрируемся на первом уровне -- юнит тестах. И конкретно на стандартной имплементации с помощью модуля [unittest](https://docs.python.org/3/library/unittest.html)"
      ]
    },
    {
      "cell_type": "markdown",
      "source": [
        "The unittest unit testing framework was originally inspired by JUnit and has a similar flavor as major unit testing frameworks in other languages. It supports test automation, sharing of setup and shutdown code for tests, aggregation of tests into collections, and independence of the tests from the reporting framework.\n",
        "\n",
        "To achieve this, unittest supports some important concepts in an object-oriented way:\n",
        "\n",
        "* **test fixture**\n",
        "A test fixture represents the preparation needed to perform one or more tests, and any associated cleanup actions. This may involve, for example, creating temporary or proxy databases, directories, or starting a server process.\n",
        "\n",
        "* **test case**\n",
        "A test case is the individual unit of testing. It checks for a specific response to a particular set of inputs. unittest provides a base class, TestCase, which may be used to create new test cases.\n",
        "\n",
        "* **test suite**\n",
        "A test suite is a collection of test cases, test suites, or both. It is used to aggregate tests that should be executed together.\n",
        "\n",
        "* **test runner**\n",
        "A test runner is a component which orchestrates the execution of tests and provides the outcome to the user. The runner may use a graphical interface, a textual interface, or return a special value to indicate the results of executing the tests."
      ],
      "metadata": {
        "id": "8kjuwYPBxgOQ"
      },
      "id": "8kjuwYPBxgOQ"
    },
    {
      "cell_type": "markdown",
      "id": "cf9277ee",
      "metadata": {
        "id": "cf9277ee"
      },
      "source": [
        "## Doctest"
      ]
    },
    {
      "cell_type": "code",
      "execution_count": 53,
      "id": "02bb7448",
      "metadata": {
        "ExecuteTime": {
          "end_time": "2022-10-14T08:26:33.787349Z",
          "start_time": "2022-10-14T08:26:33.781789Z"
        },
        "colab": {
          "base_uri": "https://localhost:8080/"
        },
        "id": "02bb7448",
        "outputId": "d5b1655c-789f-4323-b3cf-9f01c1585620"
      },
      "outputs": [
        {
          "output_type": "stream",
          "name": "stdout",
          "text": [
            "Overwriting gaf.py\n"
          ]
        }
      ],
      "source": [
        "%%writefile gaf.py\n",
        "\n",
        "def gaf(length=1, end=''):\n",
        "    '''\n",
        "    Гавкнуть длиной length с end в конце\n",
        "    Параметры необязательные\n",
        "\n",
        "    >>> gaf()\n",
        "    'Gaf'\n",
        "\n",
        "    >>> gaf(3)\n",
        "    'Gaaaf'\n",
        "\n",
        "    >>> gaf(4, '!')\n",
        "    'Gaaaaf!'\n",
        "\n",
        "    '''\n",
        "\n",
        "\n",
        "    return 'G' + 'a' * length + 'f' + end"
      ]
    },
    {
      "cell_type": "code",
      "execution_count": 56,
      "id": "9fe0a74e",
      "metadata": {
        "ExecuteTime": {
          "end_time": "2022-10-14T08:26:36.282490Z",
          "start_time": "2022-10-14T08:26:36.136319Z"
        },
        "colab": {
          "base_uri": "https://localhost:8080/"
        },
        "id": "9fe0a74e",
        "outputId": "88ada508-ec8e-4472-91dd-cad60285673e"
      },
      "outputs": [
        {
          "output_type": "stream",
          "name": "stdout",
          "text": [
            "Trying:\n",
            "    gaf()\n",
            "Expecting:\n",
            "    'Gaf'\n",
            "ok\n",
            "Trying:\n",
            "    gaf(3)\n",
            "Expecting:\n",
            "    'Gaaaf'\n",
            "ok\n",
            "Trying:\n",
            "    gaf(4, '!')\n",
            "Expecting:\n",
            "    'Gaaaaf!'\n",
            "ok\n",
            "1 items had no tests:\n",
            "    gaf\n",
            "1 items passed all tests:\n",
            "   3 tests in gaf.gaf\n",
            "3 tests in 2 items.\n",
            "3 passed and 0 failed.\n",
            "Test passed.\n"
          ]
        }
      ],
      "source": [
        "!python3 -m doctest -v gaf.py"
      ]
    },
    {
      "cell_type": "markdown",
      "source": [
        "К стати, -m загружает пакет.\n",
        "https://sentry.io/answers/what-is-init-py-for-in-python/# - тут немного деталей по нотации файлов в пакете. Есть похожая на дексприторы нотация `__init__.py.`\n",
        "\n"
      ],
      "metadata": {
        "id": "PDdmnXwTeta4"
      },
      "id": "PDdmnXwTeta4"
    },
    {
      "cell_type": "markdown",
      "id": "649c0096",
      "metadata": {
        "id": "649c0096"
      },
      "source": [
        "## Unittest"
      ]
    },
    {
      "cell_type": "markdown",
      "id": "f648116f",
      "metadata": {
        "id": "f648116f"
      },
      "source": [
        "### Тестируем отдельные функции"
      ]
    },
    {
      "cell_type": "code",
      "execution_count": 59,
      "id": "4110d7a2",
      "metadata": {
        "ExecuteTime": {
          "end_time": "2022-10-14T08:55:34.439253Z",
          "start_time": "2022-10-14T08:55:34.433600Z"
        },
        "colab": {
          "base_uri": "https://localhost:8080/"
        },
        "id": "4110d7a2",
        "outputId": "07990751-feda-4c0c-998a-a99ce9ed3fcb"
      },
      "outputs": [
        {
          "output_type": "stream",
          "name": "stdout",
          "text": [
            "Writing calculations.py\n"
          ]
        }
      ],
      "source": [
        "%%writefile calculations.py\n",
        "\n",
        "def add(x: float, y: float) -> float:\n",
        "    return x + y\n",
        "\n",
        "def divide(x: float, y: float) -> float:\n",
        "\n",
        "    try:\n",
        "        res = x / y\n",
        "\n",
        "    except ZeroDivisionError as e:\n",
        "        raise ValueError(e)\n",
        "        res = 0\n",
        "\n",
        "    return res"
      ]
    },
    {
      "cell_type": "code",
      "execution_count": 62,
      "id": "4c094b0a",
      "metadata": {
        "ExecuteTime": {
          "end_time": "2022-10-14T08:56:40.489783Z",
          "start_time": "2022-10-14T08:56:40.484307Z"
        },
        "colab": {
          "base_uri": "https://localhost:8080/"
        },
        "id": "4c094b0a",
        "outputId": "53626244-cd33-46b7-887d-57af52e003e2"
      },
      "outputs": [
        {
          "output_type": "stream",
          "name": "stdout",
          "text": [
            "Overwriting test_calculations.py\n"
          ]
        }
      ],
      "source": [
        "%%writefile test_calculations.py\n",
        "\n",
        "import unittest\n",
        "\n",
        "import calculations\n",
        "\n",
        "\n",
        "class TestCase(unittest.TestCase):\n",
        "\n",
        "    def test_add(self):\n",
        "\n",
        "        test_cases = [(4, 4), (10, 15), (-10, 10), (0.1, 0.2)]\n",
        "        test_answers = [8, 25, 0, 0.3]\n",
        "\n",
        "        for inputs, answer in zip(test_cases, test_answers):\n",
        "            result = calculations.add(*inputs)\n",
        "            self.assertAlmostEqual(result, answer)\n",
        "            self.assertEqual(result, answer)\n",
        "\n",
        "\n",
        "    def test_divide(self):\n",
        "        test_cases = [(10, 1), (10, 2), (5, 2)]\n",
        "        test_answers = [10, 5, 2.5]\n",
        "\n",
        "        for inputs, answer in zip(test_cases, test_answers):\n",
        "            result = calculations.divide(*inputs)\n",
        "            self.assertAlmostEqual(result, answer)\n",
        "\n",
        "        with self.assertRaises(ValueError):\n",
        "            res = calculations.divide(1, 0)\n",
        "\n",
        "if __name__ == '__main__':\n",
        "    unittest.main()"
      ]
    },
    {
      "cell_type": "code",
      "execution_count": 63,
      "id": "1e733488",
      "metadata": {
        "ExecuteTime": {
          "end_time": "2022-10-14T08:56:44.220403Z",
          "start_time": "2022-10-14T08:56:44.081256Z"
        },
        "colab": {
          "base_uri": "https://localhost:8080/"
        },
        "id": "1e733488",
        "outputId": "7dc9455a-cad4-4b85-a92c-bbebd8e38779"
      },
      "outputs": [
        {
          "output_type": "stream",
          "name": "stdout",
          "text": [
            "test_add (test_calculations.TestCase) ... FAIL\n",
            "test_divide (test_calculations.TestCase) ... ok\n",
            "\n",
            "======================================================================\n",
            "FAIL: test_add (test_calculations.TestCase)\n",
            "----------------------------------------------------------------------\n",
            "Traceback (most recent call last):\n",
            "  File \"/content/test_calculations.py\", line 17, in test_add\n",
            "    self.assertEqual(result, answer)\n",
            "AssertionError: 0.30000000000000004 != 0.3\n",
            "\n",
            "----------------------------------------------------------------------\n",
            "Ran 2 tests in 0.001s\n",
            "\n",
            "FAILED (failures=1)\n"
          ]
        }
      ],
      "source": [
        "! python3 -m unittest -v test_calculations.py"
      ]
    },
    {
      "cell_type": "markdown",
      "id": "c1f150c9",
      "metadata": {
        "id": "c1f150c9"
      },
      "source": [
        "### Тестируем класс"
      ]
    },
    {
      "cell_type": "code",
      "execution_count": null,
      "id": "677a502d",
      "metadata": {
        "ExecuteTime": {
          "end_time": "2022-10-14T09:04:49.870594Z",
          "start_time": "2022-10-14T09:04:49.864946Z"
        },
        "id": "677a502d",
        "outputId": "17c1f79a-3e2e-45fd-85af-201f623c6877"
      },
      "outputs": [
        {
          "name": "stdout",
          "output_type": "stream",
          "text": [
            "Overwriting student.py\n"
          ]
        }
      ],
      "source": [
        "%%writefile student.py\n",
        "\n",
        "class Student:\n",
        "\n",
        "    coeff_scholarship = 2\n",
        "\n",
        "    def __init__(self, first_name, second_name, year, scholarship):\n",
        "        self.first_name = first_name\n",
        "        self.second_name = second_name\n",
        "        self.year = year\n",
        "        self.scholarship = scholarship\n",
        "\n",
        "    @property\n",
        "    def email(self):\n",
        "        return f'{self.first_name.lower()[0]}{self.second_name.lower()}@edu.hse.ru'\n",
        "\n",
        "    def increase_scholarship(self):\n",
        "        self.scholarship = int(self.scholarship * self.coeff_scholarship)"
      ]
    },
    {
      "cell_type": "markdown",
      "source": [
        "https://docs.python.org/3/library/functions.html#property @property documentation"
      ],
      "metadata": {
        "id": "Ntkk0IUOnfLu"
      },
      "id": "Ntkk0IUOnfLu"
    },
    {
      "cell_type": "code",
      "execution_count": null,
      "id": "8917eaaf",
      "metadata": {
        "ExecuteTime": {
          "end_time": "2022-10-14T09:16:27.485647Z",
          "start_time": "2022-10-14T09:16:27.479787Z"
        },
        "id": "8917eaaf",
        "outputId": "276f67eb-59f6-45be-bae6-50aa1a1461c5"
      },
      "outputs": [
        {
          "name": "stdout",
          "output_type": "stream",
          "text": [
            "Overwriting test_student.py\n"
          ]
        }
      ],
      "source": [
        "%%writefile test_student.py\n",
        "\n",
        "import unittest\n",
        "\n",
        "from student import Student\n",
        "\n",
        "class TestStudent(unittest.TestCase):\n",
        "\n",
        "    def setUp(self):\n",
        "        '''\n",
        "        Выполняется перед тестами\n",
        "        '''\n",
        "\n",
        "        self.default_name = 'Denis'\n",
        "        self.default_surname = 'Belyakov'\n",
        "        self.default_year = 2015\n",
        "        self.default_scholar = 1\n",
        "\n",
        "        self.t_st = Student(\n",
        "            self.default_name,\n",
        "            self.default_surname,\n",
        "            self.default_year,\n",
        "            self.default_scholar,\n",
        "        )\n",
        "\n",
        "    def tearDown(self):\n",
        "        '''\n",
        "        Выполняется, когда все тесты отработали\n",
        "        '''\n",
        "\n",
        "        pass\n",
        "\n",
        "    def test_email(self):\n",
        "        self.assertEqual(self.t_st.email, 'dbelyakov@edu.hse.ru')\n",
        "\n",
        "        self.t_st.first_name = 'Kirill'\n",
        "        self.assertEqual(self.t_st.email, 'kbelyakov@edu.hse.ru')\n",
        "\n",
        "        self.t_st.first_name = self.default_name  # возвращаем атрибуты к дефолтным значениям\n",
        "\n",
        "    def test_increase_scholarship(self):\n",
        "        self.t_st.increase_scholarship()\n",
        "        self.assertGreaterEqual(self.t_st.scholarship, self.default_scholar)\n",
        "\n",
        "        self.t_st.scholarship = self.default_scholar\n",
        "\n",
        "\n",
        "if __name__ == '__main__':\n",
        "    unittest.main()"
      ]
    },
    {
      "cell_type": "code",
      "execution_count": null,
      "id": "aad5241b",
      "metadata": {
        "ExecuteTime": {
          "end_time": "2022-10-14T09:16:28.716423Z",
          "start_time": "2022-10-14T09:16:28.577105Z"
        },
        "id": "aad5241b",
        "outputId": "97c19f39-2cd6-4432-a0f9-de872e781d05"
      },
      "outputs": [
        {
          "name": "stdout",
          "output_type": "stream",
          "text": [
            "test_email (test_student.TestStudent) ... ok\r\n",
            "test_increase_scholarship (test_student.TestStudent) ... ok\r\n",
            "\r\n",
            "----------------------------------------------------------------------\r\n",
            "Ran 2 tests in 0.000s\r\n",
            "\r\n",
            "OK\r\n"
          ]
        }
      ],
      "source": [
        "! python3 -m unittest -v test_student.py"
      ]
    },
    {
      "cell_type": "markdown",
      "source": [
        "# Как работают unittest.mock: patch vs Mock\n",
        "https://kirill-sklyarenko.ru/lenta/python-patches-mocks-anti-patterns неплохая статья о том, как осознанно использовать конструкты тестирования\n"
      ],
      "metadata": {
        "id": "F3xCiq7ZQQYf"
      },
      "id": "F3xCiq7ZQQYf"
    },
    {
      "cell_type": "markdown",
      "source": [
        "patch можно так же использовать как аннтотацию, тогда сгенерированный мок передается как параметр функции"
      ],
      "metadata": {
        "id": "wvWEpyc2UO-Z"
      },
      "id": "wvWEpyc2UO-Z"
    },
    {
      "cell_type": "code",
      "source": [
        "%%writefile mock_db.py\n",
        "\n",
        "from unittest.mock import patch\n",
        "\n",
        "def db_read(item_id):\n",
        "    return None # просто для примера\n",
        "\n",
        "def total_value(item_id):\n",
        "    items = db_read(item_id)\n",
        "    return sum(items)"
      ],
      "metadata": {
        "colab": {
          "base_uri": "https://localhost:8080/"
        },
        "id": "mpyp9jqKT_zL",
        "outputId": "0b5bcb80-aafe-4848-c0f9-c847295ec359"
      },
      "id": "mpyp9jqKT_zL",
      "execution_count": 66,
      "outputs": [
        {
          "output_type": "stream",
          "name": "stdout",
          "text": [
            "Overwriting mock_db.py\n"
          ]
        }
      ]
    },
    {
      "cell_type": "code",
      "source": [
        "%%writefile test_db.py\n",
        "\n",
        "from unittest.mock import patch\n",
        "from mock_db import total_value\n",
        "\n",
        "import unittest\n",
        "\n",
        "class TestDb(unittest.TestCase):\n",
        "    def test_total_value(self):\n",
        "        with patch('mock_db.db_read') as db_read:\n",
        "            db_read.return_value = [100, 200]  # это у нас заглушка\n",
        "            assert 300 == total_value(1234)\n",
        "            db_read.assert_called_with(1234) # а это верификация"
      ],
      "metadata": {
        "colab": {
          "base_uri": "https://localhost:8080/"
        },
        "id": "obJ_UNhbUFfU",
        "outputId": "bd7b0f41-7e21-4d1b-d761-87cbd0c68593"
      },
      "id": "obJ_UNhbUFfU",
      "execution_count": 76,
      "outputs": [
        {
          "output_type": "stream",
          "name": "stdout",
          "text": [
            "Overwriting test_db.py\n"
          ]
        }
      ]
    },
    {
      "cell_type": "code",
      "source": [
        "%%writefile test_db.py\n",
        "\n",
        "from unittest.mock import patch\n",
        "from mock_db import total_value\n",
        "\n",
        "import unittest\n",
        "\n",
        "class TestDb(unittest.TestCase):\n",
        "  @patch('mock_db.db_read')\n",
        "  def test_total_value(self, mock_db_read):\n",
        "    mock_db_read.return_value = [100, 200]\n",
        "\n",
        "    assert 300 == total_value(1234)\n",
        "\n",
        "    mock_db_read.assert_called_with(1234)\n"
      ],
      "metadata": {
        "colab": {
          "base_uri": "https://localhost:8080/"
        },
        "id": "3Q1YjVsoVNYt",
        "outputId": "1d5acc90-45d6-4db2-e319-1eeeb7c5fecf"
      },
      "id": "3Q1YjVsoVNYt",
      "execution_count": 79,
      "outputs": [
        {
          "output_type": "stream",
          "name": "stdout",
          "text": [
            "Overwriting test_db.py\n"
          ]
        }
      ]
    },
    {
      "cell_type": "code",
      "source": [
        "%%writefile test_db.py\n",
        "\n",
        "from unittest.mock import Mock\n",
        "from mock_db import total_value\n",
        "\n",
        "import unittest\n",
        "\n",
        "class TestDb(unittest.TestCase):\n",
        "\n",
        "  def test_total_value(self):\n",
        "    mock_db_read = Mock()\n",
        "    mock_db_read.return_value = [100, 200]\n",
        "\n",
        "    total_value.__globals__['db_read'] = mock_db_read\n",
        "\n",
        "    assert 300 == total_value(1234)\n",
        "\n",
        "    mock_db_read.assert_called_with(1234)\n"
      ],
      "metadata": {
        "colab": {
          "base_uri": "https://localhost:8080/"
        },
        "id": "eFFHw6PMYMqw",
        "outputId": "4a909972-6d00-4fee-8093-2703d1ba353f"
      },
      "id": "eFFHw6PMYMqw",
      "execution_count": 85,
      "outputs": [
        {
          "output_type": "stream",
          "name": "stdout",
          "text": [
            "Overwriting test_db.py\n"
          ]
        }
      ]
    },
    {
      "cell_type": "code",
      "source": [
        "! python3 -m unittest -v test_db.py"
      ],
      "metadata": {
        "colab": {
          "base_uri": "https://localhost:8080/"
        },
        "id": "KoEHWQ9LUT3w",
        "outputId": "5a46942b-8e53-4ecd-cb6d-5ef62c73be5a"
      },
      "id": "KoEHWQ9LUT3w",
      "execution_count": 86,
      "outputs": [
        {
          "output_type": "stream",
          "name": "stdout",
          "text": [
            "test_total_value (test_db.TestDb) ... ok\n",
            "\n",
            "----------------------------------------------------------------------\n",
            "Ran 1 test in 0.000s\n",
            "\n",
            "OK\n"
          ]
        }
      ]
    },
    {
      "cell_type": "markdown",
      "id": "ba334847",
      "metadata": {
        "id": "ba334847"
      },
      "source": [
        "### Тестируем TelegramBot с прошлого семинара"
      ]
    },
    {
      "cell_type": "markdown",
      "source": [
        "Возьмем класс бота с прошлого занятия"
      ],
      "metadata": {
        "id": "d2B2vIu5HwIn"
      },
      "id": "d2B2vIu5HwIn"
    },
    {
      "cell_type": "code",
      "execution_count": 38,
      "id": "b4d81635",
      "metadata": {
        "ExecuteTime": {
          "end_time": "2022-10-14T09:38:37.790516Z",
          "start_time": "2022-10-14T09:38:37.784675Z"
        },
        "colab": {
          "base_uri": "https://localhost:8080/"
        },
        "id": "b4d81635",
        "outputId": "44d75940-1bd2-41b8-fdd4-184205c49bc6"
      },
      "outputs": [
        {
          "output_type": "stream",
          "name": "stdout",
          "text": [
            "Overwriting telegram_bot.py\n"
          ]
        }
      ],
      "source": [
        "%%writefile telegram_bot.py\n",
        "\n",
        "import os\n",
        "from groq import Groq\n",
        "from telegram import Update, InlineKeyboardButton, InlineKeyboardMarkup\n",
        "from telegram.ext import ApplicationBuilder, CommandHandler, ContextTypes, MessageHandler, filters, CallbackQueryHandler\n",
        "\n",
        "\n",
        "class TelegramBot:\n",
        "    def __init__(self):\n",
        "        self.client = Groq(api_key=os.environ.get(\"GROQ_API_KEY\"))\n",
        "        self.app = ApplicationBuilder().token(os.getenv('TELEGRAM_KEY')).build()\n",
        "        self.app.add_handler(CommandHandler(\"start\", self.start))\n",
        "        self.app.add_handler(MessageHandler(filters.TEXT & ~filters.COMMAND, self.handle_message))\n",
        "        self.app.add_handler(MessageHandler(filters.COMMAND, self.unknown_command))\n",
        "        self.app.add_handler(CallbackQueryHandler(self.button_handler))\n",
        "\n",
        "    async def start(self, update: Update, context: ContextTypes.DEFAULT_TYPE) -> None:\n",
        "        \"\"\"Handle the /start command and send a welcome message with an inline button.\"\"\"\n",
        "        keyboard = [\n",
        "            [InlineKeyboardButton(\"About us\", callback_data='creator_info')]\n",
        "        ]\n",
        "        reply_markup = InlineKeyboardMarkup(keyboard)\n",
        "\n",
        "        await update.message.reply_text(f'Hello {update.effective_user.first_name}', reply_markup=reply_markup)\n",
        "\n",
        "    async def button_handler(self, update: Update, context: ContextTypes.DEFAULT_TYPE) -> None:\n",
        "        \"\"\"Handle button interactions from the inline keyboard.\"\"\"\n",
        "        query = update.callback_query\n",
        "        await query.answer()\n",
        "\n",
        "        if query.data == 'creator_info':\n",
        "            await query.edit_message_text(text=\"We are cool people.\")\n",
        "\n",
        "    async def handle_message(self, update: Update, context: ContextTypes.DEFAULT_TYPE) -> None:\n",
        "        \"\"\"Handle any text message sent by the user.\"\"\"\n",
        "        user_message = update.message.text\n",
        "        response = self.send_to_groq_api(user_message)\n",
        "        await update.message.reply_text(response)\n",
        "\n",
        "    def send_to_groq_api(self, message: str) -> str:\n",
        "        \"\"\"Send a message to the Groq API and return the response.\"\"\"\n",
        "        try:\n",
        "            print(f\"Sending message to Groq API: {message}\")\n",
        "            chat_completion = self.client.chat.completions.create(\n",
        "                messages=[\n",
        "                    {\n",
        "                        \"role\": \"user\",\n",
        "                        \"content\": message,\n",
        "                    }\n",
        "                ],\n",
        "                model=\"mixtral-8x7b-32768\",\n",
        "            )\n",
        "            print(f\"Received response from Groq API: {chat_completion.choices[0].message.content}\")\n",
        "            return chat_completion.choices[0].message.content\n",
        "\n",
        "        except Exception as e:\n",
        "            return f\"An error occurred while communicating with the Groq API: {e}\"\n",
        "\n",
        "    async def unknown_command(self, update: Update, context: ContextTypes.DEFAULT_TYPE) -> None:\n",
        "        \"\"\"Handle unknown commands.\"\"\"\n",
        "        await update.message.reply_text(\"Sorry, I didn't understand that command.\")\n",
        "\n",
        "    def run(self):\n",
        "        \"\"\"Start the bot and begin polling for updates.\"\"\"\n",
        "        self.app.run_polling()\n",
        "\n",
        "\n",
        "if __name__ == \"__main__\":\n",
        "    bot = TelegramBot()\n",
        "    bot.run()"
      ]
    },
    {
      "cell_type": "markdown",
      "id": "689e8e37",
      "metadata": {
        "id": "689e8e37"
      },
      "source": [
        "Функция похода по api зависит от того, как работает Groq, а мы хотим проверять именно наш код. Можно использовать механизм \"моков\" и определить (\"замокать\") какие-то значения для функции, как будто мы ее правда вызвали."
      ]
    },
    {
      "cell_type": "code",
      "source": [
        "%pip install python-telegram-bot groq"
      ],
      "metadata": {
        "colab": {
          "base_uri": "https://localhost:8080/"
        },
        "id": "9Yaiub9CZI6e",
        "outputId": "96ad881b-947d-4b60-8dc9-f07e4da8500d"
      },
      "id": "9Yaiub9CZI6e",
      "execution_count": 23,
      "outputs": [
        {
          "output_type": "stream",
          "name": "stdout",
          "text": [
            "Requirement already satisfied: python-telegram-bot in /usr/local/lib/python3.10/dist-packages (21.6)\n",
            "Collecting groq\n",
            "  Downloading groq-0.11.0-py3-none-any.whl.metadata (13 kB)\n",
            "Requirement already satisfied: httpx~=0.27 in /usr/local/lib/python3.10/dist-packages (from python-telegram-bot) (0.27.2)\n",
            "Requirement already satisfied: anyio<5,>=3.5.0 in /usr/local/lib/python3.10/dist-packages (from groq) (3.7.1)\n",
            "Requirement already satisfied: distro<2,>=1.7.0 in /usr/lib/python3/dist-packages (from groq) (1.7.0)\n",
            "Requirement already satisfied: pydantic<3,>=1.9.0 in /usr/local/lib/python3.10/dist-packages (from groq) (2.9.2)\n",
            "Requirement already satisfied: sniffio in /usr/local/lib/python3.10/dist-packages (from groq) (1.3.1)\n",
            "Requirement already satisfied: typing-extensions<5,>=4.7 in /usr/local/lib/python3.10/dist-packages (from groq) (4.12.2)\n",
            "Requirement already satisfied: idna>=2.8 in /usr/local/lib/python3.10/dist-packages (from anyio<5,>=3.5.0->groq) (3.10)\n",
            "Requirement already satisfied: exceptiongroup in /usr/local/lib/python3.10/dist-packages (from anyio<5,>=3.5.0->groq) (1.2.2)\n",
            "Requirement already satisfied: certifi in /usr/local/lib/python3.10/dist-packages (from httpx~=0.27->python-telegram-bot) (2024.8.30)\n",
            "Requirement already satisfied: httpcore==1.* in /usr/local/lib/python3.10/dist-packages (from httpx~=0.27->python-telegram-bot) (1.0.6)\n",
            "Requirement already satisfied: h11<0.15,>=0.13 in /usr/local/lib/python3.10/dist-packages (from httpcore==1.*->httpx~=0.27->python-telegram-bot) (0.14.0)\n",
            "Requirement already satisfied: annotated-types>=0.6.0 in /usr/local/lib/python3.10/dist-packages (from pydantic<3,>=1.9.0->groq) (0.7.0)\n",
            "Requirement already satisfied: pydantic-core==2.23.4 in /usr/local/lib/python3.10/dist-packages (from pydantic<3,>=1.9.0->groq) (2.23.4)\n",
            "Downloading groq-0.11.0-py3-none-any.whl (106 kB)\n",
            "\u001b[2K   \u001b[90m━━━━━━━━━━━━━━━━━━━━━━━━━━━━━━━━━━━━━━━━\u001b[0m \u001b[32m106.5/106.5 kB\u001b[0m \u001b[31m2.9 MB/s\u001b[0m eta \u001b[36m0:00:00\u001b[0m\n",
            "\u001b[?25hInstalling collected packages: groq\n",
            "Successfully installed groq-0.11.0\n"
          ]
        }
      ]
    },
    {
      "cell_type": "code",
      "execution_count": 46,
      "id": "bd3efdfe",
      "metadata": {
        "ExecuteTime": {
          "end_time": "2022-10-14T09:42:25.919486Z",
          "start_time": "2022-10-14T09:42:25.913082Z"
        },
        "colab": {
          "base_uri": "https://localhost:8080/"
        },
        "id": "bd3efdfe",
        "outputId": "9f52b448-6aa0-4549-a6e4-c719c49c5277"
      },
      "outputs": [
        {
          "output_type": "stream",
          "name": "stdout",
          "text": [
            "Overwriting test_telegram_bot.py\n"
          ]
        }
      ],
      "source": [
        "%%writefile test_telegram_bot.py\n",
        "\n",
        "import unittest\n",
        "from unittest.mock import patch, AsyncMock, MagicMock\n",
        "from telegram import Update, InlineKeyboardMarkup, InlineKeyboardButton\n",
        "import telegram_bot\n",
        "\n",
        "\n",
        "class TestTelegramBot(unittest.IsolatedAsyncioTestCase):\n",
        "\n",
        "    @patch('telegram_bot.Groq')  # Mock Groq client\n",
        "    @patch('telegram_bot.ApplicationBuilder')  # Mock Telegram ApplicationBuilder\n",
        "    def setUp(self, mock_app_builder, mock_groq):\n",
        "        self.mock_groq = mock_groq\n",
        "        self.mock_app_builder = mock_app_builder\n",
        "        self.bot = telegram_bot.TelegramBot()  # Create bot instance with mocked dependencies\n",
        "\n",
        "    @patch('telegram_bot.Update')\n",
        "    async def test_start(self, mock_update):\n",
        "        \"\"\"Test the /start command.\"\"\"\n",
        "        mock_update.message = AsyncMock()\n",
        "        mock_update.effective_user.first_name = 'TestUser'\n",
        "\n",
        "        # Call the /start command handler\n",
        "        await self.bot.start(mock_update, None)\n",
        "\n",
        "        # Ensure the welcome message with inline buttons is sent\n",
        "        mock_update.message.reply_text.assert_called_once_with(\n",
        "            'Hello TestUser',\n",
        "            reply_markup=InlineKeyboardMarkup([[InlineKeyboardButton(\"About us\", callback_data='creator_info')]])\n",
        "        )\n",
        "\n",
        "    @patch('telegram_bot.Update')\n",
        "    async def test_button_handler(self, mock_update):\n",
        "        \"\"\"Test the button interaction.\"\"\"\n",
        "        mock_update.callback_query = AsyncMock()\n",
        "        mock_update.callback_query.data = 'creator_info'\n",
        "\n",
        "        # Call the button handler\n",
        "        await self.bot.button_handler(mock_update, None)\n",
        "\n",
        "        # Ensure the query is answered and the message is updated\n",
        "        mock_update.callback_query.answer.assert_called_once()\n",
        "        mock_update.callback_query.edit_message_text.assert_called_once_with(text=\"We are cool people.\")\n",
        "\n",
        "    @patch('telegram_bot.Update')\n",
        "    @patch.object(telegram_bot.TelegramBot, 'send_to_groq_api')\n",
        "    async def test_handle_message(self, mock_send_to_groq_api, mock_update):\n",
        "        \"\"\"Test handling of a text message.\"\"\"\n",
        "        mock_update.message = AsyncMock()\n",
        "        mock_update.message.text = \"Hello bot\"\n",
        "        mock_send_to_groq_api.return_value = \"Hello user\"\n",
        "\n",
        "        # Call the message handler\n",
        "        await self.bot.handle_message(mock_update, None)\n",
        "\n",
        "        # Ensure the message was sent to the Groq API and the response was sent back to the user\n",
        "        mock_send_to_groq_api.assert_called_once_with(\"Hello bot\")\n",
        "        mock_update.message.reply_text.assert_called_once_with(\"Hello user\")\n",
        "\n",
        "    @patch('telegram_bot.Update')\n",
        "    async def test_unknown_command(self, mock_update):\n",
        "        \"\"\"Test handling of unknown commands.\"\"\"\n",
        "        mock_update.message = AsyncMock()\n",
        "\n",
        "        # Call the unknown command handler\n",
        "        await self.bot.unknown_command(mock_update, None)\n",
        "\n",
        "        # Ensure an appropriate reply is sent for unknown commands\n",
        "        mock_update.message.reply_text.assert_called_once_with(\"Sorry, I didn't understand that command.\")\n",
        "\n",
        "if __name__ == \"__main__\":\n",
        "    unittest.main()\n"
      ]
    },
    {
      "cell_type": "code",
      "execution_count": 47,
      "id": "037b558b",
      "metadata": {
        "ExecuteTime": {
          "end_time": "2022-10-14T09:42:30.890617Z",
          "start_time": "2022-10-14T09:42:29.677337Z"
        },
        "colab": {
          "base_uri": "https://localhost:8080/"
        },
        "id": "037b558b",
        "outputId": "fb3bd426-7d74-45c2-9c78-3a6a1f6b19f1"
      },
      "outputs": [
        {
          "output_type": "stream",
          "name": "stdout",
          "text": [
            "test_button_handler (test_telegram_bot.TestTelegramBot)\n",
            "Test the button interaction. ... ok\n",
            "test_handle_message (test_telegram_bot.TestTelegramBot)\n",
            "Test handling of a text message. ... ok\n",
            "test_start (test_telegram_bot.TestTelegramBot)\n",
            "Test the /start command. ... ok\n",
            "test_unknown_command (test_telegram_bot.TestTelegramBot)\n",
            "Test handling of unknown commands. ... ok\n",
            "\n",
            "----------------------------------------------------------------------\n",
            "Ran 4 tests in 0.045s\n",
            "\n",
            "OK\n"
          ]
        }
      ],
      "source": [
        "! python3 -m unittest -v test_telegram_bot.py"
      ]
    },
    {
      "cell_type": "markdown",
      "source": [
        "# А как прорефакторить класс, что бы он был легче тестирумемым и удовлетворял принципам SOLID?"
      ],
      "metadata": {
        "id": "DNsW-4IXmgtB"
      },
      "id": "DNsW-4IXmgtB"
    },
    {
      "cell_type": "code",
      "execution_count": null,
      "id": "20d21e39",
      "metadata": {
        "id": "20d21e39"
      },
      "outputs": [],
      "source": [
        "import os\n",
        "from groq import Groq\n",
        "from telegram import Update, InlineKeyboardButton, InlineKeyboardMarkup\n",
        "from telegram.ext import ApplicationBuilder, CommandHandler, ContextTypes, MessageHandler, filters, CallbackQueryHandler\n",
        "\n",
        "class GroqClient:\n",
        "    \"\"\"Handles communication with the Groq API.\"\"\"\n",
        "    def __init__(self, client=None):\n",
        "        self.client = client or Groq(api_key=os.getenv(\"GROQ_API_KEY\"))\n",
        "\n",
        "    def send_message(self, message: str) -> str:\n",
        "        \"\"\"Send a message to the Groq API and return the response.\"\"\"\n",
        "        try:\n",
        "            print(f\"Sending message to Groq API: {message}\")\n",
        "            chat_completion = self.client.chat.completions.create(\n",
        "                messages=[\n",
        "                    {\n",
        "                        \"role\": \"user\",\n",
        "                        \"content\": message,\n",
        "                    }\n",
        "                ],\n",
        "                model=\"mixtral-8x7b-32768\",\n",
        "            )\n",
        "            return chat_completion.choices[0].message.content\n",
        "\n",
        "        except Exception as e:\n",
        "            return f\"An error occurred while communicating with the Groq API: {e}\"\n",
        "\n",
        "\n",
        "class TelegramBot:\n",
        "    \"\"\"Handles Telegram bot commands and interactions.\"\"\"\n",
        "    def __init__(self, api_client: GroqClient):\n",
        "        self.client = api_client\n",
        "        self.app = ApplicationBuilder().token(os.getenv('TELEGRAM_KEY')).build()\n",
        "        self.add_handlers()\n",
        "\n",
        "    def add_handlers(self):\n",
        "        \"\"\"Add command and message handlers to the bot.\"\"\"\n",
        "        self.app.add_handler(CommandHandler(\"start\", self.start))\n",
        "        self.app.add_handler(MessageHandler(filters.TEXT & ~filters.COMMAND, self.handle_message))\n",
        "        self.app.add_handler(MessageHandler(filters.COMMAND, self.unknown_command))\n",
        "        self.app.add_handler(CallbackQueryHandler(self.button_handler))\n",
        "\n",
        "    async def start(self, update: Update, context: ContextTypes.DEFAULT_TYPE) -> None:\n",
        "        \"\"\"Handle the /start command and send a welcome message with an inline button.\"\"\"\n",
        "        keyboard = [\n",
        "            [InlineKeyboardButton(\"About us\", callback_data='creator_info')]\n",
        "        ]\n",
        "        reply_markup = InlineKeyboardMarkup(keyboard)\n",
        "        await update.message.reply_text(f'Hello {update.effective_user.first_name}', reply_markup=reply_markup)\n",
        "\n",
        "    async def button_handler(self, update: Update, context: ContextTypes.DEFAULT_TYPE) -> None:\n",
        "        \"\"\"Handle button interactions from the inline keyboard.\"\"\"\n",
        "        query = update.callback_query\n",
        "        await query.answer()\n",
        "\n",
        "        if query.data == 'creator_info':\n",
        "            await query.edit_message_text(text=\"We are cool people.\")\n",
        "\n",
        "    async def handle_message(self, update: Update, context: ContextTypes.DEFAULT_TYPE) -> None:\n",
        "        \"\"\"Handle any text message sent by the user.\"\"\"\n",
        "        user_message = update.message.text\n",
        "        response = self.client.send_message(user_message)\n",
        "        await update.message.reply_text(response)\n",
        "\n",
        "    async def unknown_command(self, update: Update, context: ContextTypes.DEFAULT_TYPE) -> None:\n",
        "        \"\"\"Handle unknown commands.\"\"\"\n",
        "        await update.message.reply_text(\"Sorry, I didn't understand that command.\")\n",
        "\n",
        "    def run(self):\n",
        "        \"\"\"Start the bot and begin polling for updates.\"\"\"\n",
        "        self.app.run_polling()\n",
        "\n",
        "\n",
        "if __name__ == \"__main__\":\n",
        "    groq_client = GroqClient()\n",
        "    bot = TelegramBot(api_client=groq_client)\n",
        "    bot.run()\n"
      ]
    },
    {
      "cell_type": "markdown",
      "source": [
        "# А как задеплоить наш бот на сервер? - попробуем разобраться как работает ansible\n",
        "\n",
        "нам нужен файл с доступами, playbook и командная строка с установленным клиентом, и ssh на машине сервере"
      ],
      "metadata": {
        "id": "QDVYi24XoPs9"
      },
      "id": "QDVYi24XoPs9"
    },
    {
      "cell_type": "code",
      "source": [
        "# hosts.ini\n",
        "\n",
        "[telegram-bot]\n",
        "<your_vm_ip> ansible_user=<your_vm_user< ansible_password=<your_vm_password>"
      ],
      "metadata": {
        "id": "WrEwsDrDox0C"
      },
      "id": "WrEwsDrDox0C",
      "execution_count": null,
      "outputs": []
    },
    {
      "cell_type": "code",
      "source": [
        "# deploy_telegram_bot.yml\n",
        "\n",
        "---\n",
        "- name: Deploy Telegram Bot to Ubuntu VM\n",
        "  hosts: telegram-bot\n",
        "  become: yes\n",
        "  vars:\n",
        "    bot_directory: /opt/telegram_bot\n",
        "    virtualenv_directory: \"{{ bot_directory }}/venv\"\n",
        "    telegram_api_key: \"<your_telegram_api_key>\"\n",
        "    groq_api_key: \"<your_groq_api_key>\"\n",
        "\n",
        "  tasks:\n",
        "    - name: Ensure the required system packages are installed\n",
        "      apt:\n",
        "        name:\n",
        "          - python3\n",
        "          - python3-venv\n",
        "          - python3-pip\n",
        "          - git\n",
        "        state: present\n",
        "        update_cache: yes\n",
        "\n",
        "    - name: Create bot directory\n",
        "      file:\n",
        "        path: \"{{ bot_directory }}\"\n",
        "        state: directory\n",
        "        owner: \"{{ ansible_user }}\"\n",
        "        group: \"{{ ansible_user }}\"\n",
        "        mode: '0755'\n",
        "\n",
        "    - name: Copy the Telegram bot code to the VM\n",
        "      copy:\n",
        "        src: ./telegram_bot.py\n",
        "        dest: \"{{ bot_directory }}/telegram_bot.py\"\n",
        "        mode: '0755'\n",
        "\n",
        "    - name: Copy the requirements.txt file (if needed)\n",
        "      copy:\n",
        "        src: ./requirements.txt\n",
        "        dest: \"{{ bot_directory }}/requirements.txt\"\n",
        "        mode: '0644'\n",
        "\n",
        "    - name: Create virtual environment\n",
        "      command: python3 -m venv \"{{ virtualenv_directory }}\"\n",
        "      args:\n",
        "        creates: \"{{ virtualenv_directory }}/bin/activate\"\n",
        "\n",
        "    - name: Install dependencies in virtual environment\n",
        "      command: \"{{ virtualenv_directory }}/bin/pip install -r requirements.txt\"\n",
        "      args:\n",
        "        chdir: \"{{ bot_directory }}\"\n",
        "\n",
        "    - name: Create environment variables file\n",
        "      copy:\n",
        "        content: |\n",
        "          export TELEGRAM_KEY=\"{{ telegram_api_key }}\"\n",
        "          export GROQ_API_KEY=\"{{ groq_api_key }}\"\n",
        "        dest: \"{{ bot_directory }}/.env\"\n",
        "        mode: '0644'\n",
        "\n",
        "    - name: Create systemd service file for the Telegram bot\n",
        "      copy:\n",
        "        dest: /etc/systemd/system/telegram_bot.service\n",
        "        content: |\n",
        "          [Unit]\n",
        "          Description=Telegram Bot Service\n",
        "          After=network.target\n",
        "\n",
        "          [Service]\n",
        "          User={{ ansible_user }}\n",
        "          WorkingDirectory={{ bot_directory }}\n",
        "          EnvironmentFile={{ bot_directory }}/.env\n",
        "          ExecStart={{ virtualenv_directory }}/bin/python {{ bot_directory }}/telegram_bot.py\n",
        "          Restart=always\n",
        "\n",
        "          [Install]\n",
        "          WantedBy=multi-user.target\n",
        "        mode: '0644'\n",
        "\n",
        "    - name: Reload systemd to apply the new service\n",
        "      systemd:\n",
        "        daemon_reload: yes\n",
        "\n",
        "    - name: Enable and start the Telegram bot service\n",
        "      systemd:\n",
        "        name: telegram_bot.service\n",
        "        enabled: yes\n",
        "        state: started\n",
        "\n"
      ],
      "metadata": {
        "id": "jxqpmbiMpLcU"
      },
      "id": "jxqpmbiMpLcU",
      "execution_count": null,
      "outputs": []
    },
    {
      "cell_type": "markdown",
      "source": [
        "Вообще jenkins gitlab CICD работаю похожим образом, есть скрипт, который разделен на этапы и каждый этап выполняется в конмандной строке, зачастую предоставляются какие то красивые декларативные ручки, но по сути все это обычная командная строка на сервере"
      ],
      "metadata": {
        "id": "rMbyZDXApU5f"
      },
      "id": "rMbyZDXApU5f"
    },
    {
      "cell_type": "code",
      "source": [
        "# После того как вы на своей локальной машине установили клиент, вы можете запустить скрипт - локальной машиной так же может быть какой-то воркер или github actions\n",
        "# Мир DevOps полезен и многообразен\n",
        "\n",
        "ansible-playbook -i hosts.ini deploy_telegram_bot.yml"
      ],
      "metadata": {
        "id": "eSdnPERppsda"
      },
      "id": "eSdnPERppsda",
      "execution_count": null,
      "outputs": []
    }
  ],
  "metadata": {
    "kernelspec": {
      "display_name": "base-env",
      "language": "python",
      "name": "base-env"
    },
    "language_info": {
      "codemirror_mode": {
        "name": "ipython",
        "version": 3
      },
      "file_extension": ".py",
      "mimetype": "text/x-python",
      "name": "python",
      "nbconvert_exporter": "python",
      "pygments_lexer": "ipython3",
      "version": "3.9.12"
    },
    "toc": {
      "base_numbering": 1,
      "nav_menu": {},
      "number_sections": true,
      "sideBar": true,
      "skip_h1_title": false,
      "title_cell": "Table of Contents",
      "title_sidebar": "Contents",
      "toc_cell": false,
      "toc_position": {},
      "toc_section_display": true,
      "toc_window_display": false
    },
    "varInspector": {
      "cols": {
        "lenName": 16,
        "lenType": 16,
        "lenVar": 40
      },
      "kernels_config": {
        "python": {
          "delete_cmd_postfix": "",
          "delete_cmd_prefix": "del ",
          "library": "var_list.py",
          "varRefreshCmd": "print(var_dic_list())"
        },
        "r": {
          "delete_cmd_postfix": ") ",
          "delete_cmd_prefix": "rm(",
          "library": "var_list.r",
          "varRefreshCmd": "cat(var_dic_list()) "
        }
      },
      "types_to_exclude": [
        "module",
        "function",
        "builtin_function_or_method",
        "instance",
        "_Feature"
      ],
      "window_display": false
    },
    "colab": {
      "provenance": []
    }
  },
  "nbformat": 4,
  "nbformat_minor": 5
}