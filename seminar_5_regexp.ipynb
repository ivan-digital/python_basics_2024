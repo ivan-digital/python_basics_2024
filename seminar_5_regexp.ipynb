{
  "cells": [
    {
      "cell_type": "markdown",
      "id": "dc1b53be-9fe8-4624-9eee-f4cd6ff5c733",
      "metadata": {
        "id": "dc1b53be-9fe8-4624-9eee-f4cd6ff5c733"
      },
      "source": [
        "# Еще немного о map и filter\n",
        "Больше chain операторов у последовательностей делают их все больше похожими на потоки"
      ]
    },
    {
      "cell_type": "code",
      "source": [
        "a = 'dfsddg'\n",
        "b = [1, 4, 6]\n",
        "list(map(lambda x: x.upper(), a))"
      ],
      "metadata": {
        "colab": {
          "base_uri": "https://localhost:8080/"
        },
        "id": "Qm5f0A7V1Ryn",
        "outputId": "bd86daac-bfa3-45f5-b691-e06eb52069ea"
      },
      "id": "Qm5f0A7V1Ryn",
      "execution_count": 1,
      "outputs": [
        {
          "output_type": "execute_result",
          "data": {
            "text/plain": [
              "['D', 'F', 'S', 'D', 'D', 'G']"
            ]
          },
          "metadata": {},
          "execution_count": 1
        }
      ]
    },
    {
      "cell_type": "code",
      "source": [
        "list(filter(lambda x: x % 2 == 0, b))"
      ],
      "metadata": {
        "colab": {
          "base_uri": "https://localhost:8080/"
        },
        "id": "DssOjtiC1gjj",
        "outputId": "0c7068ba-1c4d-457a-aac1-876e4a718167"
      },
      "id": "DssOjtiC1gjj",
      "execution_count": 2,
      "outputs": [
        {
          "output_type": "execute_result",
          "data": {
            "text/plain": [
              "[4, 6]"
            ]
          },
          "metadata": {},
          "execution_count": 2
        }
      ]
    },
    {
      "cell_type": "code",
      "source": [
        "list(map(lambda x: x ** 2, filter(lambda x: x % 2 == 0, b)))"
      ],
      "metadata": {
        "colab": {
          "base_uri": "https://localhost:8080/"
        },
        "id": "t4ppFzfH1jmG",
        "outputId": "f0b4b5bd-c303-479d-ed4c-56881cbc61dc"
      },
      "id": "t4ppFzfH1jmG",
      "execution_count": 3,
      "outputs": [
        {
          "output_type": "execute_result",
          "data": {
            "text/plain": [
              "[16, 36]"
            ]
          },
          "metadata": {},
          "execution_count": 3
        }
      ]
    },
    {
      "cell_type": "markdown",
      "source": [
        "# Вернемся к задачке про приток воды в резервуар, как округлять?\n",
        "Напомню, у нас есть резервуар емкостью N, есть дневной размер притока, и фиксированный размер испарения в день, как нам вычислить за сколько дней резервуар заполнится водой, используя только арифмитические операции?\n",
        "[Решение было в ноутбуке позапрошлого семинара, можно потом посмотреть](https://github.com/ivan-digital/python_basics_2024/blob/main/seminar_3_sequences.ipynb)\n",
        "\n",
        "Сейчас, давайте обсудим."
      ],
      "metadata": {
        "id": "8PhNC4dM9V--"
      },
      "id": "8PhNC4dM9V--"
    },
    {
      "cell_type": "markdown",
      "id": "fc4fdfe9-96b5-491a-86e9-a98fbbbf1ee0",
      "metadata": {
        "id": "fc4fdfe9-96b5-491a-86e9-a98fbbbf1ee0"
      },
      "source": [
        "## Теория"
      ]
    },
    {
      "cell_type": "markdown",
      "id": "8e37a09e-d2e1-4e8d-8d39-1741b75405f9",
      "metadata": {
        "id": "8e37a09e-d2e1-4e8d-8d39-1741b75405f9"
      },
      "source": [
        "- Как в памяти хранится list? В чем отличие tuple от list?\n",
        "- Что такое функция в Python? В чем ее схожесть с другими типами?\n",
        "- Что такое рекурсия? Что стоит определить в первую очередь, когда вы используете ее используете?\n",
        "- В чем идея бинарного поиска?"
      ]
    },
    {
      "cell_type": "markdown",
      "id": "64ada977-db25-4704-87d8-8371783d00cd",
      "metadata": {
        "id": "64ada977-db25-4704-87d8-8371783d00cd"
      },
      "source": [
        "## Задачки"
      ]
    },
    {
      "cell_type": "markdown",
      "id": "3cf2d6b0-638e-4bdd-b253-2f4b71b90b42",
      "metadata": {
        "id": "3cf2d6b0-638e-4bdd-b253-2f4b71b90b42"
      },
      "source": [
        "### GCD"
      ]
    },
    {
      "cell_type": "code",
      "execution_count": null,
      "id": "82bba56b-6862-4b3c-9024-31b45dfd424e",
      "metadata": {
        "ExecuteTime": {
          "end_time": "2022-09-22T10:24:35.225328Z",
          "start_time": "2022-09-22T10:24:35.217808Z"
        },
        "id": "82bba56b-6862-4b3c-9024-31b45dfd424e"
      },
      "outputs": [],
      "source": [
        "def gcd_recursive(a, b):\n",
        "    if b == 0:\n",
        "        return a\n",
        "    else:\n",
        "        return gcd_recursive(b, a % b)"
      ]
    },
    {
      "cell_type": "code",
      "execution_count": null,
      "id": "4998ccfb",
      "metadata": {
        "ExecuteTime": {
          "end_time": "2022-09-22T10:24:47.312953Z",
          "start_time": "2022-09-22T10:24:47.307431Z"
        },
        "id": "4998ccfb",
        "outputId": "5e4383b5-4fad-470f-ae8f-3c95906417e3"
      },
      "outputs": [
        {
          "data": {
            "text/plain": [
              "2"
            ]
          },
          "execution_count": 29,
          "metadata": {},
          "output_type": "execute_result"
        }
      ],
      "source": [
        "gcd_recursive(4, 6)"
      ]
    },
    {
      "cell_type": "code",
      "execution_count": null,
      "id": "e33ba528-ed8b-4556-a9c5-bf1f1de3e736",
      "metadata": {
        "ExecuteTime": {
          "end_time": "2022-09-22T10:26:05.625144Z",
          "start_time": "2022-09-22T10:26:05.619922Z"
        },
        "id": "e33ba528-ed8b-4556-a9c5-bf1f1de3e736"
      },
      "outputs": [],
      "source": [
        "def gcd(a, b):\n",
        "    while b:\n",
        "        a, b = b, a % b\n",
        "    return a"
      ]
    },
    {
      "cell_type": "code",
      "execution_count": null,
      "id": "da4d8ec7",
      "metadata": {
        "ExecuteTime": {
          "end_time": "2022-09-22T10:26:14.969960Z",
          "start_time": "2022-09-22T10:26:14.961273Z"
        },
        "id": "da4d8ec7",
        "outputId": "799d2e55-a880-4374-9e03-01dcb045b914"
      },
      "outputs": [
        {
          "data": {
            "text/plain": [
              "5"
            ]
          },
          "execution_count": 32,
          "metadata": {},
          "output_type": "execute_result"
        }
      ],
      "source": [
        "gcd(5, 10)"
      ]
    },
    {
      "cell_type": "markdown",
      "id": "1973c9f8-68b6-4823-ae63-b1dc4d248548",
      "metadata": {
        "id": "1973c9f8-68b6-4823-ae63-b1dc4d248548"
      },
      "source": [
        "### Валидация строк с открывающимися и закрывающимися скобками\n",
        "Дана строка s, содержащая только символы '(', ')', '{', '}', '[' и ']', нужно определить, является ли входная строка корректной."
      ]
    },
    {
      "cell_type": "code",
      "source": [
        "tests = ['(())', '())',  '((4))()', '', ')', '()[]{}', '(]', '([)]]{}',]\n",
        "# (()\n",
        "reference = [True, False, True, True, False, True, False, False]"
      ],
      "metadata": {
        "id": "-d4qQLI03zYg"
      },
      "id": "-d4qQLI03zYg",
      "execution_count": 94,
      "outputs": []
    },
    {
      "cell_type": "code",
      "source": [
        "def isValid(s: str) -> bool:\n",
        "    stack = []\n",
        "    mapping = {\")\": \"(\", \"}\": \"{\", \"]\": \"[\"}\n",
        "    for char in s:\n",
        "        if char in mapping:\n",
        "            top_element = stack.pop() if stack else '#'\n",
        "            if mapping[char] != top_element:\n",
        "                return False\n",
        "        elif char in mapping.values():\n",
        "            stack.append(char)\n",
        "    return not stack\n",
        "\n",
        "for test, ref in zip(tests, reference):\n",
        "    print(isValid(test) == ref)\n",
        "    # Сложность вычислительная O(N) и сложность по памяти O(N)"
      ],
      "metadata": {
        "colab": {
          "base_uri": "https://localhost:8080/"
        },
        "id": "xf1SrN3G7QRC",
        "outputId": "ec7a16ef-67f0-4a05-9e29-2bebe10b81ed"
      },
      "id": "xf1SrN3G7QRC",
      "execution_count": 97,
      "outputs": [
        {
          "output_type": "stream",
          "name": "stdout",
          "text": [
            "True\n",
            "True\n",
            "True\n",
            "True\n",
            "True\n",
            "True\n",
            "True\n",
            "True\n"
          ]
        }
      ]
    },
    {
      "cell_type": "markdown",
      "source": [
        "Какая алгоритмическая сложность у этого решения, вычислительная и по памяти?"
      ],
      "metadata": {
        "id": "8Hj0U4KT-K5C"
      },
      "id": "8Hj0U4KT-K5C"
    },
    {
      "cell_type": "markdown",
      "id": "a3436f7c",
      "metadata": {
        "id": "a3436f7c"
      },
      "source": [
        "### Бинпоиск со сдвигом"
      ]
    },
    {
      "cell_type": "markdown",
      "id": "23740819",
      "metadata": {
        "id": "23740819"
      },
      "source": [
        "Дан отсортированный набор элементов с некоторым сдвигом.\n",
        "\n",
        "На вход подается элемент. Найти его индекс.\n",
        "\n",
        "    [9, 10, 11, 11, 12, 0, 1, 3, 7], х = 12\n",
        "    Ответ: 4\n",
        "    \n",
        "- Подсказка: подумайте, как можно модифицировать алгоритм бинпоиска для этой задачи\n",
        "\n",
        "Какая алгоритмическая сложность у этого решения, вычислительная и по памяти?"
      ]
    },
    {
      "cell_type": "code",
      "execution_count": null,
      "id": "5fa28573",
      "metadata": {
        "ExecuteTime": {
          "end_time": "2022-09-22T11:09:59.809699Z",
          "start_time": "2022-09-22T11:09:59.805106Z"
        },
        "id": "5fa28573"
      },
      "outputs": [],
      "source": [
        "a = [7, 7, 9, 10, 11, 11, 12, 0, 1, 3, 7, 7]"
      ]
    },
    {
      "cell_type": "code",
      "execution_count": null,
      "id": "cf8b2fe9",
      "metadata": {
        "ExecuteTime": {
          "end_time": "2022-09-22T11:10:01.827926Z",
          "start_time": "2022-09-22T11:10:01.821096Z"
        },
        "id": "cf8b2fe9"
      },
      "outputs": [],
      "source": [
        "def find_shift(arr: list) -> int:\n",
        "    if arr[0] < arr[-1]:\n",
        "        return -1\n",
        "\n",
        "    low = 0\n",
        "    high = len(arr) - 1\n",
        "\n",
        "    while low < high - 1:\n",
        "        mid = (low + high) // 2\n",
        "\n",
        "        if arr[0] >= arr[mid]:\n",
        "            high = mid\n",
        "        else:\n",
        "            low = mid\n",
        "\n",
        "    return low"
      ]
    },
    {
      "cell_type": "markdown",
      "id": "3a3b4c99-b2ab-400c-af52-b41825d55ae3",
      "metadata": {
        "tags": [],
        "id": "3a3b4c99-b2ab-400c-af52-b41825d55ae3"
      },
      "source": [
        "# Регулярные выражения\n"
      ]
    },
    {
      "cell_type": "markdown",
      "source": [
        "![regexp-ru.png](data:image/png;base64,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)"
      ],
      "metadata": {
        "id": "jtT0w6RbPlKx"
      },
      "id": "jtT0w6RbPlKx"
    },
    {
      "cell_type": "markdown",
      "id": "80dc9c32-8cf0-4a93-8c36-83d41b7e6aeb",
      "metadata": {
        "ExecuteTime": {
          "end_time": "2021-11-17T02:56:48.721812Z",
          "start_time": "2021-11-17T02:56:48.718678Z"
        },
        "id": "80dc9c32-8cf0-4a93-8c36-83d41b7e6aeb"
      },
      "source": [
        "Полезные ссылки:\n",
        "\n",
        "https://habr.com/ru/post/349860/\n",
        "\n",
        "https://uneex.org/HSE/ProgrammingOS/15_Regexp\n",
        "    \n",
        "https://regexone.com/    \n",
        "    \n",
        "https://ravesli.com/regulyarnye-vyrazheniya-osnovy/\n",
        "    \n",
        "https://regex101.com/"
      ]
    },
    {
      "cell_type": "markdown",
      "id": "747c1fec-364f-49c1-96eb-701c170c95b6",
      "metadata": {
        "id": "747c1fec-364f-49c1-96eb-701c170c95b6"
      },
      "source": [
        "Pattern matching / searching:\n",
        "- Pattern -- это некоторая строка из спецсимволов, которая описывает, что мы хотим найти\n",
        "- Matching -- определение, соответствует ли строка заданному паттерну\n",
        "- Searching -- поиск подстрок, соответствующих паттерну, в тексте"
      ]
    },
    {
      "cell_type": "code",
      "source": [
        "import re\n",
        "re.match('a', 'baaa')"
      ],
      "metadata": {
        "id": "2Io7kUdHQSo1"
      },
      "id": "2Io7kUdHQSo1",
      "execution_count": 101,
      "outputs": []
    },
    {
      "cell_type": "code",
      "source": [
        "re.search('g', 'baaagg')"
      ],
      "metadata": {
        "colab": {
          "base_uri": "https://localhost:8080/"
        },
        "id": "TGCqQYfARY6u",
        "outputId": "b37253aa-1d20-43a5-d06c-2f7767ff034d"
      },
      "id": "TGCqQYfARY6u",
      "execution_count": 106,
      "outputs": [
        {
          "output_type": "execute_result",
          "data": {
            "text/plain": [
              "<re.Match object; span=(4, 5), match='g'>"
            ]
          },
          "metadata": {},
          "execution_count": 106
        }
      ]
    },
    {
      "cell_type": "markdown",
      "id": "0fb84c12-6460-4e86-bcce-27daaaf0e334",
      "metadata": {
        "id": "0fb84c12-6460-4e86-bcce-27daaaf0e334"
      },
      "source": [
        "### Основные правила:\n",
        "\n",
        "#### Общее\n",
        "- любой неспециальный символ матчит себя\n",
        "- \".\" матчит любой символ\n",
        "- \"[abc]\" матчит любой символ внутри множества\n",
        "- \"[A-z]\", \"[0-9]\" и прочие сокращения (множества символов подряд в таблице ascii)\n",
        "- \"a*\" -- звездочка означает 0 или больше указанных символов подряд\n",
        "- \"a+\" -- + означает 1 или более указанных символов подряд\n",
        "- \"a{2,}\" -- N или больше символов подряд\n",
        "- \"a?\" -- один или ни одного\n",
        "- \"a{1, 5}\" -- в фигурных скобках можно указать точное количество. Левая цифра означает минимальное, правая -- максимальное\n",
        "- \"^regexp\" -- только подстроки в начале строки\n",
        "- \"rgexp$\" -- только подстроки, находящиеся в конце строки\n",
        "- \\b -- граница слова\n",
        "- (..) -- группа\n",
        "\n",
        "#### Специальные обобщающие символы\n",
        "`\\{small_letter}` -- специальный символ\n",
        "`\\{big_letter}` -- любой символ кроме специального символа\n",
        "\n",
        "- \\s -- пробельные символы\n",
        "- \\d -- цифра\n",
        "- \\w -- буква или _\n",
        "\n",
        "#### Lookarounds\n",
        "- \"(?=...)\" -- positive lookahead\n",
        "- \"(?<=...)\" -- positive lookbehind\n",
        "- \"(?!...)\" -- negative lookahead\n",
        "- \"(?<!...)\" -- negative loookbehind\n",
        "\n",
        "и прочее и прочее...\n",
        "\n",
        "\n",
        "**Дисклеймер**: Написать регулярку может быть гораздо сложнее, чем потом прочитать!"
      ]
    },
    {
      "cell_type": "markdown",
      "id": "02a2db12-a73e-4496-86c3-0864bc88614b",
      "metadata": {
        "id": "02a2db12-a73e-4496-86c3-0864bc88614b"
      },
      "source": [
        "### Разберем несколько примеров"
      ]
    },
    {
      "cell_type": "code",
      "execution_count": null,
      "id": "c366d902-029f-47ee-81c7-06364ad798e9",
      "metadata": {
        "ExecuteTime": {
          "end_time": "2022-09-22T11:13:20.644829Z",
          "start_time": "2022-09-22T11:13:20.639250Z"
        },
        "collapsed": true,
        "jupyter": {
          "outputs_hidden": true
        },
        "id": "c366d902-029f-47ee-81c7-06364ad798e9"
      },
      "outputs": [],
      "source": [
        "import re"
      ]
    },
    {
      "cell_type": "code",
      "execution_count": 119,
      "id": "274838ed-22c5-43fd-b5bb-72563ceabfd5",
      "metadata": {
        "ExecuteTime": {
          "end_time": "2022-09-22T11:13:22.226694Z",
          "start_time": "2022-09-22T11:13:22.220932Z"
        },
        "collapsed": true,
        "jupyter": {
          "outputs_hidden": true
        },
        "id": "274838ed-22c5-43fd-b5bb-72563ceabfd5"
      },
      "outputs": [],
      "source": [
        "sample_string = 'Hello, world!'"
      ]
    },
    {
      "cell_type": "code",
      "execution_count": 113,
      "id": "66026ca2-3568-45d6-ae12-2cdef990da8d",
      "metadata": {
        "ExecuteTime": {
          "end_time": "2022-09-22T11:14:02.171567Z",
          "start_time": "2022-09-22T11:14:02.166318Z"
        },
        "jupyter": {
          "outputs_hidden": true
        },
        "colab": {
          "base_uri": "https://localhost:8080/"
        },
        "id": "66026ca2-3568-45d6-ae12-2cdef990da8d",
        "outputId": "123a9fd0-b49a-4e09-f0ae-befaf82b916d"
      },
      "outputs": [
        {
          "output_type": "execute_result",
          "data": {
            "text/plain": [
              "<re.Match object; span=(0, 5), match='Hello'>"
            ]
          },
          "metadata": {},
          "execution_count": 113
        }
      ],
      "source": [
        "pattern = re.compile('[hH]ello')\n",
        "pattern.match(sample_string)"
      ]
    },
    {
      "cell_type": "code",
      "execution_count": 114,
      "id": "e7f76915-c507-407b-9829-b56d70749f16",
      "metadata": {
        "ExecuteTime": {
          "end_time": "2022-09-22T11:14:23.122559Z",
          "start_time": "2022-09-22T11:14:23.117361Z"
        },
        "jupyter": {
          "outputs_hidden": true
        },
        "colab": {
          "base_uri": "https://localhost:8080/"
        },
        "id": "e7f76915-c507-407b-9829-b56d70749f16",
        "outputId": "c92caca8-99a6-452e-f077-46d4078b4070"
      },
      "outputs": [
        {
          "output_type": "execute_result",
          "data": {
            "text/plain": [
              "['Hello']"
            ]
          },
          "metadata": {},
          "execution_count": 114
        }
      ],
      "source": [
        "pattern.findall(sample_string)"
      ]
    },
    {
      "cell_type": "code",
      "execution_count": 120,
      "id": "28e3de2f-ab80-44f3-9659-67a8176b4e40",
      "metadata": {
        "ExecuteTime": {
          "end_time": "2022-09-22T11:21:07.556663Z",
          "start_time": "2022-09-22T11:21:07.550193Z"
        },
        "collapsed": true,
        "jupyter": {
          "outputs_hidden": true
        },
        "id": "28e3de2f-ab80-44f3-9659-67a8176b4e40"
      },
      "outputs": [],
      "source": [
        "m = re.match(r'[hH]ello,? [A-z]*[.!]?$', sample_string) # если добавить $ - должно мачится целиком"
      ]
    },
    {
      "cell_type": "code",
      "execution_count": 121,
      "id": "dbc7170a-2293-424d-a3fd-4a07e8b6e01e",
      "metadata": {
        "ExecuteTime": {
          "end_time": "2022-09-22T11:21:08.064418Z",
          "start_time": "2022-09-22T11:21:08.058744Z"
        },
        "jupyter": {
          "outputs_hidden": true
        },
        "colab": {
          "base_uri": "https://localhost:8080/",
          "height": 35
        },
        "id": "dbc7170a-2293-424d-a3fd-4a07e8b6e01e",
        "outputId": "3f4de622-1d18-49af-c042-2465304b2ba2"
      },
      "outputs": [
        {
          "output_type": "execute_result",
          "data": {
            "text/plain": [
              "'Hello, world!'"
            ],
            "application/vnd.google.colaboratory.intrinsic+json": {
              "type": "string"
            }
          },
          "metadata": {},
          "execution_count": 121
        }
      ],
      "source": [
        "sample_string[m.start():m.end()]"
      ]
    },
    {
      "cell_type": "markdown",
      "source": [],
      "metadata": {
        "id": "TVYmQQCbWOo2"
      },
      "id": "TVYmQQCbWOo2"
    },
    {
      "cell_type": "code",
      "execution_count": 123,
      "id": "441bcfb3-7a49-4aa3-a535-826afa0b43bb",
      "metadata": {
        "ExecuteTime": {
          "end_time": "2022-09-22T11:21:09.375374Z",
          "start_time": "2022-09-22T11:21:09.366931Z"
        },
        "jupyter": {
          "outputs_hidden": true
        },
        "colab": {
          "base_uri": "https://localhost:8080/",
          "height": 35
        },
        "id": "441bcfb3-7a49-4aa3-a535-826afa0b43bb",
        "outputId": "a00c6a12-4563-48fe-b24d-66762ec96519"
      },
      "outputs": [
        {
          "output_type": "execute_result",
          "data": {
            "text/plain": [
              "'Hello, world!'"
            ],
            "application/vnd.google.colaboratory.intrinsic+json": {
              "type": "string"
            }
          },
          "metadata": {},
          "execution_count": 123
        }
      ],
      "source": [
        "m.group()"
      ]
    },
    {
      "cell_type": "code",
      "execution_count": 130,
      "id": "b1546d6e-5b45-40eb-b494-b63838d04aa7",
      "metadata": {
        "ExecuteTime": {
          "end_time": "2022-09-22T11:21:19.074172Z",
          "start_time": "2022-09-22T11:21:19.069276Z"
        },
        "collapsed": true,
        "jupyter": {
          "outputs_hidden": true
        },
        "id": "b1546d6e-5b45-40eb-b494-b63838d04aa7"
      },
      "outputs": [],
      "source": [
        "grouped_match = re.match(r'[hH]ello,? ([a-z]*[.!])?', sample_string) # () группа, но если убрать, просто условие"
      ]
    },
    {
      "cell_type": "code",
      "execution_count": 131,
      "id": "5a6f3ef3-a3cb-451f-add2-ca84053d5764",
      "metadata": {
        "ExecuteTime": {
          "end_time": "2022-09-22T11:21:19.616067Z",
          "start_time": "2022-09-22T11:21:19.610702Z"
        },
        "jupyter": {
          "outputs_hidden": true
        },
        "colab": {
          "base_uri": "https://localhost:8080/",
          "height": 35
        },
        "id": "5a6f3ef3-a3cb-451f-add2-ca84053d5764",
        "outputId": "d6312c7c-0f28-4511-dfec-e20109eca2ef"
      },
      "outputs": [
        {
          "output_type": "execute_result",
          "data": {
            "text/plain": [
              "'Hello, world!'"
            ],
            "application/vnd.google.colaboratory.intrinsic+json": {
              "type": "string"
            }
          },
          "metadata": {},
          "execution_count": 131
        }
      ],
      "source": [
        "grouped_match.group()"
      ]
    },
    {
      "cell_type": "code",
      "execution_count": 132,
      "id": "290a8722-d9f3-4f45-bdf2-86b1c391f496",
      "metadata": {
        "ExecuteTime": {
          "end_time": "2022-09-22T11:21:21.433564Z",
          "start_time": "2022-09-22T11:21:21.424581Z"
        },
        "jupyter": {
          "outputs_hidden": true
        },
        "colab": {
          "base_uri": "https://localhost:8080/"
        },
        "id": "290a8722-d9f3-4f45-bdf2-86b1c391f496",
        "outputId": "b216b7fa-3123-4238-cf77-11c190f79db3"
      },
      "outputs": [
        {
          "output_type": "execute_result",
          "data": {
            "text/plain": [
              "('world!',)"
            ]
          },
          "metadata": {},
          "execution_count": 132
        }
      ],
      "source": [
        "grouped_match.groups()"
      ]
    },
    {
      "cell_type": "code",
      "execution_count": 133,
      "id": "f5154fc9-d720-4140-96df-48628eb553c3",
      "metadata": {
        "ExecuteTime": {
          "end_time": "2022-09-22T11:21:43.986183Z",
          "start_time": "2022-09-22T11:21:43.980147Z"
        },
        "jupyter": {
          "outputs_hidden": true
        },
        "colab": {
          "base_uri": "https://localhost:8080/"
        },
        "id": "f5154fc9-d720-4140-96df-48628eb553c3",
        "outputId": "9b876d65-caa1-4db0-b079-98b5a9db7541"
      },
      "outputs": [
        {
          "output_type": "execute_result",
          "data": {
            "text/plain": [
              "<re.Match object; span=(4, 7), match='973'>"
            ]
          },
          "metadata": {},
          "execution_count": 133
        }
      ],
      "source": [
        "re.search(r'\\d{1,3}', 'rfhe97346fevbv78')"
      ]
    },
    {
      "cell_type": "code",
      "execution_count": 144,
      "id": "72557731-057d-4fc2-9f24-724383b26dd6",
      "metadata": {
        "ExecuteTime": {
          "end_time": "2022-09-22T11:23:03.213058Z",
          "start_time": "2022-09-22T11:23:03.207476Z"
        },
        "jupyter": {
          "outputs_hidden": true
        },
        "colab": {
          "base_uri": "https://localhost:8080/"
        },
        "id": "72557731-057d-4fc2-9f24-724383b26dd6",
        "outputId": "8571882c-a1f6-4d1b-9b47-51a1e287bfeb"
      },
      "outputs": [
        {
          "output_type": "execute_result",
          "data": {
            "text/plain": [
              "['97344']"
            ]
          },
          "metadata": {},
          "execution_count": 144
        }
      ],
      "source": [
        "re.findall(r'\\d{3,5}', 'rfhe97344fevbv78')"
      ]
    },
    {
      "cell_type": "code",
      "execution_count": 145,
      "id": "e9a30163-1eee-4bcd-ade9-a3e129179cac",
      "metadata": {
        "ExecuteTime": {
          "end_time": "2022-09-22T11:23:24.658219Z",
          "start_time": "2022-09-22T11:23:24.652600Z"
        },
        "jupyter": {
          "outputs_hidden": true
        },
        "colab": {
          "base_uri": "https://localhost:8080/",
          "height": 35
        },
        "id": "e9a30163-1eee-4bcd-ade9-a3e129179cac",
        "outputId": "27fd84fa-8698-497d-d431-30e40dfc0934"
      },
      "outputs": [
        {
          "output_type": "execute_result",
          "data": {
            "text/plain": [
              "'rfheцифрыfevbv78'"
            ],
            "application/vnd.google.colaboratory.intrinsic+json": {
              "type": "string"
            }
          },
          "metadata": {},
          "execution_count": 145
        }
      ],
      "source": [
        "re.sub(r'\\d{3,5}', 'цифры', 'rfhe97344fevbv78')"
      ]
    },
    {
      "cell_type": "markdown",
      "id": "6ade0a1b-65dd-47fc-a37e-84397cc87b16",
      "metadata": {
        "id": "6ade0a1b-65dd-47fc-a37e-84397cc87b16"
      },
      "source": [
        "**Lookarounds**"
      ]
    },
    {
      "cell_type": "code",
      "execution_count": 79,
      "id": "695e964c-e3e7-4ea6-8dab-d9c075112abf",
      "metadata": {
        "ExecuteTime": {
          "end_time": "2022-09-22T11:24:29.746250Z",
          "start_time": "2022-09-22T11:24:29.740580Z"
        },
        "collapsed": true,
        "jupyter": {
          "outputs_hidden": true
        },
        "id": "695e964c-e3e7-4ea6-8dab-d9c075112abf"
      },
      "outputs": [],
      "source": [
        "er_words = 'math teacher physics teacher scheduler funny monster creepy monster'"
      ]
    },
    {
      "cell_type": "code",
      "execution_count": 148,
      "id": "ba411b5e-9091-45c7-9d71-ec794c36120b",
      "metadata": {
        "ExecuteTime": {
          "end_time": "2022-09-22T11:25:02.426626Z",
          "start_time": "2022-09-22T11:25:02.421646Z"
        },
        "jupyter": {
          "outputs_hidden": true
        },
        "colab": {
          "base_uri": "https://localhost:8080/"
        },
        "id": "ba411b5e-9091-45c7-9d71-ec794c36120b",
        "outputId": "25173fba-fb86-419f-8e1e-d87b142a2c7c"
      },
      "outputs": [
        {
          "output_type": "stream",
          "name": "stdout",
          "text": [
            "math \n",
            "physics \n"
          ]
        }
      ],
      "source": [
        "for m in re.finditer('\\w+ (?=teacher)', er_words):\n",
        "    print(er_words[m.start():m.end()])"
      ]
    },
    {
      "cell_type": "code",
      "execution_count": 152,
      "id": "4b18c717-070d-4a95-b5c0-7e5181197fc7",
      "metadata": {
        "ExecuteTime": {
          "end_time": "2022-09-22T11:25:04.088951Z",
          "start_time": "2022-09-22T11:25:04.083443Z"
        },
        "jupyter": {
          "outputs_hidden": true
        },
        "colab": {
          "base_uri": "https://localhost:8080/"
        },
        "id": "4b18c717-070d-4a95-b5c0-7e5181197fc7",
        "outputId": "e5b531eb-f63d-4c1f-dea7-07233976d929"
      },
      "outputs": [
        {
          "output_type": "execute_result",
          "data": {
            "text/plain": [
              "['math', 'physics']"
            ]
          },
          "metadata": {},
          "execution_count": 152
        }
      ],
      "source": [
        "re.findall('(\\w+) (?=teacher)', er_words)"
      ]
    },
    {
      "cell_type": "markdown",
      "source": [
        "Задача, как смачить только слово, наверху мачится пробел"
      ],
      "metadata": {
        "id": "C1jrb-dFYabF"
      },
      "id": "C1jrb-dFYabF"
    },
    {
      "cell_type": "code",
      "execution_count": 82,
      "id": "ef230c2c-a8b2-4ff2-972e-e4b29522b146",
      "metadata": {
        "ExecuteTime": {
          "end_time": "2022-09-22T11:25:24.874403Z",
          "start_time": "2022-09-22T11:25:24.869709Z"
        },
        "jupyter": {
          "outputs_hidden": true
        },
        "colab": {
          "base_uri": "https://localhost:8080/"
        },
        "id": "ef230c2c-a8b2-4ff2-972e-e4b29522b146",
        "outputId": "c1233210-f516-4c29-b639-a97bd3da224d"
      },
      "outputs": [
        {
          "output_type": "stream",
          "name": "stdout",
          "text": [
            "20 28  teacher\n"
          ]
        }
      ],
      "source": [
        "for m in re.finditer('(?<!math) teacher', er_words):\n",
        "    print(m.start(), m.end(), er_words[m.start():m.end()])"
      ]
    },
    {
      "cell_type": "markdown",
      "id": "00828b3f-1d17-48fd-bbb0-8a8e4832da9c",
      "metadata": {
        "id": "00828b3f-1d17-48fd-bbb0-8a8e4832da9c"
      },
      "source": [
        "## Practice Tasks"
      ]
    },
    {
      "cell_type": "markdown",
      "id": "73b91ede",
      "metadata": {
        "id": "73b91ede"
      },
      "source": [
        "### Remove stops"
      ]
    },
    {
      "cell_type": "code",
      "execution_count": 158,
      "id": "705a23bf",
      "metadata": {
        "ExecuteTime": {
          "end_time": "2022-09-23T08:34:50.585496Z",
          "start_time": "2022-09-23T08:34:50.579437Z"
        },
        "colab": {
          "base_uri": "https://localhost:8080/",
          "height": 35
        },
        "id": "705a23bf",
        "outputId": "3c813bd5-4ebe-4bd3-bbb4-55762f5fb539"
      },
      "outputs": [
        {
          "output_type": "execute_result",
          "data": {
            "text/plain": [
              "' хочу продать автомобиль внедорожник не бит не крашен фиолетовый '"
            ],
            "application/vnd.google.colaboratory.intrinsic+json": {
              "type": "string"
            }
          },
          "metadata": {},
          "execution_count": 158
        }
      ],
      "source": [
        "stopwords = ['отличный', 'хороший', 'это', 'я']\n",
        "regexp_stops = '|'.join(fr\"\\b{word}\\b\" for word in stopwords) # вспоминаем f и r литералы\n",
        "regexp_chars = r'[!?.,\\s\\n\\t-_]+'\n",
        "\n",
        "text = 'Я хочу продать отличный автомобиль внедорожник не бит, не крашен фиолетовый!!'\n",
        "\n",
        "cleaned_text = re.sub(regexp_stops, '', text, flags=re.IGNORECASE) # re.IGNORECASE - что смачить заглавные\n",
        "cleaned_text = re.sub(regexp_chars, ' ', cleaned_text)\n",
        "cleaned_text"
      ]
    },
    {
      "cell_type": "markdown",
      "id": "01c88741-258a-414e-b171-8cc35d3a02be",
      "metadata": {
        "id": "01c88741-258a-414e-b171-8cc35d3a02be"
      },
      "source": [
        "### Ошибся со временем\n",
        "\n",
        "Вы написали длинное письмо, где описали свои планы на день с указанием конкретных временных промежутков. Однако позже вы осознали, что на самом деле забыли об одном важном деле, и теперь все даты в вашем письме неверные. Напишите программу, которая заменяет все временные указания на строчку TBD\n",
        "\n",
        "*Пример:*\n",
        "\n",
        "`Уважаемый Д.! Если вы к 11:00 пятницы не подготовите свой семинар, то уже в 11:00:01 я за себя не отвечаю.\n",
        "Нужно нагененировать хотя бы 4 задачи и успеть разобрать в идеале 80:100 из них`\n",
        "\n",
        "->\n",
        "\n",
        "`Уважаемый Д.! Если вы к (TBD) пятницы не подготовите свой семинар, то уже в (TBD) я за себя не отвечаю.\n",
        "Нужно нагененировать хотя бы 4 задачи и успеть разобрать в идеале 80:100 из них`"
      ]
    },
    {
      "cell_type": "code",
      "execution_count": 170,
      "id": "fb23868c-20e9-4fe8-b8f3-305d941b741d",
      "metadata": {
        "ExecuteTime": {
          "end_time": "2022-09-23T08:51:26.105141Z",
          "start_time": "2022-09-23T08:51:26.099519Z"
        },
        "colab": {
          "base_uri": "https://localhost:8080/",
          "height": 52
        },
        "id": "fb23868c-20e9-4fe8-b8f3-305d941b741d",
        "outputId": "f64af1b0-00e4-42ef-e72c-bce341b1e4aa"
      },
      "outputs": [
        {
          "output_type": "execute_result",
          "data": {
            "text/plain": [
              "'Уважаемый Д.! Если вы к 25:00 пятницы не подготовите свой семинар, то уже в (TBD) я за себя не отвечаю. (TBD). 25:00. Нужно нагененировать хотя бы 4 задачи и успеть разобрать в идеале 80:100 из них'"
            ],
            "application/vnd.google.colaboratory.intrinsic+json": {
              "type": "string"
            }
          },
          "metadata": {},
          "execution_count": 170
        }
      ],
      "source": [
        "text = 'Уважаемый Д.! Если вы к 25:00 пятницы не подготовите свой семинар, то уже в 11:00:01 я за себя не отвечаю. 21:00. 25:00. Нужно нагененировать хотя бы 4 задачи и успеть разобрать в идеале 80:100 из них'\n",
        "\n",
        "# тут можно рассматривать вложенные группы как граф\n",
        "# начните с того, как мачить часы, а в часах первое число\n",
        "\n",
        "# your code\n",
        "regexp_time = r'\\b(([01][0-9])|(2[0-4])):([0-5][0-9])(:[0-5][0-9])?\\b'\n",
        "re.sub(regexp_time, '(TBD)', text)"
      ]
    },
    {
      "cell_type": "markdown",
      "id": "7ba46717",
      "metadata": {
        "id": "7ba46717"
      },
      "source": [
        "## Опциональные задачи"
      ]
    },
    {
      "cell_type": "markdown",
      "id": "36d229a0-cc31-412a-8ef5-712b0ea69073",
      "metadata": {
        "id": "36d229a0-cc31-412a-8ef5-712b0ea69073"
      },
      "source": [
        "### Парсинг таблицы игр (0.5)"
      ]
    },
    {
      "cell_type": "code",
      "execution_count": null,
      "id": "3bc02365-f8ea-435e-87b9-73c4637b27a8",
      "metadata": {
        "id": "3bc02365-f8ea-435e-87b9-73c4637b27a8"
      },
      "outputs": [],
      "source": [
        "match_results = '''\n",
        "Aston Villa (London) 1 1 Man City (Manchester)\n",
        "Brentford (Brentford) 5 2 Leeds United (Leeds)\n",
        "Chelsea (London) 2 1 West Ham (London)\n",
        "Newcastle United (Newcastle) 0 0 Crystal Palace (London)\n",
        "Nottm Forest (Nottighham) 2 3 AFC Bournemouth (Bournemouth)\n",
        "Tottenham (London) 2 1 Fulham (London)\n",
        "Wolverhampton Wanderers (Wolverhampton) 1 1 Southampton (Southampton)\n",
        "Everton (Liverpool) 0 0 Liverpool (Liverpool)\n",
        "'''"
      ]
    },
    {
      "cell_type": "markdown",
      "id": "3b48fb46-aba5-41c0-b83f-c24d9611ee5e",
      "metadata": {
        "id": "3b48fb46-aba5-41c0-b83f-c24d9611ee5e"
      },
      "source": [
        "1. Достаньте все города из текста"
      ]
    },
    {
      "cell_type": "code",
      "execution_count": null,
      "id": "9507cf22-31bf-41f7-9383-6e1581b8e645",
      "metadata": {
        "id": "9507cf22-31bf-41f7-9383-6e1581b8e645"
      },
      "outputs": [],
      "source": [
        "# your code"
      ]
    },
    {
      "cell_type": "markdown",
      "id": "9055916a-d4e7-481a-aeef-bb2d7eea748c",
      "metadata": {
        "id": "9055916a-d4e7-481a-aeef-bb2d7eea748c"
      },
      "source": [
        "2. Все названия команд"
      ]
    },
    {
      "cell_type": "code",
      "execution_count": null,
      "id": "25e7ce14-09ee-4631-b0d9-32d6f9906d3c",
      "metadata": {
        "id": "25e7ce14-09ee-4631-b0d9-32d6f9906d3c"
      },
      "outputs": [],
      "source": [
        "# your code"
      ]
    },
    {
      "cell_type": "markdown",
      "id": "fd283360-a821-4474-ace5-a6e67e92e3fa",
      "metadata": {
        "id": "fd283360-a821-4474-ace5-a6e67e92e3fa"
      },
      "source": [
        "3. Все счета матчей"
      ]
    },
    {
      "cell_type": "code",
      "execution_count": null,
      "id": "18a3b29c-c862-415d-8600-25ffc8dd97b6",
      "metadata": {
        "id": "18a3b29c-c862-415d-8600-25ffc8dd97b6"
      },
      "outputs": [],
      "source": [
        "# your code"
      ]
    },
    {
      "cell_type": "markdown",
      "id": "d5d92a6a-b1ef-4487-80c4-af8bdcc05d8c",
      "metadata": {
        "id": "d5d92a6a-b1ef-4487-80c4-af8bdcc05d8c"
      },
      "source": [
        "### Погенерируем пароли (1.5)\n",
        "\n",
        "Вы наконец-то обеспокоились своей безопасностью в сети и решили обновить все свои пароли. Однако придумывать все самим для всех ваших сайтов вам, конечно, лень. Поэтому вы решили написать программу, которая это сделает за вас!\n",
        "\n",
        "Сгенерируйте случайный пароль длины N. Убедитесь, что получившийся пароль на самом деле хороший. В нашем случае это:\n",
        "1. Содержит хотя бы две заглавные буквы подряд\n",
        "2. Содержит хотя бы две строчные буквы подряд\n",
        "3. Не содержит пробельные спецсимволы (\\t, \\n и подобные)\n",
        "4. Не содержит трех цифр подряд\n",
        "5. Содержит и русские, и английские буквы\n",
        "\n",
        "Ваш код должен генерировать пароли, пока они не удовлетворят заданным условиям.\n",
        "\n",
        "Как мы можем оптимизировать проверку корректности генерации пароля?"
      ]
    },
    {
      "cell_type": "markdown",
      "id": "cfd1e2d4",
      "metadata": {
        "id": "cfd1e2d4"
      },
      "source": [
        "hint: используйте модуль random"
      ]
    },
    {
      "cell_type": "code",
      "execution_count": null,
      "id": "3e517684",
      "metadata": {
        "id": "3e517684"
      },
      "outputs": [],
      "source": []
    }
  ],
  "metadata": {
    "kernelspec": {
      "display_name": "base-env",
      "language": "python",
      "name": "base-env"
    },
    "language_info": {
      "codemirror_mode": {
        "name": "ipython",
        "version": 3
      },
      "file_extension": ".py",
      "mimetype": "text/x-python",
      "name": "python",
      "nbconvert_exporter": "python",
      "pygments_lexer": "ipython3",
      "version": "3.9.12"
    },
    "toc": {
      "base_numbering": 1,
      "nav_menu": {},
      "number_sections": true,
      "sideBar": true,
      "skip_h1_title": false,
      "title_cell": "Table of Contents",
      "title_sidebar": "Contents",
      "toc_cell": false,
      "toc_position": {},
      "toc_section_display": true,
      "toc_window_display": false
    },
    "varInspector": {
      "cols": {
        "lenName": 16,
        "lenType": 16,
        "lenVar": 40
      },
      "kernels_config": {
        "python": {
          "delete_cmd_postfix": "",
          "delete_cmd_prefix": "del ",
          "library": "var_list.py",
          "varRefreshCmd": "print(var_dic_list())"
        },
        "r": {
          "delete_cmd_postfix": ") ",
          "delete_cmd_prefix": "rm(",
          "library": "var_list.r",
          "varRefreshCmd": "cat(var_dic_list()) "
        }
      },
      "types_to_exclude": [
        "module",
        "function",
        "builtin_function_or_method",
        "instance",
        "_Feature"
      ],
      "window_display": false
    },
    "colab": {
      "provenance": []
    }
  },
  "nbformat": 4,
  "nbformat_minor": 5
}